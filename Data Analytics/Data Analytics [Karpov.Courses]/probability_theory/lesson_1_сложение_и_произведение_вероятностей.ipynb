{
 "cells": [
  {
   "cell_type": "code",
   "execution_count": null,
   "metadata": {},
   "outputs": [],
   "source": [
    "P = n / m \n",
    "\n",
    "Диапазон P [0, 1]\n",
    "\n",
    "Вероятность, что выпадет шестерка на игральном кубике = 1 / 6\n",
    "\n",
    "События смоделированы изначально, идеальные математические условия\n",
    "\n",
    "Вероятность того, что упадет самолет = количество падений / количество падений + количество приземлений (все полеты)"
   ]
  },
  {
   "cell_type": "code",
   "execution_count": null,
   "metadata": {},
   "outputs": [],
   "source": [
    "В коробке 6 шариков: 2 черных, 4 белых. Какова вероятность достать черный шарик?\n",
    "2/6 = 1/3"
   ]
  },
  {
   "cell_type": "code",
   "execution_count": null,
   "metadata": {},
   "outputs": [],
   "source": [
    "Достаем шарики поочередно. Какова вероятность, что первый шарик черный, а второй белый?\n",
    "\n",
    "P = P(black) and P(white)\n",
    "P = 1/3 * 4/5 = 4/15\n",
    "\n",
    "Если проиходят и первое и второе событие (AND), то умножаем вероятности"
   ]
  },
  {
   "cell_type": "code",
   "execution_count": null,
   "metadata": {},
   "outputs": [],
   "source": [
    "Достаем шарики поочередно, но возвращаем потом обратно в коробку. \n",
    "Какова вероятность, что первый шарик черный, а второй белый?\n",
    "\n",
    "P = P(black) and P(white)\n",
    "P = 1/3 * 4/6 = 1/3 * 2/3 = 2/9"
   ]
  },
  {
   "cell_type": "code",
   "execution_count": null,
   "metadata": {},
   "outputs": [],
   "source": [
    "Какова вероятность достать или белый или черный шарик?\n",
    "\n",
    "P = P(black) or P(white)\n",
    "P = 1/3 + 4/6 = 1\n",
    "\n",
    "Если проиходит или первое или второе событие (OR), то складываем вероятности"
   ]
  },
  {
   "cell_type": "code",
   "execution_count": null,
   "metadata": {},
   "outputs": [],
   "source": [
    "В коробке 7 шариков: 1 розовый, 2 черных, 4 белых. Какова вероятность достать или черный или белый шарик?\n",
    "    \n",
    "P = P(black) or P(white)\n",
    "P = 2/7 + 4/7 = 6/7"
   ]
  }
 ],
 "metadata": {
  "kernelspec": {
   "display_name": "Python 3",
   "language": "python",
   "name": "python3"
  },
  "language_info": {
   "codemirror_mode": {
    "name": "ipython",
    "version": 3
   },
   "file_extension": ".py",
   "mimetype": "text/x-python",
   "name": "python",
   "nbconvert_exporter": "python",
   "pygments_lexer": "ipython3",
   "version": "3.7.3"
  }
 },
 "nbformat": 4,
 "nbformat_minor": 4
}
