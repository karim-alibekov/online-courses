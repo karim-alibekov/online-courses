{
 "cells": [
  {
   "cell_type": "markdown",
   "metadata": {},
   "source": [
    "### Три раза подбросили монетку. Какова вероятность, что выпадут 2 орла и 1 решка?"
   ]
  },
  {
   "cell_type": "markdown",
   "metadata": {},
   "source": [
    "Всего 8 вариантов комбинаций и 3 удовлетворяюших исхода\n",
    "\n",
    "Можно посчитать вручную (1/2)^3 + (1/2)^3 + (1/2)^3 = 3/8\n",
    "\n",
    "Либо просто по логике 3/8"
   ]
  },
  {
   "cell_type": "markdown",
   "metadata": {},
   "source": [
    "### Четыре раза подбросили монетку, выпадала только решка, какой шанс, что на 5 раз выпадет решка?"
   ]
  },
  {
   "cell_type": "markdown",
   "metadata": {},
   "source": [
    "1/2"
   ]
  },
  {
   "cell_type": "markdown",
   "metadata": {},
   "source": [
    "### Десять раз подбросили монетку, какова вероятность, что решка выпадет 3 раза?"
   ]
  },
  {
   "cell_type": "markdown",
   "metadata": {},
   "source": [
    "n = 10\n",
    "\n",
    "k = 3\n",
    "\n",
    "p = 0.5\n",
    "\n",
    "q = 0.5\n",
    "\n",
    "C = n! / (k! * (n-k)!) = 10! / (3! * 7!) = 120 (все возможные комбинации)\n",
    "\n",
    "p^3 * q^7 * 120"
   ]
  },
  {
   "cell_type": "code",
   "execution_count": null,
   "metadata": {},
   "outputs": [],
   "source": []
  }
 ],
 "metadata": {
  "kernelspec": {
   "display_name": "Python 3",
   "language": "python",
   "name": "python3"
  },
  "language_info": {
   "codemirror_mode": {
    "name": "ipython",
    "version": 3
   },
   "file_extension": ".py",
   "mimetype": "text/x-python",
   "name": "python",
   "nbconvert_exporter": "python",
   "pygments_lexer": "ipython3",
   "version": "3.7.3"
  }
 },
 "nbformat": 4,
 "nbformat_minor": 4
}
