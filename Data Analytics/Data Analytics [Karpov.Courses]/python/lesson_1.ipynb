{
 "cells": [
  {
   "cell_type": "code",
   "execution_count": 1,
   "metadata": {},
   "outputs": [],
   "source": [
    "analyst = 'Anatoly' "
   ]
  },
  {
   "cell_type": "code",
   "execution_count": 3,
   "metadata": {},
   "outputs": [],
   "source": [
    "years = 2"
   ]
  },
  {
   "cell_type": "code",
   "execution_count": 4,
   "metadata": {},
   "outputs": [],
   "source": [
    "has_job = False"
   ]
  },
  {
   "cell_type": "code",
   "execution_count": 5,
   "metadata": {},
   "outputs": [],
   "source": [
    "analysts = ['Anatoly', 'Olga']"
   ]
  },
  {
   "cell_type": "code",
   "execution_count": 6,
   "metadata": {},
   "outputs": [
    {
     "data": {
      "text/plain": [
       "'Anatoly'"
      ]
     },
     "execution_count": 6,
     "metadata": {},
     "output_type": "execute_result"
    }
   ],
   "source": [
    "analysts[0]"
   ]
  },
  {
   "cell_type": "code",
   "execution_count": 8,
   "metadata": {},
   "outputs": [
    {
     "data": {
      "text/plain": [
       "True"
      ]
     },
     "execution_count": 8,
     "metadata": {},
     "output_type": "execute_result"
    }
   ],
   "source": [
    "len(analysts) == 2"
   ]
  },
  {
   "cell_type": "code",
   "execution_count": 9,
   "metadata": {},
   "outputs": [],
   "source": [
    "analysts.append('Michael')"
   ]
  },
  {
   "cell_type": "code",
   "execution_count": 10,
   "metadata": {},
   "outputs": [
    {
     "data": {
      "text/plain": [
       "['Anatoly', 'Olga', 'Michael']"
      ]
     },
     "execution_count": 10,
     "metadata": {},
     "output_type": "execute_result"
    }
   ],
   "source": [
    "analysts"
   ]
  },
  {
   "cell_type": "code",
   "execution_count": 11,
   "metadata": {},
   "outputs": [
    {
     "data": {
      "text/plain": [
       "'Michael'"
      ]
     },
     "execution_count": 11,
     "metadata": {},
     "output_type": "execute_result"
    }
   ],
   "source": [
    "analysts.pop(2)"
   ]
  },
  {
   "cell_type": "code",
   "execution_count": 12,
   "metadata": {},
   "outputs": [
    {
     "data": {
      "text/plain": [
       "['Anatoly', 'Olga']"
      ]
     },
     "execution_count": 12,
     "metadata": {},
     "output_type": "execute_result"
    }
   ],
   "source": [
    "analysts"
   ]
  },
  {
   "cell_type": "code",
   "execution_count": 15,
   "metadata": {},
   "outputs": [
    {
     "name": "stdout",
     "output_type": "stream",
     "text": [
      "Sad\n"
     ]
    }
   ],
   "source": [
    "if has_job:\n",
    "    message = 'Happy'\n",
    "else:\n",
    "    message = 'Sad'\n",
    "print(message)"
   ]
  },
  {
   "cell_type": "code",
   "execution_count": 2,
   "metadata": {},
   "outputs": [
    {
     "name": "stdout",
     "output_type": "stream",
     "text": [
      "Addition is equal 0.4. New salary is 140000.0!\n"
     ]
    }
   ],
   "source": [
    "job_years = 5\n",
    "salary = 100_000\n",
    "message = 'Addition is equal {coef}. New salary is {new_sal}!'\n",
    "\n",
    "if job_years < 1:\n",
    "    coefficient = 0\n",
    "elif 2 >= job_years >= 1:\n",
    "    coefficient = 0.2\n",
    "else:\n",
    "    coefficient = 0.4\n",
    "\n",
    "new_salary = salary + salary * coefficient\n",
    "\n",
    "print(message.format(coef=coefficient, new_sal=new_salary))"
   ]
  },
  {
   "cell_type": "code",
   "execution_count": 10,
   "metadata": {},
   "outputs": [
    {
     "name": "stdout",
     "output_type": "stream",
     "text": [
      "Analyst name is Anatoly!\n"
     ]
    }
   ],
   "source": [
    "analysts = ['Anatoly', 'Olga']\n",
    "for i in analysts:\n",
    "    if i == 'Anatoly':\n",
    "        print('Analyst name is {}!'.format(i))"
   ]
  },
  {
   "cell_type": "markdown",
   "metadata": {},
   "source": [
    "# Словари"
   ]
  },
  {
   "cell_type": "code",
   "execution_count": 11,
   "metadata": {},
   "outputs": [
    {
     "name": "stdout",
     "output_type": "stream",
     "text": [
      "{'Anatoly': 2, 'Olga': 3, 'Beslan': 4}\n"
     ]
    }
   ],
   "source": [
    "analysts_data = {'Anatoly': 2, 'Olga': 3, 'Beslan': 4}\n",
    "print(analysts_data)"
   ]
  },
  {
   "cell_type": "code",
   "execution_count": 12,
   "metadata": {},
   "outputs": [
    {
     "data": {
      "text/plain": [
       "4"
      ]
     },
     "execution_count": 12,
     "metadata": {},
     "output_type": "execute_result"
    }
   ],
   "source": [
    "analysts_data['Beslan']"
   ]
  },
  {
   "cell_type": "code",
   "execution_count": 13,
   "metadata": {},
   "outputs": [],
   "source": [
    "analysts_data['Michael'] = 5"
   ]
  },
  {
   "cell_type": "code",
   "execution_count": 14,
   "metadata": {},
   "outputs": [
    {
     "data": {
      "text/plain": [
       "{'Anatoly': 2, 'Olga': 3, 'Beslan': 4, 'Michael': 5}"
      ]
     },
     "execution_count": 14,
     "metadata": {},
     "output_type": "execute_result"
    }
   ],
   "source": [
    "analysts_data"
   ]
  },
  {
   "cell_type": "code",
   "execution_count": 15,
   "metadata": {},
   "outputs": [],
   "source": [
    "analysts_data = {'Anatoly': [2, 100_000], 'Olga': [3, 200_000], 'Beslan': [4, 300_000]}"
   ]
  },
  {
   "cell_type": "code",
   "execution_count": 16,
   "metadata": {},
   "outputs": [
    {
     "data": {
      "text/plain": [
       "{'Anatoly': [2, 100000], 'Olga': [3, 200000], 'Beslan': [4, 300000]}"
      ]
     },
     "execution_count": 16,
     "metadata": {},
     "output_type": "execute_result"
    }
   ],
   "source": [
    "analysts_data"
   ]
  },
  {
   "cell_type": "code",
   "execution_count": 17,
   "metadata": {},
   "outputs": [
    {
     "data": {
      "text/plain": [
       "[4, 300000]"
      ]
     },
     "execution_count": 17,
     "metadata": {},
     "output_type": "execute_result"
    }
   ],
   "source": [
    "analysts_data['Beslan']"
   ]
  },
  {
   "cell_type": "code",
   "execution_count": 25,
   "metadata": {},
   "outputs": [
    {
     "name": "stdout",
     "output_type": "stream",
     "text": [
      "Beslan [4, 300000]\n"
     ]
    }
   ],
   "source": [
    "for i in analysts_data:\n",
    "    if analysts_data[i][0] >= 3 and analysts_data[i][1] > 200_000:\n",
    "        print(i, analysts_data[i])"
   ]
  },
  {
   "cell_type": "markdown",
   "metadata": {},
   "source": [
    "# ДЗ"
   ]
  },
  {
   "cell_type": "code",
   "execution_count": 30,
   "metadata": {},
   "outputs": [
    {
     "name": "stdout",
     "output_type": "stream",
     "text": [
      "22\n"
     ]
    }
   ],
   "source": [
    "user_ages = [15, 22]\n",
    "for i in range(len(user_ages)):\n",
    "    if user_ages[i] > 15:\n",
    "        print(user_ages[i])"
   ]
  },
  {
   "cell_type": "code",
   "execution_count": 44,
   "metadata": {},
   "outputs": [
    {
     "name": "stdout",
     "output_type": "stream",
     "text": [
      "Olya Silyutina is middle\n"
     ]
    }
   ],
   "source": [
    "worker = ['Olya', 'Silyutina', 350000, 3]\n",
    "\n",
    "if worker[3] <= 2:\n",
    "    position = 'junior'\n",
    "elif 5 >= worker[3] >= 2:\n",
    "    position = 'middle'\n",
    "else:\n",
    "    position = 'senior'\n",
    "    \n",
    "status = ('{0} {1} is {2}'.format(worker[0], worker[1], position))\n",
    "print(status)"
   ]
  },
  {
   "cell_type": "code",
   "execution_count": 55,
   "metadata": {},
   "outputs": [
    {
     "name": "stdout",
     "output_type": "stream",
     "text": [
      "[1500, 70, 90, 40, 30, 80, 40]\n"
     ]
    }
   ],
   "source": [
    "values = [21, 13, 57, 14, 88, 79, 65, 77, 1500, 14, 45, 55, 85, 1, 46, 43, 73, 85, 19, 70, 14, 33, 90, 79, 16, 42, 3, 53, 69, 40, 44, 51, 22, 18, 72, 72, 57, 7, 22, 8, 72, 77, 64, 5, 41, 57, 2, 57, 12, 4, 1, 98, 65, 63, 18, 54, 73, 61, 67, 56, 37, 73, 53, 82, 85, 82, 91, 75, 39, 11, 17, 16, 97, 66, 24, 15, 31, 85, 65, 75, 89, 84, 93, 30, 81, 62, 78, 23, 68, 7, 72, 19, 55, 31, 80, 72, 53, 40, 17, 46, 63]\n",
    "tens = []\n",
    "for i in range(len(values)):\n",
    "    if values[i] % 10 == 0:\n",
    "        tens.append(values[i])\n",
    "print(tens)"
   ]
  },
  {
   "cell_type": "code",
   "execution_count": 19,
   "metadata": {},
   "outputs": [
    {
     "name": "stdout",
     "output_type": "stream",
     "text": [
      "Ivan Ivanov is junior\n",
      "Petr Petrov is middle\n",
      "Sidor Sidorov is senior\n"
     ]
    }
   ],
   "source": [
    "workers = [['Ivan', 'Ivanov', 100000, 1], ['Petr', 'Petrov', 150000, 2], ['Sidor', 'Sidorov', 200000, 10]]\n",
    "for i in range(len(workers)):\n",
    "    if workers[i][3] < 2:\n",
    "        position = 'junior'\n",
    "        print('{0} {1} is {2}'.format(workers[i][0], workers[i][1], position))\n",
    "    elif  5 >= workers[i][3] >= 2:\n",
    "        position = 'middle'\n",
    "        print('{0} {1} is {2}'.format(workers[i][0], workers[i][1], position))\n",
    "    else:\n",
    "        position = 'senior'\n",
    "        print('{0} {1} is {2}'.format(workers[i][0], workers[i][1], position))\n"
   ]
  },
  {
   "cell_type": "code",
   "execution_count": 56,
   "metadata": {},
   "outputs": [
    {
     "name": "stdout",
     "output_type": "stream",
     "text": [
      "[0, 2, 4, 6, 8, 10]\n"
     ]
    }
   ],
   "source": [
    "n = 0\n",
    "N = 10\n",
    "dn = 2\n",
    "lst = []\n",
    "while n < N+1:\n",
    "    lst.append(n)\n",
    "    n += dn\n",
    "print(lst)"
   ]
  },
  {
   "cell_type": "code",
   "execution_count": 59,
   "metadata": {},
   "outputs": [
    {
     "name": "stdout",
     "output_type": "stream",
     "text": [
      "{'name': 'Masha', 'surname': 'Volkova', 'age': 25, 'salary': 60000, 'position': 'junior'}\n"
     ]
    }
   ],
   "source": [
    "salaries_dict = {'name': 'Masha', 'surname': 'Volkova', 'age': 25, 'salary': 60_000, 'position': 'junior'}\n",
    "print(salaries_dict)"
   ]
  },
  {
   "cell_type": "code",
   "execution_count": 62,
   "metadata": {},
   "outputs": [
    {
     "name": "stdout",
     "output_type": "stream",
     "text": [
      "{'mvolkova': {'name': 'Masha', 'surname': 'Volkova', 'age': 25, 'salary': 60000, 'position': 'junior'}, 'pvoronov': {'name': 'Peter', 'surname': 'Voronov', 'age': 27, 'salary': 100000, 'position': 'junior'}, 'pparker': {'name': 'Peter', 'surname': 'Parker', 'age': 35, 'salary': 150000, 'position': 'middle'}, 'akarpov': {'name': 'Anatoly', 'surname': 'Karpov', 'age': 30, 'salary': 250000, 'position': 'senior'}}\n",
      "Masha\n",
      "{'name': 'Masha', 'surname': 'Volkova', 'age': 25, 'salary': 60000, 'position': 'junior'}\n"
     ]
    }
   ],
   "source": [
    "users_dict = {'mvolkova' : {'name': 'Masha', 'surname': 'Volkova', 'age': 25, 'salary': 60_000, 'position': 'junior'}, 'pvoronov' : {'name': 'Peter', 'surname': 'Voronov', 'age': 27, 'salary': 100_000, 'position': 'junior'}, 'pparker' : {'name': 'Peter', 'surname': 'Parker', 'age': 35, 'salary': 150_000, 'position': 'middle'}, 'akarpov' : {'name': 'Anatoly', 'surname': 'Karpov', 'age': 30, 'salary': 250_000, 'position': 'senior'}}\n",
    "print(users_dict)\n",
    "print(users_dict['mvolkova']['name'])\n",
    "print(users_dict['mvolkova'])"
   ]
  },
  {
   "cell_type": "code",
   "execution_count": null,
   "metadata": {},
   "outputs": [],
   "source": []
  }
 ],
 "metadata": {
  "kernelspec": {
   "display_name": "Python 3",
   "language": "python",
   "name": "python3"
  },
  "language_info": {
   "codemirror_mode": {
    "name": "ipython",
    "version": 3
   },
   "file_extension": ".py",
   "mimetype": "text/x-python",
   "name": "python",
   "nbconvert_exporter": "python",
   "pygments_lexer": "ipython3",
   "version": "3.7.3"
  }
 },
 "nbformat": 4,
 "nbformat_minor": 4
}
