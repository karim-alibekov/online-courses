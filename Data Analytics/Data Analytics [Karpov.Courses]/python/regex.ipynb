{
 "cells": [
  {
   "cell_type": "code",
   "execution_count": 1,
   "metadata": {},
   "outputs": [],
   "source": [
    "import re"
   ]
  },
  {
   "cell_type": "markdown",
   "metadata": {},
   "source": [
    "Полезные материалы:\n",
    "\n",
    "* https://www.youtube.com/watch?v=LrzYD3Bin68\n",
    "* https://www.youtube.com/watch?v=oFaf3NcMudA\n",
    "* https://www.youtube.com/watch?v=QBaU6CMeUUE"
   ]
  },
  {
   "cell_type": "code",
   "execution_count": 31,
   "metadata": {},
   "outputs": [],
   "source": [
    "text = 'Я пошел в 5-ую квартиру, которая находится во 2-ом доме, чтобы съесть 100 яблок'"
   ]
  },
  {
   "cell_type": "code",
   "execution_count": 13,
   "metadata": {},
   "outputs": [],
   "source": [
    "pattern = re.compile('\\d\\d\\d')"
   ]
  },
  {
   "cell_type": "code",
   "execution_count": 14,
   "metadata": {},
   "outputs": [
    {
     "data": {
      "text/plain": [
       "['100']"
      ]
     },
     "execution_count": 14,
     "metadata": {},
     "output_type": "execute_result"
    }
   ],
   "source": [
    "pattern.findall(text)"
   ]
  },
  {
   "cell_type": "code",
   "execution_count": 15,
   "metadata": {},
   "outputs": [],
   "source": [
    "pattern = re.compile('\\w') # все цифры и буквы"
   ]
  },
  {
   "cell_type": "code",
   "execution_count": 17,
   "metadata": {},
   "outputs": [
    {
     "data": {
      "text/plain": [
       "['Я',\n",
       " 'п',\n",
       " 'о',\n",
       " 'ш',\n",
       " 'ё',\n",
       " 'л',\n",
       " 'в',\n",
       " '5',\n",
       " 'у',\n",
       " 'ю',\n",
       " 'к',\n",
       " 'в',\n",
       " 'а',\n",
       " 'р',\n",
       " 'т',\n",
       " 'и',\n",
       " 'р',\n",
       " 'у',\n",
       " 'к',\n",
       " 'о',\n",
       " 'т',\n",
       " 'о',\n",
       " 'р',\n",
       " 'а',\n",
       " 'я',\n",
       " 'н',\n",
       " 'а',\n",
       " 'х',\n",
       " 'о',\n",
       " 'д',\n",
       " 'и',\n",
       " 'т',\n",
       " 'с',\n",
       " 'я',\n",
       " 'в',\n",
       " 'о',\n",
       " '2',\n",
       " 'о',\n",
       " 'м',\n",
       " 'д',\n",
       " 'о',\n",
       " 'м',\n",
       " 'е',\n",
       " 'ч',\n",
       " 'т',\n",
       " 'о',\n",
       " 'б',\n",
       " 'ы',\n",
       " 'с',\n",
       " 'ъ',\n",
       " 'е',\n",
       " 'с',\n",
       " 'т',\n",
       " 'ь',\n",
       " '1',\n",
       " '0',\n",
       " '0',\n",
       " 'я',\n",
       " 'б',\n",
       " 'л',\n",
       " 'о',\n",
       " 'к']"
      ]
     },
     "execution_count": 17,
     "metadata": {},
     "output_type": "execute_result"
    }
   ],
   "source": [
    "pattern.findall(text)"
   ]
  },
  {
   "cell_type": "code",
   "execution_count": 18,
   "metadata": {},
   "outputs": [],
   "source": [
    "pattern = re.compile('\\w+')"
   ]
  },
  {
   "cell_type": "code",
   "execution_count": 19,
   "metadata": {},
   "outputs": [
    {
     "data": {
      "text/plain": [
       "['Я',\n",
       " 'пошёл',\n",
       " 'в',\n",
       " '5',\n",
       " 'ую',\n",
       " 'квартиру',\n",
       " 'которая',\n",
       " 'находится',\n",
       " 'во',\n",
       " '2',\n",
       " 'ом',\n",
       " 'доме',\n",
       " 'чтобы',\n",
       " 'съесть',\n",
       " '100',\n",
       " 'яблок']"
      ]
     },
     "execution_count": 19,
     "metadata": {},
     "output_type": "execute_result"
    }
   ],
   "source": [
    "pattern.findall(text) "
   ]
  },
  {
   "cell_type": "code",
   "execution_count": 25,
   "metadata": {},
   "outputs": [],
   "source": [
    "pattern = re.compile('[абв]')"
   ]
  },
  {
   "cell_type": "code",
   "execution_count": 26,
   "metadata": {},
   "outputs": [
    {
     "data": {
      "text/plain": [
       "['в', 'в', 'а', 'а', 'а', 'в', 'б', 'б']"
      ]
     },
     "execution_count": 26,
     "metadata": {},
     "output_type": "execute_result"
    }
   ],
   "source": [
    "pattern.findall(text) "
   ]
  },
  {
   "cell_type": "code",
   "execution_count": 39,
   "metadata": {},
   "outputs": [],
   "source": [
    "pattern = re.compile('[А-Яа-я-]+') # все буквы русского алфавита + дефис | + = слова"
   ]
  },
  {
   "cell_type": "code",
   "execution_count": 40,
   "metadata": {},
   "outputs": [
    {
     "data": {
      "text/plain": [
       "['Я',\n",
       " 'пошел',\n",
       " 'в',\n",
       " '-ую',\n",
       " 'квартиру',\n",
       " 'которая',\n",
       " 'находится',\n",
       " 'во',\n",
       " '-ом',\n",
       " 'доме',\n",
       " 'чтобы',\n",
       " 'съесть',\n",
       " 'яблок']"
      ]
     },
     "execution_count": 40,
     "metadata": {},
     "output_type": "execute_result"
    }
   ],
   "source": [
    "pattern.findall(text) "
   ]
  },
  {
   "cell_type": "code",
   "execution_count": 41,
   "metadata": {},
   "outputs": [],
   "source": [
    "text2 = '''As noted above, most DNA molecules are actually two polymer strands, bound together in a helical fashion by noncovalent bonds; this double-stranded (dsDNA) structure is maintained largely by the intrastrand base stacking interactions, which are strongest for G,C stacks. The two strands can come apart—a process known as melting—to form two single-stranded DNA (ssDNA) molecules. Melting occurs at high temperatures, low salt and high pH (low pH also melts DNA, but since DNA is unstable due to acid depurination, low pH is rarely used).\n",
    "\n",
    "The stability of the dsDNA form depends not only on the GC-content (% G,C basepairs) but also on sequence (since stacking is sequence specific) and also length (longer molecules are more stable). The stability can be measured in various ways; a common way is the melting temperature (also called Tm value), which is the temperature at which 50% of the double-strand molecules are converted to single-strand molecules; melting temperature is dependent on ionic strength and the concentration of DNA. As a result, it is both the percentage of GC base pairs and the overall length of a DNA double helix that determines the strength of the association between the two strands of DNA. Long DNA helices with a high GC-content have more strongly interacting strands, while short helices with high AT content have more weakly interacting strands.[27] In biology, parts of the DNA double helix that need to separate easily, such as the TATAAT Pribnow box in some promoters, tend to have a high AT content, making the strands easier to pull apart.[28]\n",
    "\n",
    "In the laboratory, the strength of this interaction can be measured by finding the melting temperature Tm necessary to break half of the hydrogen bonds. When all the base pairs in a DNA double helix melt, the strands separate and exist in solution as two entirely independent molecules. These single-stranded DNA molecules have no single common shape, but some conformations are more stable than others.[29]'''"
   ]
  },
  {
   "cell_type": "code",
   "execution_count": 48,
   "metadata": {},
   "outputs": [],
   "source": [
    "pattern = re.compile(r'\\bl\\w*y\\b')"
   ]
  },
  {
   "cell_type": "code",
   "execution_count": 49,
   "metadata": {},
   "outputs": [
    {
     "data": {
      "text/plain": [
       "['largely', 'laboratory']"
      ]
     },
     "execution_count": 49,
     "metadata": {},
     "output_type": "execute_result"
    }
   ],
   "source": [
    "pattern.findall(text2) "
   ]
  },
  {
   "cell_type": "code",
   "execution_count": 50,
   "metadata": {},
   "outputs": [],
   "source": [
    "pattern = re.compile(r'-\\w+')"
   ]
  },
  {
   "cell_type": "code",
   "execution_count": 51,
   "metadata": {},
   "outputs": [
    {
     "data": {
      "text/plain": [
       "['-stranded',\n",
       " '-stranded',\n",
       " '-content',\n",
       " '-strand',\n",
       " '-strand',\n",
       " '-content',\n",
       " '-stranded']"
      ]
     },
     "execution_count": 51,
     "metadata": {},
     "output_type": "execute_result"
    }
   ],
   "source": [
    "pattern.findall(text2) "
   ]
  },
  {
   "cell_type": "code",
   "execution_count": 52,
   "metadata": {},
   "outputs": [],
   "source": [
    "pattern = re.compile(r'-(\\w+)')"
   ]
  },
  {
   "cell_type": "code",
   "execution_count": 53,
   "metadata": {},
   "outputs": [
    {
     "data": {
      "text/plain": [
       "['stranded', 'stranded', 'content', 'strand', 'strand', 'content', 'stranded']"
      ]
     },
     "execution_count": 53,
     "metadata": {},
     "output_type": "execute_result"
    }
   ],
   "source": [
    "pattern.findall(text2) "
   ]
  },
  {
   "cell_type": "code",
   "execution_count": null,
   "metadata": {},
   "outputs": [],
   "source": []
  }
 ],
 "metadata": {
  "kernelspec": {
   "display_name": "Python 3",
   "language": "python",
   "name": "python3"
  },
  "language_info": {
   "codemirror_mode": {
    "name": "ipython",
    "version": 3
   },
   "file_extension": ".py",
   "mimetype": "text/x-python",
   "name": "python",
   "nbconvert_exporter": "python",
   "pygments_lexer": "ipython3",
   "version": "3.7.3"
  }
 },
 "nbformat": 4,
 "nbformat_minor": 4
}
