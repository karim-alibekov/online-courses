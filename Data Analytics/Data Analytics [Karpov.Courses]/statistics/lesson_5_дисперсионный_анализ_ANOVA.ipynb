{
 "cells": [
  {
   "cell_type": "code",
   "execution_count": 1,
   "metadata": {},
   "outputs": [],
   "source": [
    "import pandas as pd\n",
    "import numpy as np\n",
    "\n",
    "import scipy.stats as ss\n",
    "import statsmodels.api as sm\n",
    "import statsmodels.formula.api as smf\n",
    "\n",
    "from statsmodels.stats.api import anova_lm\n",
    "from statsmodels.stats.multicomp import (pairwise_tukeyhsd, MultiComparison)\n",
    "\n",
    "import pingouin as pg\n",
    "\n",
    "import matplotlib.pyplot as plt\n",
    "import seaborn as sns"
   ]
  },
  {
   "cell_type": "code",
   "execution_count": 2,
   "metadata": {},
   "outputs": [],
   "source": [
    "post_likes = pd.read_csv('/mnt/HC_Volume_18315164/home-jupyter/jupyter-k-alibekov/personal/csv_files/post_likes.csv')"
   ]
  },
  {
   "cell_type": "code",
   "execution_count": 3,
   "metadata": {},
   "outputs": [
    {
     "data": {
      "text/html": [
       "<div>\n",
       "<style scoped>\n",
       "    .dataframe tbody tr th:only-of-type {\n",
       "        vertical-align: middle;\n",
       "    }\n",
       "\n",
       "    .dataframe tbody tr th {\n",
       "        vertical-align: top;\n",
       "    }\n",
       "\n",
       "    .dataframe thead th {\n",
       "        text-align: right;\n",
       "    }\n",
       "</style>\n",
       "<table border=\"1\" class=\"dataframe\">\n",
       "  <thead>\n",
       "    <tr style=\"text-align: right;\">\n",
       "      <th></th>\n",
       "      <th>id</th>\n",
       "      <th>button</th>\n",
       "      <th>likes</th>\n",
       "    </tr>\n",
       "  </thead>\n",
       "  <tbody>\n",
       "    <tr>\n",
       "      <th>0</th>\n",
       "      <td>S001</td>\n",
       "      <td>red</td>\n",
       "      <td>160</td>\n",
       "    </tr>\n",
       "    <tr>\n",
       "      <th>1</th>\n",
       "      <td>S002</td>\n",
       "      <td>red</td>\n",
       "      <td>150</td>\n",
       "    </tr>\n",
       "    <tr>\n",
       "      <th>2</th>\n",
       "      <td>S003</td>\n",
       "      <td>red</td>\n",
       "      <td>150</td>\n",
       "    </tr>\n",
       "    <tr>\n",
       "      <th>3</th>\n",
       "      <td>S004</td>\n",
       "      <td>red</td>\n",
       "      <td>150</td>\n",
       "    </tr>\n",
       "    <tr>\n",
       "      <th>4</th>\n",
       "      <td>S005</td>\n",
       "      <td>red</td>\n",
       "      <td>187</td>\n",
       "    </tr>\n",
       "  </tbody>\n",
       "</table>\n",
       "</div>"
      ],
      "text/plain": [
       "     id button  likes\n",
       "0  S001    red    160\n",
       "1  S002    red    150\n",
       "2  S003    red    150\n",
       "3  S004    red    150\n",
       "4  S005    red    187"
      ]
     },
     "execution_count": 3,
     "metadata": {},
     "output_type": "execute_result"
    }
   ],
   "source": [
    "post_likes.head()"
   ]
  },
  {
   "cell_type": "code",
   "execution_count": 4,
   "metadata": {},
   "outputs": [
    {
     "data": {
      "text/plain": [
       "<matplotlib.axes._subplots.AxesSubplot at 0x7f28646cc048>"
      ]
     },
     "execution_count": 4,
     "metadata": {},
     "output_type": "execute_result"
    },
    {
     "name": "stderr",
     "output_type": "stream",
     "text": [
      "/opt/tljh/user/lib/python3.7/site-packages/outdated/utils.py:18: OutdatedCacheFailedWarning: Failed to use cache while checking for outdated package.\n",
      "Set the environment variable OUTDATED_RAISE_EXCEPTION=1 for a full traceback.\n",
      "Set the environment variable OUTDATED_IGNORE=1 to disable these warnings.\n",
      "  **kwargs\n",
      "/opt/tljh/user/lib/python3.7/site-packages/outdated/utils.py:18: OutdatedPackageWarning: The package pingouin is out of date. Your version is 0.4.0, the latest is 0.5.3.\n",
      "Set the environment variable OUTDATED_IGNORE=1 to disable these warnings.\n",
      "  **kwargs\n"
     ]
    },
    {
     "data": {
      "image/png": "[encoded data removed]",
      "text/plain": [
       "<Figure size 432x288 with 1 Axes>"
      ]
     },
     "metadata": {
      "needs_background": "light"
     },
     "output_type": "display_data"
    },
    {
     "name": "stderr",
     "output_type": "stream",
     "text": [
      "/opt/tljh/user/lib/python3.7/site-packages/outdated/utils.py:18: OutdatedPackageWarning: The package outdated is out of date. Your version is 0.2.1, the latest is 0.2.2.\n",
      "Set the environment variable OUTDATED_IGNORE=1 to disable these warnings.\n",
      "  **kwargs\n"
     ]
    }
   ],
   "source": [
    "# boxplot\n",
    "\n",
    "sns.boxplot(data = post_likes, x = 'button', y = 'likes', palette = ['r', 'g', 'b'])"
   ]
  },
  {
   "cell_type": "code",
   "execution_count": 5,
   "metadata": {},
   "outputs": [
    {
     "data": {
      "text/plain": [
       "<matplotlib.axes._subplots.AxesSubplot at 0x7f286463ba20>"
      ]
     },
     "execution_count": 5,
     "metadata": {},
     "output_type": "execute_result"
    },
    {
     "data": {
      "image/png": "[encoded data removed]",
      "text/plain": [
       "<Figure size 432x288 with 1 Axes>"
      ]
     },
     "metadata": {
      "needs_background": "light"
     },
     "output_type": "display_data"
    }
   ],
   "source": [
    "# violinplot\n",
    "\n",
    "sns.violinplot(data = post_likes, x = 'button', y = 'likes', palette = ['r', 'g', 'b'])"
   ]
  },
  {
   "cell_type": "code",
   "execution_count": null,
   "metadata": {},
   "outputs": [],
   "source": []
  },
  {
   "cell_type": "code",
   "execution_count": null,
   "metadata": {},
   "outputs": [],
   "source": []
  },
  {
   "cell_type": "markdown",
   "metadata": {},
   "source": [
    "### f_oneway // oneway ANOVA // Однофакторный дисперсионный анализ"
   ]
  },
  {
   "cell_type": "code",
   "execution_count": 6,
   "metadata": {},
   "outputs": [],
   "source": [
    "# using scipy\n",
    "\n",
    "red = post_likes.query('button == \"red\"').likes\n",
    "green = post_likes.query('button == \"green\"').likes\n",
    "blue = post_likes.query('button == \"blue\"').likes"
   ]
  },
  {
   "cell_type": "code",
   "execution_count": 7,
   "metadata": {},
   "outputs": [
    {
     "data": {
      "text/plain": [
       "F_onewayResult(statistic=85.99631112614011, pvalue=3.4370045810218544e-30)"
      ]
     },
     "execution_count": 7,
     "metadata": {},
     "output_type": "execute_result"
    }
   ],
   "source": [
    "ss.f_oneway(red, green, blue)\n",
    "\n",
    "# межгрупповая дисперсия примерно в 86 раз больше, чем внутригрупповая\n",
    "# красная, зеленая и голубая группа между собой различаются, так как pvalue < 0.05"
   ]
  },
  {
   "cell_type": "code",
   "execution_count": 8,
   "metadata": {},
   "outputs": [
    {
     "data": {
      "text/html": [
       "<div>\n",
       "<style scoped>\n",
       "    .dataframe tbody tr th:only-of-type {\n",
       "        vertical-align: middle;\n",
       "    }\n",
       "\n",
       "    .dataframe tbody tr th {\n",
       "        vertical-align: top;\n",
       "    }\n",
       "\n",
       "    .dataframe thead th {\n",
       "        text-align: right;\n",
       "    }\n",
       "</style>\n",
       "<table border=\"1\" class=\"dataframe\">\n",
       "  <thead>\n",
       "    <tr style=\"text-align: right;\">\n",
       "      <th></th>\n",
       "      <th>df</th>\n",
       "      <th>sum_sq</th>\n",
       "      <th>mean_sq</th>\n",
       "      <th>F</th>\n",
       "      <th>PR(&gt;F)</th>\n",
       "    </tr>\n",
       "  </thead>\n",
       "  <tbody>\n",
       "    <tr>\n",
       "      <th>C(button)</th>\n",
       "      <td>2.0</td>\n",
       "      <td>201960.286667</td>\n",
       "      <td>100980.143333</td>\n",
       "      <td>85.996311</td>\n",
       "      <td>3.437005e-30</td>\n",
       "    </tr>\n",
       "    <tr>\n",
       "      <th>Residual</th>\n",
       "      <td>297.0</td>\n",
       "      <td>348748.710000</td>\n",
       "      <td>1174.238081</td>\n",
       "      <td>NaN</td>\n",
       "      <td>NaN</td>\n",
       "    </tr>\n",
       "  </tbody>\n",
       "</table>\n",
       "</div>"
      ],
      "text/plain": [
       "              df         sum_sq        mean_sq          F        PR(>F)\n",
       "C(button)    2.0  201960.286667  100980.143333  85.996311  3.437005e-30\n",
       "Residual   297.0  348748.710000    1174.238081        NaN           NaN"
      ]
     },
     "execution_count": 8,
     "metadata": {},
     "output_type": "execute_result"
    }
   ],
   "source": [
    "# using statsmodels\n",
    "\n",
    "model = smf.ols(formula = \"likes ~ C(button)\", data = post_likes).fit()\n",
    "anova_lm(model)\n",
    "\n",
    "# likes – зависимая переменная (ищем в ней различия)\n",
    "# button – независимая переменная\n",
    "# C – categorical\n",
    "\n",
    "# C(button) – про межгрупповую группу квадратов\n",
    "# Residual – про внутрисуммовую группу квадратов"
   ]
  },
  {
   "cell_type": "code",
   "execution_count": 9,
   "metadata": {},
   "outputs": [
    {
     "data": {
      "text/html": [
       "<div>\n",
       "<style scoped>\n",
       "    .dataframe tbody tr th:only-of-type {\n",
       "        vertical-align: middle;\n",
       "    }\n",
       "\n",
       "    .dataframe tbody tr th {\n",
       "        vertical-align: top;\n",
       "    }\n",
       "\n",
       "    .dataframe thead th {\n",
       "        text-align: right;\n",
       "    }\n",
       "</style>\n",
       "<table border=\"1\" class=\"dataframe\">\n",
       "  <thead>\n",
       "    <tr style=\"text-align: right;\">\n",
       "      <th></th>\n",
       "      <th>Source</th>\n",
       "      <th>SS</th>\n",
       "      <th>DF</th>\n",
       "      <th>MS</th>\n",
       "      <th>F</th>\n",
       "      <th>p-unc</th>\n",
       "      <th>np2</th>\n",
       "    </tr>\n",
       "  </thead>\n",
       "  <tbody>\n",
       "    <tr>\n",
       "      <th>0</th>\n",
       "      <td>button</td>\n",
       "      <td>201960.286667</td>\n",
       "      <td>2</td>\n",
       "      <td>100980.143333</td>\n",
       "      <td>85.996311</td>\n",
       "      <td>3.437005e-30</td>\n",
       "      <td>0.366728</td>\n",
       "    </tr>\n",
       "    <tr>\n",
       "      <th>1</th>\n",
       "      <td>Within</td>\n",
       "      <td>348748.710000</td>\n",
       "      <td>297</td>\n",
       "      <td>1174.238081</td>\n",
       "      <td>NaN</td>\n",
       "      <td>NaN</td>\n",
       "      <td>NaN</td>\n",
       "    </tr>\n",
       "  </tbody>\n",
       "</table>\n",
       "</div>"
      ],
      "text/plain": [
       "   Source             SS   DF             MS          F         p-unc  \\\n",
       "0  button  201960.286667    2  100980.143333  85.996311  3.437005e-30   \n",
       "1  Within  348748.710000  297    1174.238081        NaN           NaN   \n",
       "\n",
       "        np2  \n",
       "0  0.366728  \n",
       "1       NaN  "
      ]
     },
     "execution_count": 9,
     "metadata": {},
     "output_type": "execute_result"
    }
   ],
   "source": [
    "# using pingouin\n",
    "\n",
    "pg.anova(data=post_likes, dv='likes', between='button', detailed=True)"
   ]
  },
  {
   "cell_type": "code",
   "execution_count": null,
   "metadata": {},
   "outputs": [],
   "source": []
  },
  {
   "cell_type": "code",
   "execution_count": null,
   "metadata": {},
   "outputs": [],
   "source": []
  },
  {
   "cell_type": "code",
   "execution_count": null,
   "metadata": {},
   "outputs": [],
   "source": []
  },
  {
   "cell_type": "code",
   "execution_count": 10,
   "metadata": {},
   "outputs": [
    {
     "data": {
      "text/plain": [
       "<matplotlib.axes._subplots.AxesSubplot at 0x7f28517b90f0>"
      ]
     },
     "execution_count": 10,
     "metadata": {},
     "output_type": "execute_result"
    },
    {
     "data": {
      "image/png": "[encoded data removed]",
      "text/plain": [
       "<Figure size 432x288 with 1 Axes>"
      ]
     },
     "metadata": {
      "needs_background": "light"
     },
     "output_type": "display_data"
    }
   ],
   "source": [
    "# средние с доверительными интервалами\n",
    "\n",
    "sns.pointplot(data = post_likes, x = 'button', y = 'likes', palette = ['r', 'g', 'b'])"
   ]
  },
  {
   "cell_type": "code",
   "execution_count": null,
   "metadata": {},
   "outputs": [],
   "source": []
  },
  {
   "cell_type": "markdown",
   "metadata": {},
   "source": [
    "### Тестирование нормальности "
   ]
  },
  {
   "cell_type": "code",
   "execution_count": 11,
   "metadata": {},
   "outputs": [
    {
     "name": "stdout",
     "output_type": "stream",
     "text": [
      "ShapiroResult(statistic=0.988104522228241, pvalue=0.515945315361023)\n",
      "ShapiroResult(statistic=0.9887180328369141, pvalue=0.5625539422035217)\n",
      "ShapiroResult(statistic=0.9937936663627625, pvalue=0.9309920072555542)\n"
     ]
    }
   ],
   "source": [
    "# using scipy \n",
    "\n",
    "print(ss.shapiro(red))\n",
    "print(ss.shapiro(green))\n",
    "print(ss.shapiro(blue))\n",
    "\n",
    "# более чувствительный к выборкам большего размера"
   ]
  },
  {
   "cell_type": "code",
   "execution_count": 12,
   "metadata": {},
   "outputs": [
    {
     "name": "stdout",
     "output_type": "stream",
     "text": [
      "NormaltestResult(statistic=1.8343585907539965, pvalue=0.3996447324611219)\n",
      "NormaltestResult(statistic=0.6727062715909409, pvalue=0.7143707913703767)\n",
      "NormaltestResult(statistic=0.4606964500747045, pvalue=0.7942569741771747)\n"
     ]
    }
   ],
   "source": [
    "# another one\n",
    "\n",
    "print(ss.normaltest(red))\n",
    "print(ss.normaltest(green))\n",
    "print(ss.normaltest(blue))"
   ]
  },
  {
   "cell_type": "code",
   "execution_count": 13,
   "metadata": {},
   "outputs": [
    {
     "data": {
      "text/html": [
       "<div>\n",
       "<style scoped>\n",
       "    .dataframe tbody tr th:only-of-type {\n",
       "        vertical-align: middle;\n",
       "    }\n",
       "\n",
       "    .dataframe tbody tr th {\n",
       "        vertical-align: top;\n",
       "    }\n",
       "\n",
       "    .dataframe thead th {\n",
       "        text-align: right;\n",
       "    }\n",
       "</style>\n",
       "<table border=\"1\" class=\"dataframe\">\n",
       "  <thead>\n",
       "    <tr style=\"text-align: right;\">\n",
       "      <th></th>\n",
       "      <th>W</th>\n",
       "      <th>pval</th>\n",
       "      <th>normal</th>\n",
       "    </tr>\n",
       "  </thead>\n",
       "  <tbody>\n",
       "    <tr>\n",
       "      <th>red</th>\n",
       "      <td>1.834359</td>\n",
       "      <td>0.399645</td>\n",
       "      <td>True</td>\n",
       "    </tr>\n",
       "    <tr>\n",
       "      <th>green</th>\n",
       "      <td>0.672706</td>\n",
       "      <td>0.714371</td>\n",
       "      <td>True</td>\n",
       "    </tr>\n",
       "    <tr>\n",
       "      <th>blue</th>\n",
       "      <td>0.460696</td>\n",
       "      <td>0.794257</td>\n",
       "      <td>True</td>\n",
       "    </tr>\n",
       "  </tbody>\n",
       "</table>\n",
       "</div>"
      ],
      "text/plain": [
       "              W      pval  normal\n",
       "red    1.834359  0.399645    True\n",
       "green  0.672706  0.714371    True\n",
       "blue   0.460696  0.794257    True"
      ]
     },
     "execution_count": 13,
     "metadata": {},
     "output_type": "execute_result"
    }
   ],
   "source": [
    "# using pingouin\n",
    "\n",
    "pg.normality(data=post_likes, dv='likes', group='button', method='normaltest', alpha=0.05)"
   ]
  },
  {
   "cell_type": "code",
   "execution_count": 14,
   "metadata": {},
   "outputs": [
    {
     "data": {
      "image/png": "[encoded data removed]",
      "text/plain": [
       "<Figure size 432x288 with 1 Axes>"
      ]
     },
     "execution_count": 14,
     "metadata": {},
     "output_type": "execute_result"
    },
    {
     "data": {
      "image/png": "[encoded data removed]",
      "text/plain": [
       "<Figure size 432x288 with 1 Axes>"
      ]
     },
     "metadata": {
      "needs_background": "light"
     },
     "output_type": "display_data"
    }
   ],
   "source": [
    "# qqplots (квантиль-квантиль графики)\n",
    "\n",
    "sm.qqplot(blue, line='r')"
   ]
  },
  {
   "cell_type": "code",
   "execution_count": 15,
   "metadata": {},
   "outputs": [
    {
     "data": {
      "text/plain": [
       "<matplotlib.axes._subplots.AxesSubplot at 0x7f28516ebc18>"
      ]
     },
     "execution_count": 15,
     "metadata": {},
     "output_type": "execute_result"
    },
    {
     "data": {
      "image/png": "[encoded data removed]",
      "text/plain": [
       "<Figure size 360x288 with 1 Axes>"
      ]
     },
     "metadata": {
      "needs_background": "light"
     },
     "output_type": "display_data"
    }
   ],
   "source": [
    "pg.qqplot(blue)\n",
    "\n",
    "# плюс, что рисует границы доверительных интервалов, если точки выходят за границы, то ненормальное распределение"
   ]
  },
  {
   "cell_type": "markdown",
   "metadata": {},
   "source": [
    "### Тестирование различий в дисперсиях"
   ]
  },
  {
   "cell_type": "code",
   "execution_count": 16,
   "metadata": {},
   "outputs": [
    {
     "data": {
      "text/plain": [
       "LeveneResult(statistic=35.214282435572876, pvalue=1.8886636651084242e-14)"
      ]
     },
     "execution_count": 16,
     "metadata": {},
     "output_type": "execute_result"
    }
   ],
   "source": [
    "# using scipy \n",
    "\n",
    "ss.levene(red, green, blue)"
   ]
  },
  {
   "cell_type": "code",
   "execution_count": 17,
   "metadata": {},
   "outputs": [
    {
     "data": {
      "text/html": [
       "<div>\n",
       "<style scoped>\n",
       "    .dataframe tbody tr th:only-of-type {\n",
       "        vertical-align: middle;\n",
       "    }\n",
       "\n",
       "    .dataframe tbody tr th {\n",
       "        vertical-align: top;\n",
       "    }\n",
       "\n",
       "    .dataframe thead th {\n",
       "        text-align: right;\n",
       "    }\n",
       "</style>\n",
       "<table border=\"1\" class=\"dataframe\">\n",
       "  <thead>\n",
       "    <tr style=\"text-align: right;\">\n",
       "      <th></th>\n",
       "      <th>W</th>\n",
       "      <th>pval</th>\n",
       "      <th>equal_var</th>\n",
       "    </tr>\n",
       "  </thead>\n",
       "  <tbody>\n",
       "    <tr>\n",
       "      <th>levene</th>\n",
       "      <td>35.214282</td>\n",
       "      <td>1.888664e-14</td>\n",
       "      <td>False</td>\n",
       "    </tr>\n",
       "  </tbody>\n",
       "</table>\n",
       "</div>"
      ],
      "text/plain": [
       "                W          pval  equal_var\n",
       "levene  35.214282  1.888664e-14      False"
      ]
     },
     "execution_count": 17,
     "metadata": {},
     "output_type": "execute_result"
    }
   ],
   "source": [
    "# using pingouin \n",
    "\n",
    "pg.homoscedasticity(data=post_likes, dv='likes', group='button')"
   ]
  },
  {
   "cell_type": "code",
   "execution_count": 18,
   "metadata": {},
   "outputs": [
    {
     "data": {
      "text/html": [
       "<div>\n",
       "<style scoped>\n",
       "    .dataframe tbody tr th:only-of-type {\n",
       "        vertical-align: middle;\n",
       "    }\n",
       "\n",
       "    .dataframe tbody tr th {\n",
       "        vertical-align: top;\n",
       "    }\n",
       "\n",
       "    .dataframe thead th {\n",
       "        text-align: right;\n",
       "    }\n",
       "</style>\n",
       "<table border=\"1\" class=\"dataframe\">\n",
       "  <thead>\n",
       "    <tr style=\"text-align: right;\">\n",
       "      <th></th>\n",
       "      <th>Source</th>\n",
       "      <th>ddof1</th>\n",
       "      <th>ddof2</th>\n",
       "      <th>F</th>\n",
       "      <th>p-unc</th>\n",
       "      <th>np2</th>\n",
       "    </tr>\n",
       "  </thead>\n",
       "  <tbody>\n",
       "    <tr>\n",
       "      <th>0</th>\n",
       "      <td>button</td>\n",
       "      <td>2</td>\n",
       "      <td>182.958104</td>\n",
       "      <td>177.856578</td>\n",
       "      <td>1.255660e-43</td>\n",
       "      <td>0.366728</td>\n",
       "    </tr>\n",
       "  </tbody>\n",
       "</table>\n",
       "</div>"
      ],
      "text/plain": [
       "   Source  ddof1       ddof2           F         p-unc       np2\n",
       "0  button      2  182.958104  177.856578  1.255660e-43  0.366728"
      ]
     },
     "execution_count": 18,
     "metadata": {},
     "output_type": "execute_result"
    }
   ],
   "source": [
    "# если дисперсии разные, используем метод ANOVA Уэлча\n",
    "\n",
    "pg.welch_anova(data=post_likes, dv='likes', between='button')"
   ]
  },
  {
   "cell_type": "code",
   "execution_count": null,
   "metadata": {},
   "outputs": [],
   "source": []
  },
  {
   "cell_type": "markdown",
   "metadata": {},
   "source": [
    "### Множественные сравнения"
   ]
  },
  {
   "cell_type": "code",
   "execution_count": 19,
   "metadata": {},
   "outputs": [],
   "source": [
    "from scipy.special import comb"
   ]
  },
  {
   "cell_type": "code",
   "execution_count": 20,
   "metadata": {},
   "outputs": [
    {
     "data": {
      "text/plain": [
       "3.0"
      ]
     },
     "execution_count": 20,
     "metadata": {},
     "output_type": "execute_result"
    }
   ],
   "source": [
    "comb(3, 2)"
   ]
  },
  {
   "cell_type": "code",
   "execution_count": 21,
   "metadata": {},
   "outputs": [
    {
     "data": {
      "text/plain": [
       "0.1426250000000001"
      ]
     },
     "execution_count": 21,
     "metadata": {},
     "output_type": "execute_result"
    }
   ],
   "source": [
    "1 - 0.95**3"
   ]
  },
  {
   "cell_type": "code",
   "execution_count": 22,
   "metadata": {},
   "outputs": [
    {
     "data": {
      "text/html": [
       "<div>\n",
       "<style scoped>\n",
       "    .dataframe tbody tr th:only-of-type {\n",
       "        vertical-align: middle;\n",
       "    }\n",
       "\n",
       "    .dataframe tbody tr th {\n",
       "        vertical-align: top;\n",
       "    }\n",
       "\n",
       "    .dataframe thead th {\n",
       "        text-align: right;\n",
       "    }\n",
       "</style>\n",
       "<table border=\"1\" class=\"dataframe\">\n",
       "  <thead>\n",
       "    <tr style=\"text-align: right;\">\n",
       "      <th></th>\n",
       "      <th>Contrast</th>\n",
       "      <th>A</th>\n",
       "      <th>B</th>\n",
       "      <th>Paired</th>\n",
       "      <th>Parametric</th>\n",
       "      <th>T</th>\n",
       "      <th>dof</th>\n",
       "      <th>alternative</th>\n",
       "      <th>p-unc</th>\n",
       "      <th>BF10</th>\n",
       "      <th>hedges</th>\n",
       "    </tr>\n",
       "  </thead>\n",
       "  <tbody>\n",
       "    <tr>\n",
       "      <th>0</th>\n",
       "      <td>button</td>\n",
       "      <td>blue</td>\n",
       "      <td>green</td>\n",
       "      <td>False</td>\n",
       "      <td>True</td>\n",
       "      <td>8.591097</td>\n",
       "      <td>198.0</td>\n",
       "      <td>two-sided</td>\n",
       "      <td>2.561866e-15</td>\n",
       "      <td>2.025e+12</td>\n",
       "      <td>1.210357</td>\n",
       "    </tr>\n",
       "    <tr>\n",
       "      <th>1</th>\n",
       "      <td>button</td>\n",
       "      <td>blue</td>\n",
       "      <td>red</td>\n",
       "      <td>False</td>\n",
       "      <td>True</td>\n",
       "      <td>18.769214</td>\n",
       "      <td>198.0</td>\n",
       "      <td>two-sided</td>\n",
       "      <td>7.952330e-46</td>\n",
       "      <td>1.582e+42</td>\n",
       "      <td>2.644301</td>\n",
       "    </tr>\n",
       "    <tr>\n",
       "      <th>2</th>\n",
       "      <td>button</td>\n",
       "      <td>green</td>\n",
       "      <td>red</td>\n",
       "      <td>False</td>\n",
       "      <td>True</td>\n",
       "      <td>2.240189</td>\n",
       "      <td>198.0</td>\n",
       "      <td>two-sided</td>\n",
       "      <td>2.619001e-02</td>\n",
       "      <td>1.583</td>\n",
       "      <td>0.315609</td>\n",
       "    </tr>\n",
       "  </tbody>\n",
       "</table>\n",
       "</div>"
      ],
      "text/plain": [
       "  Contrast      A      B  Paired  Parametric          T    dof alternative  \\\n",
       "0   button   blue  green   False        True   8.591097  198.0   two-sided   \n",
       "1   button   blue    red   False        True  18.769214  198.0   two-sided   \n",
       "2   button  green    red   False        True   2.240189  198.0   two-sided   \n",
       "\n",
       "          p-unc       BF10    hedges  \n",
       "0  2.561866e-15  2.025e+12  1.210357  \n",
       "1  7.952330e-46  1.582e+42  2.644301  \n",
       "2  2.619001e-02      1.583  0.315609  "
      ]
     },
     "execution_count": 22,
     "metadata": {},
     "output_type": "execute_result"
    }
   ],
   "source": [
    "pg.pairwise_ttests(data=post_likes, dv='likes', between='button')"
   ]
  },
  {
   "cell_type": "code",
   "execution_count": 23,
   "metadata": {},
   "outputs": [
    {
     "data": {
      "text/plain": [
       "0.02619001"
      ]
     },
     "execution_count": 23,
     "metadata": {},
     "output_type": "execute_result"
    }
   ],
   "source": [
    "2.619001e-02"
   ]
  },
  {
   "cell_type": "markdown",
   "metadata": {},
   "source": [
    "### Если мы сильно боимся совершить ошибку, то выбираем самый консервативный метод – Бонферрони"
   ]
  },
  {
   "cell_type": "code",
   "execution_count": 24,
   "metadata": {},
   "outputs": [
    {
     "data": {
      "text/html": [
       "<div>\n",
       "<style scoped>\n",
       "    .dataframe tbody tr th:only-of-type {\n",
       "        vertical-align: middle;\n",
       "    }\n",
       "\n",
       "    .dataframe tbody tr th {\n",
       "        vertical-align: top;\n",
       "    }\n",
       "\n",
       "    .dataframe thead th {\n",
       "        text-align: right;\n",
       "    }\n",
       "</style>\n",
       "<table border=\"1\" class=\"dataframe\">\n",
       "  <thead>\n",
       "    <tr style=\"text-align: right;\">\n",
       "      <th></th>\n",
       "      <th>Contrast</th>\n",
       "      <th>A</th>\n",
       "      <th>B</th>\n",
       "      <th>Paired</th>\n",
       "      <th>Parametric</th>\n",
       "      <th>T</th>\n",
       "      <th>dof</th>\n",
       "      <th>alternative</th>\n",
       "      <th>p-unc</th>\n",
       "      <th>p-corr</th>\n",
       "      <th>p-adjust</th>\n",
       "      <th>BF10</th>\n",
       "      <th>hedges</th>\n",
       "    </tr>\n",
       "  </thead>\n",
       "  <tbody>\n",
       "    <tr>\n",
       "      <th>0</th>\n",
       "      <td>button</td>\n",
       "      <td>blue</td>\n",
       "      <td>green</td>\n",
       "      <td>False</td>\n",
       "      <td>True</td>\n",
       "      <td>8.591097</td>\n",
       "      <td>198.0</td>\n",
       "      <td>two-sided</td>\n",
       "      <td>2.561866e-15</td>\n",
       "      <td>7.685599e-15</td>\n",
       "      <td>bonf</td>\n",
       "      <td>2.025e+12</td>\n",
       "      <td>1.210357</td>\n",
       "    </tr>\n",
       "    <tr>\n",
       "      <th>1</th>\n",
       "      <td>button</td>\n",
       "      <td>blue</td>\n",
       "      <td>red</td>\n",
       "      <td>False</td>\n",
       "      <td>True</td>\n",
       "      <td>18.769214</td>\n",
       "      <td>198.0</td>\n",
       "      <td>two-sided</td>\n",
       "      <td>7.952330e-46</td>\n",
       "      <td>2.385699e-45</td>\n",
       "      <td>bonf</td>\n",
       "      <td>1.582e+42</td>\n",
       "      <td>2.644301</td>\n",
       "    </tr>\n",
       "    <tr>\n",
       "      <th>2</th>\n",
       "      <td>button</td>\n",
       "      <td>green</td>\n",
       "      <td>red</td>\n",
       "      <td>False</td>\n",
       "      <td>True</td>\n",
       "      <td>2.240189</td>\n",
       "      <td>198.0</td>\n",
       "      <td>two-sided</td>\n",
       "      <td>2.619001e-02</td>\n",
       "      <td>7.857004e-02</td>\n",
       "      <td>bonf</td>\n",
       "      <td>1.583</td>\n",
       "      <td>0.315609</td>\n",
       "    </tr>\n",
       "  </tbody>\n",
       "</table>\n",
       "</div>"
      ],
      "text/plain": [
       "  Contrast      A      B  Paired  Parametric          T    dof alternative  \\\n",
       "0   button   blue  green   False        True   8.591097  198.0   two-sided   \n",
       "1   button   blue    red   False        True  18.769214  198.0   two-sided   \n",
       "2   button  green    red   False        True   2.240189  198.0   two-sided   \n",
       "\n",
       "          p-unc        p-corr p-adjust       BF10    hedges  \n",
       "0  2.561866e-15  7.685599e-15     bonf  2.025e+12  1.210357  \n",
       "1  7.952330e-46  2.385699e-45     bonf  1.582e+42  2.644301  \n",
       "2  2.619001e-02  7.857004e-02     bonf      1.583  0.315609  "
      ]
     },
     "execution_count": 24,
     "metadata": {},
     "output_type": "execute_result"
    }
   ],
   "source": [
    "pg.pairwise_ttests(data=post_likes, dv='likes', between='button', padjust='bonf')"
   ]
  },
  {
   "cell_type": "code",
   "execution_count": 25,
   "metadata": {},
   "outputs": [
    {
     "data": {
      "text/plain": [
       "0.07857004"
      ]
     },
     "execution_count": 25,
     "metadata": {},
     "output_type": "execute_result"
    }
   ],
   "source": [
    "7.857004e-02\n",
    "\n",
    "# зеленые и красные группы различаются не так уж и значимо, ориентируясь на поправку Бонферрони\n",
    "# holm"
   ]
  },
  {
   "cell_type": "code",
   "execution_count": 26,
   "metadata": {},
   "outputs": [
    {
     "data": {
      "text/html": [
       "<div>\n",
       "<style scoped>\n",
       "    .dataframe tbody tr th:only-of-type {\n",
       "        vertical-align: middle;\n",
       "    }\n",
       "\n",
       "    .dataframe tbody tr th {\n",
       "        vertical-align: top;\n",
       "    }\n",
       "\n",
       "    .dataframe thead th {\n",
       "        text-align: right;\n",
       "    }\n",
       "</style>\n",
       "<table border=\"1\" class=\"dataframe\">\n",
       "  <thead>\n",
       "    <tr style=\"text-align: right;\">\n",
       "      <th></th>\n",
       "      <th>A</th>\n",
       "      <th>B</th>\n",
       "      <th>mean(A)</th>\n",
       "      <th>mean(B)</th>\n",
       "      <th>diff</th>\n",
       "      <th>se</th>\n",
       "      <th>T</th>\n",
       "      <th>p-tukey</th>\n",
       "      <th>hedges</th>\n",
       "    </tr>\n",
       "  </thead>\n",
       "  <tbody>\n",
       "    <tr>\n",
       "      <th>0</th>\n",
       "      <td>blue</td>\n",
       "      <td>green</td>\n",
       "      <td>210.03</td>\n",
       "      <td>162.02</td>\n",
       "      <td>48.01</td>\n",
       "      <td>4.846108</td>\n",
       "      <td>9.906919</td>\n",
       "      <td>0.001000</td>\n",
       "      <td>1.395736</td>\n",
       "    </tr>\n",
       "    <tr>\n",
       "      <th>1</th>\n",
       "      <td>blue</td>\n",
       "      <td>red</td>\n",
       "      <td>210.03</td>\n",
       "      <td>149.96</td>\n",
       "      <td>60.07</td>\n",
       "      <td>4.846108</td>\n",
       "      <td>12.395514</td>\n",
       "      <td>0.001000</td>\n",
       "      <td>1.746342</td>\n",
       "    </tr>\n",
       "    <tr>\n",
       "      <th>2</th>\n",
       "      <td>green</td>\n",
       "      <td>red</td>\n",
       "      <td>162.02</td>\n",
       "      <td>149.96</td>\n",
       "      <td>12.06</td>\n",
       "      <td>4.846108</td>\n",
       "      <td>2.488595</td>\n",
       "      <td>0.035581</td>\n",
       "      <td>0.350606</td>\n",
       "    </tr>\n",
       "  </tbody>\n",
       "</table>\n",
       "</div>"
      ],
      "text/plain": [
       "       A      B  mean(A)  mean(B)   diff        se          T   p-tukey  \\\n",
       "0   blue  green   210.03   162.02  48.01  4.846108   9.906919  0.001000   \n",
       "1   blue    red   210.03   149.96  60.07  4.846108  12.395514  0.001000   \n",
       "2  green    red   162.02   149.96  12.06  4.846108   2.488595  0.035581   \n",
       "\n",
       "     hedges  \n",
       "0  1.395736  \n",
       "1  1.746342  \n",
       "2  0.350606  "
      ]
     },
     "execution_count": 26,
     "metadata": {},
     "output_type": "execute_result"
    }
   ],
   "source": [
    "pg.pairwise_tukey(data=post_likes, dv='likes', between='button')"
   ]
  },
  {
   "cell_type": "code",
   "execution_count": 27,
   "metadata": {},
   "outputs": [
    {
     "data": {
      "text/html": [
       "<div>\n",
       "<style scoped>\n",
       "    .dataframe tbody tr th:only-of-type {\n",
       "        vertical-align: middle;\n",
       "    }\n",
       "\n",
       "    .dataframe tbody tr th {\n",
       "        vertical-align: top;\n",
       "    }\n",
       "\n",
       "    .dataframe thead th {\n",
       "        text-align: right;\n",
       "    }\n",
       "</style>\n",
       "<table border=\"1\" class=\"dataframe\">\n",
       "  <thead>\n",
       "    <tr style=\"text-align: right;\">\n",
       "      <th></th>\n",
       "      <th>A</th>\n",
       "      <th>B</th>\n",
       "      <th>mean(A)</th>\n",
       "      <th>mean(B)</th>\n",
       "      <th>diff</th>\n",
       "      <th>se</th>\n",
       "      <th>T</th>\n",
       "      <th>df</th>\n",
       "      <th>pval</th>\n",
       "      <th>hedges</th>\n",
       "    </tr>\n",
       "  </thead>\n",
       "  <tbody>\n",
       "    <tr>\n",
       "      <th>0</th>\n",
       "      <td>blue</td>\n",
       "      <td>green</td>\n",
       "      <td>210.03</td>\n",
       "      <td>162.02</td>\n",
       "      <td>48.01</td>\n",
       "      <td>5.588343</td>\n",
       "      <td>8.591097</td>\n",
       "      <td>145.583529</td>\n",
       "      <td>0.001000</td>\n",
       "      <td>1.210357</td>\n",
       "    </tr>\n",
       "    <tr>\n",
       "      <th>1</th>\n",
       "      <td>blue</td>\n",
       "      <td>red</td>\n",
       "      <td>210.03</td>\n",
       "      <td>149.96</td>\n",
       "      <td>60.07</td>\n",
       "      <td>3.200454</td>\n",
       "      <td>18.769214</td>\n",
       "      <td>188.902921</td>\n",
       "      <td>0.001000</td>\n",
       "      <td>2.644301</td>\n",
       "    </tr>\n",
       "    <tr>\n",
       "      <th>2</th>\n",
       "      <td>green</td>\n",
       "      <td>red</td>\n",
       "      <td>162.02</td>\n",
       "      <td>149.96</td>\n",
       "      <td>12.06</td>\n",
       "      <td>5.383475</td>\n",
       "      <td>2.240189</td>\n",
       "      <td>129.889834</td>\n",
       "      <td>0.068387</td>\n",
       "      <td>0.315609</td>\n",
       "    </tr>\n",
       "  </tbody>\n",
       "</table>\n",
       "</div>"
      ],
      "text/plain": [
       "       A      B  mean(A)  mean(B)   diff        se          T          df  \\\n",
       "0   blue  green   210.03   162.02  48.01  5.588343   8.591097  145.583529   \n",
       "1   blue    red   210.03   149.96  60.07  3.200454  18.769214  188.902921   \n",
       "2  green    red   162.02   149.96  12.06  5.383475   2.240189  129.889834   \n",
       "\n",
       "       pval    hedges  \n",
       "0  0.001000  1.210357  \n",
       "1  0.001000  2.644301  \n",
       "2  0.068387  0.315609  "
      ]
     },
     "execution_count": 27,
     "metadata": {},
     "output_type": "execute_result"
    }
   ],
   "source": [
    "# Games-Howell : поправка на то, что группы могут иметь разные дисперсии !!! \n",
    "\n",
    "pg.pairwise_gameshowell(data=post_likes, dv='likes', between='button')"
   ]
  },
  {
   "cell_type": "code",
   "execution_count": 28,
   "metadata": {},
   "outputs": [
    {
     "data": {
      "text/html": [
       "<table class=\"simpletable\">\n",
       "<caption>Multiple Comparison of Means - Tukey HSD, FWER=0.05</caption>\n",
       "<tr>\n",
       "  <th>group1</th> <th>group2</th> <th>meandiff</th>  <th>p-adj</th>   <th>lower</th>    <th>upper</th>  <th>reject</th>\n",
       "</tr>\n",
       "<tr>\n",
       "   <td>blue</td>   <td>green</td>  <td>-48.01</td>   <td>0.001</td> <td>-59.4257</td> <td>-36.5943</td>  <td>True</td> \n",
       "</tr>\n",
       "<tr>\n",
       "   <td>blue</td>    <td>red</td>   <td>-60.07</td>   <td>0.001</td> <td>-71.4857</td> <td>-48.6543</td>  <td>True</td> \n",
       "</tr>\n",
       "<tr>\n",
       "   <td>green</td>   <td>red</td>   <td>-12.06</td>  <td>0.0356</td> <td>-23.4757</td>  <td>-0.6443</td>  <td>True</td> \n",
       "</tr>\n",
       "</table>"
      ],
      "text/plain": [
       "<class 'statsmodels.iolib.table.SimpleTable'>"
      ]
     },
     "execution_count": 28,
     "metadata": {},
     "output_type": "execute_result"
    }
   ],
   "source": [
    "pairwise_tukeyhsd(post_likes.likes, post_likes.button).summary()"
   ]
  },
  {
   "cell_type": "code",
   "execution_count": 29,
   "metadata": {},
   "outputs": [
    {
     "data": {
      "text/html": [
       "<table class=\"simpletable\">\n",
       "<caption>Multiple Comparison of Means - Tukey HSD, FWER=0.05</caption>\n",
       "<tr>\n",
       "  <th>group1</th> <th>group2</th> <th>meandiff</th>  <th>p-adj</th>   <th>lower</th>    <th>upper</th>  <th>reject</th>\n",
       "</tr>\n",
       "<tr>\n",
       "   <td>blue</td>   <td>green</td>  <td>-48.01</td>   <td>0.001</td> <td>-59.4257</td> <td>-36.5943</td>  <td>True</td> \n",
       "</tr>\n",
       "<tr>\n",
       "   <td>blue</td>    <td>red</td>   <td>-60.07</td>   <td>0.001</td> <td>-71.4857</td> <td>-48.6543</td>  <td>True</td> \n",
       "</tr>\n",
       "<tr>\n",
       "   <td>green</td>   <td>red</td>   <td>-12.06</td>  <td>0.0356</td> <td>-23.4757</td>  <td>-0.6443</td>  <td>True</td> \n",
       "</tr>\n",
       "</table>"
      ],
      "text/plain": [
       "<class 'statsmodels.iolib.table.SimpleTable'>"
      ]
     },
     "execution_count": 29,
     "metadata": {},
     "output_type": "execute_result"
    }
   ],
   "source": [
    "MultiComparison(post_likes.likes, post_likes.button).tukeyhsd().summary()"
   ]
  },
  {
   "cell_type": "markdown",
   "metadata": {},
   "source": [
    "### Многофакторный ANOVA"
   ]
  },
  {
   "cell_type": "code",
   "execution_count": 30,
   "metadata": {},
   "outputs": [],
   "source": [
    "ads_clicks = pd.read_csv('/mnt/HC_Volume_18315164/home-jupyter/jupyter-k-alibekov/personal/csv_files/ads_clicks.csv')"
   ]
  },
  {
   "cell_type": "code",
   "execution_count": 31,
   "metadata": {},
   "outputs": [
    {
     "data": {
      "text/html": [
       "<div>\n",
       "<style scoped>\n",
       "    .dataframe tbody tr th:only-of-type {\n",
       "        vertical-align: middle;\n",
       "    }\n",
       "\n",
       "    .dataframe tbody tr th {\n",
       "        vertical-align: top;\n",
       "    }\n",
       "\n",
       "    .dataframe thead th {\n",
       "        text-align: right;\n",
       "    }\n",
       "</style>\n",
       "<table border=\"1\" class=\"dataframe\">\n",
       "  <thead>\n",
       "    <tr style=\"text-align: right;\">\n",
       "      <th></th>\n",
       "      <th>id</th>\n",
       "      <th>ads</th>\n",
       "      <th>age_group</th>\n",
       "      <th>clicks</th>\n",
       "    </tr>\n",
       "  </thead>\n",
       "  <tbody>\n",
       "    <tr>\n",
       "      <th>0</th>\n",
       "      <td>S001</td>\n",
       "      <td>classic</td>\n",
       "      <td>18-27</td>\n",
       "      <td>40</td>\n",
       "    </tr>\n",
       "    <tr>\n",
       "      <th>1</th>\n",
       "      <td>S002</td>\n",
       "      <td>classic</td>\n",
       "      <td>18-27</td>\n",
       "      <td>22</td>\n",
       "    </tr>\n",
       "    <tr>\n",
       "      <th>2</th>\n",
       "      <td>S003</td>\n",
       "      <td>classic</td>\n",
       "      <td>18-27</td>\n",
       "      <td>41</td>\n",
       "    </tr>\n",
       "    <tr>\n",
       "      <th>3</th>\n",
       "      <td>S004</td>\n",
       "      <td>classic</td>\n",
       "      <td>18-27</td>\n",
       "      <td>35</td>\n",
       "    </tr>\n",
       "    <tr>\n",
       "      <th>4</th>\n",
       "      <td>S005</td>\n",
       "      <td>classic</td>\n",
       "      <td>18-27</td>\n",
       "      <td>39</td>\n",
       "    </tr>\n",
       "  </tbody>\n",
       "</table>\n",
       "</div>"
      ],
      "text/plain": [
       "     id      ads age_group  clicks\n",
       "0  S001  classic     18-27      40\n",
       "1  S002  classic     18-27      22\n",
       "2  S003  classic     18-27      41\n",
       "3  S004  classic     18-27      35\n",
       "4  S005  classic     18-27      39"
      ]
     },
     "execution_count": 31,
     "metadata": {},
     "output_type": "execute_result"
    }
   ],
   "source": [
    "ads_clicks.head()"
   ]
  },
  {
   "cell_type": "code",
   "execution_count": 32,
   "metadata": {},
   "outputs": [
    {
     "data": {
      "text/html": [
       "<div>\n",
       "<style scoped>\n",
       "    .dataframe tbody tr th:only-of-type {\n",
       "        vertical-align: middle;\n",
       "    }\n",
       "\n",
       "    .dataframe tbody tr th {\n",
       "        vertical-align: top;\n",
       "    }\n",
       "\n",
       "    .dataframe thead th {\n",
       "        text-align: right;\n",
       "    }\n",
       "</style>\n",
       "<table border=\"1\" class=\"dataframe\">\n",
       "  <thead>\n",
       "    <tr style=\"text-align: right;\">\n",
       "      <th></th>\n",
       "      <th>df</th>\n",
       "      <th>sum_sq</th>\n",
       "      <th>mean_sq</th>\n",
       "      <th>F</th>\n",
       "      <th>PR(&gt;F)</th>\n",
       "    </tr>\n",
       "  </thead>\n",
       "  <tbody>\n",
       "    <tr>\n",
       "      <th>C(ads)</th>\n",
       "      <td>1.0</td>\n",
       "      <td>33735.001667</td>\n",
       "      <td>33735.001667</td>\n",
       "      <td>68.810244</td>\n",
       "      <td>7.245176e-16</td>\n",
       "    </tr>\n",
       "    <tr>\n",
       "      <th>C(age_group)</th>\n",
       "      <td>2.0</td>\n",
       "      <td>400495.163333</td>\n",
       "      <td>200247.581667</td>\n",
       "      <td>408.450696</td>\n",
       "      <td>1.950084e-112</td>\n",
       "    </tr>\n",
       "    <tr>\n",
       "      <th>Residual</th>\n",
       "      <td>596.0</td>\n",
       "      <td>292195.753333</td>\n",
       "      <td>490.261331</td>\n",
       "      <td>NaN</td>\n",
       "      <td>NaN</td>\n",
       "    </tr>\n",
       "  </tbody>\n",
       "</table>\n",
       "</div>"
      ],
      "text/plain": [
       "                 df         sum_sq        mean_sq           F         PR(>F)\n",
       "C(ads)          1.0   33735.001667   33735.001667   68.810244   7.245176e-16\n",
       "C(age_group)    2.0  400495.163333  200247.581667  408.450696  1.950084e-112\n",
       "Residual      596.0  292195.753333     490.261331         NaN            NaN"
      ]
     },
     "execution_count": 32,
     "metadata": {},
     "output_type": "execute_result"
    }
   ],
   "source": [
    "model_main = smf.ols('clicks ~ C(ads) + C(age_group)', data=ads_clicks).fit()\n",
    "anova_lm(model_main)\n",
    "\n",
    "# главные эффекты – это то как влияют эти факторы независимо друг от друга"
   ]
  },
  {
   "cell_type": "code",
   "execution_count": 33,
   "metadata": {},
   "outputs": [
    {
     "data": {
      "text/plain": [
       "<matplotlib.axes._subplots.AxesSubplot at 0x7f28515ea8d0>"
      ]
     },
     "execution_count": 33,
     "metadata": {},
     "output_type": "execute_result"
    },
    {
     "data": {
      "image/png": "[encoded data removed]",
      "text/plain": [
       "<Figure size 432x288 with 1 Axes>"
      ]
     },
     "metadata": {
      "needs_background": "light"
     },
     "output_type": "display_data"
    }
   ],
   "source": [
    "# первый фактор\n",
    "\n",
    "sns.pointplot(x='ads', y='clicks', data=ads_clicks, capsize=0.1)"
   ]
  },
  {
   "cell_type": "code",
   "execution_count": 34,
   "metadata": {},
   "outputs": [
    {
     "data": {
      "text/plain": [
       "<matplotlib.axes._subplots.AxesSubplot at 0x7f2851557d30>"
      ]
     },
     "execution_count": 34,
     "metadata": {},
     "output_type": "execute_result"
    },
    {
     "data": {
      "image/png": "[encoded data removed]",
      "text/plain": [
       "<Figure size 432x288 with 1 Axes>"
      ]
     },
     "metadata": {
      "needs_background": "light"
     },
     "output_type": "display_data"
    }
   ],
   "source": [
    "# второй фактор\n",
    "\n",
    "sns.pointplot(x='age_group', y='clicks', data=ads_clicks, capsize=0.1)"
   ]
  },
  {
   "cell_type": "code",
   "execution_count": 35,
   "metadata": {},
   "outputs": [
    {
     "data": {
      "text/html": [
       "<div>\n",
       "<style scoped>\n",
       "    .dataframe tbody tr th:only-of-type {\n",
       "        vertical-align: middle;\n",
       "    }\n",
       "\n",
       "    .dataframe tbody tr th {\n",
       "        vertical-align: top;\n",
       "    }\n",
       "\n",
       "    .dataframe thead th {\n",
       "        text-align: right;\n",
       "    }\n",
       "</style>\n",
       "<table border=\"1\" class=\"dataframe\">\n",
       "  <thead>\n",
       "    <tr style=\"text-align: right;\">\n",
       "      <th></th>\n",
       "      <th>df</th>\n",
       "      <th>sum_sq</th>\n",
       "      <th>mean_sq</th>\n",
       "      <th>F</th>\n",
       "      <th>PR(&gt;F)</th>\n",
       "    </tr>\n",
       "  </thead>\n",
       "  <tbody>\n",
       "    <tr>\n",
       "      <th>C(ads)</th>\n",
       "      <td>1.0</td>\n",
       "      <td>33735.001667</td>\n",
       "      <td>33735.001667</td>\n",
       "      <td>336.722432</td>\n",
       "      <td>6.446773e-60</td>\n",
       "    </tr>\n",
       "    <tr>\n",
       "      <th>C(age_group)</th>\n",
       "      <td>2.0</td>\n",
       "      <td>400495.163333</td>\n",
       "      <td>200247.581667</td>\n",
       "      <td>1998.750536</td>\n",
       "      <td>1.636934e-264</td>\n",
       "    </tr>\n",
       "    <tr>\n",
       "      <th>C(ads):C(age_group)</th>\n",
       "      <td>2.0</td>\n",
       "      <td>232685.043333</td>\n",
       "      <td>116342.521667</td>\n",
       "      <td>1161.260853</td>\n",
       "      <td>5.618312e-206</td>\n",
       "    </tr>\n",
       "    <tr>\n",
       "      <th>Residual</th>\n",
       "      <td>594.0</td>\n",
       "      <td>59510.710000</td>\n",
       "      <td>100.186380</td>\n",
       "      <td>NaN</td>\n",
       "      <td>NaN</td>\n",
       "    </tr>\n",
       "  </tbody>\n",
       "</table>\n",
       "</div>"
      ],
      "text/plain": [
       "                        df         sum_sq        mean_sq            F  \\\n",
       "C(ads)                 1.0   33735.001667   33735.001667   336.722432   \n",
       "C(age_group)           2.0  400495.163333  200247.581667  1998.750536   \n",
       "C(ads):C(age_group)    2.0  232685.043333  116342.521667  1161.260853   \n",
       "Residual             594.0   59510.710000     100.186380          NaN   \n",
       "\n",
       "                            PR(>F)  \n",
       "C(ads)                6.446773e-60  \n",
       "C(age_group)         1.636934e-264  \n",
       "C(ads):C(age_group)  5.618312e-206  \n",
       "Residual                       NaN  "
      ]
     },
     "execution_count": 35,
     "metadata": {},
     "output_type": "execute_result"
    }
   ],
   "source": [
    "# проверка взаимодействия факторов\n",
    "\n",
    "model_interact = smf.ols('clicks ~ C(ads)*C(age_group)', data=ads_clicks).fit()\n",
    "anova_lm(model_interact)"
   ]
  },
  {
   "cell_type": "code",
   "execution_count": 36,
   "metadata": {},
   "outputs": [
    {
     "data": {
      "text/plain": [
       "<matplotlib.axes._subplots.AxesSubplot at 0x7f28514d3668>"
      ]
     },
     "execution_count": 36,
     "metadata": {},
     "output_type": "execute_result"
    },
    {
     "data": {
      "image/png": "[encoded data removed]",
      "text/plain": [
       "<Figure size 432x288 with 1 Axes>"
      ]
     },
     "metadata": {
      "needs_background": "light"
     },
     "output_type": "display_data"
    }
   ],
   "source": [
    "sns.pointplot(x='ads', y='clicks', hue='age_group', data=ads_clicks, capsize=0.1)"
   ]
  }
 ],
 "metadata": {
  "kernelspec": {
   "display_name": "Python 3",
   "language": "python",
   "name": "python3"
  },
  "language_info": {
   "codemirror_mode": {
    "name": "ipython",
    "version": 3
   },
   "file_extension": ".py",
   "mimetype": "text/x-python",
   "name": "python",
   "nbconvert_exporter": "python",
   "pygments_lexer": "ipython3",
   "version": "3.7.3"
  }
 },
 "nbformat": 4,
 "nbformat_minor": 4
}
