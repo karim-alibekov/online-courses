{
 "cells": [
  {
   "cell_type": "markdown",
   "id": "6879e62c",
   "metadata": {},
   "source": [
    "# Print, Input, Переменные"
   ]
  },
  {
   "cell_type": "code",
   "execution_count": 1,
   "id": "9115be19",
   "metadata": {},
   "outputs": [
    {
     "name": "stdout",
     "output_type": "stream",
     "text": [
      "Мы изучаем язык Python\n"
     ]
    }
   ],
   "source": [
    "print('Мы изучаем язык Python')"
   ]
  },
  {
   "cell_type": "code",
   "execution_count": 2,
   "id": "f8c534e7",
   "metadata": {},
   "outputs": [
    {
     "name": "stdout",
     "output_type": "stream",
     "text": [
      "Python\n",
      "Python\n"
     ]
    }
   ],
   "source": [
    "print('Python')\n",
    "print(\"Python\")"
   ]
  },
  {
   "cell_type": "code",
   "execution_count": 3,
   "id": "ea560f79",
   "metadata": {},
   "outputs": [
    {
     "name": "stdout",
     "output_type": "stream",
     "text": [
      "Я учусь программировать на Python!\n"
     ]
    }
   ],
   "source": [
    "print('Я', 'учусь', 'программировать', 'на', 'Python!')"
   ]
  },
  {
   "cell_type": "code",
   "execution_count": 4,
   "id": "5397f4b4",
   "metadata": {},
   "outputs": [
    {
     "name": "stdout",
     "output_type": "stream",
     "text": [
      "1 2 4 8 16\n"
     ]
    }
   ],
   "source": [
    "print('1', '2', '4', '8', '16')"
   ]
  },
  {
   "cell_type": "code",
   "execution_count": 5,
   "id": "ebb22adf",
   "metadata": {},
   "outputs": [
    {
     "name": "stdout",
     "output_type": "stream",
     "text": [
      "Какой хороший день!\n",
      "Работать мне не лень!\n"
     ]
    }
   ],
   "source": [
    "print('Какой хороший день!')\n",
    "print('Работать мне не лень!')"
   ]
  },
  {
   "cell_type": "code",
   "execution_count": 6,
   "id": "7118b170",
   "metadata": {},
   "outputs": [
    {
     "name": "stdout",
     "output_type": "stream",
     "text": [
      "Какой хороший день!\n",
      "\n",
      "Работать мне не лень!\n"
     ]
    }
   ],
   "source": [
    "print('Какой хороший день!')\n",
    "print()\n",
    "print('Работать мне не лень!')"
   ]
  },
  {
   "cell_type": "code",
   "execution_count": 7,
   "id": "7fdaa09b",
   "metadata": {},
   "outputs": [
    {
     "name": "stdout",
     "output_type": "stream",
     "text": [
      "В тексте есть \"двойные\" кавычки\n",
      "В тексте есть 'одинарные' кавычки\n"
     ]
    }
   ],
   "source": [
    "print('В тексте есть \"двойные\" кавычки')\n",
    "print(\"В тексте есть 'одинарные' кавычки\")"
   ]
  },
  {
   "cell_type": "code",
   "execution_count": 8,
   "id": "8816b45d",
   "metadata": {},
   "outputs": [
    {
     "name": "stdout",
     "output_type": "stream",
     "text": [
      "I'm the BAD guy\n"
     ]
    }
   ],
   "source": [
    "print(\"I'm\", 'the', \"BAD\", 'guy')"
   ]
  },
  {
   "cell_type": "code",
   "execution_count": 10,
   "id": "a0ebde9f",
   "metadata": {},
   "outputs": [
    {
     "name": "stdout",
     "output_type": "stream",
     "text": [
      "Здравствуй, мир!\n"
     ]
    }
   ],
   "source": [
    "print('Здравствуй, мир!')"
   ]
  },
  {
   "cell_type": "code",
   "execution_count": 11,
   "id": "ee71676e",
   "metadata": {},
   "outputs": [
    {
     "name": "stdout",
     "output_type": "stream",
     "text": [
      "4 8 15 16 23 42\n"
     ]
    }
   ],
   "source": [
    "print('4', '8', '15', '16', '23', '42')"
   ]
  },
  {
   "cell_type": "code",
   "execution_count": 12,
   "id": "facbc424",
   "metadata": {},
   "outputs": [
    {
     "name": "stdout",
     "output_type": "stream",
     "text": [
      "4\n",
      "8\n",
      "15\n",
      "16\n",
      "23\n",
      "42\n"
     ]
    }
   ],
   "source": [
    "print('4')\n",
    "print('8')\n",
    "print('15')\n",
    "print('16')\n",
    "print('23')\n",
    "print('42')"
   ]
  },
  {
   "cell_type": "code",
   "execution_count": 13,
   "id": "774e7d28",
   "metadata": {},
   "outputs": [
    {
     "name": "stdout",
     "output_type": "stream",
     "text": [
      "*\n",
      "**\n",
      "***\n",
      "****\n",
      "*****\n",
      "******\n",
      "*******\n"
     ]
    }
   ],
   "source": [
    "print('*')\n",
    "print('**')\n",
    "print('***')\n",
    "print('****')\n",
    "print('*****')\n",
    "print('******')\n",
    "print('*******')"
   ]
  },
  {
   "cell_type": "code",
   "execution_count": 14,
   "id": "2a2d7e49",
   "metadata": {},
   "outputs": [
    {
     "name": "stdout",
     "output_type": "stream",
     "text": [
      "Karim\n",
      "Привет, Karim\n"
     ]
    }
   ],
   "source": [
    "name = input()\n",
    "print('Привет,', name)"
   ]
  },
  {
   "cell_type": "code",
   "execution_count": 15,
   "id": "7abec6c7",
   "metadata": {},
   "outputs": [
    {
     "name": "stdout",
     "output_type": "stream",
     "text": [
      "Chelsea FC\n",
      "Chelsea FC - чемпион!\n"
     ]
    }
   ],
   "source": [
    "club = input()\n",
    "print(club, '- чемпион!')"
   ]
  },
  {
   "cell_type": "code",
   "execution_count": 16,
   "id": "5f1bb5f4",
   "metadata": {},
   "outputs": [
    {
     "name": "stdout",
     "output_type": "stream",
     "text": [
      "Hello\n",
      "Hello\n",
      "Beautiful\n",
      "Beautiful\n",
      "World\n",
      "World\n"
     ]
    }
   ],
   "source": [
    "a = input()\n",
    "print(a)\n",
    "b = input()\n",
    "print(b)\n",
    "c = input()\n",
    "print(c)"
   ]
  },
  {
   "cell_type": "code",
   "execution_count": 17,
   "id": "7608c345",
   "metadata": {},
   "outputs": [
    {
     "name": "stdout",
     "output_type": "stream",
     "text": [
      "I\n",
      "love\n",
      "python\n",
      "python\n",
      "love\n",
      "I\n"
     ]
    }
   ],
   "source": [
    "a = input()\n",
    "b = input()\n",
    "c = input()\n",
    "print(c)\n",
    "print(b)\n",
    "print(a)"
   ]
  },
  {
   "cell_type": "markdown",
   "id": "78db3453",
   "metadata": {},
   "source": [
    "# SEP и END"
   ]
  },
  {
   "cell_type": "code",
   "execution_count": 18,
   "id": "0ce81ab2",
   "metadata": {},
   "outputs": [
    {
     "name": "stdout",
     "output_type": "stream",
     "text": [
      "aa bb cc\n"
     ]
    }
   ],
   "source": [
    "print('aa', 'bb', 'cc')"
   ]
  },
  {
   "cell_type": "code",
   "execution_count": 19,
   "id": "43badee7",
   "metadata": {},
   "outputs": [
    {
     "name": "stdout",
     "output_type": "stream",
     "text": [
      "aa bb cc\n"
     ]
    }
   ],
   "source": [
    "print('aa', 'bb', 'cc', sep=' ')"
   ]
  },
  {
   "cell_type": "code",
   "execution_count": 20,
   "id": "7ec0a767",
   "metadata": {},
   "outputs": [
    {
     "name": "stdout",
     "output_type": "stream",
     "text": [
      "aa*bb*cc\n"
     ]
    }
   ],
   "source": [
    "print('aa', 'bb', 'cc', sep='*')"
   ]
  },
  {
   "cell_type": "code",
   "execution_count": 21,
   "id": "29b6c1c2",
   "metadata": {},
   "outputs": [
    {
     "name": "stdout",
     "output_type": "stream",
     "text": [
      "aa-bb-cc\n"
     ]
    }
   ],
   "source": [
    "minus = '-'\n",
    "print('aa', 'bb', 'cc', sep=minus)"
   ]
  },
  {
   "cell_type": "code",
   "execution_count": 22,
   "id": "2a39052e",
   "metadata": {},
   "outputs": [
    {
     "name": "stdout",
     "output_type": "stream",
     "text": [
      "A great man doesn't seek to lead.\n",
      "He's called to it. And he answers.\n"
     ]
    }
   ],
   "source": [
    "print(\"A great man doesn't seek to lead.\")\n",
    "print(\"He's called to it. And he answers.\")"
   ]
  },
  {
   "cell_type": "code",
   "execution_count": 24,
   "id": "4d14bd69",
   "metadata": {},
   "outputs": [
    {
     "name": "stdout",
     "output_type": "stream",
     "text": [
      "A great man doesn't seek to lead.\n",
      "He's called to it. And he answers.\n"
     ]
    }
   ],
   "source": [
    "print(\"A great man doesn't seek to lead.\", end='\\n')\n",
    "print(\"He's called to it. And he answers.\", end='\\n')"
   ]
  },
  {
   "cell_type": "code",
   "execution_count": 25,
   "id": "944a3345",
   "metadata": {},
   "outputs": [
    {
     "name": "stdout",
     "output_type": "stream",
     "text": [
      "a b c-second line\n"
     ]
    }
   ],
   "source": [
    "minus = '-'\n",
    "print('a', 'b', 'c', end=minus)\n",
    "print('second line')\n"
   ]
  },
  {
   "cell_type": "code",
   "execution_count": 26,
   "id": "deb6078c",
   "metadata": {},
   "outputs": [
    {
     "name": "stdout",
     "output_type": "stream",
     "text": [
      "Python\n",
      "\n",
      "C#\n",
      "Java\n",
      "\n",
      "JavaScript\n"
     ]
    }
   ],
   "source": [
    "print('Python')\n",
    "print()\n",
    "print('C#')\n",
    "print('Java')\n",
    "print()\n",
    "print('JavaScript')"
   ]
  },
  {
   "cell_type": "code",
   "execution_count": 27,
   "id": "4d6be813",
   "metadata": {},
   "outputs": [
    {
     "name": "stdout",
     "output_type": "stream",
     "text": [
      "a*\n",
      "*b*\n",
      "*c#"
     ]
    }
   ],
   "source": [
    "print('a', '\\n', 'b', '\\n', 'c', sep='*', end='#')"
   ]
  },
  {
   "cell_type": "code",
   "execution_count": 28,
   "id": "c7f430ed",
   "metadata": {},
   "outputs": [
    {
     "name": "stdout",
     "output_type": "stream",
     "text": [
      "a*b*cfinish"
     ]
    }
   ],
   "source": [
    "print('a', 'b', 'c', sep='*', end='finish')"
   ]
  },
  {
   "cell_type": "code",
   "execution_count": 29,
   "id": "8e6db7bc",
   "metadata": {},
   "outputs": [
    {
     "name": "stdout",
     "output_type": "stream",
     "text": [
      "Hello_-_everyone! How are you in 2024?+++"
     ]
    }
   ],
   "source": [
    "arg1 = 'Hello'\n",
    "sep1 = '_-_'\n",
    "end2 = '+++'\n",
    "\n",
    "print(arg1, 'everyone', sep=sep1, end='! ')\n",
    "print('How', 'are', 'you', 'in', '2024?', sep=' ', end=end2)"
   ]
  },
  {
   "cell_type": "code",
   "execution_count": 30,
   "id": "2ed84fcd",
   "metadata": {},
   "outputs": [
    {
     "name": "stdout",
     "output_type": "stream",
     "text": [
      "abcdef"
     ]
    }
   ],
   "source": [
    "print('a', 'b', 'c', sep='', end='')\n",
    "print('d', 'e', 'f', sep='', end='')"
   ]
  },
  {
   "cell_type": "code",
   "execution_count": 31,
   "id": "c3775c4e",
   "metadata": {},
   "outputs": [
    {
     "name": "stdout",
     "output_type": "stream",
     "text": [
      "Python\n",
      "\n",
      "\n"
     ]
    }
   ],
   "source": [
    "print('Python', end='\\n\\n\\n')"
   ]
  },
  {
   "cell_type": "code",
   "execution_count": 32,
   "id": "8c6f62cd",
   "metadata": {},
   "outputs": [
    {
     "name": "stdout",
     "output_type": "stream",
     "text": [
      "Python\n"
     ]
    }
   ],
   "source": [
    "print('Python', sep='777')"
   ]
  },
  {
   "cell_type": "code",
   "execution_count": 36,
   "id": "f69df9b0",
   "metadata": {},
   "outputs": [
    {
     "name": "stdout",
     "output_type": "stream",
     "text": [
      "I***like***Python\n"
     ]
    }
   ],
   "source": [
    "print('I', 'like', 'Python', sep='***')"
   ]
  },
  {
   "cell_type": "code",
   "execution_count": 37,
   "id": "53912027",
   "metadata": {},
   "outputs": [
    {
     "name": "stdout",
     "output_type": "stream",
     "text": [
      "Karim\n",
      "Привет, Karim!"
     ]
    }
   ],
   "source": [
    "name = input()\n",
    "print('Привет,', name, end=\"!\")"
   ]
  },
  {
   "cell_type": "code",
   "execution_count": 38,
   "id": "3c89053f",
   "metadata": {},
   "outputs": [
    {
     "name": "stdout",
     "output_type": "stream",
     "text": [
      "X\n",
      "a\n",
      "b\n",
      "c\n",
      "aXbXc\n"
     ]
    }
   ],
   "source": [
    "sep1 = input()\n",
    "a = input()\n",
    "b = input()\n",
    "c = input()\n",
    "print(a, b, c, sep=sep1)"
   ]
  },
  {
   "cell_type": "code",
   "execution_count": 39,
   "id": "e8e98668",
   "metadata": {},
   "outputs": [
    {
     "name": "stdout",
     "output_type": "stream",
     "text": [
      "Имя: Timur Фамилия: Guev\n"
     ]
    }
   ],
   "source": [
    "name, surname = 'Timur', 'Guev'\n",
    "print('Имя:', name, 'Фамилия:', surname)"
   ]
  },
  {
   "cell_type": "code",
   "execution_count": 40,
   "id": "55f65175",
   "metadata": {},
   "outputs": [
    {
     "name": "stdout",
     "output_type": "stream",
     "text": [
      "Имя: Timur Фамилия: Guev\n"
     ]
    }
   ],
   "source": [
    "name = 'Timur'\n",
    "surname = 'Guev'\n",
    "print('Имя:', name, 'Фамилия:', surname)"
   ]
  },
  {
   "cell_type": "code",
   "execution_count": 41,
   "id": "dcf474ae",
   "metadata": {},
   "outputs": [
    {
     "name": "stdout",
     "output_type": "stream",
     "text": [
      "Karim\n",
      "Alibekov\n",
      "Имя: Karim Фамилия: Alibekov\n"
     ]
    }
   ],
   "source": [
    "name, surname = input(), input()\n",
    "print('Имя:', name, 'Фамилия:', surname)"
   ]
  },
  {
   "cell_type": "code",
   "execution_count": 43,
   "id": "12822d71",
   "metadata": {},
   "outputs": [
    {
     "name": "stdout",
     "output_type": "stream",
     "text": [
      "Gvido Timur\n"
     ]
    }
   ],
   "source": [
    "name1 = 'Timur'\n",
    "name2 = 'Gvido'\n",
    "\n",
    "name1, name2 = name2, name1\n",
    "\n",
    "print(name1, name2)"
   ]
  },
  {
   "cell_type": "code",
   "execution_count": 44,
   "id": "475f01f5",
   "metadata": {},
   "outputs": [
    {
     "name": "stdout",
     "output_type": "stream",
     "text": [
      "Gvido Gvido\n"
     ]
    }
   ],
   "source": [
    "name1 = 'Timur'\n",
    "name2 = 'Gvido'\n",
    "\n",
    "name1 = name2\n",
    "name2 = name1\n",
    "\n",
    "print(name1, name2)"
   ]
  },
  {
   "cell_type": "markdown",
   "id": "fdf69694",
   "metadata": {},
   "source": [
    "# Целочисленная арифметика"
   ]
  },
  {
   "cell_type": "code",
   "execution_count": 45,
   "id": "a824e591",
   "metadata": {},
   "outputs": [
    {
     "name": "stdout",
     "output_type": "stream",
     "text": [
      "17\n"
     ]
    }
   ],
   "source": [
    "num1 = 7                # num1 - это число\n",
    "num2 = 10               # num2 - это число\n",
    "num3 = num1 + num2      # num3 - это число\n",
    "\n",
    "print(num3)"
   ]
  },
  {
   "cell_type": "code",
   "execution_count": 46,
   "id": "3ecbf86b",
   "metadata": {},
   "outputs": [
    {
     "name": "stdout",
     "output_type": "stream",
     "text": [
      "11\n",
      "11\n",
      "12\n",
      "13\n"
     ]
    }
   ],
   "source": [
    "ch1 = int(input())\n",
    "print(ch1)\n",
    "print(ch1+1)\n",
    "print(ch1+2)"
   ]
  },
  {
   "cell_type": "code",
   "execution_count": 47,
   "id": "215c08a1",
   "metadata": {},
   "outputs": [
    {
     "name": "stdout",
     "output_type": "stream",
     "text": [
      "1\n",
      "2\n",
      "3\n",
      "6\n"
     ]
    }
   ],
   "source": [
    "a = int(input())\n",
    "b = int(input())\n",
    "c = int(input())\n",
    "print(a+b+c)\n"
   ]
  },
  {
   "cell_type": "code",
   "execution_count": 48,
   "id": "ee739274",
   "metadata": {},
   "outputs": [
    {
     "name": "stdout",
     "output_type": "stream",
     "text": [
      "12\n",
      "Объем = 1728\n",
      "Площадь полной поверхности = 864\n"
     ]
    }
   ],
   "source": [
    "rebro = int(input())\n",
    "print('Объем =', rebro*rebro*rebro)\n",
    "print('Площадь полной поверхности =', 6*(rebro*rebro))"
   ]
  },
  {
   "cell_type": "code",
   "execution_count": 49,
   "id": "c8ff87c2",
   "metadata": {},
   "outputs": [
    {
     "name": "stdout",
     "output_type": "stream",
     "text": [
      "3\n",
      "7\n",
      "16053\n"
     ]
    }
   ],
   "source": [
    "a = int(input())\n",
    "b = int(input())\n",
    "value = 3*(a+b)**3 + 275*b**2 - 127*a - 41\n",
    "print(value)"
   ]
  },
  {
   "cell_type": "code",
   "execution_count": 50,
   "id": "7aadacc5",
   "metadata": {},
   "outputs": [
    {
     "name": "stdout",
     "output_type": "stream",
     "text": [
      "6\n",
      "Следующее за числом 6 число: 7\n",
      "Для числа 6 предыдущее число: 5\n"
     ]
    }
   ],
   "source": [
    "a = int(input())\n",
    "print(\"Следующее за числом\", str(a), \"число:\", str(a+1))\n",
    "print(\"Для числа\", str(a), \"предыдущее число:\", str(a-1))"
   ]
  },
  {
   "cell_type": "code",
   "execution_count": 51,
   "id": "3f595170",
   "metadata": {},
   "outputs": [
    {
     "name": "stdout",
     "output_type": "stream",
     "text": [
      "2\n",
      "5\n",
      "12\n",
      "4\n",
      "69\n"
     ]
    }
   ],
   "source": [
    "a, b, c, d = int(input()), int(input()), int(input()), int(input())\n",
    "print((a+b+c+d)*3)"
   ]
  },
  {
   "cell_type": "code",
   "execution_count": 52,
   "id": "9f115973",
   "metadata": {},
   "outputs": [
    {
     "name": "stdout",
     "output_type": "stream",
     "text": [
      "3\n",
      "-5\n",
      "3 + -5 = -2\n",
      "3 - -5 = 8\n",
      "3 * -5 = -15\n"
     ]
    }
   ],
   "source": [
    "a, b = int(input()), int(input())\n",
    "print(str(a), '+', str(b), \"=\", str(a+b))\n",
    "print(str(a), '-', str(b), \"=\", str(a-b))\n",
    "print(str(a), '*', str(b), \"=\", str(a*b))"
   ]
  },
  {
   "cell_type": "code",
   "execution_count": 53,
   "id": "fc817b54",
   "metadata": {},
   "outputs": [
    {
     "name": "stdout",
     "output_type": "stream",
     "text": [
      "5\n",
      "2\n",
      "11\n",
      "25\n"
     ]
    }
   ],
   "source": [
    "a1 = int(input())\n",
    "d = int(input())\n",
    "n = int(input())\n",
    "print(a1 + d*(n-1))"
   ]
  },
  {
   "cell_type": "code",
   "execution_count": 54,
   "id": "6740b276",
   "metadata": {},
   "outputs": [
    {
     "name": "stdout",
     "output_type": "stream",
     "text": [
      "100\n",
      "100---200---300---400---500\n"
     ]
    }
   ],
   "source": [
    "x = int(input())\n",
    "print(str(x), str(x*2), str(x*3), str(x*4), str(x*5), sep='---')"
   ]
  },
  {
   "cell_type": "code",
   "execution_count": 55,
   "id": "1f9052e0",
   "metadata": {},
   "outputs": [
    {
     "name": "stdout",
     "output_type": "stream",
     "text": [
      "17\n"
     ]
    }
   ],
   "source": [
    "print(2 * 3**2 - 1)"
   ]
  },
  {
   "cell_type": "code",
   "execution_count": 56,
   "id": "3eb9c665",
   "metadata": {},
   "outputs": [
    {
     "name": "stdout",
     "output_type": "stream",
     "text": [
      "1\n",
      "2\n",
      "3\n",
      "4\n"
     ]
    }
   ],
   "source": [
    "b1 = int(input())\n",
    "q = int(input())\n",
    "n = int(input())\n",
    "print(b1*q**(n-1))"
   ]
  },
  {
   "cell_type": "code",
   "execution_count": 58,
   "id": "24481442",
   "metadata": {},
   "outputs": [
    {
     "name": "stdout",
     "output_type": "stream",
     "text": [
      "444\n",
      "4\n"
     ]
    }
   ],
   "source": [
    "a = int(input())\n",
    "print(a//100)"
   ]
  },
  {
   "cell_type": "code",
   "execution_count": 59,
   "id": "423b97a9",
   "metadata": {},
   "outputs": [
    {
     "name": "stdout",
     "output_type": "stream",
     "text": [
      "7\n",
      "22\n",
      "3\n",
      "1\n"
     ]
    }
   ],
   "source": [
    "students = int(input())\n",
    "mandarins = int(input())\n",
    "\n",
    "print(mandarins//students)\n",
    "print(mandarins % students)"
   ]
  },
  {
   "cell_type": "code",
   "execution_count": 60,
   "id": "423031ed",
   "metadata": {},
   "outputs": [
    {
     "name": "stdout",
     "output_type": "stream",
     "text": [
      "4\n",
      "2\n"
     ]
    }
   ],
   "source": [
    "n = int(input())\n",
    "print((n // -2)*-1)"
   ]
  },
  {
   "cell_type": "code",
   "execution_count": 61,
   "id": "fdd0d001",
   "metadata": {},
   "outputs": [
    {
     "name": "stdout",
     "output_type": "stream",
     "text": [
      "123\n",
      "123 мин - это 2 час 3 минут.\n"
     ]
    }
   ],
   "source": [
    "min = int(input())\n",
    "print(str(min), \"мин - это\", str(min//60),  \"час\", str(min%60), \"минут.\")"
   ]
  },
  {
   "cell_type": "code",
   "execution_count": 62,
   "id": "0d77bc47",
   "metadata": {},
   "outputs": [
    {
     "name": "stdout",
     "output_type": "stream",
     "text": [
      "2\n",
      "1\n"
     ]
    }
   ],
   "source": [
    "seat_number = int(input())\n",
    "coupe_number = (seat_number - 1) // 4 + 1\n",
    "print(coupe_number)"
   ]
  },
  {
   "cell_type": "code",
   "execution_count": 63,
   "id": "125c5ebd",
   "metadata": {},
   "outputs": [
    {
     "name": "stdout",
     "output_type": "stream",
     "text": [
      "7\n",
      "1\n"
     ]
    }
   ],
   "source": [
    "num = 17\n",
    "a = num % 10\n",
    "b = num // 10\n",
    "print(a)\n",
    "print(b)"
   ]
  },
  {
   "cell_type": "code",
   "execution_count": 64,
   "id": "1dc2aea3",
   "metadata": {},
   "outputs": [
    {
     "name": "stdout",
     "output_type": "stream",
     "text": [
      "4\n",
      "5\n",
      "7\n"
     ]
    }
   ],
   "source": [
    "num = 754\n",
    "a = num % 10\n",
    "b = (num % 100) // 10\n",
    "c = num // 100\n",
    "print(a)\n",
    "print(b)\n",
    "print(c)"
   ]
  },
  {
   "cell_type": "code",
   "execution_count": 65,
   "id": "719c8d88",
   "metadata": {},
   "outputs": [
    {
     "name": "stdout",
     "output_type": "stream",
     "text": [
      "145\n",
      "Число десятков = 14\n",
      "Число единиц = 5\n"
     ]
    }
   ],
   "source": [
    "num = int(input())\n",
    "last_digit = num % 10\n",
    "first_digit = num // 10\n",
    "\n",
    "print('Число десятков =', first_digit)\n",
    "print('Число единиц =', last_digit)"
   ]
  },
  {
   "cell_type": "code",
   "execution_count": 66,
   "id": "83a0ff2f",
   "metadata": {},
   "outputs": [
    {
     "name": "stdout",
     "output_type": "stream",
     "text": [
      "123\n",
      "Сумма цифр = 15\n"
     ]
    }
   ],
   "source": [
    "num = int(input())\n",
    "last_digit = num % 10\n",
    "first_digit = num // 10\n",
    "\n",
    "print('Сумма цифр =', last_digit + first_digit)"
   ]
  },
  {
   "cell_type": "code",
   "execution_count": 67,
   "id": "4b44ca28",
   "metadata": {},
   "outputs": [
    {
     "name": "stdout",
     "output_type": "stream",
     "text": [
      "12\n",
      "Искомое число = 21\n"
     ]
    }
   ],
   "source": [
    "num = int(input())\n",
    "last_digit = num % 10\n",
    "first_digit = num // 10\n",
    "\n",
    "print('Искомое число =', last_digit * 10 + first_digit)"
   ]
  },
  {
   "cell_type": "code",
   "execution_count": 68,
   "id": "09ef847a",
   "metadata": {},
   "outputs": [
    {
     "name": "stdout",
     "output_type": "stream",
     "text": [
      "234\n",
      "2,3,4\n"
     ]
    }
   ],
   "source": [
    "num = int(input())\n",
    "digit3 = num % 10\n",
    "digit2 = (num // 10) % 10\n",
    "digit1 = num // 100\n",
    "\n",
    "print(digit1, digit2, digit3, sep=',')"
   ]
  },
  {
   "cell_type": "code",
   "execution_count": 69,
   "id": "e3e6c9f5",
   "metadata": {},
   "outputs": [
    {
     "name": "stdout",
     "output_type": "stream",
     "text": [
      "389\n",
      "Сумма цифр = 20\n",
      "Произведение цифр = 216\n"
     ]
    }
   ],
   "source": [
    "a = int(input())\n",
    "\n",
    "first_digit = a // 100 #1\n",
    "second_digit = (a // 10) % 10 #2\n",
    "third_digit = (a % 10) \n",
    "\n",
    "print(\"Сумма цифр =\", first_digit + second_digit + third_digit)\n",
    "print(\"Произведение цифр =\", first_digit * second_digit * third_digit)"
   ]
  },
  {
   "cell_type": "code",
   "execution_count": 70,
   "id": "75cbed1a",
   "metadata": {},
   "outputs": [
    {
     "name": "stdout",
     "output_type": "stream",
     "text": [
      "321\n",
      "321\n",
      "312\n",
      "231\n",
      "213\n",
      "132\n",
      "123\n"
     ]
    }
   ],
   "source": [
    "num = int(input())\n",
    "c = num % 10\n",
    "b = (num % 100) // 10\n",
    "a = num // 100\n",
    "print(a,b,c,sep='')\n",
    "print(a,c,b,sep='')\n",
    "print(b,a,c,sep='')\n",
    "print(b,c,a,sep='')\n",
    "print(c,a,b,sep='')\n",
    "print(c,b,a,sep='')"
   ]
  },
  {
   "cell_type": "code",
   "execution_count": 71,
   "id": "f3ee01c6",
   "metadata": {},
   "outputs": [
    {
     "name": "stdout",
     "output_type": "stream",
     "text": [
      "4971\n",
      "Цифра в позиции тысяч равна 4\n",
      "Цифра в позиции сотен равна 9\n",
      "Цифра в позиции десятков равна 7\n",
      "Цифра в позиции единиц равна 1\n"
     ]
    }
   ],
   "source": [
    "num = int(input())\n",
    "a = num // 1000\n",
    "b = (num // 100) % 10\n",
    "c = ((num // 10) % 100) % 10\n",
    "d = num % 10\n",
    "\n",
    "print(\"Цифра в позиции тысяч равна\", a)\n",
    "print(\"Цифра в позиции сотен равна\", b)\n",
    "print(\"Цифра в позиции десятков равна\", c)\n",
    "print(\"Цифра в позиции единиц равна\", d)"
   ]
  },
  {
   "cell_type": "markdown",
   "id": "991bae45",
   "metadata": {},
   "source": [
    "# Итоговая работа"
   ]
  },
  {
   "cell_type": "code",
   "execution_count": 72,
   "id": "59da3707",
   "metadata": {},
   "outputs": [
    {
     "name": "stdout",
     "output_type": "stream",
     "text": [
      "*****************\n",
      "*               *\n",
      "*               *\n",
      "*****************\n"
     ]
    }
   ],
   "source": [
    "print('*****************')\n",
    "print('*','','','','','','','','','','','','','','','*')\n",
    "print('*','','','','','','','','','','','','','','','*')\n",
    "print('*****************')"
   ]
  },
  {
   "cell_type": "code",
   "execution_count": 73,
   "id": "31b736eb",
   "metadata": {},
   "outputs": [
    {
     "name": "stdout",
     "output_type": "stream",
     "text": [
      "3\n",
      "8\n",
      "Квадрат суммы 3 и 8 равен 121\n",
      "Сумма квадратов 3 и 8 равна 73\n"
     ]
    }
   ],
   "source": [
    "a = int(input())\n",
    "b = int(input())\n",
    "print(\"Квадрат суммы\", a, 'и', b, \"равен\", (a+b)**2)\n",
    "print(\"Сумма квадратов\", a, 'и', b, \"равна\", a**2 + b**2)"
   ]
  },
  {
   "cell_type": "code",
   "execution_count": 74,
   "id": "a209acd2",
   "metadata": {},
   "outputs": [
    {
     "name": "stdout",
     "output_type": "stream",
     "text": [
      "1\n",
      "5\n",
      "6\n",
      "2\n",
      "37\n"
     ]
    }
   ],
   "source": [
    "a = int(input())\n",
    "b = int(input())\n",
    "c = int(input())\n",
    "d = int(input())\n",
    "print(a**b + c**d)"
   ]
  },
  {
   "cell_type": "code",
   "execution_count": 75,
   "id": "4df53d23",
   "metadata": {},
   "outputs": [
    {
     "name": "stdout",
     "output_type": "stream",
     "text": [
      "4\n",
      "492\n"
     ]
    }
   ],
   "source": [
    "a = int(input())\n",
    "print(a + (a*11) + (a*111))"
   ]
  }
 ],
 "metadata": {
  "kernelspec": {
   "display_name": "Python 3 (ipykernel)",
   "language": "python",
   "name": "python3"
  },
  "language_info": {
   "codemirror_mode": {
    "name": "ipython",
    "version": 3
   },
   "file_extension": ".py",
   "mimetype": "text/x-python",
   "name": "python",
   "nbconvert_exporter": "python",
   "pygments_lexer": "ipython3",
   "version": "3.11.4"
  }
 },
 "nbformat": 4,
 "nbformat_minor": 5
}
