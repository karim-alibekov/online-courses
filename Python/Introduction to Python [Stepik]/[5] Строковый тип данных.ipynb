{
 "cells": [
  {
   "cell_type": "markdown",
   "id": "01b3ee61",
   "metadata": {},
   "source": [
    "# Индексация "
   ]
  },
  {
   "cell_type": "code",
   "execution_count": 2,
   "id": "ed880e13",
   "metadata": {},
   "outputs": [
    {
     "name": "stdout",
     "output_type": "stream",
     "text": [
      "5\n"
     ]
    }
   ],
   "source": [
    "s = 'Hello'\n",
    "n = len(s)  # значение переменной равно 5\n",
    "print(n)"
   ]
  },
  {
   "cell_type": "code",
   "execution_count": 3,
   "id": "cb4d5a45",
   "metadata": {},
   "outputs": [
    {
     "name": "stdout",
     "output_type": "stream",
     "text": [
      "❤️\n"
     ]
    }
   ],
   "source": [
    "s = 'All you need is love'\n",
    "if 'love' in s:\n",
    "    print('❤️')\n",
    "else:\n",
    "    print('💔')"
   ]
  },
  {
   "cell_type": "code",
   "execution_count": 4,
   "id": "69387ff2",
   "metadata": {},
   "outputs": [
    {
     "name": "stdout",
     "output_type": "stream",
     "text": [
      "a\n",
      "b\n",
      "c\n",
      "d\n",
      "e\n",
      "f\n"
     ]
    }
   ],
   "source": [
    "s = 'abcdef'\n",
    "for i in range(len(s)):\n",
    "    print(s[i])"
   ]
  },
  {
   "cell_type": "code",
   "execution_count": 5,
   "id": "27253d46",
   "metadata": {},
   "outputs": [
    {
     "name": "stdout",
     "output_type": "stream",
     "text": [
      "a\n",
      "b\n",
      "c\n",
      "d\n",
      "e\n",
      "f\n"
     ]
    }
   ],
   "source": [
    "s = 'abcdef'\n",
    "for c in s:\n",
    "    print(c)"
   ]
  },
  {
   "cell_type": "code",
   "execution_count": 6,
   "id": "25de170f",
   "metadata": {},
   "outputs": [
    {
     "name": "stdout",
     "output_type": "stream",
     "text": [
      ",\n"
     ]
    }
   ],
   "source": [
    "s = \"In 2010, someone paid 10k Bitcoin for two pizzas.\"\n",
    "print(s[7])"
   ]
  },
  {
   "cell_type": "code",
   "execution_count": 7,
   "id": "d6a7cf7b",
   "metadata": {},
   "outputs": [
    {
     "name": "stdout",
     "output_type": "stream",
     "text": [
      "w\n"
     ]
    }
   ],
   "source": [
    "s = \"In 2010, someone paid 10k Bitcoin for two pizzas.\"\n",
    "print(s[39])"
   ]
  },
  {
   "cell_type": "code",
   "execution_count": 9,
   "id": "85d0b3eb",
   "metadata": {},
   "outputs": [
    {
     "name": "stdout",
     "output_type": "stream",
     "text": [
      "Barcelona\n",
      "B\n",
      "r\n",
      "e\n",
      "o\n",
      "a\n"
     ]
    }
   ],
   "source": [
    "a = input()\n",
    "for i in range(0, len(a), 2):\n",
    "    print(a[i])"
   ]
  },
  {
   "cell_type": "code",
   "execution_count": 11,
   "id": "049ed095",
   "metadata": {},
   "outputs": [
    {
     "name": "stdout",
     "output_type": "stream",
     "text": [
      "World\n",
      "d\n",
      "l\n",
      "r\n",
      "o\n",
      "W\n"
     ]
    }
   ],
   "source": [
    "s = input()\n",
    "for i in range(-1, -len(s)-1, -1):\n",
    "    print(s[i])"
   ]
  },
  {
   "cell_type": "code",
   "execution_count": 14,
   "id": "b93adc83",
   "metadata": {},
   "outputs": [
    {
     "name": "stdout",
     "output_type": "stream",
     "text": [
      "Grand\n",
      "Theft\n",
      "Auto\n",
      "TGA\n"
     ]
    }
   ],
   "source": [
    "s1 = input()\n",
    "s2 = input()\n",
    "s3 = input()\n",
    "print(s2[0] + s1[0] + s3[0])"
   ]
  },
  {
   "cell_type": "code",
   "execution_count": 17,
   "id": "933f57c0",
   "metadata": {},
   "outputs": [
    {
     "name": "stdout",
     "output_type": "stream",
     "text": [
      "25019\n",
      "17\n"
     ]
    }
   ],
   "source": [
    "s = input()\n",
    "counter = 0\n",
    "for i in range(len(s)):\n",
    "    counter += int(s[i])\n",
    "print(counter)"
   ]
  },
  {
   "cell_type": "code",
   "execution_count": 18,
   "id": "91cec91c",
   "metadata": {},
   "outputs": [
    {
     "name": "stdout",
     "output_type": "stream",
     "text": [
      "Hi, Mister 007!\n",
      "Цифра\n"
     ]
    }
   ],
   "source": [
    "s = input()\n",
    "counter = 0\n",
    "for i in range(len(s)):\n",
    "    if s[i] in '123456789':\n",
    "        counter = 1\n",
    "\n",
    "if counter == 1:\n",
    "    print('Цифра')\n",
    "else:\n",
    "    print('Цифр нет')"
   ]
  },
  {
   "cell_type": "code",
   "execution_count": 19,
   "id": "e2c3e10b",
   "metadata": {},
   "outputs": [
    {
     "name": "stdout",
     "output_type": "stream",
     "text": [
      "2+2*4=10\n",
      "Символ + встречается 1 раз\n",
      "Символ * встречается 1 раз\n"
     ]
    }
   ],
   "source": [
    "s = input()\n",
    "counter_plus = 0\n",
    "counter_star = 0\n",
    "for i in range(len(s)):\n",
    "    if s[i] in '+':\n",
    "        counter_plus += 1\n",
    "    if s[i] in '*':\n",
    "        counter_star += 1\n",
    "print('Символ + встречается', counter_plus, 'раз')\n",
    "print('Символ * встречается', counter_star, 'раз')"
   ]
  },
  {
   "cell_type": "code",
   "execution_count": 20,
   "id": "1e3d0a43",
   "metadata": {},
   "outputs": [
    {
     "name": "stdout",
     "output_type": "stream",
     "text": [
      "aabbbccde\n",
      "4\n"
     ]
    }
   ],
   "source": [
    "s = input()\n",
    "counter = 0\n",
    "for i in range(len(s)-1):\n",
    "    if s[i] == s[i+1]:\n",
    "        counter += 1\n",
    "print(counter)"
   ]
  },
  {
   "cell_type": "code",
   "execution_count": 21,
   "id": "a7b10094",
   "metadata": {},
   "outputs": [
    {
     "name": "stdout",
     "output_type": "stream",
     "text": [
      "Мороз и солнце, день чудесный!\n",
      "Количество гласных букв равно 9\n",
      "Количество согласных букв равно 14\n"
     ]
    }
   ],
   "source": [
    "s = input()\n",
    "counter_glas = 0\n",
    "counter_soglas = 0\n",
    "for i in range(len(s)):\n",
    "    if s[i] in 'ауоыиэяюёеАУОЫИЭЯЮЁЕ':\n",
    "        counter_glas += 1\n",
    "    if s[i] in 'бвгджзйклмнпрстфхцчшщБВГДЖЗЙКЛМНПРСТФХЦЧШЩ':\n",
    "        counter_soglas += 1\n",
    "print('Количество гласных букв равно', counter_glas)\n",
    "print('Количество согласных букв равно', counter_soglas)"
   ]
  },
  {
   "cell_type": "code",
   "execution_count": 22,
   "id": "45c04d73",
   "metadata": {},
   "outputs": [
    {
     "name": "stdout",
     "output_type": "stream",
     "text": [
      "22\n",
      "10110\n"
     ]
    }
   ],
   "source": [
    "num = int(input())\n",
    "binary = ''\n",
    "\n",
    "while num > 0:\n",
    "    binary = str(num % 2) + binary\n",
    "    num //= 2\n",
    "\n",
    "print(binary)"
   ]
  },
  {
   "cell_type": "markdown",
   "id": "741620c7",
   "metadata": {},
   "source": [
    "# Срезы"
   ]
  },
  {
   "cell_type": "code",
   "execution_count": 31,
   "id": "473d3a83",
   "metadata": {},
   "outputs": [
    {
     "name": "stdout",
     "output_type": "stream",
     "text": [
      "nch\n",
      "Manche\n",
      "nches\n",
      "nchester\n",
      "Manches\n",
      "Manchester\n",
      "anche\n",
      "ter\n",
      "Manches\n",
      "Mancheste\n",
      "retsehcnaM\n",
      "ace\n",
      "cetr\n",
      "Mcs\n",
      "Mnhse\n",
      "retsehcnaM\n",
      "rteca\n"
     ]
    }
   ],
   "source": [
    "s = 'Manchester'\n",
    "\n",
    "print(s[2:5])\n",
    "print(s[0:6])\n",
    "print(s[2:7])\n",
    "print(s[2:])\n",
    "print(s[:7])\n",
    "print(s[:])\n",
    "print(s[-9:-4])\n",
    "print(s[-3:])\n",
    "print(s[:-3])\n",
    "print(s[:-1])\n",
    "print(s[::-1])\n",
    "print(s[1:7:2])\n",
    "print(s[3::2])\n",
    "print(s[:7:3])\n",
    "print(s[::2])\n",
    "print(s[::-1])\n",
    "print(s[::-2])"
   ]
  },
  {
   "cell_type": "code",
   "execution_count": 33,
   "id": "c8a364e3",
   "metadata": {},
   "outputs": [
    {
     "name": "stdout",
     "output_type": "stream",
     "text": [
      "MancheXter\n"
     ]
    }
   ],
   "source": [
    "s = 'Manchester'\n",
    "s = s[:6] + 'X' + s[7:]\n",
    "print(s)"
   ]
  },
  {
   "cell_type": "code",
   "execution_count": 34,
   "id": "a3d076e7",
   "metadata": {},
   "outputs": [
    {
     "name": "stdout",
     "output_type": "stream",
     "text": [
      "In 2010, som\n"
     ]
    }
   ],
   "source": [
    "s = \"In 2010, someone paid 10k Bitcoin for two pizzas.\"\n",
    "print(s[:12])"
   ]
  },
  {
   "cell_type": "code",
   "execution_count": 35,
   "id": "1a3f87ce",
   "metadata": {},
   "outputs": [
    {
     "name": "stdout",
     "output_type": "stream",
     "text": [
      "o pizzas.\n"
     ]
    }
   ],
   "source": [
    "s = \"In 2010, someone paid 10k Bitcoin for two pizzas.\"\n",
    "print(s[-9:])"
   ]
  },
  {
   "cell_type": "code",
   "execution_count": 36,
   "id": "2264c6ed",
   "metadata": {},
   "outputs": [
    {
     "name": "stdout",
     "output_type": "stream",
     "text": [
      "I,n top\n"
     ]
    }
   ],
   "source": [
    "s = \"In 2010, someone paid 10k Bitcoin for two pizzas.\"\n",
    "print(s[::7])"
   ]
  },
  {
   "cell_type": "code",
   "execution_count": 37,
   "id": "e1828f13",
   "metadata": {},
   "outputs": [
    {
     "name": "stdout",
     "output_type": "stream",
     "text": [
      ".sazzip owt rof nioctiB k01 diap enoemos ,0102 nI\n"
     ]
    }
   ],
   "source": [
    "s = \"In 2010, someone paid 10k Bitcoin for two pizzas.\"\n",
    "print(s[::-1])"
   ]
  },
  {
   "cell_type": "code",
   "execution_count": 38,
   "id": "b3e859fa",
   "metadata": {},
   "outputs": [
    {
     "name": "stdout",
     "output_type": "stream",
     "text": [
      "kazak\n",
      "YES\n"
     ]
    }
   ],
   "source": [
    "s = input()\n",
    "if s == s[::-1]:\n",
    "    print('YES')\n",
    "else:\n",
    "    print('NO')"
   ]
  },
  {
   "cell_type": "code",
   "execution_count": 39,
   "id": "706d3f84",
   "metadata": {},
   "outputs": [
    {
     "name": "stdout",
     "output_type": "stream",
     "text": [
      "moscow\n",
      "6\n",
      "moscowmoscowmoscow\n",
      "m\n",
      "mos\n",
      "cow\n",
      "wocsom\n",
      "osco\n"
     ]
    }
   ],
   "source": [
    "s = input()\n",
    "\n",
    "print(len(s))\n",
    "print(s*3)\n",
    "print(s[0])\n",
    "print(s[:3])\n",
    "print(s[-3:])\n",
    "print(s[::-1])\n",
    "print(s[1:-1])"
   ]
  },
  {
   "cell_type": "code",
   "execution_count": 40,
   "id": "143a1f24",
   "metadata": {},
   "outputs": [
    {
     "name": "stdout",
     "output_type": "stream",
     "text": [
      "moscow\n",
      "s\n",
      "o\n",
      "mosco\n",
      "mosc\n",
      "mso\n",
      "ocw\n",
      "wocsom\n",
      "wco\n"
     ]
    }
   ],
   "source": [
    "s = input()\n",
    "\n",
    "print(s[2])\n",
    "print(s[-2])\n",
    "print(s[:5])\n",
    "print(s[:-2])\n",
    "print(s[::2])\n",
    "print(s[1::2])\n",
    "print(s[::-1])\n",
    "print(s[::-2])"
   ]
  },
  {
   "cell_type": "code",
   "execution_count": 42,
   "id": "a85cb92d",
   "metadata": {},
   "outputs": [
    {
     "name": "stdout",
     "output_type": "stream",
     "text": [
      "MOSCOW\n",
      "COWMOS\n"
     ]
    }
   ],
   "source": [
    "s = input()\n",
    "x = 0\n",
    "if len(s) % 2 == 0:\n",
    "    x = len(s) / 2\n",
    "    print(s[int(x):] + s[:int(x)])\n",
    "else:\n",
    "    x = len(s) // 2\n",
    "    print(s[int(x)+1:] + s[:int(x)+1])"
   ]
  },
  {
   "cell_type": "markdown",
   "id": "6828f9ef",
   "metadata": {},
   "source": [
    "# Методы строк"
   ]
  },
  {
   "cell_type": "code",
   "execution_count": 43,
   "id": "9983d783",
   "metadata": {},
   "outputs": [
    {
     "name": "stdout",
     "output_type": "stream",
     "text": [
      "Foo bar baz qux\n"
     ]
    }
   ],
   "source": [
    "s = 'foO BaR BAZ quX'\n",
    "print(s.capitalize())"
   ]
  },
  {
   "cell_type": "code",
   "execution_count": 44,
   "id": "1721320e",
   "metadata": {},
   "outputs": [
    {
     "name": "stdout",
     "output_type": "stream",
     "text": [
      "Foo123#bar#.\n"
     ]
    }
   ],
   "source": [
    "s = 'foo123#BAR#.'\n",
    "print(s.capitalize())"
   ]
  },
  {
   "cell_type": "code",
   "execution_count": 45,
   "id": "a6e8a679",
   "metadata": {},
   "outputs": [
    {
     "name": "stdout",
     "output_type": "stream",
     "text": [
      "foo bAR 123 BAZ Qux\n"
     ]
    }
   ],
   "source": [
    "s = 'FOO Bar 123 baz qUX'\n",
    "print(s.swapcase())"
   ]
  },
  {
   "cell_type": "code",
   "execution_count": 46,
   "id": "52111ebb",
   "metadata": {},
   "outputs": [
    {
     "name": "stdout",
     "output_type": "stream",
     "text": [
      "The Sun Also Rises\n"
     ]
    }
   ],
   "source": [
    "s = 'the sun also rises'\n",
    "print(s.title())"
   ]
  },
  {
   "cell_type": "code",
   "execution_count": 47,
   "id": "5caae171",
   "metadata": {},
   "outputs": [
    {
     "name": "stdout",
     "output_type": "stream",
     "text": [
      "What'S Happened To Ted'S Ibm Stock?\n"
     ]
    }
   ],
   "source": [
    "s = \"what's happened to ted's IBM stock?\"\n",
    "print(s.title())"
   ]
  },
  {
   "cell_type": "code",
   "execution_count": 48,
   "id": "9ea1b529",
   "metadata": {},
   "outputs": [
    {
     "name": "stdout",
     "output_type": "stream",
     "text": [
      "foo bar 123 baz qux\n"
     ]
    }
   ],
   "source": [
    "s = 'FOO Bar 123 baz qUX'\n",
    "print(s.lower())"
   ]
  },
  {
   "cell_type": "code",
   "execution_count": 49,
   "id": "a4e136ab",
   "metadata": {},
   "outputs": [
    {
     "name": "stdout",
     "output_type": "stream",
     "text": [
      "FOO BAR 123 BAZ QUX\n"
     ]
    }
   ],
   "source": [
    "s = 'FOO Bar 123 baz qUX'\n",
    "print(s.upper())"
   ]
  },
  {
   "cell_type": "code",
   "execution_count": 50,
   "id": "8db3ab96",
   "metadata": {},
   "outputs": [
    {
     "name": "stdout",
     "output_type": "stream",
     "text": [
      "Hello, World!\n",
      "YES\n"
     ]
    }
   ],
   "source": [
    "s = input()\n",
    "if s == s.title():\n",
    "    print('YES')\n",
    "else:\n",
    "    print('NO')"
   ]
  },
  {
   "cell_type": "code",
   "execution_count": 51,
   "id": "a666ce42",
   "metadata": {},
   "outputs": [
    {
     "name": "stdout",
     "output_type": "stream",
     "text": [
      "Www.sTepik.com\n",
      "wWW.StEPIK.COM\n"
     ]
    }
   ],
   "source": [
    "s = input()\n",
    "print(s.swapcase())"
   ]
  },
  {
   "cell_type": "code",
   "execution_count": 52,
   "id": "7929c7fd",
   "metadata": {},
   "outputs": [
    {
     "name": "stdout",
     "output_type": "stream",
     "text": [
      "чел ХороШ\n",
      "YES\n"
     ]
    }
   ],
   "source": [
    "s = input()\n",
    "s = s.upper()\n",
    "\n",
    "if 'ХОРОШ' in s :\n",
    "    print('YES')\n",
    "else:\n",
    "    print('NO')"
   ]
  },
  {
   "cell_type": "code",
   "execution_count": 53,
   "id": "bf0f713c",
   "metadata": {},
   "outputs": [
    {
     "name": "stdout",
     "output_type": "stream",
     "text": [
      "Hello09_.=odjsKla\n",
      "10\n"
     ]
    }
   ],
   "source": [
    "s = input()\n",
    "counter = 0\n",
    "for i in range(len(s)):\n",
    "    if s[i] in 'abcdefghijklmnopqrstuvwxyz':\n",
    "        counter += 1\n",
    "print(counter)"
   ]
  },
  {
   "cell_type": "code",
   "execution_count": 54,
   "id": "41be4ca9",
   "metadata": {},
   "outputs": [
    {
     "name": "stdout",
     "output_type": "stream",
     "text": [
      "Hello, World, how are you?\n",
      "5\n"
     ]
    }
   ],
   "source": [
    "s = input()\n",
    "print(s.count(' ')+1)"
   ]
  },
  {
   "cell_type": "code",
   "execution_count": 55,
   "id": "12c40c78",
   "metadata": {},
   "outputs": [
    {
     "name": "stdout",
     "output_type": "stream",
     "text": [
      "АааГГЦЦцТТттт\n",
      "Аденин: 3\n",
      "Гуанин: 2\n",
      "Цитозин: 3\n",
      "Тимин: 5\n"
     ]
    }
   ],
   "source": [
    "s = input()\n",
    "s = s.lower()\n",
    "print('Аденин:', s.count('а'))\n",
    "print('Гуанин:', s.count('г'))\n",
    "print('Цитозин:', s.count('ц'))\n",
    "print('Тимин:', s.count('т'))"
   ]
  },
  {
   "cell_type": "code",
   "execution_count": 56,
   "id": "66ef5e59",
   "metadata": {},
   "outputs": [
    {
     "name": "stdout",
     "output_type": "stream",
     "text": [
      "ae43kds34\n",
      "4\n"
     ]
    }
   ],
   "source": [
    "s = input()\n",
    "counter = 0\n",
    "for i in range(10):\n",
    "    counter += s.count(str(i))\n",
    "print(counter)"
   ]
  },
  {
   "cell_type": "code",
   "execution_count": 57,
   "id": "aae2a69e",
   "metadata": {},
   "outputs": [
    {
     "name": "stdout",
     "output_type": "stream",
     "text": [
      "www.world.com\n",
      "YES\n"
     ]
    }
   ],
   "source": [
    "s = input()\n",
    "if s.endswith('com') == True or s.endswith('ru') == True:\n",
    "    print('YES')\n",
    "else:\n",
    "    print('NO')"
   ]
  },
  {
   "cell_type": "code",
   "execution_count": 59,
   "id": "98b26d8c",
   "metadata": {},
   "outputs": [
    {
     "name": "stdout",
     "output_type": "stream",
     "text": [
      "Moscow Never Sleeps\n",
      "e\n"
     ]
    }
   ],
   "source": [
    "s = input()\n",
    "max = 0\n",
    "\n",
    "for i in range(len(s)):\n",
    "    if s.count(s[i]) >= max:\n",
    "        max = s.count(s[i])\n",
    "        letter = s[i]\n",
    "print(letter)"
   ]
  },
  {
   "cell_type": "code",
   "execution_count": 61,
   "id": "2d7ba452",
   "metadata": {},
   "outputs": [
    {
     "name": "stdout",
     "output_type": "stream",
     "text": [
      "fly me to the moon, fly!\n",
      "0 20\n"
     ]
    }
   ],
   "source": [
    "s = input()\n",
    "\n",
    "if s.count('f') == 1:\n",
    "    print(s.find('f'))\n",
    "elif s.count('f') >= 2:\n",
    "    print(s.find('f'), s.rfind('f'))\n",
    "else:\n",
    "    print('NO')"
   ]
  },
  {
   "cell_type": "code",
   "execution_count": 62,
   "id": "f71a4c0c",
   "metadata": {},
   "outputs": [
    {
     "name": "stdout",
     "output_type": "stream",
     "text": [
      "hahahaha\n",
      "a\n"
     ]
    }
   ],
   "source": [
    "s = input()\n",
    "print(s[:s.find('h')], s[s.rfind('h')+1:], sep='')"
   ]
  },
  {
   "cell_type": "code",
   "execution_count": 63,
   "id": "453baad9",
   "metadata": {},
   "outputs": [
    {
     "name": "stdout",
     "output_type": "stream",
     "text": [
      "True\n",
      "False\n",
      "False\n"
     ]
    }
   ],
   "source": [
    "s1 = 'abc123'\n",
    "s2 = 'abc$*123'\n",
    "s3 = ''\n",
    "\n",
    "print(s1.isalnum())\n",
    "print(s2.isalnum())\n",
    "print(s3.isalnum())"
   ]
  },
  {
   "cell_type": "code",
   "execution_count": 64,
   "id": "e890a6e6",
   "metadata": {},
   "outputs": [
    {
     "name": "stdout",
     "output_type": "stream",
     "text": [
      "True\n",
      "True\n"
     ]
    }
   ],
   "source": [
    "s1 = 'BEEGEEK'\n",
    "s2 = '2202'\n",
    "\n",
    "print(s1.isalnum())\n",
    "print(s2.isalnum())"
   ]
  },
  {
   "cell_type": "code",
   "execution_count": 65,
   "id": "76e1e1b4",
   "metadata": {},
   "outputs": [
    {
     "name": "stdout",
     "output_type": "stream",
     "text": [
      "True\n",
      "False\n",
      "False\n"
     ]
    }
   ],
   "source": [
    "s1 = 'ABCabc'\n",
    "s2 = 'abc123'\n",
    "s3 = ''\n",
    "\n",
    "print(s1.isalpha())\n",
    "print(s2.isalpha())\n",
    "print(s3.isalpha())"
   ]
  },
  {
   "cell_type": "code",
   "execution_count": 66,
   "id": "fde19f09",
   "metadata": {},
   "outputs": [
    {
     "name": "stdout",
     "output_type": "stream",
     "text": [
      "True\n",
      "False\n",
      "False\n"
     ]
    }
   ],
   "source": [
    "s1 = '1234567'\n",
    "s2 = 'abc123'\n",
    "s3 = ''\n",
    "\n",
    "print(s1.isdigit())\n",
    "print(s2.isdigit())\n",
    "print(s3.isdigit())"
   ]
  },
  {
   "cell_type": "code",
   "execution_count": 67,
   "id": "094e6cef",
   "metadata": {},
   "outputs": [
    {
     "name": "stdout",
     "output_type": "stream",
     "text": [
      "True\n",
      "True\n",
      "False\n"
     ]
    }
   ],
   "source": [
    "s1 = 'abc'\n",
    "s2 = 'abc1$d'\n",
    "s3 = 'Abc1$D'\n",
    "\n",
    "print(s1.islower())\n",
    "print(s2.islower())\n",
    "print(s3.islower())"
   ]
  },
  {
   "cell_type": "code",
   "execution_count": 68,
   "id": "e0cdd378",
   "metadata": {},
   "outputs": [
    {
     "name": "stdout",
     "output_type": "stream",
     "text": [
      "False\n",
      "False\n",
      "True\n"
     ]
    }
   ],
   "source": [
    "print('1234'.islower())\n",
    "print('+-*/'.islower())\n",
    "print('ab#%'.islower())"
   ]
  },
  {
   "cell_type": "code",
   "execution_count": 69,
   "id": "47a4a956",
   "metadata": {},
   "outputs": [
    {
     "name": "stdout",
     "output_type": "stream",
     "text": [
      "True\n",
      "True\n",
      "False\n"
     ]
    }
   ],
   "source": [
    "s1 = 'ABC'\n",
    "s2 = 'ABC1$D'\n",
    "s3 = 'Abc1$D'\n",
    "\n",
    "print(s1.isupper())\n",
    "print(s2.isupper())\n",
    "print(s3.isupper())"
   ]
  },
  {
   "cell_type": "code",
   "execution_count": 70,
   "id": "890e025d",
   "metadata": {},
   "outputs": [
    {
     "name": "stdout",
     "output_type": "stream",
     "text": [
      "False\n",
      "False\n",
      "True\n"
     ]
    }
   ],
   "source": [
    "print('5678'.isupper())\n",
    "print('!?_&'.isupper())\n",
    "print('AB%$'.isupper())"
   ]
  },
  {
   "cell_type": "code",
   "execution_count": 71,
   "id": "e3d8bd78",
   "metadata": {},
   "outputs": [
    {
     "name": "stdout",
     "output_type": "stream",
     "text": [
      "True\n",
      "False\n"
     ]
    }
   ],
   "source": [
    "s1 = '       '\n",
    "s2 = 'abc1$d'\n",
    "\n",
    "print(s1.isspace())\n",
    "print(s2.isspace())"
   ]
  },
  {
   "cell_type": "code",
   "execution_count": 72,
   "id": "ac537bd0",
   "metadata": {},
   "outputs": [
    {
     "name": "stdout",
     "output_type": "stream",
     "text": [
      "False\n"
     ]
    }
   ],
   "source": [
    "s1 = ''\n",
    "print(s1.isspace())"
   ]
  },
  {
   "cell_type": "code",
   "execution_count": 73,
   "id": "9a567e07",
   "metadata": {},
   "outputs": [
    {
     "name": "stdout",
     "output_type": "stream",
     "text": [
      "5\n",
      "  Подскажите, где у меня ошибка?.. \n",
      "1:   Подскажите, где у меня ошибка?.. \n",
      "Кто тоже проходит курс в 2024 году? Ставьте лайк\n",
      "2: Кто тоже проходит курс в 2024 году? Ставьте лайк\n",
      " \n",
      "3: COMMENT SHOULD BE DELETED\n",
      " \n",
      "4: COMMENT SHOULD BE DELETED\n",
      "Только бы не шахматы..\n",
      "5: Только бы не шахматы..\n"
     ]
    }
   ],
   "source": [
    "n = int(input())\n",
    "\n",
    "for i in range(1, n + 1):\n",
    "    comment = input()\n",
    "    \n",
    "    if all(char == ' ' for char in comment) or comment == \"\":\n",
    "        print(f\"{i}: COMMENT SHOULD BE DELETED\")\n",
    "    else:\n",
    "        print(f\"{i}: {comment}\")"
   ]
  },
  {
   "cell_type": "code",
   "execution_count": 75,
   "id": "b12e7a6f",
   "metadata": {},
   "outputs": [
    {
     "name": "stdout",
     "output_type": "stream",
     "text": [
      "М777УР_777\n",
      "YES\n"
     ]
    }
   ],
   "source": [
    "valid_letters = \"АВЕКМНОРСТУХ\"\n",
    "\n",
    "number = input()\n",
    "\n",
    "if len(number) not in [9, 10]:\n",
    "    print(\"NO\")\n",
    "else:\n",
    "    if (\n",
    "        number[0] in valid_letters and  \n",
    "        number[1].isdigit() and number[2].isdigit() and number[3].isdigit() and  \n",
    "        number[4] in valid_letters and number[5] in valid_letters and  \n",
    "        number[6] == \"_\" and  \n",
    "        number[7:].isdigit() and len(number[7:]) in [2, 3]  \n",
    "    ):\n",
    "        print(\"YES\")\n",
    "    else:\n",
    "        print(\"NO\")"
   ]
  },
  {
   "cell_type": "code",
   "execution_count": 115,
   "id": "2b2af2cc",
   "metadata": {},
   "outputs": [
    {
     "name": "stdout",
     "output_type": "stream",
     "text": [
      "@Meow123\n",
      "Incorrect\n"
     ]
    }
   ],
   "source": [
    "nickname = input()\n",
    "\n",
    "if (\n",
    "nickname.startswith('@') and \n",
    "    len(nickname) in range(5, 16) and \n",
    "    all(char.islower() or char.isdigit() for char in nickname[1:])\n",
    "):\n",
    "    print('Correct')\n",
    "else:\n",
    "    print('Incorrect')"
   ]
  },
  {
   "cell_type": "markdown",
   "id": "2c7e30ce",
   "metadata": {},
   "source": [
    "# Форматирование строк"
   ]
  },
  {
   "cell_type": "code",
   "execution_count": 117,
   "id": "2b4a15d5",
   "metadata": {},
   "outputs": [
    {
     "name": "stdout",
     "output_type": "stream",
     "text": [
      "My name is Timur, I was born in 1992\n"
     ]
    }
   ],
   "source": [
    "birth_year = 1992\n",
    "text = 'My name is Timur, I was born in ' + str(birth_year)\n",
    "\n",
    "print(text)"
   ]
  },
  {
   "cell_type": "code",
   "execution_count": 118,
   "id": "892562a7",
   "metadata": {},
   "outputs": [
    {
     "name": "stdout",
     "output_type": "stream",
     "text": [
      "My name is Timur, I was born in 1992\n"
     ]
    }
   ],
   "source": [
    "birth_year = 1992\n",
    "text = 'My name is Timur, I was born in {}'.format(birth_year)\n",
    "\n",
    "print(text)"
   ]
  },
  {
   "cell_type": "code",
   "execution_count": 119,
   "id": "034c3f0f",
   "metadata": {},
   "outputs": [
    {
     "name": "stdout",
     "output_type": "stream",
     "text": [
      "My name is Timur, I was born in 1992, I work as a math teacher.\n"
     ]
    }
   ],
   "source": [
    "birth_year = 1992\n",
    "name = 'Timur'\n",
    "profession = 'math teacher'\n",
    "text = 'My name is {}, I was born in {}, I work as a {}.'.format(name, birth_year, profession)\n",
    "\n",
    "print(text)"
   ]
  },
  {
   "cell_type": "code",
   "execution_count": 120,
   "id": "b4bb7b57",
   "metadata": {},
   "outputs": [
    {
     "name": "stdout",
     "output_type": "stream",
     "text": [
      "My name is Timur, I was born in 1992, I work as a math teacher.\n"
     ]
    }
   ],
   "source": [
    "birth_year = 1992\n",
    "name = 'Timur'\n",
    "profession = 'math teacher'\n",
    "text = 'My name is {0}, I was born in {1}, I work as a {2}.'.format(name, birth_year, profession)\n",
    "\n",
    "print(text)"
   ]
  },
  {
   "cell_type": "code",
   "execution_count": 121,
   "id": "8d97205e",
   "metadata": {},
   "outputs": [
    {
     "name": "stdout",
     "output_type": "stream",
     "text": [
      "My name is Timur-Timur-Timur!\n",
      "Moscow is my city and Timur is my name!\n"
     ]
    }
   ],
   "source": [
    "name = 'Timur'\n",
    "city = 'Moscow'\n",
    "text1 = 'My name is {0}-{0}-{0}!'.format(name, city)\n",
    "text2 = '{1} is my city and {0} is my name!'.format(name, city)\n",
    "\n",
    "print(text1)\n",
    "print(text2)"
   ]
  },
  {
   "cell_type": "code",
   "execution_count": 122,
   "id": "1cdef6a6",
   "metadata": {},
   "outputs": [
    {
     "name": "stdout",
     "output_type": "stream",
     "text": [
      "Taylor Swift is a very famous singer from the USA. She was born on 1989/12/13 in West Reading, Pennsylvania.\n"
     ]
    }
   ],
   "source": [
    "first_name = 'Taylor'\n",
    "second_name = 'Swift'\n",
    "country = 'USA'\n",
    "birth_date = '1989/12/13'\n",
    "birth_place = 'West Reading, Pennsylvania'\n",
    "text = '{0} {1} is a very famous singer from the {2}. She was born on {3} in {4}.'.format(first_name, second_name, country, birth_date, birth_place)\n",
    "\n",
    "print(text)"
   ]
  },
  {
   "cell_type": "code",
   "execution_count": 123,
   "id": "a4286adb",
   "metadata": {},
   "outputs": [
    {
     "name": "stdout",
     "output_type": "stream",
     "text": [
      "Taylor Swift is a very famous singer from the USA. She was born on 1989/12/13 in West Reading, Pennsylvania.\n"
     ]
    }
   ],
   "source": [
    "first_name = 'Taylor'\n",
    "last_name = 'Swift'\n",
    "country = 'USA'\n",
    "birth_date = '1989/12/13'\n",
    "birth_place = 'West Reading, Pennsylvania'\n",
    "text = f'{first_name} {last_name} is a very famous singer from the {country}. She was born on {birth_date} in {birth_place}.'\n",
    "\n",
    "print(text)"
   ]
  },
  {
   "cell_type": "code",
   "execution_count": 124,
   "id": "f7004023",
   "metadata": {},
   "outputs": [
    {
     "name": "stdout",
     "output_type": "stream",
     "text": [
      "5 + 2 = 7\n",
      "5 - 2 = 3\n",
      "5 * 2 = 10\n",
      "5 / 2 = 2.5\n"
     ]
    }
   ],
   "source": [
    "print(f'5 + 2 = {5 + 2}')\n",
    "print(f'5 - 2 = {5 - 2}')\n",
    "print(f'5 * 2 = {5 * 2}')\n",
    "print(f'5 / 2 = {5 / 2}')"
   ]
  },
  {
   "cell_type": "code",
   "execution_count": 127,
   "id": "9bae0306",
   "metadata": {},
   "outputs": [
    {
     "name": "stdout",
     "output_type": "stream",
     "text": [
      "In 2010, someone paid 10k Bitcoin for two pizzas.\n"
     ]
    }
   ],
   "source": [
    "year = 2010\n",
    "amount = '10k'\n",
    "currency = 'Bitcoin'\n",
    "s = 'In {0}, someone paid {1} {2} for two pizzas.'.format(year, amount, currency)\n",
    "\n",
    "print(s)"
   ]
  },
  {
   "cell_type": "code",
   "execution_count": 129,
   "id": "9fe80fd4",
   "metadata": {},
   "outputs": [
    {
     "name": "stdout",
     "output_type": "stream",
     "text": [
      "In 2010, someone paid 10K Bitcoin for two pizzas.\n"
     ]
    }
   ],
   "source": [
    "year = 2010\n",
    "amount = '10K'\n",
    "currency = 'Bitcoin'\n",
    "s = f'In {year}, someone paid {amount} {currency} for two pizzas.'\n",
    "\n",
    "print(s)"
   ]
  },
  {
   "cell_type": "code",
   "execution_count": 130,
   "id": "4ce3796c",
   "metadata": {},
   "outputs": [
    {
     "name": "stdout",
     "output_type": "stream",
     "text": [
      "16-03-2024\n",
      "91.8700\n",
      "12.7328\n",
      "На 16-03-2024: 1$ = 91.8700₽, 1¥ = 12.7328₽\n"
     ]
    }
   ],
   "source": [
    "date = input()\n",
    "usd_value = input()\n",
    "cny_value = input()\n",
    "\n",
    "print(f'На {date}: 1$ = {usd_value}₽, 1¥ = {cny_value}₽')"
   ]
  },
  {
   "cell_type": "code",
   "execution_count": 141,
   "id": "3f87b3ef",
   "metadata": {},
   "outputs": [
    {
     "name": "stdout",
     "output_type": "stream",
     "text": [
      "1\n",
      "2\n",
      "Для чисел 1 и 2:\n",
      "  Сумма кубов: 1**3 + 2**3 = 9\n",
      "  Куб суммы: (1 + 2)**3 = 27\n"
     ]
    }
   ],
   "source": [
    "a = int(input())\n",
    "b = int(input())\n",
    "\n",
    "print(f'''Для чисел {a} и {b}:\n",
    "  Сумма кубов: {a}**3 + {b}**3 = {a**3 + b**3}\n",
    "  Куб суммы: ({a} + {b})**3 = {(a+b)**3}''')"
   ]
  },
  {
   "cell_type": "code",
   "execution_count": 148,
   "id": "f5170514",
   "metadata": {},
   "outputs": [
    {
     "name": "stdout",
     "output_type": "stream",
     "text": [
      "34\n",
      "93.1\n",
      "Все идет по плану\n",
      "#34 ДЕНЬ: ТЕКУЩИЙ ВЕС = 93.1 кг, ЦЕЛЬ по ВЕСУ = 93.2 кг\n"
     ]
    }
   ],
   "source": [
    "day = int(input())\n",
    "weight = float(input())\n",
    "\n",
    "if weight <= (100 - 0.2 * day):\n",
    "    print('Все идет по плану')\n",
    "    print(f'#{day} ДЕНЬ: ТЕКУЩИЙ ВЕС = {weight} кг, ЦЕЛЬ по ВЕСУ = {100 - 0.2 * day} кг')\n",
    "else:\n",
    "    print('Что-то пошло не так')\n",
    "    print(f'#{day} ДЕНЬ: ТЕКУЩИЙ ВЕС = {weight} кг, ЦЕЛЬ по ВЕСУ = {100 - 0.2 * day} кг')"
   ]
  },
  {
   "cell_type": "markdown",
   "id": "2206e28b",
   "metadata": {},
   "source": [
    "# Строки в памяти компьютера"
   ]
  },
  {
   "cell_type": "code",
   "execution_count": 151,
   "id": "78fac46b",
   "metadata": {},
   "outputs": [
    {
     "name": "stdout",
     "output_type": "stream",
     "text": [
      "65 66 97\n"
     ]
    }
   ],
   "source": [
    "num1 = ord('A')\n",
    "num2 = ord('B')\n",
    "num3 = ord('a') \n",
    "print(num1, num2, num3)"
   ]
  },
  {
   "cell_type": "code",
   "execution_count": 152,
   "id": "23c5ddbe",
   "metadata": {},
   "outputs": [
    {
     "name": "stdout",
     "output_type": "stream",
     "text": [
      "A B a\n"
     ]
    }
   ],
   "source": [
    "chr1 = chr(65)\n",
    "chr2 = chr(66)\n",
    "chr3 = chr(97)\n",
    "\n",
    "print(chr1, chr2, chr3)"
   ]
  },
  {
   "cell_type": "code",
   "execution_count": 153,
   "id": "523c4004",
   "metadata": {},
   "outputs": [
    {
     "name": "stdout",
     "output_type": "stream",
     "text": [
      "A\n",
      "B\n",
      "C\n",
      "D\n",
      "E\n",
      "F\n",
      "G\n",
      "H\n",
      "I\n",
      "J\n",
      "K\n",
      "L\n",
      "M\n",
      "N\n",
      "O\n",
      "P\n",
      "Q\n",
      "R\n",
      "S\n",
      "T\n",
      "U\n",
      "V\n",
      "W\n",
      "X\n",
      "Y\n",
      "Z\n"
     ]
    }
   ],
   "source": [
    "for i in range(26):\n",
    "    print(chr(ord('A') + i))"
   ]
  },
  {
   "cell_type": "code",
   "execution_count": 154,
   "id": "d3e3e0fa",
   "metadata": {},
   "outputs": [
    {
     "name": "stdout",
     "output_type": "stream",
     "text": [
      "True\n",
      "True\n"
     ]
    }
   ],
   "source": [
    "print(chr(ord('A')) == 'A')\n",
    "print(ord(chr(65)) == 65)"
   ]
  },
  {
   "cell_type": "code",
   "execution_count": 155,
   "id": "c8716539",
   "metadata": {},
   "outputs": [
    {
     "name": "stdout",
     "output_type": "stream",
     "text": [
      "97\n",
      "1072\n"
     ]
    }
   ],
   "source": [
    "print(ord('a'))     # английская буква «a»\n",
    "print(ord('а'))     # русская буква «а»"
   ]
  },
  {
   "cell_type": "code",
   "execution_count": 160,
   "id": "33b1d5e2",
   "metadata": {},
   "outputs": [
    {
     "name": "stdout",
     "output_type": "stream",
     "text": [
      "Ю\n",
      "Я\n"
     ]
    }
   ],
   "source": [
    "letter = input()\n",
    "\n",
    "if letter == 'Я':\n",
    "    print(\"Дальше букв нет\")\n",
    "else:\n",
    "    next_letter = chr(ord(letter) + 1)\n",
    "    print(next_letter)"
   ]
  },
  {
   "cell_type": "code",
   "execution_count": 161,
   "id": "4afa5dcf",
   "metadata": {},
   "outputs": [
    {
     "name": "stdout",
     "output_type": "stream",
     "text": [
      "65\n",
      "70\n",
      "A B C D E F "
     ]
    }
   ],
   "source": [
    "a = int(input())\n",
    "b = int(input())\n",
    "for i in range(a, b+1):\n",
    "    print(chr(i), end=' ')"
   ]
  },
  {
   "cell_type": "code",
   "execution_count": 162,
   "id": "dc970ca3",
   "metadata": {},
   "outputs": [
    {
     "name": "stdout",
     "output_type": "stream",
     "text": [
      "Port Aventura!\n",
      "80 111 114 116 32 65 118 101 110 116 117 114 97 33 "
     ]
    }
   ],
   "source": [
    "s = input()\n",
    "for i in range(len(s)):\n",
    "    print(ord(s[i]), end=' ')"
   ]
  },
  {
   "cell_type": "code",
   "execution_count": 163,
   "id": "c1374b07",
   "metadata": {},
   "outputs": [
    {
     "name": "stdout",
     "output_type": "stream",
     "text": [
      "питон\n",
      "математика\n",
      "статистика\n",
      "список\n",
      "статистика\n"
     ]
    }
   ],
   "source": [
    "word1 = input()\n",
    "word2 = input()\n",
    "word3 = input()\n",
    "word4 = input()\n",
    "\n",
    "weight1 = 0\n",
    "for char in word1:\n",
    "    weight1 += ord(char)\n",
    "\n",
    "weight2 = 0\n",
    "for char in word2:\n",
    "    weight2 += ord(char)\n",
    "\n",
    "weight3 = 0\n",
    "for char in word3:\n",
    "    weight3 += ord(char)\n",
    "\n",
    "weight4 = 0\n",
    "for char in word4:\n",
    "    weight4 += ord(char)\n",
    "\n",
    "heaviest_word = word1\n",
    "max_weight = weight1\n",
    "\n",
    "if weight2 > max_weight:\n",
    "    heaviest_word = word2\n",
    "    max_weight = weight2\n",
    "\n",
    "if weight3 > max_weight:\n",
    "    heaviest_word = word3\n",
    "    max_weight = weight3\n",
    "\n",
    "if weight4 > max_weight:\n",
    "    heaviest_word = word4\n",
    "    max_weight = weight4\n",
    "\n",
    "print(heaviest_word)"
   ]
  },
  {
   "cell_type": "code",
   "execution_count": 164,
   "id": "26771545",
   "metadata": {},
   "outputs": [
    {
     "name": "stdout",
     "output_type": "stream",
     "text": [
      "@тот самый Гвидо, у вас программа выводит лишний пробел в конце первой строки\n",
      "Текст сообщения: '@тот самый Гвидо, у вас программа выводит лишний пробел в конце первой строки'\n",
      "Стоимость сообщения: 206064🐝\n"
     ]
    }
   ],
   "source": [
    "text = input()\n",
    "\n",
    "total_cost = 0\n",
    "for char in text:\n",
    "    total_cost += ord(char) * 3  # Стоимость символа: код Unicode * 3\n",
    "\n",
    "print(f\"Текст сообщения: '{text}'\")\n",
    "print(f\"Стоимость сообщения: {total_cost}🐝\")"
   ]
  },
  {
   "cell_type": "code",
   "execution_count": 165,
   "id": "7cbe6041",
   "metadata": {},
   "outputs": [
    {
     "name": "stdout",
     "output_type": "stream",
     "text": [
      "@Тимур Гуев, ХОЧУ БОЛЬШЕ ПЧЕЛОК, ПЧЕЛОК, ПЧЕЛОК, ПЧЕЛОК\n",
      "Старая стоимость: 137946🐝\n",
      "Новая стоимость: 137946🐝\n"
     ]
    }
   ],
   "source": [
    "text = input() \n",
    "old_cost = 0    \n",
    "new_cost = 0    \n",
    "\n",
    "for char in text:\n",
    "    old_cost += ord(char) * 3\n",
    "\n",
    "eng_letters = 'eyopaxcETOPAHXCBM'\n",
    "rus_letters = 'еуорахсЕТОРАНХСВМ'\n",
    "\n",
    "for char in text:\n",
    "    if char in eng_letters:\n",
    "        text = text.replace(char, rus_letters[eng_letters.find(char)])\n",
    "\n",
    "for char in text:\n",
    "    new_cost += ord(char) * 3\n",
    "\n",
    "print(f\"Старая стоимость: {old_cost}🐝\")\n",
    "print(f\"Новая стоимость: {new_cost}🐝\")"
   ]
  },
  {
   "cell_type": "code",
   "execution_count": 166,
   "id": "9cd80667",
   "metadata": {},
   "outputs": [
    {
     "name": "stdout",
     "output_type": "stream",
     "text": [
      "1\n",
      "bwfusvfupdbftbs\n",
      "avetruetocaesar"
     ]
    }
   ],
   "source": [
    "n = int(input())\n",
    "s = input()\n",
    "\n",
    "for i in s:\n",
    "    k = ord(i)-n\n",
    "    if k < 97:\n",
    "        k = k + 26\n",
    "    print(chr(k), end = '')"
   ]
  },
  {
   "cell_type": "code",
   "execution_count": 167,
   "id": "a21a63d5",
   "metadata": {},
   "outputs": [
    {
     "name": "stdout",
     "output_type": "stream",
     "text": [
      "Username: [u-1042][u-1072][u-1089][u-1103]; City: [u-1050][u-1072][u-1079][u-1072][u-1085][u-1100]\n",
      "Username: Вася; City: Казань\n"
     ]
    }
   ],
   "source": [
    "text = input()\n",
    "\n",
    "decoded_text = \"\"\n",
    "i = 0\n",
    "\n",
    "while i < len(text):\n",
    "    if text[i:i+3] == \"[u-\":\n",
    "        closing_bracket = text.find(\"]\", i)\n",
    "        if closing_bracket != -1:\n",
    "            unicode_number = int(text[i+3:closing_bracket])\n",
    "            decoded_text += chr(unicode_number)\n",
    "            i = closing_bracket + 1\n",
    "        else:\n",
    "            decoded_text += text[i]\n",
    "            i += 1\n",
    "    else:\n",
    "        decoded_text += text[i]\n",
    "        i += 1\n",
    "\n",
    "print(decoded_text)"
   ]
  },
  {
   "cell_type": "markdown",
   "id": "8a5aebe1",
   "metadata": {},
   "source": [
    "# Сравнение строк"
   ]
  },
  {
   "cell_type": "code",
   "execution_count": 168,
   "id": "4ae56bd8",
   "metadata": {},
   "outputs": [
    {
     "name": "stdout",
     "output_type": "stream",
     "text": [
      "False\n",
      "True\n"
     ]
    }
   ],
   "source": [
    "print('a' > 'b')\n",
    "print('a' < 'z')"
   ]
  },
  {
   "cell_type": "code",
   "execution_count": 169,
   "id": "9566d4bb",
   "metadata": {},
   "outputs": [
    {
     "name": "stdout",
     "output_type": "stream",
     "text": [
      "False\n",
      "True\n"
     ]
    }
   ],
   "source": [
    "print(ord('a') > ord('b'))\n",
    "print(ord('a') < ord('z'))"
   ]
  },
  {
   "cell_type": "code",
   "execution_count": 170,
   "id": "0a9a7ff6",
   "metadata": {},
   "outputs": [
    {
     "name": "stdout",
     "output_type": "stream",
     "text": [
      "True\n",
      "True\n"
     ]
    }
   ],
   "source": [
    "print('d' > 'D')\n",
    "print('Ы' < 'ы')"
   ]
  },
  {
   "cell_type": "code",
   "execution_count": 171,
   "id": "76e7b057",
   "metadata": {},
   "outputs": [
    {
     "data": {
      "text/plain": [
       "True"
      ]
     },
     "execution_count": 171,
     "metadata": {},
     "output_type": "execute_result"
    }
   ],
   "source": [
    "'hello' > 'hell'"
   ]
  },
  {
   "cell_type": "code",
   "execution_count": 172,
   "id": "9e0ad6f2",
   "metadata": {},
   "outputs": [
    {
     "data": {
      "text/plain": [
       "False"
      ]
     },
     "execution_count": 172,
     "metadata": {},
     "output_type": "execute_result"
    }
   ],
   "source": [
    "'men' > 'mya'"
   ]
  },
  {
   "cell_type": "code",
   "execution_count": 173,
   "id": "3ecf36f6",
   "metadata": {},
   "outputs": [
    {
     "data": {
      "text/plain": [
       "True"
      ]
     },
     "execution_count": 173,
     "metadata": {},
     "output_type": "execute_result"
    }
   ],
   "source": [
    "'Meeeeeooooooow' < 'meow'"
   ]
  },
  {
   "cell_type": "code",
   "execution_count": 174,
   "id": "3c7f8e6e",
   "metadata": {},
   "outputs": [
    {
     "name": "stdout",
     "output_type": "stream",
     "text": [
      "True\n",
      "False\n"
     ]
    }
   ],
   "source": [
    "print(10 > 9)\n",
    "print('10' > '9')"
   ]
  },
  {
   "cell_type": "code",
   "execution_count": 176,
   "id": "a59efcc7",
   "metadata": {},
   "outputs": [],
   "source": [
    "del max"
   ]
  },
  {
   "cell_type": "code",
   "execution_count": 177,
   "id": "82db3c8b",
   "metadata": {},
   "outputs": [
    {
     "name": "stdout",
     "output_type": "stream",
     "text": [
      "False\n",
      "True\n",
      "🦆\n"
     ]
    }
   ],
   "source": [
    "print('Тинькофф' == 'Т-банк')\n",
    "print('¥' > '$€£')\n",
    "print(max('🐷', '🦆', '🐔'))"
   ]
  },
  {
   "cell_type": "code",
   "execution_count": 178,
   "id": "b4cc889b",
   "metadata": {},
   "outputs": [
    {
     "name": "stdout",
     "output_type": "stream",
     "text": [
      "try\n",
      "cape\n"
     ]
    }
   ],
   "source": [
    "print(max('tree', 'try', 'true'))\n",
    "print(min('cat', 'car', 'cape'))"
   ]
  },
  {
   "cell_type": "code",
   "execution_count": 180,
   "id": "7b702ba6",
   "metadata": {},
   "outputs": [
    {
     "name": "stdout",
     "output_type": "stream",
     "text": [
      "hello\n",
      "world\n",
      "yo\n",
      "КОНЕЦ\n",
      "Минимальная строка ⬇️: hello\n",
      "Максимальная строка ⬆️: yo\n"
     ]
    }
   ],
   "source": [
    "lines = []\n",
    "\n",
    "while True:\n",
    "    line = input()\n",
    "    if line == \"КОНЕЦ\":  \n",
    "        break\n",
    "    lines.append(line)\n",
    "\n",
    "min_line = min(lines)\n",
    "max_line = max(lines)\n",
    "\n",
    "print(f\"Минимальная строка ⬇️: {min_line}\")\n",
    "print(f\"Максимальная строка ⬆️: {max_line}\")"
   ]
  },
  {
   "cell_type": "code",
   "execution_count": 181,
   "id": "f9afac97",
   "metadata": {},
   "outputs": [
    {
     "name": "stdout",
     "output_type": "stream",
     "text": [
      "keep\n",
      "the\n",
      "blue\n",
      "flag\n",
      "104060401\n"
     ]
    }
   ],
   "source": [
    "word1 = input()\n",
    "word2 = input()\n",
    "word3 = input()\n",
    "word4 = input()\n",
    "\n",
    "min_word = min(word1, word2, word3, word4)\n",
    "max_word = max(word1, word2, word3, word4)\n",
    "\n",
    "last_char_min = min_word[-1]\n",
    "last_char_max = max_word[-1]\n",
    "\n",
    "unicode_min = ord(last_char_min)\n",
    "unicode_max = ord(last_char_max)\n",
    "\n",
    "magic_number = (unicode_min * unicode_max) ** 2\n",
    "\n",
    "print(magic_number)"
   ]
  },
  {
   "cell_type": "code",
   "execution_count": 183,
   "id": "85c954ed",
   "metadata": {},
   "outputs": [
    {
     "name": "stdout",
     "output_type": "stream",
     "text": [
      "1\n",
      "9В\n",
      "YES\n"
     ]
    }
   ],
   "source": [
    "n = int(input())\n",
    "\n",
    "for _ in range(n):\n",
    "    class_name = input()\n",
    "    if (\n",
    "        len(class_name) == 2 and            \n",
    "        class_name[0].isdigit() and        \n",
    "        0 <= int(class_name[0]) <= 9 and   \n",
    "        'А' <= class_name[1] <= 'П'        \n",
    "    ):\n",
    "        print(\"YES\")\n",
    "    else:\n",
    "        print(\"NO\")"
   ]
  },
  {
   "cell_type": "code",
   "execution_count": 184,
   "id": "7d6fcc9f",
   "metadata": {},
   "outputs": [
    {
     "name": "stdout",
     "output_type": "stream",
     "text": [
      "Ab4c1$#ddd\n",
      "a_b_c##DDD70\n",
      "YES\n"
     ]
    }
   ],
   "source": [
    "str1 = input()\n",
    "str2 = input()\n",
    "\n",
    "filtered_str1 = \"\".join(char.lower() for char in str1 if char.isalpha())\n",
    "filtered_str2 = \"\".join(char.lower() for char in str2 if char.isalpha())\n",
    "\n",
    "if filtered_str1 == filtered_str2:\n",
    "    print(\"YES\")\n",
    "else:\n",
    "    print(\"NO\")"
   ]
  },
  {
   "cell_type": "code",
   "execution_count": 185,
   "id": "3aef39a7",
   "metadata": {},
   "outputs": [
    {
     "name": "stdout",
     "output_type": "stream",
     "text": [
      "math\n",
      "stat\n",
      "it\n",
      "it math stat\n"
     ]
    }
   ],
   "source": [
    "word1 = input()\n",
    "word2 = input()\n",
    "word3 = input()\n",
    "\n",
    "if word1 > word2:\n",
    "    word1, word2 = word2, word1\n",
    "if word2 > word3:\n",
    "    word2, word3 = word3, word2\n",
    "if word1 > word2:\n",
    "    word1, word2 = word2, word1\n",
    "\n",
    "print(word1, word2, word3)"
   ]
  },
  {
   "cell_type": "code",
   "execution_count": 186,
   "id": "d1187cce",
   "metadata": {},
   "outputs": [
    {
     "name": "stdout",
     "output_type": "stream",
     "text": [
      "3\n",
      "Толстой А.Н., «Петр Первый»\n",
      "Толстой А.Н., «Хмурое утро»\n",
      "Толстой Л.Н., «Война и мир»\n",
      "NO\n"
     ]
    }
   ],
   "source": [
    "n = int(input())\n",
    "\n",
    "first_line = input()\n",
    "author, title = first_line.split(\", «\")\n",
    "prev_last_name = author.split()[0]  \n",
    "prev_book_title = title.rstrip(\"»\")  \n",
    "\n",
    "is_sorted = True\n",
    "\n",
    "for _ in range(n - 1):\n",
    "    current_line = input()\n",
    "    author, title = current_line.split(\", «\")\n",
    "    current_last_name = author.split()[0]  \n",
    "    current_book_title = title.rstrip(\"»\")\n",
    "\n",
    "    if (prev_last_name > current_last_name or\n",
    "        (prev_last_name == current_last_name and prev_book_title > current_book_title)):\n",
    "        is_sorted = False\n",
    "        break\n",
    "\n",
    "    prev_last_name = current_last_name\n",
    "    prev_book_title = current_book_title\n",
    "\n",
    "if is_sorted:\n",
    "    print(\"YES\")\n",
    "else:\n",
    "    print(\"NO\")"
   ]
  },
  {
   "cell_type": "markdown",
   "id": "05a2467e",
   "metadata": {},
   "source": [
    "# Итоговая работа"
   ]
  },
  {
   "cell_type": "code",
   "execution_count": 187,
   "id": "6d4f3c22",
   "metadata": {},
   "outputs": [
    {
     "name": "stdout",
     "output_type": "stream",
     "text": [
      "13\n"
     ]
    }
   ],
   "source": [
    "s = 'Python rocks!'\n",
    "print(len(s))"
   ]
  },
  {
   "cell_type": "code",
   "execution_count": 188,
   "id": "ab2f319d",
   "metadata": {},
   "outputs": [
    {
     "name": "stdout",
     "output_type": "stream",
     "text": [
      "h\n"
     ]
    }
   ],
   "source": [
    "s = 'Python rocks!'\n",
    "print(s[3])"
   ]
  },
  {
   "cell_type": "code",
   "execution_count": 189,
   "id": "24be8e37",
   "metadata": {},
   "outputs": [
    {
     "name": "stdout",
     "output_type": "stream",
     "text": [
      "ytho\n"
     ]
    }
   ],
   "source": [
    "s = 'Python rocks!'\n",
    "print(s[1:5])"
   ]
  },
  {
   "cell_type": "code",
   "execution_count": 190,
   "id": "1c689e9d",
   "metadata": {},
   "outputs": [
    {
     "name": "stdout",
     "output_type": "stream",
     "text": [
      "Python rocks!\n"
     ]
    }
   ],
   "source": [
    "s = '    Python rocks!     '\n",
    "print(s.strip())"
   ]
  },
  {
   "cell_type": "code",
   "execution_count": 191,
   "id": "098e5e45",
   "metadata": {},
   "outputs": [
    {
     "name": "stdout",
     "output_type": "stream",
     "text": [
      "PYTHON ROCKS!\n"
     ]
    }
   ],
   "source": [
    "s = 'Python rocks!'\n",
    "print(s.upper())"
   ]
  },
  {
   "cell_type": "code",
   "execution_count": 192,
   "id": "5558a95f",
   "metadata": {},
   "outputs": [
    {
     "name": "stdout",
     "output_type": "stream",
     "text": [
      "Pyth@n r@cks!\n"
     ]
    }
   ],
   "source": [
    "s = 'Python rocks!'\n",
    "print(s.replace('o', '@'))"
   ]
  },
  {
   "cell_type": "code",
   "execution_count": 193,
   "id": "5958fb66",
   "metadata": {},
   "outputs": [
    {
     "name": "stdout",
     "output_type": "stream",
     "text": [
      "Python is great!\n",
      "ytonisgrat"
     ]
    }
   ],
   "source": [
    "s = input()\n",
    "\n",
    "for i in range(len(s)):\n",
    "    if i % 3 != 0:\n",
    "        print(s[i], end='')"
   ]
  },
  {
   "cell_type": "code",
   "execution_count": 194,
   "id": "68974b07",
   "metadata": {},
   "outputs": [
    {
     "name": "stdout",
     "output_type": "stream",
     "text": [
      "212121\n",
      "2one2one2one\n"
     ]
    }
   ],
   "source": [
    "s = input()\n",
    "\n",
    "s1 = s.replace('1', 'one')\n",
    "print(s1)"
   ]
  },
  {
   "cell_type": "code",
   "execution_count": 197,
   "id": "3aa2e7a0",
   "metadata": {},
   "outputs": [
    {
     "name": "stdout",
     "output_type": "stream",
     "text": [
      "@q@5\n",
      "q5\n"
     ]
    }
   ],
   "source": [
    "s = input()\n",
    "\n",
    "print(s.replace('@', ''))"
   ]
  },
  {
   "cell_type": "code",
   "execution_count": 198,
   "id": "142618e5",
   "metadata": {},
   "outputs": [
    {
     "name": "stdout",
     "output_type": "stream",
     "text": [
      "effective\n",
      "2\n"
     ]
    }
   ],
   "source": [
    "s = input()\n",
    "counter = 0\n",
    "\n",
    "for i in range(len(s)):\n",
    "    if s[i] == 'f':\n",
    "        counter += 1\n",
    "if counter >= 2:\n",
    "    s = s.replace('f', '_', 1)\n",
    "    print(s.find('f'))\n",
    "elif counter == 1:\n",
    "    print('-1')\n",
    "else:\n",
    "    print('-2')"
   ]
  },
  {
   "cell_type": "code",
   "execution_count": 199,
   "id": "5b2d1028",
   "metadata": {},
   "outputs": [
    {
     "name": "stdout",
     "output_type": "stream",
     "text": [
      "abch12345h\n",
      "abch54321h\n"
     ]
    }
   ],
   "source": [
    "s = input()\n",
    "a = 0 #point one\n",
    "b = 0 #point two\n",
    "\n",
    "a = s.find('h')\n",
    "b = s.rfind('h')\n",
    "\n",
    "print(s[:a+1] + s[b-1:a:-1] + s[b:])"
   ]
  }
 ],
 "metadata": {
  "kernelspec": {
   "display_name": "Python 3 (ipykernel)",
   "language": "python",
   "name": "python3"
  },
  "language_info": {
   "codemirror_mode": {
    "name": "ipython",
    "version": 3
   },
   "file_extension": ".py",
   "mimetype": "text/x-python",
   "name": "python",
   "nbconvert_exporter": "python",
   "pygments_lexer": "ipython3",
   "version": "3.11.4"
  }
 },
 "nbformat": 4,
 "nbformat_minor": 5
}
