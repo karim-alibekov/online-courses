{
 "cells": [
  {
   "cell_type": "markdown",
   "id": "abf32c76",
   "metadata": {},
   "source": [
    "# Основы работы со списками"
   ]
  },
  {
   "cell_type": "code",
   "execution_count": 1,
   "id": "e413edc6",
   "metadata": {},
   "outputs": [],
   "source": [
    "numbers = [2, 4, 6, 8, 10]\n",
    "languages = ['Python', 'C#', 'C++', 'Java']"
   ]
  },
  {
   "cell_type": "code",
   "execution_count": 2,
   "id": "9daec6ea",
   "metadata": {},
   "outputs": [],
   "source": [
    "info = ['Timur', 1992, 61.5]"
   ]
  },
  {
   "cell_type": "code",
   "execution_count": 4,
   "id": "c3d857d8",
   "metadata": {},
   "outputs": [
    {
     "data": {
      "text/plain": [
       "'Timur'"
      ]
     },
     "execution_count": 4,
     "metadata": {},
     "output_type": "execute_result"
    }
   ],
   "source": [
    "info[0]"
   ]
  },
  {
   "cell_type": "code",
   "execution_count": 5,
   "id": "f9c8cd21",
   "metadata": {},
   "outputs": [],
   "source": [
    "mylist = []  # пустой список\n",
    "mylist = list()  # тоже пустой список"
   ]
  },
  {
   "cell_type": "code",
   "execution_count": 6,
   "id": "4314fb2a",
   "metadata": {},
   "outputs": [
    {
     "name": "stdout",
     "output_type": "stream",
     "text": [
      "[2, 4, 6, 8, 10]\n",
      "['Python', 'C#', 'C++', 'Java']\n"
     ]
    }
   ],
   "source": [
    "numbers = [2, 4, 6, 8, 10]\n",
    "languages = ['Python', 'C#', 'C++', 'Java']\n",
    "print(numbers)\n",
    "print(languages)"
   ]
  },
  {
   "cell_type": "code",
   "execution_count": 9,
   "id": "135b0902",
   "metadata": {},
   "outputs": [
    {
     "name": "stdout",
     "output_type": "stream",
     "text": [
      "[0, 1, 2, 3, 4]\n"
     ]
    }
   ],
   "source": [
    "numbers = list(range(5))\n",
    "print(numbers)"
   ]
  },
  {
   "cell_type": "code",
   "execution_count": 10,
   "id": "9f1bd3fa",
   "metadata": {},
   "outputs": [
    {
     "name": "stdout",
     "output_type": "stream",
     "text": [
      "[0, 2, 4, 6, 8]\n",
      "[1, 3, 5, 7, 9]\n"
     ]
    }
   ],
   "source": [
    "even_numbers = list(range(0, 10, 2))  # список содержит четные числа 0, 2, 4, 6, 8\n",
    "odd_numbers = list(range(1, 10, 2))  # список содержит нечетные числа 1, 3, 5, 7, 9\n",
    "print(even_numbers)\n",
    "print(odd_numbers)"
   ]
  },
  {
   "cell_type": "code",
   "execution_count": 12,
   "id": "e167d367",
   "metadata": {},
   "outputs": [
    {
     "name": "stdout",
     "output_type": "stream",
     "text": [
      "['a', 'b', 'c', 'd', 'e']\n"
     ]
    }
   ],
   "source": [
    "s = 'abcde'\n",
    "chars = list(s)  # список содержит символы 'a', 'b', 'c', 'd', 'e'\n",
    "print(chars)"
   ]
  },
  {
   "cell_type": "code",
   "execution_count": 13,
   "id": "5a59c855",
   "metadata": {},
   "outputs": [
    {
     "name": "stdout",
     "output_type": "stream",
     "text": [
      "7\n",
      "[1, 2, 3, 4, 5, 6, 7]\n"
     ]
    }
   ],
   "source": [
    "n = int(input())\n",
    "print(list(range(1, n+1)))"
   ]
  },
  {
   "cell_type": "code",
   "execution_count": 14,
   "id": "59bc0952",
   "metadata": {},
   "outputs": [
    {
     "name": "stdout",
     "output_type": "stream",
     "text": [
      "5\n",
      "['a', 'b', 'c', 'd', 'e']\n"
     ]
    }
   ],
   "source": [
    "n = int(input())\n",
    "s = 'abcdefghijklmnopqrstuvwxyz'\n",
    "print(list(s[:n]))"
   ]
  },
  {
   "cell_type": "code",
   "execution_count": 15,
   "id": "576cb602",
   "metadata": {},
   "outputs": [
    {
     "name": "stdout",
     "output_type": "stream",
     "text": [
      "5\n",
      "4\n",
      "3\n"
     ]
    }
   ],
   "source": [
    "numbers = [2, 4, 6, 8, 10]\n",
    "languages = ['Python', 'C#', 'C++', 'Java']\n",
    "\n",
    "print(len(numbers))      # выводим длину списка numbers\n",
    "print(len(languages))    # выводим длину списка languages\n",
    "\n",
    "print(len(['apple', 'banana', 'cherry']))   # выводим длину списка, состоящего из 3 элементов"
   ]
  },
  {
   "cell_type": "code",
   "execution_count": 16,
   "id": "0155ee3c",
   "metadata": {},
   "outputs": [
    {
     "name": "stdout",
     "output_type": "stream",
     "text": [
      "Список numbers содержит число 2\n"
     ]
    }
   ],
   "source": [
    "numbers = [2, 4, 6, 8, 10]\n",
    "\n",
    "if 2 in numbers:\n",
    "    print('Список numbers содержит число 2')\n",
    "else:\n",
    "    print('Список numbers не содержит число 2')"
   ]
  },
  {
   "cell_type": "code",
   "execution_count": 17,
   "id": "4a68e676",
   "metadata": {},
   "outputs": [
    {
     "name": "stdout",
     "output_type": "stream",
     "text": [
      "Список numbers не содержит нулей\n"
     ]
    }
   ],
   "source": [
    "numbers = [2, 4, 6, 8, 10]\n",
    "\n",
    "if 0 not in numbers:\n",
    "    print('Список numbers не содержит нулей')"
   ]
  },
  {
   "cell_type": "code",
   "execution_count": 18,
   "id": "568558b1",
   "metadata": {},
   "outputs": [
    {
     "name": "stdout",
     "output_type": "stream",
     "text": [
      "[4, 6]\n",
      "[6, 8, 10]\n"
     ]
    }
   ],
   "source": [
    "numbers = [2, 4, 6, 8, 10]\n",
    "print(numbers[1:3])\n",
    "print(numbers[2:5])"
   ]
  },
  {
   "cell_type": "code",
   "execution_count": 19,
   "id": "23e0d053",
   "metadata": {},
   "outputs": [
    {
     "name": "stdout",
     "output_type": "stream",
     "text": [
      "['apple', 'apricot', 'банан', 'вишня', 'киви', 'lemon', 'mango']\n"
     ]
    }
   ],
   "source": [
    "fruits = ['apple', 'apricot', 'banana', 'cherry', 'kiwi', 'lemon', 'mango']\n",
    "fruits[2:5] = ['банан', 'вишня', 'киви']\n",
    "\n",
    "print(fruits)"
   ]
  },
  {
   "cell_type": "code",
   "execution_count": 20,
   "id": "0296ab5b",
   "metadata": {},
   "outputs": [
    {
     "name": "stdout",
     "output_type": "stream",
     "text": [
      "[1, 2, 3, 4, 5, 6, 7, 8]\n",
      "[7, 8, 7, 8, 7, 8]\n",
      "[0, 0, 0, 0, 0, 0, 0, 0, 0, 0]\n"
     ]
    }
   ],
   "source": [
    "print([1, 2, 3, 4] + [5, 6, 7, 8])\n",
    "print([7, 8] * 3)\n",
    "print([0] * 10)"
   ]
  },
  {
   "cell_type": "code",
   "execution_count": 21,
   "id": "005586fe",
   "metadata": {},
   "outputs": [
    {
     "name": "stdout",
     "output_type": "stream",
     "text": [
      "[1, 2, 3, 4, 7, 8]\n",
      "[7, 8, 7, 8, 7, 8, 7, 8, 7, 8]\n"
     ]
    }
   ],
   "source": [
    "a = [1, 2, 3, 4]\n",
    "b = [7, 8]\n",
    "a += b   # добавляем к списку a список b\n",
    "b *= 5   # повторяем список b 5 раз \n",
    "\n",
    "print(a)\n",
    "print(b)"
   ]
  },
  {
   "cell_type": "code",
   "execution_count": 22,
   "id": "241e050c",
   "metadata": {},
   "outputs": [
    {
     "name": "stdout",
     "output_type": "stream",
     "text": [
      "Сумма всех элементов списка = 55\n"
     ]
    }
   ],
   "source": [
    "numbers = [1, 2, 3, 4, 5, 6, 7, 8, 9, 10]\n",
    "print('Сумма всех элементов списка =', sum(numbers))"
   ]
  },
  {
   "cell_type": "code",
   "execution_count": 23,
   "id": "dbc93cab",
   "metadata": {},
   "outputs": [
    {
     "name": "stdout",
     "output_type": "stream",
     "text": [
      "Минимальный элемент = -7\n",
      "Максимальный элемент = 3333\n"
     ]
    }
   ],
   "source": [
    "numbers = [3, 4, 10, 3333, 12, -7, -5, 4]\n",
    "print('Минимальный элемент =', min(numbers))\n",
    "print('Максимальный элемент =', max(numbers))"
   ]
  },
  {
   "cell_type": "code",
   "execution_count": 24,
   "id": "1ffb6432",
   "metadata": {},
   "outputs": [
    {
     "name": "stdout",
     "output_type": "stream",
     "text": [
      "[1, 101, 3, 4, 5, 6, 7]\n"
     ]
    }
   ],
   "source": [
    "numbers = [1, 2, 3, 4, 5, 6, 7]\n",
    "numbers[1] = 101     # изменяем 2 элемент (по индексу 1) списка\n",
    "print(numbers)"
   ]
  },
  {
   "cell_type": "code",
   "execution_count": 25,
   "id": "41964f03",
   "metadata": {},
   "outputs": [
    {
     "name": "stdout",
     "output_type": "stream",
     "text": [
      "59\n"
     ]
    }
   ],
   "source": [
    "primes = [2, 3, 5, 7, 11, 13, 17, 19, 23, 29, 31, 37, 41, 43, 47, 53, 59, 61, 67, 71]\n",
    "\n",
    "print(primes[16])"
   ]
  },
  {
   "cell_type": "code",
   "execution_count": 26,
   "id": "70fcfbc3",
   "metadata": {},
   "outputs": [
    {
     "name": "stdout",
     "output_type": "stream",
     "text": [
      "71\n"
     ]
    }
   ],
   "source": [
    "primes = [2, 3, 5, 7, 11, 13, 17, 19, 23, 29, 31, 37, 41, 43, 47, 53, 59, 61, 67, 71]\n",
    "\n",
    "print(primes[-1])"
   ]
  },
  {
   "cell_type": "code",
   "execution_count": 27,
   "id": "fced7d5b",
   "metadata": {},
   "outputs": [
    {
     "name": "stdout",
     "output_type": "stream",
     "text": [
      "[2, 3, 5, 7, 11, 13]\n"
     ]
    }
   ],
   "source": [
    "primes = [2, 3, 5, 7, 11, 13, 17, 19, 23, 29, 31, 37, 41, 43, 47, 53, 59, 61, 67, 71]\n",
    "\n",
    "print(primes[:6])"
   ]
  },
  {
   "cell_type": "code",
   "execution_count": 28,
   "id": "85fc22ba",
   "metadata": {},
   "outputs": [
    {
     "name": "stdout",
     "output_type": "stream",
     "text": [
      "13.6618\n"
     ]
    }
   ],
   "source": [
    "numbers = [12.5, 3.1415, 2.718, 9.8, 1.414, 1.1618, 1.324]\n",
    "\n",
    "print(min(numbers)+max(numbers))"
   ]
  },
  {
   "cell_type": "code",
   "execution_count": 29,
   "id": "3d266084",
   "metadata": {},
   "outputs": [
    {
     "name": "stdout",
     "output_type": "stream",
     "text": [
      "11.0\n"
     ]
    }
   ],
   "source": [
    "evens = [2, 4, 6, 8, 10, 12, 14, 16, 18, 20]\n",
    "average = sum(evens) / len(evens)\n",
    "\n",
    "print(average)"
   ]
  },
  {
   "cell_type": "code",
   "execution_count": 30,
   "id": "4aec31d3",
   "metadata": {},
   "outputs": [
    {
     "name": "stdout",
     "output_type": "stream",
     "text": [
      "['Red', 'Orange', 'Yellow', 'Зеленый', 'Blue', 'Indigo', 'Фиолетовый']\n"
     ]
    }
   ],
   "source": [
    "rainbow = ['Red', 'Orange', 'Yellow', 'Green', 'Blue', 'Indigo', 'Violet']\n",
    "rainbow[3] = 'Зеленый'\n",
    "rainbow[6] = 'Фиолетовый'\n",
    "print(rainbow)"
   ]
  },
  {
   "cell_type": "code",
   "execution_count": 31,
   "id": "e0cdddce",
   "metadata": {},
   "outputs": [
    {
     "name": "stdout",
     "output_type": "stream",
     "text": [
      "['Lahnda', 'Japanese', 'Russian', 'Portuguese', 'Bengali', 'Arabic', 'Hindi', 'English', 'Spanish', 'Chinese']\n"
     ]
    }
   ],
   "source": [
    "languages = ['Chinese', 'Spanish', 'English', 'Hindi', 'Arabic', 'Bengali', 'Portuguese', 'Russian', 'Japanese', 'Lahnda']\n",
    "print(languages[::-1])"
   ]
  },
  {
   "cell_type": "code",
   "execution_count": 32,
   "id": "61197b2c",
   "metadata": {},
   "outputs": [
    {
     "name": "stdout",
     "output_type": "stream",
     "text": [
      "[1, 2, 3, 1, 2, 3, 6, 6, 6, 6, 6, 6, 6, 6, 6, 7, 8, 9, 10, 11, 12, 13]\n"
     ]
    }
   ],
   "source": [
    "numbers1 = [1, 2, 3]\n",
    "numbers2 = [6]\n",
    "numbers3 = [7, 8, 9, 10, 11, 12, 13]\n",
    "\n",
    "print(numbers1*2 + numbers2*9 + numbers3)"
   ]
  },
  {
   "cell_type": "markdown",
   "id": "4adaef18",
   "metadata": {},
   "source": [
    "# Методы списков"
   ]
  },
  {
   "cell_type": "code",
   "execution_count": 33,
   "id": "7e2a6b6e",
   "metadata": {},
   "outputs": [
    {
     "name": "stdout",
     "output_type": "stream",
     "text": [
      "[1, 1, 2, 3, 5, 8, 13, 21, 34]\n"
     ]
    }
   ],
   "source": [
    "numbers = [1, 1, 2, 3, 5, 8, 13]  # создаем список\n",
    "\n",
    "numbers.append(21)  # добавляем число 21 в конец списка\n",
    "numbers.append(34)  # добавляем число 34 в конец списка\n",
    "\n",
    "print(numbers)"
   ]
  },
  {
   "cell_type": "code",
   "execution_count": 34,
   "id": "29b37f01",
   "metadata": {},
   "outputs": [
    {
     "name": "stdout",
     "output_type": "stream",
     "text": [
      "[1, 2, 3]\n"
     ]
    }
   ],
   "source": [
    "numbers = []  # создаем пустой список\n",
    "\n",
    "numbers.append(1)\n",
    "numbers.append(2)\n",
    "numbers.append(3)\n",
    "\n",
    "print(numbers)"
   ]
  },
  {
   "cell_type": "code",
   "execution_count": 35,
   "id": "3f548084",
   "metadata": {},
   "outputs": [
    {
     "name": "stdout",
     "output_type": "stream",
     "text": [
      "[0, 2, 4, 6, 8, 10, 1, 3, 5, 7]\n"
     ]
    }
   ],
   "source": [
    "numbers = [0, 2, 4, 6, 8, 10]\n",
    "odds = [1, 3, 5, 7]\n",
    "\n",
    "numbers.extend(odds)\n",
    "print(numbers)"
   ]
  },
  {
   "cell_type": "code",
   "execution_count": 36,
   "id": "28bb0a49",
   "metadata": {},
   "outputs": [
    {
     "name": "stdout",
     "output_type": "stream",
     "text": [
      "['iq option', 'stepik', 'beegeek', 'python']\n",
      "['iq option', 'stepik', 'beegeek', 'p', 'y', 't', 'h', 'o', 'n']\n"
     ]
    }
   ],
   "source": [
    "words1 = ['iq option', 'stepik', 'beegeek']\n",
    "words2 = ['iq option', 'stepik', 'beegeek']\n",
    "\n",
    "words1.append('python')\n",
    "words2.extend('python')\n",
    "\n",
    "print(words1)\n",
    "print(words2)"
   ]
  },
  {
   "cell_type": "code",
   "execution_count": 37,
   "id": "4985531c",
   "metadata": {},
   "outputs": [
    {
     "name": "stdout",
     "output_type": "stream",
     "text": [
      "[1, 2, 3, 4, 5, 7, 8, 9]\n"
     ]
    }
   ],
   "source": [
    "numbers = [1, 2, 3, 4, 5, 6, 7, 8, 9]\n",
    "del numbers[5]    # удаляем элемент, имеющий индекс 5\n",
    "\n",
    "print(numbers)"
   ]
  },
  {
   "cell_type": "code",
   "execution_count": 39,
   "id": "269eeb31",
   "metadata": {},
   "outputs": [
    {
     "name": "stdout",
     "output_type": "stream",
     "text": [
      "[1, 2, 8, 9]\n"
     ]
    }
   ],
   "source": [
    "numbers = [1, 2, 3, 4, 5, 6, 7, 8, 9]\n",
    "del numbers[2:7]    # удаляем элементы с 2 по 6 включительно\n",
    "\n",
    "print(numbers)"
   ]
  },
  {
   "cell_type": "code",
   "execution_count": 40,
   "id": "dbaaafaf",
   "metadata": {},
   "outputs": [
    {
     "name": "stdout",
     "output_type": "stream",
     "text": [
      "[2, 4, 6, 8]\n"
     ]
    }
   ],
   "source": [
    "numbers = [1, 2, 3, 4, 5, 6, 7, 8, 9]\n",
    "del numbers[::2]\n",
    "\n",
    "print(numbers)"
   ]
  },
  {
   "cell_type": "code",
   "execution_count": 41,
   "id": "1abb3877",
   "metadata": {},
   "outputs": [
    {
     "name": "stdout",
     "output_type": "stream",
     "text": [
      "50\n",
      "5\n",
      "[5, 7, 6, 16, 14, 2, 1, 15, 1, 9, 14, 10, 2, 1, 12, 6, 5, 14, 12, 2, 8, 14, 6, 0, 0, 12, 10, 10, 11, 1, 5, 8, 10, 10, 16, 8, 0, 1, 16, 4, 5, 12, 16, 11, 4, 10, 14, 3, 6, 2]\n",
      "NO\n",
      "[6, 3, 14, 10, 4, 11, 16, 12, 5, 4, 16, 1, 0, 8, 16, 10, 10, 8, 5, 1, 11, 10, 10, 12, 0, 0, 6, 14, 8, 2, 12, 14, 5, 6, 12, 1, 2, 10, 14, 9, 1, 15, 1, 2, 14, 16, 6, 7]\n"
     ]
    }
   ],
   "source": [
    "numbers = [2, 6, 3, 14, 10, 4, 11, 16, 12, 5, 4, 16, 1, 0, 8, 16, 10, 10, 8, 5, 1, 11, 10, 10, 12, 0, 0, 6, 14, 8, 2, 12, 14, 5, 6, 12, 1, 2, 10, 14, 9, 1, 15, 1, 2, 14, 16, 6, 7, 5]\n",
    "print(len(numbers))\n",
    "print(numbers[-1])\n",
    "print(numbers[::-1])\n",
    "if '5' in numbers and '7' in numbers:\n",
    "    print('YES')\n",
    "else:\n",
    "    print('NO')\n",
    "del numbers[0]\n",
    "del numbers[-1]\n",
    "print(numbers)"
   ]
  },
  {
   "cell_type": "code",
   "execution_count": 42,
   "id": "d5b004f5",
   "metadata": {},
   "outputs": [
    {
     "name": "stdout",
     "output_type": "stream",
     "text": [
      "5\n",
      "C++\n",
      "C#\n",
      "C\n",
      "Python\n",
      "GO\n",
      "['C++', 'C#', 'C', 'Python', 'GO']\n"
     ]
    }
   ],
   "source": [
    "n = int(input())\n",
    "my_list = []\n",
    "for i in range(n):\n",
    "    s = input()\n",
    "    my_list.append(s)\n",
    "print(my_list)"
   ]
  },
  {
   "cell_type": "code",
   "execution_count": 43,
   "id": "283c4e84",
   "metadata": {},
   "outputs": [
    {
     "name": "stdout",
     "output_type": "stream",
     "text": [
      "['a', 'bb', 'ccc', 'dddd', 'eeeee', 'ffffff', 'ggggggg', 'hhhhhhhh', 'iiiiiiiii', 'jjjjjjjjjj', 'kkkkkkkkkkk', 'llllllllllll', 'mmmmmmmmmmmmm', 'nnnnnnnnnnnnnn', 'ooooooooooooooo', 'pppppppppppppppp', 'qqqqqqqqqqqqqqqqq', 'rrrrrrrrrrrrrrrrrr', 'sssssssssssssssssss', 'tttttttttttttttttttt', 'uuuuuuuuuuuuuuuuuuuuu', 'vvvvvvvvvvvvvvvvvvvvvv', 'wwwwwwwwwwwwwwwwwwwwwww', 'xxxxxxxxxxxxxxxxxxxxxxxx', 'yyyyyyyyyyyyyyyyyyyyyyyyy', 'zzzzzzzzzzzzzzzzzzzzzzzzzz']\n"
     ]
    }
   ],
   "source": [
    "list1 = []\n",
    "for i in range(1, 27):\n",
    "    list1.append(((i * chr(ord('a') + i-1))))\n",
    "print(list1)"
   ]
  },
  {
   "cell_type": "code",
   "execution_count": 44,
   "id": "c0f4cb68",
   "metadata": {},
   "outputs": [
    {
     "name": "stdout",
     "output_type": "stream",
     "text": [
      "2\n",
      "-5\n",
      "-2\n",
      "[-125, -8]\n"
     ]
    }
   ],
   "source": [
    "list1 = []\n",
    "n = int(input())\n",
    "for i in range(n):\n",
    "    num = int(input())\n",
    "    list1.append(num**3)\n",
    "print(list1)"
   ]
  },
  {
   "cell_type": "code",
   "execution_count": 46,
   "id": "477ac7b4",
   "metadata": {},
   "outputs": [
    {
     "name": "stdout",
     "output_type": "stream",
     "text": [
      "51\n",
      "[1, 3, 17, 51]\n"
     ]
    }
   ],
   "source": [
    "n = int(input())\n",
    "list1 = []\n",
    "for i in range(1, n+1):\n",
    "    if n % i == 0:\n",
    "        list1.append(i)\n",
    "print(list1)"
   ]
  },
  {
   "cell_type": "code",
   "execution_count": 47,
   "id": "522dbbee",
   "metadata": {},
   "outputs": [
    {
     "name": "stdout",
     "output_type": "stream",
     "text": [
      "4\n",
      "2\n",
      "-2\n",
      "2\n",
      "-2\n",
      "[0, 0, 0]\n"
     ]
    }
   ],
   "source": [
    "n = int(input())\n",
    "numbers = []\n",
    "numbers2 = []\n",
    "for i in range(n):\n",
    "    num = int(input())\n",
    "    numbers.append(num)\n",
    "for i in range(len(numbers)):\n",
    "    if i+1 < len(numbers):\n",
    "        num2 = numbers[i] + numbers[i+1]\n",
    "        numbers2.append(num2)\n",
    "print(numbers2)"
   ]
  },
  {
   "cell_type": "code",
   "execution_count": 48,
   "id": "8e63131c",
   "metadata": {},
   "outputs": [
    {
     "name": "stdout",
     "output_type": "stream",
     "text": [
      "3\n",
      "2\n",
      "5\n",
      "8\n",
      "[2, 8]\n"
     ]
    }
   ],
   "source": [
    "n = int(input())\n",
    "numbers = []\n",
    "for i in range(n):\n",
    "    num = int(input())\n",
    "    numbers.append(num)\n",
    "del numbers[1::2]\n",
    "print(numbers)"
   ]
  },
  {
   "cell_type": "code",
   "execution_count": 50,
   "id": "c553a9e2",
   "metadata": {},
   "outputs": [
    {
     "name": "stdout",
     "output_type": "stream",
     "text": [
      "3\n",
      "war\n",
      "rap\n",
      "map\n",
      "2\n",
      "aaa\n"
     ]
    }
   ],
   "source": [
    "n = int(input())\n",
    "list1 = []\n",
    "final_string = ''\n",
    "\n",
    "for i in range(n):\n",
    "    s = input()\n",
    "    list1.append(s)\n",
    "    \n",
    "k = int(input())\n",
    "\n",
    "for j in range(len(list1)):\n",
    "    m = list1[j]\n",
    "    if len(m) >= k:\n",
    "        final_string += m[k-1]\n",
    "        \n",
    "print(final_string)"
   ]
  },
  {
   "cell_type": "code",
   "execution_count": 51,
   "id": "835da0cf",
   "metadata": {},
   "outputs": [
    {
     "name": "stdout",
     "output_type": "stream",
     "text": [
      "5\n",
      "hello\n",
      "x\n",
      "012\n",
      "WWW\n",
      "ok\n",
      "['h', 'e', 'l', 'l', 'o', 'x', '0', '1', '2', 'W', 'W', 'W', 'o', 'k']\n"
     ]
    }
   ],
   "source": [
    "n = int(input())\n",
    "list1 = []\n",
    "\n",
    "for i in range(n):\n",
    "    s = input()\n",
    "    list1.extend(s)\n",
    "    \n",
    "print(list1)"
   ]
  },
  {
   "cell_type": "markdown",
   "id": "7b239899",
   "metadata": {},
   "source": [
    "# Вывод элементов списка"
   ]
  },
  {
   "cell_type": "code",
   "execution_count": 52,
   "id": "e2b6354b",
   "metadata": {},
   "outputs": [
    {
     "name": "stdout",
     "output_type": "stream",
     "text": [
      "0\n",
      "1\n",
      "2\n",
      "3\n",
      "4\n",
      "5\n",
      "6\n",
      "7\n",
      "8\n",
      "9\n",
      "10\n"
     ]
    }
   ],
   "source": [
    "numbers = [0, 1, 2, 3, 4, 5, 6, 7, 8, 9, 10]\n",
    "\n",
    "for i in range(len(numbers)):\n",
    "    print(numbers[i])"
   ]
  },
  {
   "cell_type": "code",
   "execution_count": 53,
   "id": "b5732a08",
   "metadata": {},
   "outputs": [
    {
     "name": "stdout",
     "output_type": "stream",
     "text": [
      "0\n",
      "1\n",
      "2\n",
      "3\n",
      "4\n",
      "5\n",
      "6\n",
      "7\n",
      "8\n",
      "9\n",
      "10\n"
     ]
    }
   ],
   "source": [
    "numbers = [0, 1, 2, 3, 4, 5, 6, 7, 8, 9, 10]\n",
    "\n",
    "for num in numbers:\n",
    "    print(num)"
   ]
  },
  {
   "cell_type": "code",
   "execution_count": 54,
   "id": "2946652f",
   "metadata": {},
   "outputs": [
    {
     "name": "stdout",
     "output_type": "stream",
     "text": [
      "0 1 2 3 4 5 6 7 8 9 10 "
     ]
    }
   ],
   "source": [
    "numbers = [0, 1, 2, 3, 4, 5, 6, 7, 8, 9, 10]\n",
    "\n",
    "for num in numbers:\n",
    "    print(num, end=' ')"
   ]
  },
  {
   "cell_type": "code",
   "execution_count": 55,
   "id": "0805046a",
   "metadata": {},
   "outputs": [
    {
     "name": "stdout",
     "output_type": "stream",
     "text": [
      "0 1 2 3 4 5 6 7 8 9 10\n"
     ]
    }
   ],
   "source": [
    "numbers = [0, 1, 2, 3, 4, 5, 6, 7, 8, 9, 10]\n",
    "\n",
    "print(*numbers)"
   ]
  },
  {
   "cell_type": "code",
   "execution_count": 56,
   "id": "fbd90bee",
   "metadata": {},
   "outputs": [
    {
     "name": "stdout",
     "output_type": "stream",
     "text": [
      "0\n",
      "1\n",
      "2\n",
      "3\n",
      "4\n",
      "5\n",
      "6\n",
      "7\n",
      "8\n",
      "9\n",
      "10\n"
     ]
    }
   ],
   "source": [
    "numbers = [0, 1, 2, 3, 4, 5, 6, 7, 8, 9, 10]\n",
    "\n",
    "print(*numbers, sep='\\n')"
   ]
  },
  {
   "cell_type": "code",
   "execution_count": 57,
   "id": "058aa7ef",
   "metadata": {},
   "outputs": [
    {
     "name": "stdout",
     "output_type": "stream",
     "text": [
      "P y t h o n\n",
      "\n",
      "P\n",
      "y\n",
      "t\n",
      "h\n",
      "o\n",
      "n\n"
     ]
    }
   ],
   "source": [
    "s = 'Python'\n",
    "\n",
    "print(*s)\n",
    "print()\n",
    "print(*s, sep='\\n')"
   ]
  },
  {
   "cell_type": "code",
   "execution_count": 58,
   "id": "e74dc065",
   "metadata": {},
   "outputs": [
    {
     "name": "stdout",
     "output_type": "stream",
     "text": [
      "82649673\n"
     ]
    }
   ],
   "source": [
    "numbers = [1, 78, 23, -65, 99, 9089, 34, -32, 0, -67, 1, 11, 111]\n",
    "counter = 0\n",
    "for num in numbers:\n",
    "    counter += num**2\n",
    "print(counter)"
   ]
  },
  {
   "cell_type": "code",
   "execution_count": 59,
   "id": "cac02608",
   "metadata": {},
   "outputs": [
    {
     "name": "stdout",
     "output_type": "stream",
     "text": [
      "3\n",
      "11\n",
      "12\n",
      "13\n",
      "11\n",
      "12\n",
      "13\n",
      "\n",
      "144\n",
      "169\n",
      "196\n"
     ]
    }
   ],
   "source": [
    "n = int(input())\n",
    "numbers = []\n",
    "numbers2 = []\n",
    "for i in range(n):\n",
    "    num = int(input())\n",
    "    numbers.append(num)\n",
    "    f = num**2+2*num+1\n",
    "    numbers2.append(f)\n",
    "print(*numbers, sep='\\n')\n",
    "print()\n",
    "print(*numbers2, sep='\\n')"
   ]
  },
  {
   "cell_type": "code",
   "execution_count": 63,
   "id": "1d397fd6",
   "metadata": {},
   "outputs": [
    {
     "name": "stdout",
     "output_type": "stream",
     "text": [
      "5\n",
      "-9\n",
      "11\n",
      "20\n",
      "25\n",
      "444\n",
      "11\n",
      "20\n",
      "25\n"
     ]
    }
   ],
   "source": [
    "n = int(input())\n",
    "numbers = []\n",
    "largest = -1\n",
    "smallest = 10*5\n",
    "for i in range(n):\n",
    "    num = int(input())\n",
    "    numbers.append(num)\n",
    "\n",
    "for num in numbers:\n",
    "    if num != max(numbers) and num != min(numbers):\n",
    "        print(num)"
   ]
  },
  {
   "cell_type": "code",
   "execution_count": 64,
   "id": "d8e284d2",
   "metadata": {},
   "outputs": [
    {
     "name": "stdout",
     "output_type": "stream",
     "text": [
      "5\n",
      "first\n",
      "second\n",
      "third\n",
      "first\n",
      "third\n",
      "first\n",
      "second\n",
      "third\n"
     ]
    }
   ],
   "source": [
    "n = int(input())\n",
    "list1 = []\n",
    "for i in range(n):\n",
    "    s = input()\n",
    "    if s not in list1:\n",
    "        list1.append(s)\n",
    "print(*list1, sep='\\n')"
   ]
  },
  {
   "cell_type": "code",
   "execution_count": 65,
   "id": "35070ba9",
   "metadata": {},
   "outputs": [
    {
     "name": "stdout",
     "output_type": "stream",
     "text": [
      "5\n",
      "Язык Python прекрасен\n",
      "C# - отличный язык программирования\n",
      "Stepik - отличная платформа\n",
      "BEEGEEK FOREVER!\n",
      "язык Python появился 20 февраля 1991\n",
      "язык\n",
      "Язык Python прекрасен\n",
      "C# - отличный язык программирования\n",
      "язык Python появился 20 февраля 1991\n"
     ]
    }
   ],
   "source": [
    "n = int(input())\n",
    "google_list = [] \n",
    "google_list2 = []\n",
    "\n",
    "for i in range(n):\n",
    "    s = input()\n",
    "    google_list.append(s)\n",
    "    \n",
    "google_search = input()\n",
    "\n",
    "for j in range(len(google_list)):\n",
    "    if google_search.lower() in google_list[j].lower():\n",
    "        google_list2.append(google_list[j])\n",
    "print(*google_list2, sep='\\n')"
   ]
  },
  {
   "cell_type": "code",
   "execution_count": 66,
   "id": "1477b46c",
   "metadata": {},
   "outputs": [
    {
     "name": "stdout",
     "output_type": "stream",
     "text": [
      "5\n",
      "Язык Python прекрасен\n",
      "C# - отличный язык программирования\n",
      "Stepik - отличная платформа\n",
      "BEEGEEK FOREVER!\n",
      "язык Python появился 20 февраля 1991\n",
      "2\n",
      "язык\n",
      "python\n",
      "Язык Python прекрасен\n",
      "язык Python появился 20 февраля 1991\n"
     ]
    }
   ],
   "source": [
    "s = []  # обьявляем основной список\n",
    "p = []  # обьявляем поисковый список\n",
    "\n",
    "for _ in range(int(input())):  # количество элементов основного списка\n",
    "    s.append(input())  # добавляем элементы\n",
    "    \n",
    "for _ in range(int(input())):  # количество элементов поискового списка\n",
    "    p.append(input())  # добавляем элементы\n",
    "\n",
    "for i in s:  # Ищем для каждого элемента основного списка \n",
    "    n = 0  # счётчик совпадений\n",
    "    for k in p:  # сравниваем наличией элемента из списка поиска с основным\n",
    "        if k.lower() in i.lower():  # если совпадение найдено:\n",
    "            n += 1  # счётчик прибавляет значение\n",
    "    if n >= len(p):  # если счётчик совпадений равен или больше количеству элементов поискового списка, печатаем элемент из основного списка.\n",
    "        print(i)"
   ]
  },
  {
   "cell_type": "code",
   "execution_count": 67,
   "id": "5eaac059",
   "metadata": {},
   "outputs": [
    {
     "name": "stdout",
     "output_type": "stream",
     "text": [
      "7\n",
      "3\n",
      "-4\n",
      "1\n",
      "0\n",
      "-1\n",
      "0\n",
      "-2\n",
      "-4\n",
      "-1\n",
      "-2\n",
      "0\n",
      "0\n",
      "3\n",
      "1\n"
     ]
    }
   ],
   "source": [
    "n = int(input())\n",
    "numbers = []\n",
    "negatives = []\n",
    "zeros = []\n",
    "positives = []\n",
    "for i in range(n):\n",
    "    num = int(input())\n",
    "    numbers.append(num)\n",
    "    \n",
    "for j in range(len(numbers)):\n",
    "    if numbers[j] < 0:\n",
    "        negatives.append(numbers[j])\n",
    "print(*negatives, sep='\\n')\n",
    "\n",
    "for k in range(len(numbers)):\n",
    "    if numbers[k] == 0:\n",
    "        zeros.append(numbers[k])\n",
    "print(*zeros, sep='\\n')\n",
    "\n",
    "for x in range(len(numbers)):\n",
    "    if numbers[x] > 0:\n",
    "        positives.append(numbers[x])\n",
    "print(*positives, sep='\\n')"
   ]
  },
  {
   "cell_type": "markdown",
   "id": "2f4dd25d",
   "metadata": {},
   "source": [
    "# Методы строк: split, join"
   ]
  },
  {
   "cell_type": "code",
   "execution_count": 68,
   "id": "36c5e805",
   "metadata": {},
   "outputs": [
    {
     "name": "stdout",
     "output_type": "stream",
     "text": [
      "['Python', 'is', 'the', 'most', 'powerful', 'language']\n"
     ]
    }
   ],
   "source": [
    "s = 'Python is the most powerful language'\n",
    "words = s.split()\n",
    "print(words)"
   ]
  },
  {
   "cell_type": "code",
   "execution_count": 71,
   "id": "b017f818",
   "metadata": {},
   "outputs": [
    {
     "name": "stdout",
     "output_type": "stream",
     "text": [
      "1 2 3 4 5\n",
      "['1', '2', '3', '4', '5']\n"
     ]
    }
   ],
   "source": [
    "numbers = input().split()\n",
    "print(numbers)"
   ]
  },
  {
   "cell_type": "code",
   "execution_count": 72,
   "id": "4d673a6a",
   "metadata": {},
   "outputs": [
    {
     "name": "stdout",
     "output_type": "stream",
     "text": [
      "1 2 3 4 5\n",
      "[1, 2, 3, 4, 5]\n"
     ]
    }
   ],
   "source": [
    "numbers = input().split()\n",
    "for i in range(len(numbers)):\n",
    "    numbers[i] = int(numbers[i])\n",
    "print(numbers)"
   ]
  },
  {
   "cell_type": "code",
   "execution_count": 73,
   "id": "affc4e7f",
   "metadata": {},
   "outputs": [
    {
     "name": "stdout",
     "output_type": "stream",
     "text": [
      "['192', '168', '1', '24']\n"
     ]
    }
   ],
   "source": [
    "ip = '192.168.1.24'\n",
    "numbers = ip.split('.')    # указываем явно разделитель\n",
    "print(numbers)"
   ]
  },
  {
   "cell_type": "code",
   "execution_count": 74,
   "id": "0ba16c76",
   "metadata": {},
   "outputs": [
    {
     "name": "stdout",
     "output_type": "stream",
     "text": [
      "Python is the most powerful language\n"
     ]
    }
   ],
   "source": [
    "words = ['Python', 'is', 'the', 'most', 'powerful', 'language']\n",
    "s = ' '.join(words)\n",
    "print(s)"
   ]
  },
  {
   "cell_type": "code",
   "execution_count": 75,
   "id": "b2a1ad61",
   "metadata": {},
   "outputs": [
    {
     "name": "stdout",
     "output_type": "stream",
     "text": [
      "Мы*учим*язык*Python\n",
      "Мы-учим-язык-Python\n",
      "Мы?учим?язык?Python\n",
      "Мы!учим!язык!Python\n",
      "Мы*****учим*****язык*****Python\n",
      "МыabcучимabcязыкabcPython\n",
      "Мы123учим123язык123Python\n"
     ]
    }
   ],
   "source": [
    "words = ['Мы', 'учим', 'язык', 'Python']\n",
    "print('*'.join(words))\n",
    "print('-'.join(words))\n",
    "print('?'.join(words))\n",
    "print('!'.join(words))\n",
    "print('*****'.join(words))\n",
    "print('abc'.join(words))\n",
    "print('123'.join(words))"
   ]
  },
  {
   "cell_type": "code",
   "execution_count": 76,
   "id": "170742d7",
   "metadata": {},
   "outputs": [
    {
     "name": "stdout",
     "output_type": "stream",
     "text": [
      "['I', 'love', 'Python']\n",
      "['I', 'love', '', 'Python']\n"
     ]
    }
   ],
   "source": [
    "s = 'I love  Python'\n",
    "words1 = s.split()\n",
    "words2 = s.split(' ')\n",
    "print(words1)\n",
    "print(words2)"
   ]
  },
  {
   "cell_type": "code",
   "execution_count": 77,
   "id": "b6619a28",
   "metadata": {},
   "outputs": [
    {
     "name": "stdout",
     "output_type": "stream",
     "text": [
      "p+y+g+e+n\n"
     ]
    }
   ],
   "source": [
    "s = '+'.join('pygen')\n",
    "print(s)"
   ]
  },
  {
   "cell_type": "code",
   "execution_count": 79,
   "id": "c7334cbb",
   "metadata": {},
   "outputs": [
    {
     "name": "stdout",
     "output_type": "stream",
     "text": [
      "У Лукоморья дуб зеленый\n",
      "У\n",
      "Лукоморья\n",
      "дуб\n",
      "зеленый\n"
     ]
    }
   ],
   "source": [
    "s = input()\n",
    "words = s.split()\n",
    "print(*words, sep='\\n')"
   ]
  },
  {
   "cell_type": "code",
   "execution_count": 80,
   "id": "37a4c51a",
   "metadata": {},
   "outputs": [
    {
     "name": "stdout",
     "output_type": "stream",
     "text": [
      "Иванов Олег Сергеевич\n",
      "И.О.С."
     ]
    }
   ],
   "source": [
    "s = input()\n",
    "name = s.split()\n",
    "for i in range(len(name)):\n",
    "    print(name[i][0], end='.')"
   ]
  },
  {
   "cell_type": "code",
   "execution_count": 81,
   "id": "ac5bf5e4",
   "metadata": {},
   "outputs": [
    {
     "name": "stdout",
     "output_type": "stream",
     "text": [
      "C:\\Windows\\System32\\calc.exe\n",
      "C:\n",
      "Windows\n",
      "System32\n",
      "calc.exe\n"
     ]
    }
   ],
   "source": [
    "s = input()\n",
    "path = s.split('\\\\')\n",
    "print(*path, sep='\\n')"
   ]
  },
  {
   "cell_type": "code",
   "execution_count": 82,
   "id": "ba66de09",
   "metadata": {},
   "outputs": [
    {
     "name": "stdout",
     "output_type": "stream",
     "text": [
      "5 3 1 7 10 2\n",
      "+++++\n",
      "+++\n",
      "+\n",
      "+++++++\n",
      "++++++++++\n",
      "++\n"
     ]
    }
   ],
   "source": [
    "s = input()\n",
    "numbers = s.split()\n",
    "for i in range(len(numbers)):\n",
    "    numbers[i] = int(numbers[i])\n",
    "    print(numbers[i] * '+')"
   ]
  },
  {
   "cell_type": "code",
   "execution_count": 83,
   "id": "0cd00a25",
   "metadata": {},
   "outputs": [
    {
     "name": "stdout",
     "output_type": "stream",
     "text": [
      "192.168.0.3\n",
      "ДА\n"
     ]
    }
   ],
   "source": [
    "s = input()\n",
    "ip = s.split('.')\n",
    "counter = 0\n",
    "for i in range(len(ip)):\n",
    "    ip[i] = int(ip[i])\n",
    "    if 255 >= ip[i] >= 0:\n",
    "        counter += 1\n",
    "if counter == len(ip):\n",
    "    print('ДА')\n",
    "else:\n",
    "    print('НЕТ')"
   ]
  },
  {
   "cell_type": "code",
   "execution_count": 84,
   "id": "f02ad224",
   "metadata": {},
   "outputs": [
    {
     "name": "stdout",
     "output_type": "stream",
     "text": [
      "qwerty and password\n",
      "**\n",
      "q**w**e**r**t**y** **a**n**d** **p**a**s**s**w**o**r**d\n"
     ]
    }
   ],
   "source": [
    "text = list(input())\n",
    "separator = input()\n",
    "print(separator.join(text))"
   ]
  },
  {
   "cell_type": "code",
   "execution_count": 85,
   "id": "32d802c6",
   "metadata": {},
   "outputs": [
    {
     "name": "stdout",
     "output_type": "stream",
     "text": [
      "1 2 3 1 2 5 7 0 1\n",
      "4\n"
     ]
    }
   ],
   "source": [
    "s = input()\n",
    "counter = 0\n",
    "numbers = s.split()\n",
    "for i in range(len(numbers)):\n",
    "    for j in range(i+1, len(numbers)):\n",
    "        if numbers[i] == numbers[j]:\n",
    "            counter += 1\n",
    "print(counter)"
   ]
  },
  {
   "cell_type": "markdown",
   "id": "63d9756c",
   "metadata": {},
   "source": [
    "# Методы списков 2"
   ]
  },
  {
   "cell_type": "code",
   "execution_count": 86,
   "id": "30c86c5c",
   "metadata": {},
   "outputs": [
    {
     "name": "stdout",
     "output_type": "stream",
     "text": [
      "['Gvido', 'Roman', 'Timur']\n",
      "['Anders', 'Gvido', 'Roman', 'Timur']\n",
      "['Anders', 'Gvido', 'Roman', 'Josef', 'Timur']\n"
     ]
    }
   ],
   "source": [
    "names = ['Gvido', 'Roman', 'Timur']\n",
    "print(names)\n",
    "names.insert(0, 'Anders')\n",
    "print(names)\n",
    "names.insert(3, 'Josef')\n",
    "print(names)"
   ]
  },
  {
   "cell_type": "code",
   "execution_count": 87,
   "id": "de6fffe0",
   "metadata": {},
   "outputs": [
    {
     "name": "stdout",
     "output_type": "stream",
     "text": [
      "2\n"
     ]
    }
   ],
   "source": [
    "names = ['Gvido', 'Roman', 'Timur']\n",
    "position = names.index('Timur')\n",
    "print(position)"
   ]
  },
  {
   "cell_type": "code",
   "execution_count": 88,
   "id": "bf6340b5",
   "metadata": {},
   "outputs": [
    {
     "name": "stdout",
     "output_type": "stream",
     "text": [
      "Такого значения нет в списке\n"
     ]
    }
   ],
   "source": [
    "names = ['Gvido', 'Roman', 'Timur']\n",
    "if 'Anders' in names:\n",
    "    position = names.index('Anders')\n",
    "    print(position)\n",
    "else:\n",
    "    print('Такого значения нет в списке')"
   ]
  },
  {
   "cell_type": "code",
   "execution_count": 89,
   "id": "0718d361",
   "metadata": {},
   "outputs": [
    {
     "name": "stdout",
     "output_type": "stream",
     "text": [
      "['Рис', 'Курица', 'Рыба', 'Брокколи', 'Рис']\n",
      "['Курица', 'Рыба', 'Брокколи', 'Рис']\n"
     ]
    }
   ],
   "source": [
    "food = ['Рис', 'Курица', 'Рыба', 'Брокколи', 'Рис']\n",
    "print(food)\n",
    "food.remove('Рис')\n",
    "print(food)"
   ]
  },
  {
   "cell_type": "code",
   "execution_count": 90,
   "id": "096982a0",
   "metadata": {},
   "outputs": [
    {
     "name": "stdout",
     "output_type": "stream",
     "text": [
      "Roman\n",
      "['Gvido', 'Timur']\n"
     ]
    }
   ],
   "source": [
    "names = ['Gvido', 'Roman', 'Timur']\n",
    "item = names.pop(1)\n",
    "print(item)\n",
    "print(names)"
   ]
  },
  {
   "cell_type": "code",
   "execution_count": 91,
   "id": "686c5f34",
   "metadata": {},
   "outputs": [
    {
     "name": "stdout",
     "output_type": "stream",
     "text": [
      "3\n",
      "1\n",
      "0\n"
     ]
    }
   ],
   "source": [
    "names = ['Timur', 'Gvido', 'Roman', 'Timur', 'Anders', 'Timur']\n",
    "cnt1 = names.count('Timur')\n",
    "cnt2 = names.count('Gvido')\n",
    "cnt3 = names.count('Josef')\n",
    "\n",
    "print(cnt1)\n",
    "print(cnt2)\n",
    "print(cnt3)"
   ]
  },
  {
   "cell_type": "code",
   "execution_count": 92,
   "id": "400f4e36",
   "metadata": {},
   "outputs": [
    {
     "name": "stdout",
     "output_type": "stream",
     "text": [
      "['Timur', 'Roman', 'Gvido']\n"
     ]
    }
   ],
   "source": [
    "names = ['Gvido', 'Roman', 'Timur']\n",
    "names.reverse()\n",
    "print(names)"
   ]
  },
  {
   "cell_type": "code",
   "execution_count": 93,
   "id": "29421045",
   "metadata": {},
   "outputs": [
    {
     "name": "stdout",
     "output_type": "stream",
     "text": [
      "[]\n"
     ]
    }
   ],
   "source": [
    "names = ['Gvido', 'Roman', 'Timur']\n",
    "names.clear()\n",
    "print(names)"
   ]
  },
  {
   "cell_type": "code",
   "execution_count": 94,
   "id": "7dcb17e9",
   "metadata": {},
   "outputs": [
    {
     "name": "stdout",
     "output_type": "stream",
     "text": [
      "['Gvido', 'Roman', 'Timur']\n",
      "['Gvido', 'Roman', 'Timur']\n"
     ]
    }
   ],
   "source": [
    "names = ['Gvido', 'Roman', 'Timur']\n",
    "names_copy = names.copy()              # создаем поверхностную копию списка names\n",
    "\n",
    "print(names)\n",
    "print(names_copy)"
   ]
  },
  {
   "cell_type": "code",
   "execution_count": 96,
   "id": "93e6c291",
   "metadata": {},
   "outputs": [
    {
     "name": "stdout",
     "output_type": "stream",
     "text": [
      "['Gvido', 'Roman', 'Timur']\n",
      "['Gvido', 'Roman', 'Timur']\n"
     ]
    }
   ],
   "source": [
    "names = ['Gvido', 'Roman', 'Timur']\n",
    "names_copy1 = list(names)             # создаем поверхностную копию с помощью функции list()\n",
    "names_copy2 = names[:] \n",
    "\n",
    "print(names_copy1)\n",
    "print(names_copy2)"
   ]
  },
  {
   "cell_type": "code",
   "execution_count": 97,
   "id": "d3a44fe6",
   "metadata": {},
   "outputs": [
    {
     "name": "stdout",
     "output_type": "stream",
     "text": [
      "[17, 10, 11, 25, 4, 5, 6, 17, 10, 11, 4, 5, 6]\n"
     ]
    }
   ],
   "source": [
    "numbers = [8, 9, 10, 11]\n",
    "numbers = [8, 9, 10, 11]\n",
    "numbers.remove(9)\n",
    "numbers.insert(1, 17)\n",
    "numbers.insert(100, 4)\n",
    "numbers.insert(100, 5)\n",
    "numbers.insert(100, 6)\n",
    "numbers.pop(0)\n",
    "numbers = numbers + numbers\n",
    "numbers.insert(3, 25)\n",
    "\n",
    "print(numbers)"
   ]
  },
  {
   "cell_type": "code",
   "execution_count": 98,
   "id": "464015eb",
   "metadata": {},
   "outputs": [
    {
     "name": "stdout",
     "output_type": "stream",
     "text": [
      "1 4 5 8 9 10\n",
      "10 4 5 8 9 1\n"
     ]
    }
   ],
   "source": [
    "s = input().split()\n",
    "numbers = []\n",
    "\n",
    "for i in range(len(s)):\n",
    "    numbers.append(int(s[i]))\n",
    "\n",
    "min_index = numbers.index(min(numbers))\n",
    "max_index = numbers.index(max(numbers))\n",
    "\n",
    "a = numbers[min_index]\n",
    "b = numbers[max_index]\n",
    "\n",
    "numbers[min_index] = b\n",
    "numbers[max_index] = a\n",
    "\n",
    "print(*numbers)"
   ]
  },
  {
   "cell_type": "code",
   "execution_count": 99,
   "id": "befc8f8d",
   "metadata": {},
   "outputs": [
    {
     "name": "stdout",
     "output_type": "stream",
     "text": [
      "William Shakespeare was born in the town of Stratford, England, in the year 1564. When he was a young man, Shakespeare moved to the city of London, where he began writing plays. His plays were soon very successful, and were enjoyed both by the common people of London and also by the rich and famous. In addition to his plays, Shakespeare wrote many short poems and a few longer poems. Like his plays, these poems are still famous today.\n",
      "Общее количество артиклей: 7\n"
     ]
    }
   ],
   "source": [
    "s = input().lower().split()\n",
    "counter_a = s.count('a')\n",
    "counter_an = s.count('an')\n",
    "counter_the = s.count('the')\n",
    "print('Общее количество артиклей:', counter_a + counter_an + counter_the)"
   ]
  },
  {
   "cell_type": "code",
   "execution_count": 102,
   "id": "4c78ddbd",
   "metadata": {},
   "outputs": [
    {
     "name": "stdout",
     "output_type": "stream",
     "text": [
      "#3\n",
      "print('Hello') #приветствие\n",
      "print('Hello')\n",
      "print('Bye') # прощание\n",
      "print('Bye')\n",
      "print('#')\n",
      "print('\n"
     ]
    }
   ],
   "source": [
    "n = input()\n",
    "for _ in range(int(n[1:])):\n",
    "    s = input()\n",
    "    if '#' in s:\n",
    "        s = s[:s.find('#')]\n",
    "    print(s.rstrip())"
   ]
  },
  {
   "cell_type": "code",
   "execution_count": 103,
   "id": "553a5b10",
   "metadata": {},
   "outputs": [
    {
     "name": "stdout",
     "output_type": "stream",
     "text": [
      "Отсортированный список: [-67, -3, -2, 0, 1, 6, 7, 8, 9, 12, 34, 45, 99, 1000]\n"
     ]
    }
   ],
   "source": [
    "a = [1, 7, -3, 9, 0, -67, 34, 12, 45, 1000, 6,  8, -2, 99]\n",
    "a.sort()\n",
    "print('Отсортированный список:', a)"
   ]
  },
  {
   "cell_type": "code",
   "execution_count": 104,
   "id": "a1cff70d",
   "metadata": {},
   "outputs": [
    {
     "name": "stdout",
     "output_type": "stream",
     "text": [
      "Отсортированный список: [1000, 99, 45, 34, 12, 9, 8, 7, 6, 1, 0, -2, -3, -67]\n"
     ]
    }
   ],
   "source": [
    "a = [1, 7, -3, 9, 0, -67, 34, 12, 45, 1000, 6,  8, -2, 99]\n",
    "a.sort(reverse=True)  # сортируем по убыванию\n",
    "print('Отсортированный список:', a)"
   ]
  },
  {
   "cell_type": "code",
   "execution_count": 105,
   "id": "400f9557",
   "metadata": {},
   "outputs": [
    {
     "name": "stdout",
     "output_type": "stream",
     "text": [
      "Отсортированный список: ['альфа', 'бета', 'гамма', 'дельта']\n"
     ]
    }
   ],
   "source": [
    "a = ['бета', 'альфа', 'дельта', 'гамма']\n",
    "a.sort()\n",
    "print('Отсортированный список:', a)"
   ]
  },
  {
   "cell_type": "code",
   "execution_count": 106,
   "id": "1c32e9cd",
   "metadata": {},
   "outputs": [
    {
     "name": "stdout",
     "output_type": "stream",
     "text": [
      "4 5 1 2 3 8\n",
      "1 2 3 4 5 8\n",
      "8 5 4 3 2 1\n"
     ]
    }
   ],
   "source": [
    "s = input()\n",
    "numbers = s.split()\n",
    "for i in range(len(numbers)):\n",
    "    numbers[i] = int(numbers[i])\n",
    "numbers.sort()\n",
    "print(*numbers)\n",
    "numbers.sort(reverse=True)\n",
    "print(*numbers)"
   ]
  },
  {
   "cell_type": "markdown",
   "id": "a2bbfa27",
   "metadata": {},
   "source": [
    "# Списочные выражения"
   ]
  },
  {
   "cell_type": "code",
   "execution_count": 108,
   "id": "d0407d87",
   "metadata": {},
   "outputs": [
    {
     "name": "stdout",
     "output_type": "stream",
     "text": [
      "[0, 0, 0, 0, 0, 0, 0, 0, 0, 0]\n"
     ]
    }
   ],
   "source": [
    "zeros = []\n",
    "for i in range(10):\n",
    "    zeros.append(0)\n",
    "print(zeros)"
   ]
  },
  {
   "cell_type": "code",
   "execution_count": 110,
   "id": "2e3805fa",
   "metadata": {},
   "outputs": [
    {
     "name": "stdout",
     "output_type": "stream",
     "text": [
      "[0, 0, 0, 0, 0, 0, 0, 0, 0, 0]\n"
     ]
    }
   ],
   "source": [
    "zeros = [0] * 10\n",
    "print(zeros)"
   ]
  },
  {
   "cell_type": "code",
   "execution_count": 111,
   "id": "6a8b7181",
   "metadata": {},
   "outputs": [
    {
     "name": "stdout",
     "output_type": "stream",
     "text": [
      "[0, 1, 2, 3, 4, 5, 6, 7, 8, 9]\n"
     ]
    }
   ],
   "source": [
    "numbers = []\n",
    "for i in range(10):\n",
    "    numbers.append(i)\n",
    "print(numbers)"
   ]
  },
  {
   "cell_type": "code",
   "execution_count": 112,
   "id": "45b8e1b3",
   "metadata": {},
   "outputs": [
    {
     "name": "stdout",
     "output_type": "stream",
     "text": [
      "[0, 1, 2, 3, 4, 5, 6, 7, 8, 9]\n"
     ]
    }
   ],
   "source": [
    "numbers = [i for i in range(10)]\n",
    "print(numbers)"
   ]
  },
  {
   "cell_type": "code",
   "execution_count": 113,
   "id": "15964164",
   "metadata": {},
   "outputs": [
    {
     "name": "stdout",
     "output_type": "stream",
     "text": [
      "[0, 0, 0, 0, 0, 0, 0, 0, 0, 0]\n",
      "[0, 1, 4, 9, 16, 25, 36, 49, 64, 81]\n",
      "[1000, 1331, 1728, 2197, 2744, 3375, 4096, 4913, 5832, 6859, 8000]\n",
      "['a', 'b', 'c', 'd', 'e', 'f', 'g']\n"
     ]
    }
   ],
   "source": [
    "zeros = [0 for i in range(10)]\n",
    "squares = [i ** 2 for i in range(10)]\n",
    "cubes = [i ** 3 for i in range(10, 21)]\n",
    "chars = [c for c in 'abcdefg']\n",
    "\n",
    "print(zeros)\n",
    "print(squares)\n",
    "print(cubes)\n",
    "print(chars)"
   ]
  },
  {
   "cell_type": "code",
   "execution_count": 116,
   "id": "0662ed5c",
   "metadata": {},
   "outputs": [
    {
     "name": "stdout",
     "output_type": "stream",
     "text": [
      "3\n",
      "1\n",
      "2\n",
      "3\n",
      "['1', '2', '3']\n"
     ]
    }
   ],
   "source": [
    "lines = [input() for _ in range(int(input()))]\n",
    "print(lines)"
   ]
  },
  {
   "cell_type": "code",
   "execution_count": 118,
   "id": "a9970c29",
   "metadata": {},
   "outputs": [
    {
     "name": "stdout",
     "output_type": "stream",
     "text": [
      "3\n",
      "1\n",
      "2\n",
      "3\n",
      "[1, 2, 3]\n"
     ]
    }
   ],
   "source": [
    "numbers = [int(input()) for _ in range(int(input()))]\n",
    "print(numbers)"
   ]
  },
  {
   "cell_type": "code",
   "execution_count": 119,
   "id": "6ef186e0",
   "metadata": {},
   "outputs": [
    {
     "name": "stdout",
     "output_type": "stream",
     "text": [
      "[0, 2, 4, 6, 8, 10, 12, 14, 16, 18, 20]\n"
     ]
    }
   ],
   "source": [
    "evens = [i for i in range(21) if i % 2 == 0]\n",
    "print(evens)"
   ]
  },
  {
   "cell_type": "code",
   "execution_count": 120,
   "id": "a5a6d884",
   "metadata": {},
   "outputs": [
    {
     "name": "stdout",
     "output_type": "stream",
     "text": [
      "[0, 1, 0, 2, 0, 3, 0, 4]\n"
     ]
    }
   ],
   "source": [
    "numbers = [i * j for i in range(1, 5) for j in range(2)]\n",
    "print(numbers)"
   ]
  },
  {
   "cell_type": "code",
   "execution_count": 121,
   "id": "00a3f914",
   "metadata": {},
   "outputs": [
    {
     "name": "stdout",
     "output_type": "stream",
     "text": [
      "[0, 1, 0, 2, 0, 3, 0, 4]\n"
     ]
    }
   ],
   "source": [
    "numbers = []\n",
    "\n",
    "for i in range(1, 5):\n",
    "    for j in range(2):\n",
    "        numbers.append(i * j)\n",
    "print(numbers)"
   ]
  },
  {
   "cell_type": "code",
   "execution_count": 122,
   "id": "91a5d806",
   "metadata": {},
   "outputs": [
    {
     "name": "stdout",
     "output_type": "stream",
     "text": [
      "['alse', 'rue', 'one', 'nd', 'ith', 's', 'ssert', 'reak', 'lass', 'ontinue', 'ef', 'el', 'lif', 'lse', 'xcept', 'inally', 'ry', 'or', 'rom', 'lobal', 'f', 'mport', 'n', 's', 'ambda', 'onlocal', 'ot', 'r', 'ass', 'aise', 'eturn', 'hile', 'ield']\n"
     ]
    }
   ],
   "source": [
    "keywords = ['False', 'True', 'None', 'and', 'with', 'as', 'assert', 'break', 'class', 'continue', 'def', 'del', 'elif', 'else', 'except', 'finally', 'try', 'for', 'from', 'global', 'if', 'import', 'in', 'is', 'lambda', 'nonlocal', 'not', 'or', 'pass', 'raise', 'return', 'while', 'yield']\n",
    "\n",
    "new_keywords = [c[1:] for c in keywords]\n",
    "\n",
    "print(new_keywords)"
   ]
  },
  {
   "cell_type": "code",
   "execution_count": 123,
   "id": "1c530de0",
   "metadata": {},
   "outputs": [
    {
     "name": "stdout",
     "output_type": "stream",
     "text": [
      "[5, 4, 4, 3, 4, 2, 6, 5, 5, 8, 3, 3, 4, 4, 6, 7, 3, 3, 4, 6, 2, 6, 2, 2, 6, 8, 3, 2, 4, 5, 6, 5, 5]\n"
     ]
    }
   ],
   "source": [
    "keywords = ['False', 'True', 'None', 'and', 'with', 'as', 'assert', 'break', 'class', 'continue', 'def', 'del', 'elif', 'else', 'except', 'finally', 'try', 'for', 'from', 'global', 'if', 'import', 'in', 'is', 'lambda', 'nonlocal', 'not', 'or', 'pass', 'raise', 'return', 'while', 'yield']\n",
    "\n",
    "lengths = [len(i) for i in keywords]\n",
    "\n",
    "print(lengths)"
   ]
  },
  {
   "cell_type": "code",
   "execution_count": 124,
   "id": "db729619",
   "metadata": {},
   "outputs": [
    {
     "name": "stdout",
     "output_type": "stream",
     "text": [
      "['False', 'assert', 'break', 'class', 'continue', 'except', 'finally', 'global', 'import', 'lambda', 'nonlocal', 'raise', 'return', 'while', 'yield']\n"
     ]
    }
   ],
   "source": [
    "keywords = ['False', 'True', 'None', 'and', 'with', 'as', 'assert', 'break', 'class', 'continue', 'def', 'del', 'elif', 'else', 'except', 'finally', 'try', 'for', 'from', 'global', 'if', 'import', 'in', 'is', 'lambda', 'nonlocal', 'not', 'or', 'pass', 'raise', 'return', 'while', 'yield']\n",
    "\n",
    "new_keywords = [i for i in keywords if len(i) >= 5]\n",
    "\n",
    "print(new_keywords)"
   ]
  },
  {
   "cell_type": "code",
   "execution_count": 125,
   "id": "315b2532",
   "metadata": {},
   "outputs": [
    {
     "name": "stdout",
     "output_type": "stream",
     "text": [
      "[101, 111, 121, 131, 141, 151, 161, 171, 181, 191, 202, 212, 222, 232, 242, 252, 262, 272, 282, 292, 303, 313, 323, 333, 343, 353, 363, 373, 383, 393, 404, 414, 424, 434, 444, 454, 464, 474, 484, 494, 505, 515, 525, 535, 545, 555, 565, 575, 585, 595, 606, 616, 626, 636, 646, 656, 666, 676, 686, 696, 707, 717, 727, 737, 747, 757, 767, 777, 787, 797, 808, 818, 828, 838, 848, 858, 868, 878, 888, 898, 909, 919, 929, 939, 949, 959, 969, 979, 989, 999]\n"
     ]
    }
   ],
   "source": [
    "palindromes = [i for i in range(100, 1001) if str(i) == str(i)[::-1]]\n",
    "\n",
    "print(palindromes)"
   ]
  },
  {
   "cell_type": "code",
   "execution_count": 126,
   "id": "835740c6",
   "metadata": {},
   "outputs": [
    {
     "name": "stdout",
     "output_type": "stream",
     "text": [
      "5\n",
      "1\n",
      "4\n",
      "9\n",
      "16\n",
      "25\n"
     ]
    }
   ],
   "source": [
    "numbers = [(i+1)**2 for i in range(int(input()))]\n",
    "print(*numbers, sep='\\n')"
   ]
  },
  {
   "cell_type": "code",
   "execution_count": 127,
   "id": "e12f5c6a",
   "metadata": {},
   "outputs": [
    {
     "name": "stdout",
     "output_type": "stream",
     "text": [
      "1 2 -3 4 -5\n",
      "1 8 -27 64 -125\n"
     ]
    }
   ],
   "source": [
    "print(*[int(i) ** 3 for i in input().split()])"
   ]
  },
  {
   "cell_type": "code",
   "execution_count": 128,
   "id": "1bc00ab9",
   "metadata": {},
   "outputs": [
    {
     "name": "stdout",
     "output_type": "stream",
     "text": [
      "Умей ценить того кто без тебя не может\n",
      "Умей\n",
      "ценить\n",
      "того\n",
      "кто\n",
      "без\n",
      "тебя\n",
      "не\n",
      "может\n"
     ]
    }
   ],
   "source": [
    "print(*[i[:] for i in input().split()], sep='\\n')"
   ]
  },
  {
   "cell_type": "code",
   "execution_count": 129,
   "id": "303680da",
   "metadata": {},
   "outputs": [
    {
     "name": "stdout",
     "output_type": "stream",
     "text": [
      "Число Pi примерно равно 3.1415\n",
      "31415\n"
     ]
    }
   ],
   "source": [
    "print(*[i for i in input() if i in '0123456789'], sep = '')"
   ]
  },
  {
   "cell_type": "code",
   "execution_count": 130,
   "id": "c6f14129",
   "metadata": {},
   "outputs": [
    {
     "name": "stdout",
     "output_type": "stream",
     "text": [
      "4 4 10 6 4\n",
      "16 16 100 36 16\n"
     ]
    }
   ],
   "source": [
    "print(*[int(i)**2 for i in input().split() if int(i) % 2 == 0 and int(i)**2 % 10 != 4])"
   ]
  },
  {
   "cell_type": "markdown",
   "id": "ae3b3221",
   "metadata": {},
   "source": [
    "# Сортировка списков"
   ]
  },
  {
   "cell_type": "code",
   "execution_count": 131,
   "id": "c33abbd5",
   "metadata": {},
   "outputs": [
    {
     "name": "stdout",
     "output_type": "stream",
     "text": [
      "Отсортированный список: [-67, -3, -2, 0, 1, 6, 7, 8, 9, 12, 34, 45, 99, 1000]\n"
     ]
    }
   ],
   "source": [
    "a = [1, 7, -3, 9, 0, -67, 34, 12, 45, 1000, 6,  8, -2, 99]\n",
    "n = len(a)\n",
    "\n",
    "for i in range(n - 1):\n",
    "    for j in range(n - 1 - i):\n",
    "        if a[j] > a[j + 1]:                  # если порядок элементов пары неправильный\n",
    "            a[j], a[j + 1] = a[j + 1], a[j]  # меняем элементы пары местами \n",
    "\n",
    "print('Отсортированный список:', a)"
   ]
  },
  {
   "cell_type": "code",
   "execution_count": 134,
   "id": "2d8639a7",
   "metadata": {},
   "outputs": [
    {
     "name": "stdout",
     "output_type": "stream",
     "text": [
      "[-97, -96, -95, -94, -91, -84, -84, -84, -83, -79, -78, -78, -78, -76, -76, -75, -74, -74, -73, -71, -71, -71, -68, -68, -66, -65, -62, -61, -58, -56, -55, -55, -51, -47, -41, -40, -37, -32, -29, -27, -26, -26, -24, -20, -19, -17, -17, -16, -16, -13, -11, -9, -8, -6, 0, 1, 7, 7, 11, 14, 16, 17, 17, 21, 21, 24, 25, 32, 36, 38, 38, 39, 44, 44, 47, 48, 50, 52, 56, 58, 63, 67, 69, 70, 75, 78, 79, 79, 88, 88, 88, 91, 92, 93, 93, 94, 96, 96, 97, 98]\n"
     ]
    }
   ],
   "source": [
    "a = [17, 24, 91, 96, 67, -27, 79, -71, -71, 58, 48, 88, 88, -16, -78, 96, -76, 56, 92, 1, 32, -17, 36, 88, -61, -97, -37, -84, 50, 47, 94, -6, 52, -76, 93, 14, -32, 98, -65, -16, -9, -68, -20, -40, -71, 93, -91, 44, 25, 79, 97, 0, -94, 7, -47, -96, -55, -58, -78, -78, -79, 75, 44, -56, -41, 38, 16, 70, 17, -17, -24, -83, -74, -73, 11, -26, 63, -75, -19, -13, -51, -74, 21, -8, 21, -68, -66, -84, -95, 78, 69, -29, 39, 38, -55, 7, -11, -26, -62, -84]\n",
    "n = len(a)\n",
    "\n",
    "for i in range(n - 1):\n",
    "    flag = True\n",
    "    for j in range(n - i - 1):\n",
    "        if a[j] > a[j + 1]:\n",
    "            a[j], a[j + 1] = a[j + 1], a[j]\n",
    "            flag = False\n",
    "    if flag:\n",
    "        break\n",
    "        \n",
    "print(a)"
   ]
  },
  {
   "cell_type": "code",
   "execution_count": 135,
   "id": "79d9e188",
   "metadata": {},
   "outputs": [
    {
     "name": "stdout",
     "output_type": "stream",
     "text": [
      "[-97, -96, -94, -94, -79, -77, -72, -72, -71, -71, -67, -67, -64, -64, -63, -62, -62, -61, -60, -58, -56, -52, -48, -47, -42, -41, -39, -36, -32, -31, -30, -26, -24, -23, -22, -21, -19, -16, -16, -14, -10, -8, -5, -3, -1, 0, 2, 2, 3, 3, 5, 9, 9, 14, 20, 22, 27, 32, 32, 35, 35, 39, 39, 41, 41, 43, 48, 53, 57, 57, 58, 59, 59, 59, 60, 60, 61, 62, 63, 63, 64, 66, 71, 72, 76, 78, 78, 80, 82, 84, 87, 87, 89, 90, 92, 92, 93, 94, 96, 98]\n"
     ]
    }
   ],
   "source": [
    "a = [78, -32, 5, 39, 58, -5, -63, 57, 72, 9, 53, -1, 63, -97, -21, -94, -47, 57, -8, 60, -23, -72, -22, -79, 90, 96, -41, -71, -48, 84, 89, -96, 41, -16, 94, -60, -64, -39, 60, -14, -62, -19, -3, 32, 98, 14, 43, 3, -56, 71, -71, -67, 80, 27, 92, 92, -64, 0, -77, 2, -26, 41, 3, -31, 48, 39, 20, -30, 35, 32, -58, 2, 63, 64, 66, 62, 82, -62, 9, -52, 35, -61, 87, 78, 93, -42, 87, -72, -10, -36, 61, -16, 59, 59, 22, -24, -67, 76, -94, 59]\n",
    "n = len(a)\n",
    "\n",
    "while n-1 > 0:\n",
    "    max_number = max(a[:n-1+1])\n",
    "    a.remove(max_number)\n",
    "    a.insert(n-1, max_number)\n",
    "    \n",
    "    n -= 1\n",
    "    \n",
    "print(a)"
   ]
  },
  {
   "cell_type": "code",
   "execution_count": 136,
   "id": "f0c5b332",
   "metadata": {},
   "outputs": [
    {
     "name": "stdout",
     "output_type": "stream",
     "text": [
      "Отсортированный список: [-67, -3, -2, 0, 1, 6, 7, 8, 9, 12, 34, 45, 99, 1000]\n"
     ]
    }
   ],
   "source": [
    "a = [1, 7, -3, 9, 0, -67, 34, 12, 45, 1000, 6,  8, -2, 99]\n",
    "n = len(a)\n",
    "\n",
    "for i in range(1, n): \n",
    "    elem = a[i]  # берем первый элемент из неотсортированной части списка\n",
    "    j = i\n",
    "    \n",
    "    # пока элемент слева существует и больше нашего текущего элемента\n",
    "    while j >= 1 and a[j - 1] > elem:\n",
    "        # смещаем j-й элемент отсортированной части вправо\n",
    "        a[j] = a[j - 1]\n",
    "        # сами идём влево, дальше ищем место для нашего текущего элемента\n",
    "        j -= 1\n",
    "\n",
    "    # нашли место для нащего текущего элемента из неотсортированной части\n",
    "    # и вставляем его на индекс j в отсортированной части\n",
    "    a[j] = elem\n",
    "\n",
    "\n",
    "print('Отсортированный список:', a)"
   ]
  },
  {
   "cell_type": "markdown",
   "id": "beb4cfa6",
   "metadata": {},
   "source": [
    "# Итоговая работа"
   ]
  },
  {
   "cell_type": "code",
   "execution_count": 137,
   "id": "79d8c1bc",
   "metadata": {},
   "outputs": [
    {
     "name": "stdout",
     "output_type": "stream",
     "text": [
      "21\n",
      "[2, 4, 6, 8, 10, 12, 14, 16, 18, 20]\n"
     ]
    }
   ],
   "source": [
    "n = int(input())\n",
    "numbers = []\n",
    "for i in range(n+1):\n",
    "    if i % 2 == 0 and i > 1:\n",
    "        numbers.append(i)\n",
    "print(numbers)"
   ]
  },
  {
   "cell_type": "code",
   "execution_count": 138,
   "id": "c2f682b2",
   "metadata": {},
   "outputs": [
    {
     "name": "stdout",
     "output_type": "stream",
     "text": [
      "3 1 4\n",
      "2 -2 9\n",
      "5 -1 13\n"
     ]
    }
   ],
   "source": [
    "s1 = input().split()\n",
    "s2 = input().split()\n",
    "s3 = []\n",
    "for i in range(len(s1)):\n",
    "    s1[i] = int(s1[i])\n",
    "for j in range(len(s2)):\n",
    "    s2[j] = int(s2[j])\n",
    "\n",
    "for k in range(len(s1)):\n",
    "    s3.append(s1[k] + s2[k])\n",
    "print(*s3)"
   ]
  },
  {
   "cell_type": "code",
   "execution_count": 139,
   "id": "917c24d3",
   "metadata": {},
   "outputs": [
    {
     "name": "stdout",
     "output_type": "stream",
     "text": [
      "3 4 3 -9\n",
      "3+4+3+-9=1\n"
     ]
    }
   ],
   "source": [
    "s = input().split()\n",
    "total = 0\n",
    "for i in range(len(s)):\n",
    "    s[i] = int(s[i])\n",
    "for j in range(len(s)):\n",
    "    total += s[j]\n",
    "print(*s, sep='+', end='')\n",
    "print('=', total, sep='')"
   ]
  },
  {
   "cell_type": "code",
   "execution_count": 140,
   "id": "bdb0bb0c",
   "metadata": {},
   "outputs": [
    {
     "name": "stdout",
     "output_type": "stream",
     "text": [
      "7-301-447-5820\n",
      "YES\n"
     ]
    }
   ],
   "source": [
    "s = input()\n",
    "s = s.replace('-', ' ')\n",
    "s = s.split()\n",
    "\n",
    "digits_only = True\n",
    "for i in s:\n",
    "    if not i.isdigit():\n",
    "        digits_only = False\n",
    "        break\n",
    "\n",
    "if len(s) == 4 and len(s[0]) == 1 and s[0] == '7' and len(s[1]) == 3 and len(s[2]) == 3 and len(s[3]) == 4 and digits_only:\n",
    "    print('YES')\n",
    "elif len(s) == 3 and len(s[0]) == 3 and len(s[1]) == 3 and len(s[2]) == 4 and digits_only:\n",
    "    print('YES')\n",
    "else:\n",
    "    print('NO')"
   ]
  },
  {
   "cell_type": "code",
   "execution_count": 141,
   "id": "b6886fe5",
   "metadata": {},
   "outputs": [
    {
     "name": "stdout",
     "output_type": "stream",
     "text": [
      "проспал почти всю ночь\n",
      "7\n"
     ]
    }
   ],
   "source": [
    "print(max([(len(i)) for i in input().split()]))"
   ]
  },
  {
   "cell_type": "code",
   "execution_count": 142,
   "id": "a9510a28",
   "metadata": {},
   "outputs": [
    {
     "name": "stdout",
     "output_type": "stream",
     "text": [
      "проспал почти всю ночь\n",
      "роспалпки очтипки сювки очьнки\n"
     ]
    }
   ],
   "source": [
    "print(*[i[1:] + i[0] + 'ки' for i in input().split()])"
   ]
  }
 ],
 "metadata": {
  "kernelspec": {
   "display_name": "Python 3 (ipykernel)",
   "language": "python",
   "name": "python3"
  },
  "language_info": {
   "codemirror_mode": {
    "name": "ipython",
    "version": 3
   },
   "file_extension": ".py",
   "mimetype": "text/x-python",
   "name": "python",
   "nbconvert_exporter": "python",
   "pygments_lexer": "ipython3",
   "version": "3.11.4"
  }
 },
 "nbformat": 4,
 "nbformat_minor": 5
}
