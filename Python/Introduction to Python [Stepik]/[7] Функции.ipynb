{
 "cells": [
  {
   "cell_type": "markdown",
   "id": "2b178aab",
   "metadata": {},
   "source": [
    "# Функции без параметров"
   ]
  },
  {
   "cell_type": "code",
   "execution_count": 1,
   "id": "f8762bd2",
   "metadata": {},
   "outputs": [],
   "source": [
    "def draw_box():\n",
    "    for _ in range(5):\n",
    "        print('*' * 7)"
   ]
  },
  {
   "cell_type": "code",
   "execution_count": 3,
   "id": "866ed1b0",
   "metadata": {},
   "outputs": [
    {
     "name": "stdout",
     "output_type": "stream",
     "text": [
      "*******\n",
      "*******\n",
      "*******\n",
      "*******\n",
      "*******\n",
      "\n",
      "*******\n",
      "*******\n",
      "*******\n",
      "*******\n",
      "*******\n",
      "\n",
      "*******\n",
      "*******\n",
      "*******\n",
      "*******\n",
      "*******\n",
      "\n"
     ]
    }
   ],
   "source": [
    "draw_box()\n",
    "print()\n",
    "draw_box()\n",
    "print()\n",
    "draw_box()\n",
    "print()"
   ]
  },
  {
   "cell_type": "code",
   "execution_count": 4,
   "id": "b7ce6a53",
   "metadata": {},
   "outputs": [],
   "source": [
    "def print_message():\n",
    "    print('Я - Артур,')\n",
    "    print('король британцев. ')"
   ]
  },
  {
   "cell_type": "code",
   "execution_count": 5,
   "id": "106d9c5c",
   "metadata": {},
   "outputs": [
    {
     "name": "stdout",
     "output_type": "stream",
     "text": [
      "Я - Артур,\n",
      "король британцев. \n"
     ]
    }
   ],
   "source": [
    "print_message()"
   ]
  },
  {
   "cell_type": "code",
   "execution_count": 6,
   "id": "ab89e59a",
   "metadata": {},
   "outputs": [
    {
     "name": "stdout",
     "output_type": "stream",
     "text": [
      "Я - Артур,\n",
      "король британцев. \n"
     ]
    }
   ],
   "source": [
    "# объявление функции\n",
    "def print_message():\n",
    "    print('Я - Артур,')\n",
    "    print('король британцев. ')\n",
    "\n",
    "\n",
    "# вызов функции\n",
    "print_message()"
   ]
  },
  {
   "cell_type": "code",
   "execution_count": 7,
   "id": "ec5442c1",
   "metadata": {},
   "outputs": [],
   "source": [
    "def do_nothing():\n",
    "    pass"
   ]
  },
  {
   "cell_type": "code",
   "execution_count": 8,
   "id": "29741b72",
   "metadata": {},
   "outputs": [],
   "source": [
    "do_nothing()"
   ]
  },
  {
   "cell_type": "code",
   "execution_count": 9,
   "id": "9e363f98",
   "metadata": {},
   "outputs": [
    {
     "name": "stdout",
     "output_type": "stream",
     "text": [
      "**********\n",
      "*        *\n",
      "*        *\n",
      "*        *\n",
      "*        *\n",
      "*        *\n",
      "*        *\n",
      "*        *\n",
      "*        *\n",
      "*        *\n",
      "*        *\n",
      "*        *\n",
      "*        *\n",
      "**********\n"
     ]
    }
   ],
   "source": [
    "def draw_box():\n",
    "    print('*' * 10)\n",
    "    for _ in range(12):\n",
    "        print('*', ' ' * 6, '*')\n",
    "    print('*' * 10)\n",
    "\n",
    "\n",
    "draw_box()"
   ]
  },
  {
   "cell_type": "code",
   "execution_count": 10,
   "id": "7fd5af5b",
   "metadata": {},
   "outputs": [
    {
     "name": "stdout",
     "output_type": "stream",
     "text": [
      "*\n",
      "**\n",
      "***\n",
      "****\n",
      "*****\n",
      "******\n",
      "*******\n",
      "********\n",
      "*********\n",
      "**********\n"
     ]
    }
   ],
   "source": [
    "def draw_triangle():\n",
    "    for i in range(10):\n",
    "        print((i+1) * '*')\n",
    "\n",
    "\n",
    "draw_triangle()"
   ]
  },
  {
   "cell_type": "markdown",
   "id": "f22ef07c",
   "metadata": {},
   "source": [
    "# Функции с параметрами"
   ]
  },
  {
   "cell_type": "code",
   "execution_count": 11,
   "id": "74215f90",
   "metadata": {},
   "outputs": [],
   "source": [
    "def draw_box(height, width):    # функция принимает два параметра\n",
    "    for i in range(height):\n",
    "        print('*' * width)"
   ]
  },
  {
   "cell_type": "code",
   "execution_count": 12,
   "id": "44644523",
   "metadata": {},
   "outputs": [
    {
     "name": "stdout",
     "output_type": "stream",
     "text": [
      "*******\n",
      "*******\n",
      "*******\n",
      "*******\n",
      "*******\n"
     ]
    }
   ],
   "source": [
    "draw_box(5, 7)"
   ]
  },
  {
   "cell_type": "code",
   "execution_count": 13,
   "id": "7cdffb5d",
   "metadata": {},
   "outputs": [
    {
     "name": "stdout",
     "output_type": "stream",
     "text": [
      "*********\n",
      "*********\n",
      "*********\n"
     ]
    }
   ],
   "source": [
    "n = 3\n",
    "m = 9\n",
    "draw_box(n, m)"
   ]
  },
  {
   "cell_type": "code",
   "execution_count": 14,
   "id": "60ca16df",
   "metadata": {},
   "outputs": [],
   "source": [
    "def print_text(txt, n):\n",
    "    print(txt * n)"
   ]
  },
  {
   "cell_type": "code",
   "execution_count": 15,
   "id": "16b40ac7",
   "metadata": {},
   "outputs": [
    {
     "name": "stdout",
     "output_type": "stream",
     "text": [
      "HelloHelloHelloHelloHello\n",
      "AAAAAAAAAA\n"
     ]
    }
   ],
   "source": [
    "print_text('Hello', 5)\n",
    "print_text('A', 10)"
   ]
  },
  {
   "cell_type": "code",
   "execution_count": 16,
   "id": "36c74547",
   "metadata": {},
   "outputs": [
    {
     "name": "stdout",
     "output_type": "stream",
     "text": [
      "**********\n",
      "**********\n",
      "5 7\n"
     ]
    }
   ],
   "source": [
    "def draw_box(height, width):\n",
    "    height = 2\n",
    "    width = 10\n",
    "    for i in range(height):\n",
    "        print('*' * width)\n",
    "\n",
    "n = 5\n",
    "m = 7\n",
    "draw_box(n, m)\n",
    "print(n, m)"
   ]
  },
  {
   "cell_type": "code",
   "execution_count": 17,
   "id": "ba403f8f",
   "metadata": {},
   "outputs": [
    {
     "name": "stdout",
     "output_type": "stream",
     "text": [
      "7\n",
      "5\n",
      "\n",
      "7\n",
      "77\n",
      "777\n",
      "77\n",
      "7\n"
     ]
    }
   ],
   "source": [
    "# объявление функции\n",
    "def draw_triangle(fill, base):\n",
    "    base2 = base // 2\n",
    "    for i in range(base-base2):\n",
    "        print(fill * i)\n",
    "    for j in range(base - base2, 0, -1):\n",
    "        print(fill * j)\n",
    "\n",
    "# считываем данные\n",
    "fill = input()\n",
    "base = int(input())\n",
    "\n",
    "# вызываем функцию\n",
    "draw_triangle(fill, base)"
   ]
  },
  {
   "cell_type": "code",
   "execution_count": 18,
   "id": "98e83889",
   "metadata": {},
   "outputs": [
    {
     "name": "stdout",
     "output_type": "stream",
     "text": [
      "Karim\n",
      "Alibekov\n",
      "Alimkhanovich\n",
      "AKA\n"
     ]
    }
   ],
   "source": [
    "# объявление функции\n",
    "def print_fio(name, surname, patronymic):\n",
    "    name = name[0]\n",
    "    surname = surname[0]\n",
    "    patronymic = patronymic[0]\n",
    "    print((surname+name+patronymic).upper())\n",
    "\n",
    "# считываем данные\n",
    "name, surname, patronymic = input(), input(), input()\n",
    "\n",
    "# вызываем функцию\n",
    "print_fio(name, surname, patronymic)"
   ]
  },
  {
   "cell_type": "code",
   "execution_count": 22,
   "id": "5b64aa2e",
   "metadata": {},
   "outputs": [
    {
     "name": "stdout",
     "output_type": "stream",
     "text": [
      "124123431\n",
      "21\n"
     ]
    }
   ],
   "source": [
    "# объявление функции\n",
    "def print_digit_sum(num):\n",
    "    num = str(num)\n",
    "    num = list(num)\n",
    "    counter = 0\n",
    "    \n",
    "    for i in range(len(num)):\n",
    "        num[i] = int(num[i])\n",
    "        counter += num[i]\n",
    "    print(counter)\n",
    "# считываем данные\n",
    "n = int(input())\n",
    "\n",
    "# вызываем функцию\n",
    "print_digit_sum(n)"
   ]
  },
  {
   "cell_type": "markdown",
   "id": "fd34d044",
   "metadata": {},
   "source": [
    "# Локальные и глобальные переменные"
   ]
  },
  {
   "cell_type": "code",
   "execution_count": 25,
   "id": "e375ca6a",
   "metadata": {},
   "outputs": [
    {
     "name": "stdout",
     "output_type": "stream",
     "text": [
      "В Техасе обитает 5000 птиц.\n"
     ]
    }
   ],
   "source": [
    "def print_texas():\n",
    "    birds = 5000\n",
    "    print('В Техасе обитает', birds, 'птиц.')\n",
    "    \n",
    "print_texas()"
   ]
  },
  {
   "cell_type": "code",
   "execution_count": 26,
   "id": "3bcd0ec3",
   "metadata": {},
   "outputs": [
    {
     "name": "stdout",
     "output_type": "stream",
     "text": [
      "В Техасе обитает 5000 птиц.\n",
      "В Калифорнии обитает 9000 птиц.\n"
     ]
    }
   ],
   "source": [
    "def print_texas():\n",
    "    birds = 5000\n",
    "    print('В Техасе обитает', birds, 'птиц.')\n",
    "\n",
    "def print_california():\n",
    "    birds = 9000\n",
    "    print('В Калифорнии обитает', birds, 'птиц.')\n",
    "    \n",
    "print_texas()\n",
    "print_california()"
   ]
  },
  {
   "cell_type": "code",
   "execution_count": 27,
   "id": "7dbc7d55",
   "metadata": {},
   "outputs": [
    {
     "name": "stdout",
     "output_type": "stream",
     "text": [
      "В Техасе обитает 5000 птиц.\n",
      "В Калифорнии обитает 5000 птиц.\n"
     ]
    }
   ],
   "source": [
    "birds = 5000    # глобальная переменная\n",
    "\n",
    "def print_texas():\n",
    "    print('В Техасе обитает', birds, 'птиц.')\n",
    "\n",
    "def print_california():\n",
    "    print('В Калифорнии обитает', birds, 'птиц.')\n",
    "    \n",
    "print_texas()\n",
    "print_california()"
   ]
  },
  {
   "cell_type": "code",
   "execution_count": 28,
   "id": "e83c21ed",
   "metadata": {},
   "outputs": [
    {
     "name": "stdout",
     "output_type": "stream",
     "text": [
      "В Техасе обитает 1000 птиц.\n",
      "В Калифорнии обитает 7000 птиц.\n"
     ]
    }
   ],
   "source": [
    "birds = 5000   # глобальная переменная\n",
    "\n",
    "def print_texas():\n",
    "    birds = 1000  # локальная переменная\n",
    "    print('В Техасе обитает', birds, 'птиц.')\n",
    "\n",
    "def print_california():\n",
    "    birds = 7000  # локальная переменная\n",
    "    print('В Калифорнии обитает', birds, 'птиц.')\n",
    "    \n",
    "print_texas()\n",
    "print_california()"
   ]
  },
  {
   "cell_type": "code",
   "execution_count": 29,
   "id": "4dec5233",
   "metadata": {},
   "outputs": [
    {
     "name": "stdout",
     "output_type": "stream",
     "text": [
      "В Техасе обитает 5000 птиц.\n",
      "В Калифорнии обитает 5000 птиц.\n"
     ]
    }
   ],
   "source": [
    "def print_texas():\n",
    "    global birds\n",
    "    birds = 5000\n",
    "    print('В Техасе обитает', birds, 'птиц.')\n",
    "\n",
    "def print_california():\n",
    "    print('В Калифорнии обитает', birds, 'птиц.')\n",
    "\n",
    "print_texas()\n",
    "print_california()"
   ]
  },
  {
   "cell_type": "markdown",
   "id": "35812b3d",
   "metadata": {},
   "source": [
    "# Функции с возвратом значения"
   ]
  },
  {
   "cell_type": "code",
   "execution_count": 30,
   "id": "7e0b2878",
   "metadata": {},
   "outputs": [
    {
     "name": "stdout",
     "output_type": "stream",
     "text": [
      "Bвeдитe количество градусов по Фаренгейту: 678\n",
      "358.8888888888889\n"
     ]
    }
   ],
   "source": [
    "# функция перевода градусов Фаренгейта в градусы Цельсия\n",
    "def convert_to_celsius(temp):\n",
    "    result = (5 / 9) * (temp - 32)\n",
    "    return result\n",
    "\n",
    "# основная программа\n",
    "temp = float(input('Bвeдитe количество градусов по Фаренгейту: '))\n",
    "celsius = convert_to_celsius(temp)\n",
    "print(celsius)  # градусы Цельсия"
   ]
  },
  {
   "cell_type": "code",
   "execution_count": 32,
   "id": "10f2a73c",
   "metadata": {},
   "outputs": [
    {
     "data": {
      "text/plain": [
       "358.8888888888889"
      ]
     },
     "execution_count": 32,
     "metadata": {},
     "output_type": "execute_result"
    }
   ],
   "source": [
    "def convert_to_celsius(temp):\n",
    "    return (5 / 9) * (temp - 32)\n",
    "convert_to_celsius(678)"
   ]
  },
  {
   "cell_type": "code",
   "execution_count": 34,
   "id": "c56e2347",
   "metadata": {},
   "outputs": [
    {
     "name": "stdout",
     "output_type": "stream",
     "text": [
      "Введите вашу отметку по 100-балльной системе: 98\n",
      "5\n"
     ]
    }
   ],
   "source": [
    "def convert_grade(grade):\n",
    "    if grade >= 90:\n",
    "        return 5\n",
    "    elif grade >= 80:\n",
    "        return 4\n",
    "    elif grade >= 70: \n",
    "        return 3\n",
    "    elif grade >= 60:\n",
    "        return 2\n",
    "    else:\n",
    "        return 1\n",
    "\n",
    "# основная программа\n",
    "grade = int(input('Введите вашу отметку по 100-балльной системе: '))\n",
    "print(convert_grade(grade))"
   ]
  },
  {
   "cell_type": "code",
   "execution_count": 35,
   "id": "c379bf97",
   "metadata": {},
   "outputs": [
    {
     "name": "stdout",
     "output_type": "stream",
     "text": [
      "Введите вашу отметку по 100-балльной системе: 98\n",
      "5\n"
     ]
    }
   ],
   "source": [
    "def convert_grade(grade):\n",
    "    if grade >= 90:\n",
    "        result = 5\n",
    "    elif grade >= 80:\n",
    "        result = 4\n",
    "    elif grade >= 70: \n",
    "        result = 3\n",
    "    elif grade >= 60:\n",
    "        result = 2\n",
    "    else:\n",
    "        result = 1\n",
    "    \n",
    "    return result\n",
    "\n",
    "# основная программа\n",
    "grade = int(input('Введите вашу отметку по 100-балльной системе: '))\n",
    "print(convert_grade(grade))"
   ]
  },
  {
   "cell_type": "code",
   "execution_count": 36,
   "id": "620f69fb",
   "metadata": {},
   "outputs": [],
   "source": [
    "def compute_hypotenuse(a, b):\n",
    "    c = (a ** 2 + b ** 2) ** 0.5\n",
    "    return c"
   ]
  },
  {
   "cell_type": "code",
   "execution_count": 37,
   "id": "00e4413f",
   "metadata": {},
   "outputs": [
    {
     "name": "stdout",
     "output_type": "stream",
     "text": [
      "5.0\n",
      "13.0\n",
      "1.4142135623730951\n"
     ]
    }
   ],
   "source": [
    "print(compute_hypotenuse(3, 4))\n",
    "print(compute_hypotenuse(5, 12))\n",
    "print(compute_hypotenuse(1, 1))"
   ]
  },
  {
   "cell_type": "code",
   "execution_count": 38,
   "id": "f37632f1",
   "metadata": {},
   "outputs": [
    {
     "name": "stdout",
     "output_type": "stream",
     "text": [
      "2\n",
      "4\n",
      "4.47213595499958\n"
     ]
    }
   ],
   "source": [
    "x = int(input())\n",
    "y = int(input())\n",
    "\n",
    "hypotenuse = compute_hypotenuse(x, y)\n",
    "\n",
    "print(hypotenuse)"
   ]
  },
  {
   "cell_type": "code",
   "execution_count": 39,
   "id": "f5bca8d8",
   "metadata": {},
   "outputs": [
    {
     "name": "stdout",
     "output_type": "stream",
     "text": [
      "3.2\n",
      "2.1\n",
      "6.7\n",
      "7.9\n",
      "6.77421582177598\n"
     ]
    }
   ],
   "source": [
    "def get_distance(x1, y1, x2, y2):\n",
    "    return compute_hypotenuse(x1 - x2, y1 - y2)\n",
    "\n",
    "x1, y1 = float(input()), float(input())  # считываем координаты первой точки\n",
    "x2, y2 = float(input()), float(input())  # считываем координаты второй точки\n",
    "\n",
    "print(get_distance(x1, y1, x2, y2))      # вычисляем и выводим расстояние между точками"
   ]
  },
  {
   "cell_type": "code",
   "execution_count": 40,
   "id": "18a32324",
   "metadata": {},
   "outputs": [
    {
     "name": "stdout",
     "output_type": "stream",
     "text": [
      "56432\n",
      "20\n"
     ]
    }
   ],
   "source": [
    "def sum_digits(n):\n",
    "    result = 0\n",
    "    while n > 0:\n",
    "        result += n % 10\n",
    "        n //= 10\n",
    "    return result\n",
    "\n",
    "n = int(input())\n",
    "print(sum_digits(n))      # вычисляем и выводим сумму цифр считанного числа"
   ]
  },
  {
   "cell_type": "code",
   "execution_count": 41,
   "id": "65161d8c",
   "metadata": {},
   "outputs": [
    {
     "name": "stdout",
     "output_type": "stream",
     "text": [
      "4.5\n"
     ]
    }
   ],
   "source": [
    "def compute_average(numbers):\n",
    "    return sum(numbers) / len(numbers)\n",
    "\n",
    "numbers = [1, 3, 5, 1, 6, 8, 10, 2]\n",
    "print(compute_average(numbers))      # вычисляем и выводим среднее значение элементов списка"
   ]
  },
  {
   "cell_type": "code",
   "execution_count": 42,
   "id": "93932148",
   "metadata": {},
   "outputs": [
    {
     "name": "stdout",
     "output_type": "stream",
     "text": [
      "123\n",
      "76.4322\n"
     ]
    }
   ],
   "source": [
    "# объявление функции\n",
    "def convert_to_miles(km):\n",
    "    miles = km * 0.6214\n",
    "    return miles\n",
    "\n",
    "# считываем данные\n",
    "num = int(input())\n",
    "\n",
    "# вызываем функцию\n",
    "print(convert_to_miles(num))"
   ]
  },
  {
   "cell_type": "code",
   "execution_count": 45,
   "id": "a786cd83",
   "metadata": {},
   "outputs": [
    {
     "name": "stdout",
     "output_type": "stream",
     "text": [
      "9\n",
      "30\n"
     ]
    }
   ],
   "source": [
    "# объявление функции\n",
    "def get_days(month):\n",
    "    if month in [4, 6, 9, 11]:\n",
    "        result = 30\n",
    "    elif month == 2:\n",
    "        result = 28\n",
    "    else:\n",
    "        result = 31\n",
    "    return result\n",
    "\n",
    "# считываем данные\n",
    "num = int(input())\n",
    "\n",
    "# вызываем функцию\n",
    "print(get_days(num))"
   ]
  },
  {
   "cell_type": "code",
   "execution_count": 46,
   "id": "20fbfeeb",
   "metadata": {},
   "outputs": [
    {
     "name": "stdout",
     "output_type": "stream",
     "text": [
      "34\n",
      "[1, 2, 17, 34]\n"
     ]
    }
   ],
   "source": [
    "# объявление функции\n",
    "def get_factors(num):\n",
    "    numbers = []\n",
    "    for i in range(1, num+1):\n",
    "        if num % i == 0:\n",
    "            numbers.append(i)\n",
    "    return numbers\n",
    "\n",
    "# считываем данные\n",
    "n = int(input())\n",
    "\n",
    "# вызываем функцию\n",
    "print(get_factors(n))"
   ]
  },
  {
   "cell_type": "code",
   "execution_count": 47,
   "id": "c7c46d3d",
   "metadata": {},
   "outputs": [
    {
     "name": "stdout",
     "output_type": "stream",
     "text": [
      "34\n",
      "4\n"
     ]
    }
   ],
   "source": [
    "# объявление функции\n",
    "def number_of_factors(num):\n",
    "    numbers = []\n",
    "    for i in range(1, num+1):\n",
    "        if num % i == 0:\n",
    "            numbers.append(i)\n",
    "    return len(numbers)\n",
    "\n",
    "# считываем данные\n",
    "n = int(input())\n",
    "\n",
    "# вызываем функцию\n",
    "print(number_of_factors(n))"
   ]
  },
  {
   "cell_type": "code",
   "execution_count": 48,
   "id": "62c17896",
   "metadata": {},
   "outputs": [
    {
     "name": "stdout",
     "output_type": "stream",
     "text": [
      "abcdabcaaa\n",
      "a\n",
      "[0, 4, 7, 8, 9]\n"
     ]
    }
   ],
   "source": [
    "# объявление функции\n",
    "def find_all(target, symbol):\n",
    "    letters = list(target)\n",
    "    final = []\n",
    "    \n",
    "    for i in range(len(target)):\n",
    "        if target[i] == symbol:\n",
    "            final.append(i)\n",
    "    return final\n",
    "\n",
    "# считываем данные\n",
    "s = input()\n",
    "char = input()\n",
    "\n",
    "# вызываем функцию\n",
    "print(find_all(s, char))"
   ]
  },
  {
   "cell_type": "code",
   "execution_count": 49,
   "id": "0a6fa0bb",
   "metadata": {},
   "outputs": [
    {
     "name": "stdout",
     "output_type": "stream",
     "text": [
      "1 2 -3 4 10\n",
      "-9 3 2 1 8 4 0\n",
      "[-9, -3, 0, 1, 1, 2, 2, 3, 4, 4, 8, 10]\n"
     ]
    }
   ],
   "source": [
    "# объявление функции\n",
    "def merge(list1, list2):\n",
    "    list1.sort()\n",
    "    list2.sort()\n",
    "    list3 = list1 + list2\n",
    "    list3.sort()\n",
    "    return list3\n",
    "    \n",
    "# считываем данные\n",
    "numbers1 = [int(c) for c in input().split()]\n",
    "numbers2 = [int(c) for c in input().split()]\n",
    "\n",
    "# вызываем функцию\n",
    "print(merge(numbers1, numbers2))"
   ]
  },
  {
   "cell_type": "code",
   "execution_count": 50,
   "id": "f12e274f",
   "metadata": {},
   "outputs": [
    {
     "name": "stdout",
     "output_type": "stream",
     "text": [
      "[0, 3, 10, 11, 11, 12, 12, 20, 24, 26, 47, 47, 48, 53, 57, 58, 63, 65, 70, 77, 79, 80, 81, 84, 84, 90, 95]\n"
     ]
    }
   ],
   "source": [
    "def merge(list1, list2):\n",
    "    result = list1 + list2   # создаем результирующий список\n",
    "    result.sort()            # сортируем список встроенным методом sort()\n",
    "    return result            # возвращаем отсортированный список\n",
    "\n",
    "\n",
    "list1 = [3, 10, 11, 12, 47, 57, 58, 63, 77, 79, 80, 95]\n",
    "list2 = [0, 11, 12, 20, 24, 26, 47, 48, 53, 65, 70, 81, 84, 84, 90]\n",
    "list3 = merge(list1, list2)  # вызываем функцию слияния двух отсортированных списков\n",
    "\n",
    "print(list3)"
   ]
  },
  {
   "cell_type": "code",
   "execution_count": 51,
   "id": "d851e51c",
   "metadata": {},
   "outputs": [
    {
     "name": "stdout",
     "output_type": "stream",
     "text": [
      "[0, 3, 10, 11, 11, 12, 12, 20, 24, 26, 47, 47, 48, 53, 57, 58, 63, 65, 70, 77, 79, 80, 81, 84, 84, 90, 95]\n"
     ]
    }
   ],
   "source": [
    "def quick_merge(list1, list2):\n",
    "    result = []\n",
    "\n",
    "    p1 = 0  # указатель на первый элемент списка list1\n",
    "    p2 = 0  # указатель на первый элемент списка list2\n",
    "\n",
    "    while p1 < len(list1) and p2 < len(list2):  # пока не закончился какой-нибудь из списков\n",
    "        if list1[p1] <= list2[p2]:\n",
    "            result.append(list1[p1])\n",
    "            p1 += 1\n",
    "        else:\n",
    "            result.append(list2[p2])\n",
    "            p2 += 1\n",
    "\n",
    "    if p1 < len(list1):   # прицепление остатка\n",
    "        result += list1[p1:]\n",
    "    else:                 # иначе прицепляем остаток другого списка\n",
    "        result += list2[p2:]\n",
    "    \n",
    "    return result\n",
    "\n",
    "list1 = [3, 10, 11, 12, 47, 57, 58, 63, 77, 79, 80, 95]\n",
    "list2 = [0, 11, 12, 20, 24, 26, 47, 48, 53, 65, 70, 81, 84, 84, 90]\n",
    "list3 = quick_merge(list1, list2)\n",
    "print(list3)"
   ]
  },
  {
   "cell_type": "code",
   "execution_count": 57,
   "id": "9b10d472",
   "metadata": {},
   "outputs": [
    {
     "name": "stdout",
     "output_type": "stream",
     "text": [
      "4\n",
      "10 20\n",
      "1 15\n",
      "5 17\n",
      "8 13 19\n",
      "1 5 8 10 13 15 17 19 20\n"
     ]
    }
   ],
   "source": [
    "# put your python code here\n",
    "def quick_merge(list1, list2):\n",
    "    result = []\n",
    "    p1 = 0  # указатель на первый элемент списка list1\n",
    "    p2 = 0  # указатель на первый элемент списка list2\n",
    "    while p1 < len(list1) and p2 < len(list2):  # пока не закончился хотя бы один список\n",
    "        if list1[p1] <= list2[p2]:\n",
    "            result.append(list1[p1])\n",
    "            p1 += 1\n",
    "        else:\n",
    "            result.append(list2[p2])\n",
    "            p2 += 1\n",
    "    if p1 < len(list1):   # прицепление остатка\n",
    "        result += list1[p1:]\n",
    "    if p2 < len(list2):\n",
    "        result += list2[p2:]\n",
    "    return result\n",
    "\n",
    "n = int(input())\n",
    "numbers1 = [int(i) for i in input().split()]\n",
    "for _ in range(1, n):\n",
    "    numbers1 = quick_merge(numbers1, [int(i) for i in input().split()])\n",
    "print(*numbers1)"
   ]
  },
  {
   "cell_type": "code",
   "execution_count": 58,
   "id": "e445db19",
   "metadata": {},
   "outputs": [
    {
     "name": "stdout",
     "output_type": "stream",
     "text": [
      "14\n",
      "Это число четное. \n"
     ]
    }
   ],
   "source": [
    "def is_even(number):\n",
    "    if number % 2 == 0:\n",
    "        return True\n",
    "    else:\n",
    "        return False\n",
    "    \n",
    "number = int(input())\n",
    "if is_even(number):\n",
    "    print('Это число четное. ')\n",
    "else:\n",
    "    print('Это число нечетное.')"
   ]
  },
  {
   "cell_type": "code",
   "execution_count": 64,
   "id": "f09e8827",
   "metadata": {},
   "outputs": [
    {
     "name": "stdout",
     "output_type": "stream",
     "text": [
      "Введите номер модели: 123\n",
      "Допустимыми номерами моделей являются 100, 200 и 300.\n",
      "333\n",
      "Допустимыми номерами моделей являются 100, 200 и 300.\n",
      "200\n"
     ]
    }
   ],
   "source": [
    "def is_invalid(model):\n",
    "    if model != 100 and model != 200 and model != 300:\n",
    "        return True\n",
    "    else:\n",
    "        return False\n",
    "\n",
    "model = int(input('Введите номер модели: '))\n",
    "    \n",
    "while is_invalid(model):\n",
    "    print('Допустимыми номерами моделей являются 100, 200 и 300.')\n",
    "    model = int(input())"
   ]
  },
  {
   "cell_type": "code",
   "execution_count": 66,
   "id": "8b37964f",
   "metadata": {},
   "outputs": [
    {
     "name": "stdout",
     "output_type": "stream",
     "text": [
      "3\n",
      "7\n",
      "5\n",
      "True\n"
     ]
    }
   ],
   "source": [
    "# объявление функции\n",
    "def is_valid_triangle(side1, side2, side3):\n",
    "    if side1 + side2 > side3 and side1 + side3 > side2 and side2 + side3 > side1:\n",
    "        return True\n",
    "    else:\n",
    "        return False\n",
    "\n",
    "# считываем данные\n",
    "a, b, c = int(input()), int(input()), int(input())\n",
    "\n",
    "# вызываем функцию\n",
    "print(is_valid_triangle(a, b, c)) "
   ]
  },
  {
   "cell_type": "code",
   "execution_count": 67,
   "id": "cfc0d543",
   "metadata": {},
   "outputs": [
    {
     "name": "stdout",
     "output_type": "stream",
     "text": [
      "345\n",
      "False\n"
     ]
    }
   ],
   "source": [
    "# объявление функции\n",
    "def is_prime(num):\n",
    "    counter = 0\n",
    "    for i in range(2, n+1):\n",
    "        if n % i == 0:\n",
    "            counter += 1\n",
    "        else:\n",
    "            counter == 0\n",
    "    if counter == 1:\n",
    "        return True\n",
    "    else:\n",
    "        return False\n",
    "\n",
    "# считываем данные\n",
    "n = int(input())\n",
    "\n",
    "# вызываем функцию\n",
    "print(is_prime(n))"
   ]
  },
  {
   "cell_type": "code",
   "execution_count": 68,
   "id": "a6a45f2c",
   "metadata": {},
   "outputs": [
    {
     "name": "stdout",
     "output_type": "stream",
     "text": [
      "345\n",
      "347\n"
     ]
    }
   ],
   "source": [
    "# объявление функции\n",
    "def is_prime(num):\n",
    "    counter = 0\n",
    "    for i in range(2, num+1):\n",
    "        if num % i == 0:\n",
    "            counter += 1\n",
    "        else:\n",
    "            counter == 0\n",
    "    if counter == 1:\n",
    "        return True\n",
    "    else:\n",
    "        return False\n",
    "\n",
    "def get_next_prime(num):\n",
    "    \n",
    "    while num > 0:\n",
    "        if is_prime(num):\n",
    "            return num\n",
    "        else:\n",
    "            num += 1\n",
    "            \n",
    "\n",
    "# считываем данные\n",
    "n = int(input())+1\n",
    "\n",
    "# вызываем функцию\n",
    "print(get_next_prime(n))"
   ]
  },
  {
   "cell_type": "code",
   "execution_count": 70,
   "id": "d13502af",
   "metadata": {},
   "outputs": [
    {
     "name": "stdout",
     "output_type": "stream",
     "text": [
      "Bncd_943-.-s@\n",
      "True\n"
     ]
    }
   ],
   "source": [
    "# объявление функции\n",
    "def is_password_good(password):\n",
    "    password = txt.split()\n",
    "    counter_digit = 0\n",
    "    counter_ABC = 0\n",
    "    counter_abc = 0\n",
    "    for i in txt:\n",
    "        if i in '123456789':\n",
    "            counter_digit += 1\n",
    "    for i in txt:\n",
    "        if i in 'ABCDEFGHIJKLMNOPQRSTUVWXYZ':\n",
    "            counter_ABC += 1\n",
    "    for i in txt:\n",
    "        if i in 'abcdefghijklmnopqrstuvwxyz':\n",
    "            counter_abc += 1\n",
    "    if len(txt) >= 8 and counter_digit >= 1 and counter_ABC >= 1 and counter_abc >= 1:\n",
    "        return True\n",
    "    else:\n",
    "        return False\n",
    "    \n",
    "\n",
    "# считываем данные\n",
    "txt = input()\n",
    "\n",
    "# вызываем функцию\n",
    "print(is_password_good(txt))"
   ]
  },
  {
   "cell_type": "code",
   "execution_count": 72,
   "id": "390fd9c2",
   "metadata": {},
   "outputs": [
    {
     "name": "stdout",
     "output_type": "stream",
     "text": [
      "moscow\n",
      "moscos\n",
      "True\n"
     ]
    }
   ],
   "source": [
    "# объявление функции\n",
    "def is_one_away(word1, word2):\n",
    "    word1 = list(word1)\n",
    "    word2 = list(word2)\n",
    "    counter = 0\n",
    "    for i in range(len(word1)):\n",
    "        if word1[i] == word2[i]:\n",
    "            counter += 1\n",
    "    if len(word1) == len(word2) and counter == len(word1) - 1:\n",
    "        return True\n",
    "    else:\n",
    "        return False\n",
    "\n",
    "# считываем данные\n",
    "txt1 = input()\n",
    "txt2 = input()\n",
    "\n",
    "# вызываем функцию\n",
    "print(is_one_away(txt1, txt2))"
   ]
  },
  {
   "cell_type": "code",
   "execution_count": 74,
   "id": "cd7b8001",
   "metadata": {},
   "outputs": [
    {
     "name": "stdout",
     "output_type": "stream",
     "text": [
      "Gabler Ruby - burrel bag!\n",
      "True\n"
     ]
    }
   ],
   "source": [
    "# объявление функции\n",
    "def is_palindrome(text):\n",
    "    text = text.lower()\n",
    "   \n",
    "    text = text.replace('.', '')\n",
    "    text = text.replace(',', '')\n",
    "    text = text.replace('-', '')\n",
    "    text = text.replace('!', '')\n",
    "    text = text.replace('?', '')\n",
    "    text = text.replace(' ', '')\n",
    "    \n",
    "    text = list(text)\n",
    "    if text == text[::-1]:\n",
    "        return True\n",
    "    else:\n",
    "        return False\n",
    "    \n",
    "\n",
    "# считываем данные\n",
    "txt = input()\n",
    "\n",
    "# вызываем функцию\n",
    "print(is_palindrome(txt))"
   ]
  },
  {
   "cell_type": "code",
   "execution_count": 75,
   "id": "89fe7f4c",
   "metadata": {},
   "outputs": [
    {
     "name": "stdout",
     "output_type": "stream",
     "text": [
      "15551:7:290\n",
      "True\n"
     ]
    }
   ],
   "source": [
    "# объявление функции\n",
    "def is_valid_password(password):\n",
    "    counter = 0\n",
    "    password = password.replace(':', ' ')\n",
    "    password = password.split()\n",
    "    if password[0] == password[0][::-1]:\n",
    "        counter += 1\n",
    "    for i in range(len(password)):\n",
    "        password[i] = int(password[i])\n",
    "    for i in range(2, password[1]+1):\n",
    "        if password[1] % i == 0:\n",
    "            counter += 1\n",
    "    if password[2] % 2 == 0:\n",
    "        counter += 1\n",
    "    if counter == 3 and len(password) == 3:\n",
    "        return True\n",
    "    else: \n",
    "        return False\n",
    "        \n",
    "\n",
    "# считываем данные\n",
    "psw = input()\n",
    "\n",
    "# вызываем функцию\n",
    "print(is_valid_password(psw))"
   ]
  },
  {
   "cell_type": "code",
   "execution_count": 76,
   "id": "f84a9aa4",
   "metadata": {},
   "outputs": [
    {
     "name": "stdout",
     "output_type": "stream",
     "text": [
      "()()()\n",
      "True\n"
     ]
    }
   ],
   "source": [
    "# объявление функции\n",
    "def is_correct_bracket(text):\n",
    "    text = list(text)\n",
    "    counter = 0\n",
    "    k = len(text)\n",
    "    i = 0\n",
    "    while k > 0:\n",
    "        if text[i] == '(':\n",
    "            counter += 1\n",
    "        elif text[i] == ')':\n",
    "            counter -= 1\n",
    "        if counter < 0:\n",
    "            return False\n",
    "        i += 1\n",
    "        k -=1\n",
    "    if counter == 0:\n",
    "        return True\n",
    "    else:\n",
    "        return False\n",
    "            \n",
    "            \n",
    "\n",
    "# считываем данные\n",
    "txt = input()\n",
    "\n",
    "# вызываем функцию\n",
    "print(is_correct_bracket(txt))"
   ]
  },
  {
   "cell_type": "code",
   "execution_count": 77,
   "id": "22643014",
   "metadata": {},
   "outputs": [
    {
     "name": "stdout",
     "output_type": "stream",
     "text": [
      "PythonIsGood\n",
      "python_is_good\n"
     ]
    }
   ],
   "source": [
    "# объявление функции\n",
    "def convert_to_python_case(text):\n",
    "    text = text[0].lower() + text[1:]\n",
    "    text = list(text)\n",
    "    k = len(text)\n",
    "    i = 0 \n",
    "    while k > 0:\n",
    "        if text[i].isupper():\n",
    "            text.insert(i, '_')\n",
    "            i += 1\n",
    "        k -= 1\n",
    "        i += 1\n",
    "    for i in range(len(text)):\n",
    "        text[i] = text[i].lower()\n",
    "    text = ''.join(text)\n",
    "    return text\n",
    "\n",
    "# считываем данные\n",
    "txt = input()\n",
    "\n",
    "# вызываем функцию\n",
    "print(convert_to_python_case(txt))"
   ]
  },
  {
   "cell_type": "code",
   "execution_count": 78,
   "id": "0ccc92d6",
   "metadata": {},
   "outputs": [
    {
     "name": "stdout",
     "output_type": "stream",
     "text": [
      "4\n",
      "8\n",
      "16\n"
     ]
    }
   ],
   "source": [
    "def get_powers(num):\n",
    "    return num**2, num**3, num**4\n",
    "\n",
    "a, b, c = get_powers(2)\n",
    "print(a)\n",
    "print(b)\n",
    "print(c)"
   ]
  },
  {
   "cell_type": "code",
   "execution_count": 79,
   "id": "b77ddc09",
   "metadata": {},
   "outputs": [
    {
     "name": "stdout",
     "output_type": "stream",
     "text": [
      "Решением системы являются числа x = 1.3 y = -0.2\n"
     ]
    }
   ],
   "source": [
    "def solve(a, b, c, d, e, f):\n",
    "    x = (d * e - b * f)/(a * d - b * c)\n",
    "    y = (a * f - c * e)/(a * d - b * c)\n",
    "    return x, y\n",
    "\n",
    "xsol, ysol = solve(2, 3, 4, 1, 2, 5)\n",
    "print('Решением системы являются числа', 'x =', xsol, 'y =', ysol)"
   ]
  },
  {
   "cell_type": "code",
   "execution_count": 80,
   "id": "313d3f74",
   "metadata": {},
   "outputs": [
    {
     "name": "stdout",
     "output_type": "stream",
     "text": [
      "1\n",
      "1\n",
      "2\n",
      "2\n",
      "1.5 1.5\n"
     ]
    }
   ],
   "source": [
    "# объявление функции\n",
    "def get_middle_point(x1, y1, x2, y2):\n",
    "    x = (x1 + x2) / 2\n",
    "    y = (y1 + y2) / 2\n",
    "    return x, y\n",
    "\n",
    "# считываем данные\n",
    "x_1, y_1 = int(input()), int(input())\n",
    "x_2, y_2 = int(input()), int(input())\n",
    "\n",
    "# вызываем функцию\n",
    "x, y = get_middle_point(x_1, y_1, x_2, y_2)\n",
    "print(x, y)"
   ]
  },
  {
   "cell_type": "code",
   "execution_count": 82,
   "id": "f7d1c6ba",
   "metadata": {},
   "outputs": [
    {
     "name": "stdout",
     "output_type": "stream",
     "text": [
      "3\n",
      "18.84955592153876 28.274333882308138\n"
     ]
    }
   ],
   "source": [
    "from math import *\n",
    "\n",
    "# объявление функции\n",
    "def get_circle(radius):\n",
    "    \n",
    "    C = 2*pi*r\n",
    "    S = pi*(r**2)\n",
    "    return C, S\n",
    "\n",
    "# считываем данные\n",
    "r = float(input())\n",
    "\n",
    "# вызываем функцию\n",
    "length, square = get_circle(r)\n",
    "print(length, square)"
   ]
  },
  {
   "cell_type": "code",
   "execution_count": 83,
   "id": "6fc551bc",
   "metadata": {},
   "outputs": [
    {
     "name": "stdout",
     "output_type": "stream",
     "text": [
      "3\n",
      "4\n",
      "-2\n",
      "-1.7207592200561266 0.38742588672279316\n"
     ]
    }
   ],
   "source": [
    "# объявление функции\n",
    "def solve(a, b, c):\n",
    "    \n",
    "    discriminant = (b**2)-(4*a*c)\n",
    "    d = discriminant\n",
    "    \n",
    "    if d > 0:\n",
    "        root1 = (-b + sqrt(d))/(2*a)\n",
    "        root2 = (-b - sqrt(d))/(2*a)\n",
    "        return (min(root1, root2)), (max(root1, root2))\n",
    "        \n",
    "    elif d == 0:\n",
    "        root1 = -(b/(2*a))\n",
    "        root2 = root1\n",
    "        return root1, root2\n",
    "\n",
    "# считываем данные\n",
    "a, b, c = int(input()), int(input()), int(input())\n",
    "\n",
    "# вызываем функцию\n",
    "x1, x2 = solve(a, b, c)\n",
    "print(x1, x2)"
   ]
  },
  {
   "cell_type": "markdown",
   "id": "2ac8a260",
   "metadata": {},
   "source": [
    "# Итоговая работа"
   ]
  },
  {
   "cell_type": "code",
   "execution_count": 84,
   "id": "85a222f5",
   "metadata": {},
   "outputs": [
    {
     "name": "stdout",
     "output_type": "stream",
     "text": [
      "       *\n",
      "      ***\n",
      "     *****\n",
      "    *******\n",
      "   *********\n",
      "  ***********\n",
      " *************\n",
      "***************\n"
     ]
    }
   ],
   "source": [
    "# объявление функции\n",
    "def draw_triangle():\n",
    "    for i in range(1, 9):\n",
    "        print((8-i) * ' ' + '*' * (i+(i-1)))\n",
    "\n",
    "# основная программа\n",
    "draw_triangle()  # вызов функции"
   ]
  },
  {
   "cell_type": "code",
   "execution_count": 85,
   "id": "3321e6f5",
   "metadata": {},
   "outputs": [
    {
     "name": "stdout",
     "output_type": "stream",
     "text": [
      "45\n",
      "6280\n"
     ]
    }
   ],
   "source": [
    "# объявление функции\n",
    "def get_shipping_cost(quantity):\n",
    "    thousand = 1000\n",
    "    if quantity == 1:\n",
    "        return thousand\n",
    "    elif quantity > 1:\n",
    "        return thousand + (quantity - 1) * 120\n",
    "\n",
    "# считываем данные\n",
    "n = int(input())\n",
    "\n",
    "# вызываем функцию\n",
    "print(get_shipping_cost(n))"
   ]
  },
  {
   "cell_type": "code",
   "execution_count": 86,
   "id": "0b73b8fa",
   "metadata": {},
   "outputs": [
    {
     "name": "stdout",
     "output_type": "stream",
     "text": [
      "5\n",
      "2\n",
      "10\n"
     ]
    }
   ],
   "source": [
    "# объявление функции\n",
    "def compute_binom(n, k):\n",
    "    binom = factorial(n) / (factorial(k) * factorial(n-k))\n",
    "    return int(binom)\n",
    "\n",
    "# считываем данные\n",
    "n = int(input())\n",
    "k = int(input())\n",
    "\n",
    "# вызываем функцию\n",
    "print(compute_binom(n, k))"
   ]
  },
  {
   "cell_type": "code",
   "execution_count": 87,
   "id": "4c15dc88",
   "metadata": {},
   "outputs": [
    {
     "name": "stdout",
     "output_type": "stream",
     "text": [
      "34\n",
      "тридцать четыре\n"
     ]
    }
   ],
   "source": [
    "# объявление функции\n",
    "def number_to_words(num):\n",
    "    i = 0\n",
    "    words = ['ноль', 'один', 'два', 'три', 'четыре', 'пять', 'шесть', 'семь', 'восемь', 'девять', 'десять', 'одиннадцать', 'двенадцать', 'тринадцать', 'четырнадцать', 'пятнадцать', 'шестнадцать', 'семнадцать', 'восемнадцать', 'девятнадцать', 'двадцать', 'двадцать один', 'двадцать два', 'двадцать три', 'двадцать четыре', 'двадцать пять', 'двадцать шесть', 'двадцать семь', 'двадцать восемь', 'двадцать девять', 'тридцать', 'тридцать один', 'тридцать два', 'тридцать три', 'тридцать четыре', 'тридцать пять', 'тридцать шесть', 'тридцать семь', 'тридцать восемь', 'тридцать девять', 'сорок', 'сорок один', 'сорок два', 'сорок три', 'сорок четыре', 'сорок пять', 'сорок шесть', 'сорок семь', 'сорок восемь', 'сорок девять', 'пятьдесят', 'пятьдесят один', 'пятьдесят два', 'пятьдесят три', 'пятьдесят четыре', 'пятьдесят пять', 'пятьдесят шесть', 'пятьдесят семь', 'пятьдесят восемь', 'пятьдесят девять', 'шестьдесят', 'шестьдесят один', 'шестьдесят два', 'шестьдесят три', 'шестьдесят четыре', 'шестьдесят пять', 'шестьдесят шесть', 'шестьдесят семь', 'шестьдесят восемь', 'шестьдесят девять', 'семьдесят', 'семьдесят один', 'семьдесят два', 'семьдесят три', 'семьдесят четыре', 'семьдесят пять', 'семьдесят шесть', 'семьдесят семь', 'семьдесят восемь', 'семьдесят девять', 'восемьдесят', 'восемьдесят один', 'восемьдесят два', 'восемьдесят три', 'восемьдесят четыре', 'восемьдесят пять', 'восемьдесят шесть', 'восемьдесят семь', 'восемьдесят восемь', 'восемьдесят девять', 'девяносто', 'девяносто один', 'девяносто два', 'девяносто три', 'девяносто четыре', 'девяносто пять', 'девяносто шесть', 'девяносто семь', 'девяносто восемь', 'девяносто девять']\n",
    "    while num != i:\n",
    "        \n",
    "        i += 1\n",
    "        \n",
    "    return words[i]\n",
    "        \n",
    "        \n",
    "\n",
    "# считываем данные\n",
    "n = int(input())\n",
    "\n",
    "# вызываем функцию\n",
    "print(number_to_words(n))"
   ]
  },
  {
   "cell_type": "code",
   "execution_count": 88,
   "id": "2b8cc189",
   "metadata": {},
   "outputs": [
    {
     "name": "stdout",
     "output_type": "stream",
     "text": [
      "ru\n",
      "12\n",
      "декабрь\n"
     ]
    }
   ],
   "source": [
    "# объявление функции\n",
    "def get_month(language, number):\n",
    "    ru = ['январь', 'февраль', 'март', 'апрель', 'май', 'июнь', 'июль', 'август', 'сентябрь', 'октябрь', 'ноябрь', 'декабрь']\n",
    "    en = ['january', 'february', 'march', 'april', 'may', 'june', 'july', 'august', 'september', 'october', 'november', 'december']\n",
    "    \n",
    "    if language == 'ru':\n",
    "        return ru[number-1]\n",
    "    elif language == 'en':\n",
    "        return en[number-1]\n",
    "# считываем данные\n",
    "lan = input()\n",
    "num = int(input())\n",
    "\n",
    "# вызываем функцию\n",
    "print(get_month(lan, num))"
   ]
  },
  {
   "cell_type": "code",
   "execution_count": 90,
   "id": "69bcac40",
   "metadata": {},
   "outputs": [
    {
     "name": "stdout",
     "output_type": "stream",
     "text": [
      "02.06.2012\n",
      "True\n"
     ]
    }
   ],
   "source": [
    "# объявление функции\n",
    "def is_magic(date):\n",
    "    date = date.replace('.', ' ')\n",
    "    date = date.split()\n",
    "    date[2] = date[2][2:]\n",
    "    for i in range(len(date)):\n",
    "        date[i] = int(date[i])\n",
    "    if date[0] * date[1] == date[2]:\n",
    "        return True\n",
    "    else:\n",
    "        return False\n",
    "\n",
    "# считываем данные\n",
    "date = input()\n",
    "\n",
    "# вызываем функцию\n",
    "print(is_magic(date))"
   ]
  },
  {
   "cell_type": "code",
   "execution_count": 91,
   "id": "87e37d70",
   "metadata": {},
   "outputs": [
    {
     "name": "stdout",
     "output_type": "stream",
     "text": [
      "Jackdaws love my big sphinx of quartz\n",
      "True\n"
     ]
    }
   ],
   "source": [
    "# объявление функции\n",
    "def is_pangram(text):\n",
    "    text = text.lower()\n",
    "    text = text.replace(' ', '')\n",
    "    letters = ['a', 'b', 'c', 'd', 'e', 'f', 'g', 'h', 'i', 'j', 'k', 'l', 'm', 'n', 'o', 'p', 'q', 'r', 's', 't', 'u', 'v', 'w', 'x', 'y', 'z']\n",
    "    i = 0\n",
    "    \n",
    "    while len(text) != i:\n",
    "        if text[i] in letters:\n",
    "            letters.remove(text[i])\n",
    "        i += 1\n",
    "    if letters == []:\n",
    "        return True\n",
    "    else:\n",
    "        return False\n",
    "\n",
    "# считываем данные\n",
    "text = input()\n",
    "\n",
    "# вызываем функцию\n",
    "print(is_pangram(text))"
   ]
  }
 ],
 "metadata": {
  "kernelspec": {
   "display_name": "Python 3 (ipykernel)",
   "language": "python",
   "name": "python3"
  },
  "language_info": {
   "codemirror_mode": {
    "name": "ipython",
    "version": 3
   },
   "file_extension": ".py",
   "mimetype": "text/x-python",
   "name": "python",
   "nbconvert_exporter": "python",
   "pygments_lexer": "ipython3",
   "version": "3.11.4"
  }
 },
 "nbformat": 4,
 "nbformat_minor": 5
}
