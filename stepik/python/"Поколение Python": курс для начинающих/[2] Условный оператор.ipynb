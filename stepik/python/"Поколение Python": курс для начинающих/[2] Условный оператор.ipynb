{
 "cells": [
  {
   "cell_type": "markdown",
   "id": "ed46fe9d",
   "metadata": {},
   "source": [
    "# Выбор из двух"
   ]
  },
  {
   "cell_type": "code",
   "execution_count": 1,
   "id": "bef8f289",
   "metadata": {},
   "outputs": [
    {
     "name": "stdout",
     "output_type": "stream",
     "text": [
      "Какой язык программирования мы изучаем?Python\n",
      "Верно! Мы ботаем Python =)\n",
      "Python - отличный язык!\n"
     ]
    }
   ],
   "source": [
    "answer = input('Какой язык программирования мы изучаем?')\n",
    "\n",
    "if answer == 'Python':\n",
    "    print('Верно! Мы ботаем Python =)')\n",
    "    print('Python - отличный язык!')\n",
    "else:\n",
    "    print('Не совсем так!')"
   ]
  },
  {
   "cell_type": "code",
   "execution_count": 2,
   "id": "85b551f2",
   "metadata": {},
   "outputs": [
    {
     "name": "stdout",
     "output_type": "stream",
     "text": [
      "4\n",
      "8\n",
      "4 меньше чем 8\n",
      "4 не равно 8\n"
     ]
    }
   ],
   "source": [
    "num1 = int(input())\n",
    "num2 = int(input())\n",
    "\n",
    "if num1 < num2:\n",
    "    print(num1, 'меньше чем', num2)\n",
    "if num1 > num2:\n",
    "    print(num1, 'больше чем', num2)\n",
    "\n",
    "if num1 == num2:  # используем двойное равенство\n",
    "    print(num1, 'равно', num2)\n",
    "if num1 != num2:\n",
    "    print(num1, 'не равно', num2)"
   ]
  },
  {
   "cell_type": "code",
   "execution_count": 4,
   "id": "ca763781",
   "metadata": {},
   "outputs": [
    {
     "name": "stdout",
     "output_type": "stream",
     "text": [
      "45\n",
      "Вы взрослый\n"
     ]
    }
   ],
   "source": [
    "age = int(input())\n",
    "if 3 <= age <= 6:\n",
    "    print('Вы ребёнок')\n",
    "else:\n",
    "    print('Вы взрослый')"
   ]
  },
  {
   "cell_type": "code",
   "execution_count": 5,
   "id": "a7dceb03",
   "metadata": {},
   "outputs": [
    {
     "name": "stdout",
     "output_type": "stream",
     "text": [
      "5\n",
      "5\n",
      "5\n",
      "числа равны\n"
     ]
    }
   ],
   "source": [
    "a, b, c = int(input()), int(input()), int(input())\n",
    "if a != b != c:\n",
    "    print('числа не равны')\n",
    "else:\n",
    "    print('числа равны')"
   ]
  },
  {
   "cell_type": "code",
   "execution_count": 6,
   "id": "c7a5a044",
   "metadata": {},
   "outputs": [
    {
     "name": "stdout",
     "output_type": "stream",
     "text": [
      "Go\n",
      "НЕТ\n"
     ]
    }
   ],
   "source": [
    "word = input()\n",
    "\n",
    "if word == 'Python':\n",
    "    print('ДА')\n",
    "else:\n",
    "    print('НЕТ')"
   ]
  },
  {
   "cell_type": "code",
   "execution_count": 7,
   "id": "cadaf703",
   "metadata": {},
   "outputs": [
    {
     "name": "stdout",
     "output_type": "stream",
     "text": [
      "541\n",
      "НЕТ\n"
     ]
    }
   ],
   "source": [
    "num = int(input())\n",
    "\n",
    "last_digit = num % 10    # последняя цифра числа\n",
    "first_digit = num // 10  # первая цифра числа\n",
    "\n",
    "if last_digit == first_digit:\n",
    "    print('ДА')\n",
    "else:\n",
    "    print('НЕТ')"
   ]
  },
  {
   "cell_type": "code",
   "execution_count": 8,
   "id": "53d5f3cd",
   "metadata": {},
   "outputs": [
    {
     "name": "stdout",
     "output_type": "stream",
     "text": [
      "4\n",
      "78\n",
      "9\n",
      "2\n"
     ]
    }
   ],
   "source": [
    "num1, num2, num3 = int(input()), int(input()), int(input())\n",
    "\n",
    "counter = 0  # переменная счётчик\n",
    "if num1 % 2 == 0:\n",
    "    counter = counter + 1  # увеличиваем счётчик на 1\n",
    "if num2 % 2 == 0:\n",
    "    counter = counter + 1  # увеличиваем счётчик на 1\n",
    "if num3 % 2 == 0:\n",
    "    counter = counter + 1  # увеличиваем счётчик на 1\n",
    "\n",
    "print(counter)"
   ]
  },
  {
   "cell_type": "code",
   "execution_count": 9,
   "id": "7eb971ef",
   "metadata": {},
   "outputs": [
    {
     "name": "stdout",
     "output_type": "stream",
     "text": [
      "qwerty\n",
      "qwertyy\n",
      "Пароль не принят\n"
     ]
    }
   ],
   "source": [
    "p1, p2 = input(), input()\n",
    "if p1 == p2:\n",
    "    print(\"Пароль принят\")\n",
    "else:\n",
    "    print(\"Пароль не принят\")"
   ]
  },
  {
   "cell_type": "code",
   "execution_count": 10,
   "id": "688d588a",
   "metadata": {},
   "outputs": [
    {
     "name": "stdout",
     "output_type": "stream",
     "text": [
      "5\n",
      "Нечетное\n"
     ]
    }
   ],
   "source": [
    "a = int(input())\n",
    "if a % 2 == 0:\n",
    "    print(\"Четное\")\n",
    "else:\n",
    "    print(\"Нечетное\")"
   ]
  },
  {
   "cell_type": "code",
   "execution_count": 11,
   "id": "7189bc9e",
   "metadata": {},
   "outputs": [
    {
     "name": "stdout",
     "output_type": "stream",
     "text": [
      "4322\n",
      "НЕТ\n"
     ]
    }
   ],
   "source": [
    "num = int(input())\n",
    "d1 = num // 1000\n",
    "d2 = (num // 100) % 10\n",
    "d3 = (num // 10) % 10\n",
    "d4 = num % 10\n",
    "summ = d1 + d4\n",
    "diff = d2 - d3\n",
    "if summ == diff:\n",
    "    print(\"ДА\")\n",
    "else:\n",
    "    print(\"НЕТ\")"
   ]
  },
  {
   "cell_type": "code",
   "execution_count": 12,
   "id": "dc0cc24c",
   "metadata": {},
   "outputs": [
    {
     "name": "stdout",
     "output_type": "stream",
     "text": [
      "24\n",
      "Доступ разрешен\n"
     ]
    }
   ],
   "source": [
    "a = int(input())\n",
    "if a >= 18:\n",
    "    print(\"Доступ разрешен\")\n",
    "else:\n",
    "    print(\"Доступ запрещен\")"
   ]
  },
  {
   "cell_type": "code",
   "execution_count": 13,
   "id": "b22701ab",
   "metadata": {},
   "outputs": [
    {
     "name": "stdout",
     "output_type": "stream",
     "text": [
      "2\n",
      "4\n",
      "6\n",
      "YES\n"
     ]
    }
   ],
   "source": [
    "a, b, c = int(input()), int(input()), int(input())\n",
    "if b - a != c - b:\n",
    "    print(\"NO\")\n",
    "else:\n",
    "    print(\"YES\")"
   ]
  },
  {
   "cell_type": "code",
   "execution_count": 14,
   "id": "089a4566",
   "metadata": {},
   "outputs": [
    {
     "name": "stdout",
     "output_type": "stream",
     "text": [
      "4\n",
      "3\n",
      "3\n"
     ]
    }
   ],
   "source": [
    "a, b = int(input()), int(input())\n",
    "if a > b:\n",
    "    print(b)\n",
    "else: \n",
    "    print(a)"
   ]
  },
  {
   "cell_type": "code",
   "execution_count": 17,
   "id": "fb9a2ff3",
   "metadata": {},
   "outputs": [
    {
     "name": "stdout",
     "output_type": "stream",
     "text": [
      "4\n",
      "5\n",
      "0\n",
      "-3\n",
      "-3\n"
     ]
    }
   ],
   "source": [
    "a, b, c, d = int(input()), int(input()), int(input()), int(input())\n",
    "if a < b:\n",
    "    least = a\n",
    "else:\n",
    "    least = b\n",
    "if c < d:\n",
    "    least2 = c\n",
    "else: \n",
    "    least2 = d\n",
    "if least < least2:\n",
    "    print(least)\n",
    "else:\n",
    "    print(least2)"
   ]
  },
  {
   "cell_type": "code",
   "execution_count": 18,
   "id": "b5c85b89",
   "metadata": {},
   "outputs": [
    {
     "name": "stdout",
     "output_type": "stream",
     "text": [
      "44\n",
      "зрелость\n"
     ]
    }
   ],
   "source": [
    "age = int(input())\n",
    "if age <= 13:\n",
    "    print(\"детство\")\n",
    "if 14 <= age <= 24:\n",
    "    print(\"молодость\")\n",
    "if 25 <= age <= 59:\n",
    "    print(\"зрелость\")\n",
    "if age >= 60:\n",
    "    print(\"старость\")"
   ]
  },
  {
   "cell_type": "code",
   "execution_count": 20,
   "id": "1cb3a259",
   "metadata": {},
   "outputs": [
    {
     "name": "stdout",
     "output_type": "stream",
     "text": [
      "3\n",
      "-99\n",
      "2\n",
      "5\n"
     ]
    }
   ],
   "source": [
    "a, b, c = int(input()), int(input()), int(input())\n",
    "if a <= 0:\n",
    "    a = 0\n",
    "if b <= 0:\n",
    "    b = 0\n",
    "if c <= 0:\n",
    "    c = 0\n",
    "print(a+b+c)"
   ]
  },
  {
   "cell_type": "markdown",
   "id": "ef8431cb",
   "metadata": {},
   "source": [
    "# Логические операции"
   ]
  },
  {
   "cell_type": "code",
   "execution_count": 22,
   "id": "2b408ab8",
   "metadata": {},
   "outputs": [
    {
     "name": "stdout",
     "output_type": "stream",
     "text": [
      "Сколько вам лет?: 15\n",
      "В каком классе вы учитесь?: 9\n",
      "Доступ разрешен.\n"
     ]
    }
   ],
   "source": [
    "age = int(input('Сколько вам лет?: '))\n",
    "grade = int(input('В каком классе вы учитесь?: '))\n",
    "if age >= 12 and grade >= 7:\n",
    "    print('Доступ разрешен.')\n",
    "else:\n",
    "    print('Доступ запрещен.')"
   ]
  },
  {
   "cell_type": "code",
   "execution_count": 23,
   "id": "accecd49",
   "metadata": {},
   "outputs": [
    {
     "name": "stdout",
     "output_type": "stream",
     "text": [
      "Сколько вам лет?: 15\n",
      "В каком классе вы учитесь?: 9\n",
      "В каком городе вы живете?: Санкт-Петербург\n",
      "Доступ запрещен.\n"
     ]
    }
   ],
   "source": [
    "age = int(input('Сколько вам лет?: '))\n",
    "grade = int(input('В каком классе вы учитесь?: '))\n",
    "city = input('В каком городе вы живете?: ')\n",
    "if age >= 12 and grade >= 7 and city == 'Москва':\n",
    "    print('Доступ разрешен.')\n",
    "else:\n",
    "    print('Доступ запрещен.')"
   ]
  },
  {
   "cell_type": "code",
   "execution_count": 24,
   "id": "1a7e3c6d",
   "metadata": {},
   "outputs": [
    {
     "name": "stdout",
     "output_type": "stream",
     "text": [
      "В каком городе вы живете?: Москва\n",
      "Доступ разрешен.\n"
     ]
    }
   ],
   "source": [
    "city = input('В каком городе вы живете?: ')\n",
    "if city == 'Москва' or city == 'Санкт-Петербург' or city == 'Екатеринбург':\n",
    "    print('Доступ разрешен.')\n",
    "else:\n",
    "    print('Доступ запрещен.')"
   ]
  },
  {
   "cell_type": "code",
   "execution_count": 25,
   "id": "ac9ba347",
   "metadata": {},
   "outputs": [
    {
     "name": "stdout",
     "output_type": "stream",
     "text": [
      "Сколько вам лет?: 15\n",
      "В каком классе вы учитесь?: 9\n",
      "В каком городе вы живете?: Санкт-Петербург\n",
      "Доступ разрешен.\n"
     ]
    }
   ],
   "source": [
    "age = int(input('Сколько вам лет?: '))\n",
    "grade = int(input('В каком классе вы учитесь?: '))\n",
    "city = input('В каком городе вы живете?: ')\n",
    "if age >= 12 and grade >= 7 and (city == 'Москва' or city == 'Санкт-Петербург'):\n",
    "    print('Доступ разрешен.')\n",
    "else:\n",
    "    print('Доступ запрещен.')"
   ]
  },
  {
   "cell_type": "code",
   "execution_count": 26,
   "id": "634c9b01",
   "metadata": {},
   "outputs": [
    {
     "name": "stdout",
     "output_type": "stream",
     "text": [
      "Сколько вам лет?: 15\n",
      "Доступ разрешен.\n"
     ]
    }
   ],
   "source": [
    "age = int(input('Сколько вам лет?: '))\n",
    "if not (age < 12):\n",
    "    print('Доступ разрешен.')\n",
    "else:\n",
    "    print('Доступ запрещен.')"
   ]
  },
  {
   "cell_type": "code",
   "execution_count": 27,
   "id": "9392dedb",
   "metadata": {},
   "outputs": [
    {
     "name": "stdout",
     "output_type": "stream",
     "text": [
      "444\n",
      "Число является трёхзначным\n"
     ]
    }
   ],
   "source": [
    "num = int(input())\n",
    "if 100 <= num <= 999:     # num >= 100 and num <= 999\n",
    "    print('Число является трёхзначным')\n",
    "else:\n",
    "    print('Число не является трёхзначным')"
   ]
  },
  {
   "cell_type": "code",
   "execution_count": 29,
   "id": "b2ec87e4",
   "metadata": {},
   "outputs": [
    {
     "name": "stdout",
     "output_type": "stream",
     "text": [
      "767\n",
      "Все цифры не различны\n"
     ]
    }
   ],
   "source": [
    "num = int(input())\n",
    "d3 = num % 10\n",
    "d2 = num % 100 // 10\n",
    "d1 = num // 100\n",
    "if d3 != d2 and d3 != d1 and d2 != d1:\n",
    "    print('Все цифры различны')\n",
    "else:\n",
    "    print('Все цифры не различны')"
   ]
  },
  {
   "cell_type": "code",
   "execution_count": 30,
   "id": "99f16f49",
   "metadata": {},
   "outputs": [
    {
     "name": "stdout",
     "output_type": "stream",
     "text": [
      "4\n",
      "-9\n",
      "4 четверть\n"
     ]
    }
   ],
   "source": [
    "x = int(input())\n",
    "y = int(input())\n",
    "\n",
    "if x > 0 and y > 0:\n",
    "    print('1 четверть')\n",
    "if x < 0 and y > 0:\n",
    "    print('2 четверть')\n",
    "if x < 0 and y < 0:\n",
    "    print('3 четверть')\n",
    "if x > 0 and y < 0:\n",
    "    print('4 четверть')"
   ]
  },
  {
   "cell_type": "code",
   "execution_count": 31,
   "id": "7f8ef51e",
   "metadata": {},
   "outputs": [
    {
     "name": "stdout",
     "output_type": "stream",
     "text": [
      "5\n",
      "Принадлежит\n"
     ]
    }
   ],
   "source": [
    "num1 = int(input())\n",
    "if -1 < num1 < 17:\n",
    "    print(\"Принадлежит\")\n",
    "else:\n",
    "    print(\"Не принадлежит\")"
   ]
  },
  {
   "cell_type": "code",
   "execution_count": 32,
   "id": "5d1cf2c0",
   "metadata": {},
   "outputs": [
    {
     "name": "stdout",
     "output_type": "stream",
     "text": [
      "5\n",
      "Не принадлежит\n"
     ]
    }
   ],
   "source": [
    "num1 = int(input())\n",
    "if num1 <= -3 or num1 >= 7:\n",
    "    print(\"Принадлежит\")\n",
    "else:\n",
    "    print(\"Не принадлежит\")"
   ]
  },
  {
   "cell_type": "code",
   "execution_count": 33,
   "id": "376ef21d",
   "metadata": {},
   "outputs": [
    {
     "name": "stdout",
     "output_type": "stream",
     "text": [
      "0\n",
      "Не принадлежит\n"
     ]
    }
   ],
   "source": [
    "num1 = int(input())\n",
    "if num1 <= -3 or num1 >= 7:\n",
    "    print(\"Принадлежит\")\n",
    "else:\n",
    "    print(\"Не принадлежит\")"
   ]
  },
  {
   "cell_type": "code",
   "execution_count": 34,
   "id": "ec687024",
   "metadata": {},
   "outputs": [
    {
     "name": "stdout",
     "output_type": "stream",
     "text": [
      "444\n",
      "NO\n"
     ]
    }
   ],
   "source": [
    "a = int(input())\n",
    "if ((a > 999 and a <= 9999) or (a < -999 and a >= -9999)) and (a % 7 == 0 or a % 17 == 0):\n",
    "    print(\"YES\")\n",
    "else:\n",
    "    print(\"NO\")"
   ]
  },
  {
   "cell_type": "code",
   "execution_count": 35,
   "id": "76986de3",
   "metadata": {},
   "outputs": [
    {
     "name": "stdout",
     "output_type": "stream",
     "text": [
      "4\n",
      "3\n",
      "2\n",
      "YES\n"
     ]
    }
   ],
   "source": [
    "a, b, c = int(input()), int(input()), int(input())\n",
    "if a+b > c and a+c > b and b+c>a:\n",
    "    print(\"YES\")\n",
    "else:\n",
    "    print(\"NO\")"
   ]
  },
  {
   "cell_type": "code",
   "execution_count": 36,
   "id": "a0f371cb",
   "metadata": {},
   "outputs": [
    {
     "name": "stdout",
     "output_type": "stream",
     "text": [
      "2024\n",
      "YES\n"
     ]
    }
   ],
   "source": [
    "a = int(input())\n",
    "if a % 4 == 0 and a % 100 != 0 or a % 400 == 0:\n",
    "    print(\"YES\")\n",
    "else:\n",
    "    print(\"NO\")"
   ]
  },
  {
   "cell_type": "code",
   "execution_count": 37,
   "id": "265d731c",
   "metadata": {},
   "outputs": [
    {
     "name": "stdout",
     "output_type": "stream",
     "text": [
      "4\n",
      "4\n",
      "6\n",
      "6\n",
      "NO\n"
     ]
    }
   ],
   "source": [
    "a1, a2, b1, b2 = int(input()), int(input()), int(input()), int(input())\n",
    "if (b1 == a1 and 1 <= b2 <= 8) or (b2 == a2 and 1 <= b1 <= 8):\n",
    "    print(\"YES\")\n",
    "else: \n",
    "    print(\"NO\")"
   ]
  },
  {
   "cell_type": "code",
   "execution_count": 38,
   "id": "ffabe50b",
   "metadata": {},
   "outputs": [
    {
     "name": "stdout",
     "output_type": "stream",
     "text": [
      "2\n",
      "2\n",
      "3\n",
      "3\n",
      "YES\n"
     ]
    }
   ],
   "source": [
    "a1, a2, b1, b2 = int(input()), int(input()), int(input()), int(input())\n",
    "if (b1 == a1+1 or b1 == a1-1 or b1 == a1) and (b2 == a2+1 or b2 == a2-1 or b2 == a2):\n",
    "    print(\"YES\")\n",
    "else: \n",
    "    print(\"NO\")"
   ]
  },
  {
   "cell_type": "markdown",
   "id": "b6c66051",
   "metadata": {},
   "source": [
    "# Вложенные и каскадные условия"
   ]
  },
  {
   "cell_type": "code",
   "execution_count": 39,
   "id": "cbdefd1a",
   "metadata": {},
   "outputs": [
    {
     "name": "stdout",
     "output_type": "stream",
     "text": [
      "4\n",
      "1\n",
      "Первая четверть\n"
     ]
    }
   ],
   "source": [
    "x = int(input())\n",
    "y = int(input())\n",
    "\n",
    "if x > 0:\n",
    "    if y > 0:\n",
    "        print('Первая четверть')\n",
    "    else:\n",
    "        print('Четвертая четверть')\n",
    "else:\n",
    "    if y > 0:\n",
    "        print('Вторая четверть')\n",
    "    else:\n",
    "        print('Третья четверть')"
   ]
  },
  {
   "cell_type": "code",
   "execution_count": 40,
   "id": "3824befe",
   "metadata": {},
   "outputs": [
    {
     "name": "stdout",
     "output_type": "stream",
     "text": [
      "Введите вашу отметку по 100-балльной системе: 81\n",
      "4\n"
     ]
    }
   ],
   "source": [
    "grade = int(input('Введите вашу отметку по 100-балльной системе: '))\n",
    "\n",
    "if grade >= 90:\n",
    "    print(5)\n",
    "else:\n",
    "    if grade >= 80:\n",
    "        print(4)\n",
    "    else:\n",
    "        if grade >= 70: \n",
    "            print(3)\n",
    "        else:\n",
    "            if grade >= 60:\n",
    "                print(2)\n",
    "            else:\n",
    "                print(1)"
   ]
  },
  {
   "cell_type": "code",
   "execution_count": 41,
   "id": "1dbb6b54",
   "metadata": {},
   "outputs": [
    {
     "name": "stdout",
     "output_type": "stream",
     "text": [
      "Введите вашу отметку: 44\n",
      "1\n"
     ]
    }
   ],
   "source": [
    "grade = int(input('Введите вашу отметку: '))\n",
    "\n",
    "if grade >= 90:\n",
    "    print(5)\n",
    "elif grade >= 80:\n",
    "    print(4)\n",
    "elif grade >= 70:\n",
    "    print(3)\n",
    "elif grade >= 60:\n",
    "    print(2)\n",
    "else:\n",
    "    print(1)"
   ]
  },
  {
   "cell_type": "code",
   "execution_count": 42,
   "id": "19bdcdfa",
   "metadata": {},
   "outputs": [
    {
     "name": "stdout",
     "output_type": "stream",
     "text": [
      "Введите сигнал светофора: желтый\n",
      "Приготовься...\n"
     ]
    }
   ],
   "source": [
    "traffic_light_signal = input('Введите сигнал светофора: ')\n",
    "\n",
    "if traffic_light_signal == 'красный':\n",
    "    print('Стой!')\n",
    "elif traffic_light_signal == 'желтый':\n",
    "    print('Приготовься...')\n",
    "elif traffic_light_signal == 'зеленый':\n",
    "    print('Иди!')"
   ]
  },
  {
   "cell_type": "code",
   "execution_count": 48,
   "id": "b6a4d88e",
   "metadata": {},
   "outputs": [
    {
     "name": "stdout",
     "output_type": "stream",
     "text": [
      "4\n",
      "6\n",
      "4\n",
      "2\n"
     ]
    }
   ],
   "source": [
    "a, b, c = int(input()), int(input()), int(input())\n",
    "\n",
    "if a == b:\n",
    "    if b == c:\n",
    "        print(3)\n",
    "    else:\n",
    "        print(2)\n",
    "else:\n",
    "    if a == c:\n",
    "        print(2)\n",
    "    else:\n",
    "        if b == c:\n",
    "            print(2)\n",
    "        else:\n",
    "            print(0)"
   ]
  },
  {
   "cell_type": "code",
   "execution_count": 47,
   "id": "a00d6388",
   "metadata": {},
   "outputs": [
    {
     "name": "stdout",
     "output_type": "stream",
     "text": [
      "4\n",
      "6\n",
      "4\n",
      "2\n"
     ]
    }
   ],
   "source": [
    "a, b, c = int(input()), int(input()), int(input())\n",
    "\n",
    "if a == b == c:\n",
    "    print(3)\n",
    "elif a == b:\n",
    "    print(2)\n",
    "elif b == c:\n",
    "    print(2)\n",
    "elif a == c:\n",
    "    print(2)\n",
    "else:\n",
    "    print(0)"
   ]
  },
  {
   "cell_type": "code",
   "execution_count": 46,
   "id": "df85b7bd",
   "metadata": {},
   "outputs": [
    {
     "name": "stdout",
     "output_type": "stream",
     "text": [
      "4\n",
      "6\n",
      "4\n",
      "2\n"
     ]
    }
   ],
   "source": [
    "a, b, c = int(input()), int(input()), int(input())\n",
    "\n",
    "if a == b == c:\n",
    "    print(3)\n",
    "elif a == b or b == c or a == c:\n",
    "    print(2)\n",
    "else:\n",
    "    print(0)"
   ]
  },
  {
   "cell_type": "code",
   "execution_count": 49,
   "id": "8919ea0c",
   "metadata": {},
   "outputs": [
    {
     "name": "stdout",
     "output_type": "stream",
     "text": [
      "100\n",
      "105\n",
      "YES\n"
     ]
    }
   ],
   "source": [
    "zoom, flash = int(input()), int(input())\n",
    "if zoom > flash:\n",
    "    print(\"NO\")\n",
    "elif flash > zoom:\n",
    "    print(\"YES\")\n",
    "else:\n",
    "    print(\"Don't know\")"
   ]
  },
  {
   "cell_type": "code",
   "execution_count": 50,
   "id": "c8955319",
   "metadata": {},
   "outputs": [
    {
     "name": "stdout",
     "output_type": "stream",
     "text": [
      "4\n",
      "5\n",
      "6\n",
      "Разносторонний\n"
     ]
    }
   ],
   "source": [
    "a, b, c = int(input()), int(input()), int(input())\n",
    "if a == b == c:\n",
    "    print(\"Равносторонний\")\n",
    "elif a == b != c or a != b == c or a == c != b:\n",
    "    print(\"Равнобедренный\")\n",
    "else: \n",
    "    print(\"Разносторонний\")"
   ]
  },
  {
   "cell_type": "code",
   "execution_count": 51,
   "id": "ad2f3077",
   "metadata": {},
   "outputs": [
    {
     "name": "stdout",
     "output_type": "stream",
     "text": [
      "1\n",
      "-1\n",
      "2\n",
      "1\n"
     ]
    }
   ],
   "source": [
    "a, b, c = int(input()), int(input()), int(input())\n",
    "if (a > b and a < c) or (a > c and a < b):\n",
    "    print(a)\n",
    "elif (b > a and b < c) or (b > c and b < a):\n",
    "    print(b)\n",
    "elif (c > a and c < b) or (c > b and c < a):\n",
    "    print(c)"
   ]
  },
  {
   "cell_type": "code",
   "execution_count": 53,
   "id": "66797d45",
   "metadata": {},
   "outputs": [
    {
     "name": "stdout",
     "output_type": "stream",
     "text": [
      "12\n",
      "31\n"
     ]
    }
   ],
   "source": [
    "month = int(input())\n",
    "if month == 2:\n",
    "    print(\"28\")\n",
    "elif month == 4 or month ==6 or month ==9 or month ==11:\n",
    "    print(\"30\")\n",
    "else:\n",
    "    print(\"31\")"
   ]
  },
  {
   "cell_type": "code",
   "execution_count": 54,
   "id": "f5a010d6",
   "metadata": {},
   "outputs": [
    {
     "name": "stdout",
     "output_type": "stream",
     "text": [
      "95\n",
      "Полусредний вес\n"
     ]
    }
   ],
   "source": [
    "weight = int(input())\n",
    "if weight < 60:\n",
    "    print(\"Легкий вес\")\n",
    "elif 60 <= weight < 64:\n",
    "    print(\"Первый полусредний вес\")\n",
    "else:\n",
    "    print(\"Полусредний вес\")"
   ]
  },
  {
   "cell_type": "code",
   "execution_count": 55,
   "id": "a03d7c2d",
   "metadata": {},
   "outputs": [
    {
     "name": "stdout",
     "output_type": "stream",
     "text": [
      "4\n",
      "0\n",
      "/\n",
      "На ноль делить нельзя!\n"
     ]
    }
   ],
   "source": [
    "a, b, oper = int(input()), int(input()), input()\n",
    "if oper == \"+\":\n",
    "    print(a + b)\n",
    "elif oper == \"-\":\n",
    "    print(a - b)\n",
    "elif oper == \"*\":\n",
    "    print(a * b)\n",
    "elif oper == \"/\" and b != 0:\n",
    "    print(a / b)\n",
    "elif oper == \"/\" and b == 0:\n",
    "    print(\"На ноль делить нельзя!\")\n",
    "else:\n",
    "    print(\"Неверная операция\")"
   ]
  },
  {
   "cell_type": "code",
   "execution_count": 56,
   "id": "af8c8ca6",
   "metadata": {},
   "outputs": [
    {
     "name": "stdout",
     "output_type": "stream",
     "text": [
      "красный\n",
      "желтый\n",
      "оранжевый\n"
     ]
    }
   ],
   "source": [
    "color1, color2 = input(), input()\n",
    "if (color1 == \"красный\" and color2 == \"синий\") or (color2 == \"красный\" and color1 == \"синий\"):\n",
    "    print(\"фиолетовый\")\n",
    "elif (color1 == \"красный\" and color2 == \"желтый\") or (color2 == \"красный\" and color1 == \"желтый\"):\n",
    "    print(\"оранжевый\")\n",
    "elif (color1 == \"желтый\" and color2 == \"синий\") or (color2 == \"желтый\" and color1 == \"синий\"):\n",
    "    print(\"зеленый\")\n",
    "elif color1 == \"красный\" and color2 == \"красный\":\n",
    "    print(\"красный\")\n",
    "elif color1 == \"синий\" and color2 == \"синий\":\n",
    "    print(\"синий\")\n",
    "elif color1 == \"желтый\" and color2 == \"желтый\":\n",
    "    print(\"желтый\")\n",
    "else:\n",
    "    print(\"ошибка цвета\")"
   ]
  },
  {
   "cell_type": "code",
   "execution_count": 57,
   "id": "598e0b0f",
   "metadata": {},
   "outputs": [
    {
     "name": "stdout",
     "output_type": "stream",
     "text": [
      "17\n",
      "черный\n"
     ]
    }
   ],
   "source": [
    "a = int(input())\n",
    "if a == 0:\n",
    "    print(\"зеленый\")\n",
    "elif 10 >= a >= 1 and a % 2 == 0:\n",
    "    print(\"черный\")\n",
    "elif 10 >= a >= 1 and a % 2 == 1:\n",
    "    print(\"красный\")\n",
    "elif 18 >= a >= 11 and a % 2 == 0:\n",
    "    print(\"красный\")\n",
    "elif 18 >= a >= 11 and a % 2 == 1:\n",
    "    print(\"черный\")\n",
    "elif 28 >= a >= 19 and a % 2 == 0:\n",
    "    print(\"черный\")\n",
    "elif 28 >= a >= 19 and a % 2 == 1:\n",
    "    print(\"красный\")\n",
    "elif 36 >= a >= 29 and a % 2 == 0:\n",
    "    print(\"красный\")\n",
    "elif 36 >= a >= 29 and a % 2 == 1:\n",
    "    print(\"черный\")\n",
    "else:\n",
    "    print(\"ошибка ввода\")"
   ]
  },
  {
   "cell_type": "code",
   "execution_count": 58,
   "id": "727c0dfa",
   "metadata": {},
   "outputs": [
    {
     "name": "stdout",
     "output_type": "stream",
     "text": [
      "1\n",
      "5\n",
      "4\n",
      "8\n",
      "4 5\n"
     ]
    }
   ],
   "source": [
    "a1, b1, a2, b2 = int(input()), int(input()), int(input()), int(input())\n",
    "if a1 < b1 < a2 < b2 or a2 < b2 < a1 < b1:\n",
    "    print ('пустое множество')\n",
    "elif a1 < a2 < b2 < b1:\n",
    "    print(a2, b2)\n",
    "elif a2 < a1 < b1 < b2:\n",
    "    print(a1, b1)\n",
    "elif a1 == a2 and b1 == b2:\n",
    "    print(a1, b2)\n",
    "elif a1 < a2 < b1 < b2:\n",
    "    print(a2, b1)\n",
    "elif a2 < a1 < b2 < b1:\n",
    "    print(a1, b2)\n",
    "elif a1 < b1 and b1 == a2 and a2 < b2:\n",
    "    print(b1)\n",
    "elif a2 < b2 and b2 == a1 and a1 < b1:\n",
    "    print(b2)\n",
    "elif a1 == a2 and a1 < b1 and b1 < b2:\n",
    "    print(a1, b1)\n",
    "elif a2 < a1 and b1 == b2 and a1 < b2:\n",
    "    print(a1, b2)\n",
    "elif a1 < a2 and b1 == b2 and a2 < b1:\n",
    "    print(a2, b1)\n",
    "elif a1 == a2 and a1 < b2 and b2 < b1:\n",
    "    print(a1, b2)"
   ]
  },
  {
   "cell_type": "markdown",
   "id": "197a824a",
   "metadata": {},
   "source": [
    "# Итоговая работа"
   ]
  },
  {
   "cell_type": "code",
   "execution_count": 59,
   "id": "bda33fa5",
   "metadata": {},
   "outputs": [
    {
     "name": "stdout",
     "output_type": "stream",
     "text": [
      "2000\n",
      "YES\n"
     ]
    }
   ],
   "source": [
    "year = int(input())\n",
    "if year %100 == 0:\n",
    "    print('YES')\n",
    "else:\n",
    "    print('NO')"
   ]
  },
  {
   "cell_type": "code",
   "execution_count": 60,
   "id": "d9f44c4e",
   "metadata": {},
   "outputs": [
    {
     "name": "stdout",
     "output_type": "stream",
     "text": [
      "1\n",
      "2\n",
      "5\n",
      "6\n",
      "YES\n"
     ]
    }
   ],
   "source": [
    "a, b, c, d = int(input()), int(input()), int(input()), int(input())\n",
    "board = str(0)\n",
    "\n",
    "if (a % 2 == 0 and b % 2 != 0) and (c % 2 == 0 and d % 2 != 0):\n",
    "    print('YES')\n",
    "elif (a % 2 != 0 and b % 2 == 0) and (c % 2 != 0 and d % 2 == 0):\n",
    "    print('YES')\n",
    "elif (a % 2 == 0 and b % 2 != 0) and (c % 2!= 0 and d % 2 == 0):\n",
    "    print('YES')\n",
    "elif (a % 2 != 0 and b % 2 == 0) and (c % 2 == 0 and d % 2 != 0):\n",
    "    print('YES')\n",
    "elif (a % 2 == 0 and b % 2 == 0) and (c % 2 == 0 and d % 2 == 0):\n",
    "    print('YES')\n",
    "elif (a % 2 == 0 and b % 2 == 0) and (c % 2 != 0 and d % 2 != 0):\n",
    "    print('YES')\n",
    "elif (a % 2 != 0 and b % 2 != 0) and (c % 2 != 0 and d % 2 != 0):\n",
    "    print('YES')\n",
    "elif (a == 1 and b == 1) and (c % 2 == 0 and d % 2 == 0):\n",
    "    print('YES')\n",
    "elif (a % 2 != 0 and b % 2 != 0) and (c == 8 and d == 8):\n",
    "    print('YES')\n",
    "else:\n",
    "    print('NO')"
   ]
  },
  {
   "cell_type": "code",
   "execution_count": 61,
   "id": "fddfecde",
   "metadata": {},
   "outputs": [
    {
     "name": "stdout",
     "output_type": "stream",
     "text": [
      "14\n",
      "f\n",
      "YES\n"
     ]
    }
   ],
   "source": [
    "age, sex = int(input()), input()\n",
    "if age >= 10 and age <= 15 and sex == 'f':\n",
    "    print('YES')\n",
    "else:\n",
    "    print('NO')\n"
   ]
  },
  {
   "cell_type": "code",
   "execution_count": 63,
   "id": "ac50a2af",
   "metadata": {},
   "outputs": [
    {
     "name": "stdout",
     "output_type": "stream",
     "text": [
      "4\n",
      "IV\n"
     ]
    }
   ],
   "source": [
    "a = int(input())\n",
    "if a == 1:\n",
    "    print('I')\n",
    "elif a == 2:\n",
    "    print('II')\n",
    "elif a ==3:\n",
    "    print('III')\n",
    "elif a == 4:\n",
    "    print('IV')\n",
    "elif a == 5:\n",
    "    print('V')\n",
    "elif a == 6:\n",
    "    print('VI')\n",
    "elif a == 7:\n",
    "    print('VII')\n",
    "elif a == 8:\n",
    "    print('VIII')\n",
    "elif a == 9:\n",
    "    print('IX')\n",
    "elif a == 10:\n",
    "    print('X')\n",
    "else:\n",
    "    print('ошибка')"
   ]
  },
  {
   "cell_type": "code",
   "execution_count": 64,
   "id": "7cb10f93",
   "metadata": {},
   "outputs": [
    {
     "name": "stdout",
     "output_type": "stream",
     "text": [
      "5\n",
      "YES\n"
     ]
    }
   ],
   "source": [
    "a = int(input())\n",
    "if a % 2 != 0:\n",
    "    print('YES')\n",
    "elif a % 2 == 0 and a >= 6 and a <= 20:\n",
    "    print('YES')\n",
    "else:\n",
    "    print('NO')"
   ]
  },
  {
   "cell_type": "code",
   "execution_count": 65,
   "id": "8e3e05bc",
   "metadata": {},
   "outputs": [
    {
     "name": "stdout",
     "output_type": "stream",
     "text": [
      "4\n",
      "4\n",
      "5\n",
      "5\n",
      "YES\n"
     ]
    }
   ],
   "source": [
    "x1, y1, x2, y2 = int(input()), int(input()), int(input()), int(input())\n",
    "\n",
    "if (x1 - y1 == x2 - y2) or (x1 + y1 == x2 + y2):\n",
    "    print('YES')\n",
    "else:\n",
    "    print('NO')"
   ]
  },
  {
   "cell_type": "code",
   "execution_count": 66,
   "id": "a03d98a3",
   "metadata": {},
   "outputs": [
    {
     "name": "stdout",
     "output_type": "stream",
     "text": [
      "4\n",
      "4\n",
      "5\n",
      "6\n",
      "YES\n"
     ]
    }
   ],
   "source": [
    "a1, b1, a2, b2 = int(input()), int(input()), int(input()), int(input())\n",
    "if ((a1+1 == a2 or a1-1 == a2) and (b1+2 == b2 or b1-2 == b2)) or ((a1+2 == a2 or a1-2 == a2) and (b1+1 == b2 or b1-1 == b2)):\n",
    "    print('YES')\n",
    "else:\n",
    "    print('NO')"
   ]
  },
  {
   "cell_type": "code",
   "execution_count": 67,
   "id": "6678e480",
   "metadata": {},
   "outputs": [
    {
     "name": "stdout",
     "output_type": "stream",
     "text": [
      "5\n",
      "5\n",
      "6\n",
      "5\n",
      "YES\n"
     ]
    }
   ],
   "source": [
    "x1, y1, x2, y2 = int(input()), int(input()), int(input()), int(input())\n",
    "if ((x2 == x1 and 1 <= y2 <= 8) or (y2 == y1 and 1 <= x2 <= 8)) or ((x1 - y1 == x2 - y2) or (x1 + y1 == x2 + y2)):\n",
    "    print(\"YES\")\n",
    "else:\n",
    "    print(\"NO\")"
   ]
  }
 ],
 "metadata": {
  "kernelspec": {
   "display_name": "Python 3 (ipykernel)",
   "language": "python",
   "name": "python3"
  },
  "language_info": {
   "codemirror_mode": {
    "name": "ipython",
    "version": 3
   },
   "file_extension": ".py",
   "mimetype": "text/x-python",
   "name": "python",
   "nbconvert_exporter": "python",
   "pygments_lexer": "ipython3",
   "version": "3.11.4"
  }
 },
 "nbformat": 4,
 "nbformat_minor": 5
}
