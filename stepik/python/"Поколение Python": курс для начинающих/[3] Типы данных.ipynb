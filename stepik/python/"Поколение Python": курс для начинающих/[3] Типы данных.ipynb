{
 "cells": [
  {
   "cell_type": "markdown",
   "id": "6e912298",
   "metadata": {},
   "source": [
    "# Числовые типы данных"
   ]
  },
  {
   "cell_type": "code",
   "execution_count": 1,
   "id": "f9bb94bf",
   "metadata": {},
   "outputs": [
    {
     "name": "stdout",
     "output_type": "stream",
     "text": [
      "13 + 7 = 20\n",
      "13 - 7 = 6\n",
      "13 * 7 = 91\n",
      "13 / 7 = 1.8571428571428572\n",
      "13 // 7 = 1\n",
      "13 % 7 = 6\n",
      "13 ** 7 = 62748517\n"
     ]
    }
   ],
   "source": [
    "a = 13\n",
    "b = 7\n",
    "\n",
    "total = a + b\n",
    "diff = a - b\n",
    "prod = a * b\n",
    "div1 = a / b\n",
    "div2 = a // b\n",
    "mod = a % b\n",
    "exp = a ** b\n",
    "\n",
    "print(a, '+', b, '=', total)\n",
    "print(a, '-', b, '=', diff)\n",
    "print(a, '*', b, '=', prod)\n",
    "print(a, '/', b, '=', div1)\n",
    "print(a, '//', b, '=', div2)\n",
    "print(a, '%', b, '=', mod)\n",
    "print(a, '**', b, '=', exp)"
   ]
  },
  {
   "cell_type": "code",
   "execution_count": 2,
   "id": "dd0f0c89",
   "metadata": {},
   "outputs": [
    {
     "name": "stdout",
     "output_type": "stream",
     "text": [
      "Количество атомов = 100000000000000000000000000000000000000000000000000000000000000000000000000000000\n"
     ]
    }
   ],
   "source": [
    "atom = 10 ** 80  # количество атомов во вселенной\n",
    "print('Количество атомов =', atom)"
   ]
  },
  {
   "cell_type": "code",
   "execution_count": 3,
   "id": "15554aac",
   "metadata": {},
   "outputs": [
    {
     "name": "stdout",
     "output_type": "stream",
     "text": [
      "25000000\n",
      "25000000\n"
     ]
    }
   ],
   "source": [
    "num1 = 25_000_000\n",
    "num2 = 25000000\n",
    "print(num1)\n",
    "print(num2)"
   ]
  },
  {
   "cell_type": "code",
   "execution_count": 4,
   "id": "bbdc7f05",
   "metadata": {},
   "outputs": [
    {
     "name": "stdout",
     "output_type": "stream",
     "text": [
      "13.5 + 2.0 = 15.5\n",
      "13.5 - 2.0 = 11.5\n",
      "13.5 * 2.0 = 27.0\n",
      "13.5 / 2.0 = 6.75\n",
      "13.5 ** 2.0 = 182.25\n"
     ]
    }
   ],
   "source": [
    "a = 13.5\n",
    "b = 2.0\n",
    "\n",
    "total = a + b\n",
    "diff = a - b\n",
    "prod = a * b\n",
    "div = a / b\n",
    "exp = a ** b\n",
    "\n",
    "print(a, '+', b, '=', total)\n",
    "print(a, '-', b, '=', diff)\n",
    "print(a, '*', b, '=', prod)\n",
    "print(a, '/', b, '=', div)\n",
    "print(a, '**', b, '=', exp)"
   ]
  },
  {
   "cell_type": "code",
   "execution_count": 5,
   "id": "22869443",
   "metadata": {},
   "outputs": [
    {
     "name": "stdout",
     "output_type": "stream",
     "text": [
      "17\n",
      "-13\n"
     ]
    }
   ],
   "source": [
    "num1 = 17.89\n",
    "num2 = -13.56\n",
    "num3 = int(num1)\n",
    "num4 = int(num2)\n",
    "print(num3)\n",
    "print(num4)"
   ]
  },
  {
   "cell_type": "code",
   "execution_count": 7,
   "id": "70c657f2",
   "metadata": {},
   "outputs": [
    {
     "name": "stdout",
     "output_type": "stream",
     "text": [
      "0.6\n",
      "1.5\n",
      "0.44999999999999996\n"
     ]
    }
   ],
   "source": [
    "a, b = float(input()), float(input())\n",
    "print(0.5*a*b)"
   ]
  },
  {
   "cell_type": "code",
   "execution_count": 8,
   "id": "6c1e3d09",
   "metadata": {},
   "outputs": [
    {
     "name": "stdout",
     "output_type": "stream",
     "text": [
      "100\n",
      "44.3\n",
      "21.4\n",
      "1.5220700152207005\n"
     ]
    }
   ],
   "source": [
    "s, v1, v2 = float(input()), float(input()), float(input())\n",
    "print(s/(v1+v2))"
   ]
  },
  {
   "cell_type": "code",
   "execution_count": 9,
   "id": "e653ec57",
   "metadata": {},
   "outputs": [
    {
     "name": "stdout",
     "output_type": "stream",
     "text": [
      "1.7\n",
      "0.5882352941176471\n"
     ]
    }
   ],
   "source": [
    "a = float(input())\n",
    "if a != 0:\n",
    "    print(a**-1)\n",
    "else:\n",
    "    print('Обратного числа не существует')"
   ]
  },
  {
   "cell_type": "code",
   "execution_count": 10,
   "id": "f8190a57",
   "metadata": {},
   "outputs": [
    {
     "name": "stdout",
     "output_type": "stream",
     "text": [
      "451\n",
      "232.7777777777778\n"
     ]
    }
   ],
   "source": [
    "f = float(input())\n",
    "print((5/9)*(f-32))"
   ]
  },
  {
   "cell_type": "code",
   "execution_count": 11,
   "id": "7126d067",
   "metadata": {},
   "outputs": [
    {
     "name": "stdout",
     "output_type": "stream",
     "text": [
      "13\n",
      "65\n"
     ]
    }
   ],
   "source": [
    "a = int(input())\n",
    "if a == 1 or a == 2:\n",
    "    print(a*10.5)\n",
    "else:\n",
    "    print((a-2)*4+21)"
   ]
  },
  {
   "cell_type": "code",
   "execution_count": 12,
   "id": "e10877be",
   "metadata": {},
   "outputs": [
    {
     "name": "stdout",
     "output_type": "stream",
     "text": [
      "1.5466\n",
      "5\n"
     ]
    }
   ],
   "source": [
    "a = float(input())\n",
    "b = (a * 10)\n",
    "print(int(b % 10))"
   ]
  },
  {
   "cell_type": "code",
   "execution_count": 13,
   "id": "938515b0",
   "metadata": {},
   "outputs": [
    {
     "name": "stdout",
     "output_type": "stream",
     "text": [
      "322.5432\n",
      "0.543200000000013\n"
     ]
    }
   ],
   "source": [
    "a = float(input())\n",
    "b = a - int(a)\n",
    "print(b)"
   ]
  },
  {
   "cell_type": "code",
   "execution_count": 14,
   "id": "26973092",
   "metadata": {},
   "outputs": [
    {
     "name": "stdout",
     "output_type": "stream",
     "text": [
      "12\n",
      "-3\n",
      "9.8\n"
     ]
    }
   ],
   "source": [
    "a = max(3, 8, -3, 12, 9)\n",
    "b = min(3, 8, -3, 12, 9)\n",
    "c = max(3.14, 2.17, 9.8)\n",
    "print(a)\n",
    "print(b)\n",
    "print(c)"
   ]
  },
  {
   "cell_type": "code",
   "execution_count": 15,
   "id": "592f1ccf",
   "metadata": {},
   "outputs": [
    {
     "name": "stdout",
     "output_type": "stream",
     "text": [
      "10\n",
      "7\n",
      "0\n",
      "17.67\n"
     ]
    }
   ],
   "source": [
    "print(abs(10))\n",
    "print(abs(-7))\n",
    "print(abs(0))\n",
    "print(abs(-17.67))"
   ]
  },
  {
   "cell_type": "code",
   "execution_count": 16,
   "id": "e11705b3",
   "metadata": {},
   "outputs": [
    {
     "name": "stdout",
     "output_type": "stream",
     "text": [
      "100\n",
      "-444\n",
      "-3\n",
      "1345\n",
      "4\n",
      "Наименьшее число = -444\n",
      "Наибольшее число = 1345\n"
     ]
    }
   ],
   "source": [
    "a, b, c, d, e = int(input()), int(input()), int(input()), int(input()), int(input())\n",
    "min_num = min(a,b,c,d,e)\n",
    "max_num = max(a,b,c,d,e)\n",
    "print('Наименьшее число =', min_num)\n",
    "print('Наибольшее число =', max_num)"
   ]
  },
  {
   "cell_type": "code",
   "execution_count": 17,
   "id": "9fe721e7",
   "metadata": {},
   "outputs": [
    {
     "name": "stdout",
     "output_type": "stream",
     "text": [
      "4\n",
      "0\n",
      "-3\n",
      "4\n",
      "0\n",
      "-3\n"
     ]
    }
   ],
   "source": [
    "a, b, c = int(input()), int(input()), int(input())\n",
    "min_num = min(a,b,c)\n",
    "max_num = max(a,b,c)\n",
    "average_num = (a+b+c) - min_num - max_num\n",
    "print(max_num, average_num, min_num, sep='\\n')"
   ]
  },
  {
   "cell_type": "code",
   "execution_count": 20,
   "id": "7b051713",
   "metadata": {},
   "outputs": [
    {
     "name": "stdout",
     "output_type": "stream",
     "text": [
      "55\n",
      "Число интересное\n"
     ]
    }
   ],
   "source": [
    "a = int(input())\n",
    "\n",
    "first_digit = a // 100\n",
    "second_digit = (a // 10) % 10\n",
    "third_digit = a % 10\n",
    "\n",
    "min_digit = min(first_digit, second_digit, third_digit)\n",
    "max_digit = max(first_digit, second_digit, third_digit)\n",
    "average_digit = (first_digit + second_digit + third_digit) - min(first_digit, second_digit, third_digit) - max(first_digit, second_digit, third_digit)\n",
    "\n",
    "if max_digit - min_digit == average_digit:\n",
    "    print('Число интересное')\n",
    "else: \n",
    "    print('Число неинтересное')"
   ]
  },
  {
   "cell_type": "code",
   "execution_count": 21,
   "id": "7254d9dc",
   "metadata": {},
   "outputs": [
    {
     "name": "stdout",
     "output_type": "stream",
     "text": [
      "3\n",
      "-3\n",
      "44\n",
      "-90\n",
      "0\n",
      "140.0\n"
     ]
    }
   ],
   "source": [
    "a, b, c, d, e = float(input()), float(input()), float(input()), float(input()), float(input())\n",
    "print(abs(a)+abs(b)+abs(c)+abs(d)+abs(e))"
   ]
  },
  {
   "cell_type": "code",
   "execution_count": 22,
   "id": "96373f53",
   "metadata": {},
   "outputs": [
    {
     "name": "stdout",
     "output_type": "stream",
     "text": [
      "54\n",
      "4\n",
      "33\n",
      "2\n",
      "23\n"
     ]
    }
   ],
   "source": [
    "p1, p2, q1, q2 = int(input()), int(input()), int(input()), int(input())\n",
    "print(abs(p1-q1)+abs(p2-q2))"
   ]
  },
  {
   "cell_type": "markdown",
   "id": "f205bedd",
   "metadata": {},
   "source": [
    "# Строковый тип данных"
   ]
  },
  {
   "cell_type": "code",
   "execution_count": 23,
   "id": "e20c4088",
   "metadata": {},
   "outputs": [
    {
     "name": "stdout",
     "output_type": "stream",
     "text": [
      "6\n",
      "13\n"
     ]
    }
   ],
   "source": [
    "s1 = 'abcdef'\n",
    "length1 = len(s1)               # считаем длину строки из переменной s1\n",
    "length2 = len('Python rocks!')  # считаем длину строкового литерала\n",
    "print(length1)\n",
    "print(length2)"
   ]
  },
  {
   "cell_type": "code",
   "execution_count": 25,
   "id": "bae6f08f",
   "metadata": {},
   "outputs": [
    {
     "name": "stdout",
     "output_type": "stream",
     "text": [
      "abbc\n",
      "bcab\n",
      "abbcbcab!!\n"
     ]
    }
   ],
   "source": [
    "s1 = 'ab' + 'bc'\n",
    "s2 = 'bc' + 'ab'\n",
    "s3 = s1 + s2 + '!!'\n",
    "print(s1)\n",
    "print(s2)\n",
    "print(s3)"
   ]
  },
  {
   "cell_type": "code",
   "execution_count": 26,
   "id": "93089518",
   "metadata": {},
   "outputs": [
    {
     "name": "stdout",
     "output_type": "stream",
     "text": [
      "a*b*c!\n",
      "a*b*c!\n"
     ]
    }
   ],
   "source": [
    "print('a', 'b', 'c', sep='*', end='!')\n",
    "print()  # переход на новую строку\n",
    "print('a' + '*' + 'b' + '*' + 'c' + '!')"
   ]
  },
  {
   "cell_type": "code",
   "execution_count": 27,
   "id": "8d82eb6c",
   "metadata": {},
   "outputs": [
    {
     "name": "stdout",
     "output_type": "stream",
     "text": [
      "HiHiHiHi\n"
     ]
    }
   ],
   "source": [
    "s = 'Hi' * 4\n",
    "print(s)"
   ]
  },
  {
   "cell_type": "code",
   "execution_count": 28,
   "id": "f516b8b9",
   "metadata": {},
   "outputs": [
    {
     "name": "stdout",
     "output_type": "stream",
     "text": [
      "---------------------------------------------------------------------------\n"
     ]
    }
   ],
   "source": [
    "print('-' * 75)"
   ]
  },
  {
   "cell_type": "code",
   "execution_count": 30,
   "id": "d9987ec4",
   "metadata": {},
   "outputs": [
    {
     "name": "stdout",
     "output_type": "stream",
     "text": [
      "Python is an interpreted, high-level, general-purpose programming language.\n",
      "Created by Guido van Rossum and first released in 1991, Python design \n",
      "philosophy emphasizes code readability with its notable use of significant whitespace.\n"
     ]
    }
   ],
   "source": [
    "text = '''Python is an interpreted, high-level, general-purpose programming language.\n",
    "Created by Guido van Rossum and first released in 1991, Python design \n",
    "philosophy emphasizes code readability with its notable use of significant whitespace.'''\n",
    "print(text)"
   ]
  },
  {
   "cell_type": "code",
   "execution_count": 29,
   "id": "3aa9bb74",
   "metadata": {},
   "outputs": [
    {
     "name": "stdout",
     "output_type": "stream",
     "text": [
      "Мы можем использовать в одиночных кавычках двойные кавычки \"Война и мир\"\n",
      "Мы можем использовать в двойных кавычках одиночные кавычки 'Война и мир'\n"
     ]
    }
   ],
   "source": [
    "s1 = 'Мы можем использовать в одиночных кавычках двойные кавычки \"Война и мир\"'\n",
    "s2 = \"Мы можем использовать в двойных кавычках одиночные кавычки 'Война и мир'\"\n",
    "print(s1)\n",
    "print(s2)"
   ]
  },
  {
   "cell_type": "code",
   "execution_count": 31,
   "id": "e80e878d",
   "metadata": {},
   "outputs": [
    {
     "name": "stdout",
     "output_type": "stream",
     "text": [
      "\"Python is a great language!\", said Fred. \"I don't ever remember having this much fun before.\"\n"
     ]
    }
   ],
   "source": [
    "a = '\"Python is a great language!\", said Fred.'\n",
    "b = '\"I'\n",
    "c = \"don't ever remember having this much fun before.\"\n",
    "print(a + ' ' + b + ' ' + c + '\"')"
   ]
  },
  {
   "cell_type": "code",
   "execution_count": 32,
   "id": "6010a891",
   "metadata": {},
   "outputs": [
    {
     "name": "stdout",
     "output_type": "stream",
     "text": [
      "Karim\n",
      "Alibekov\n",
      "Hello Karim Alibekov! You just delved into Python\n"
     ]
    }
   ],
   "source": [
    "firstname = input()\n",
    "lastname = input()\n",
    "print(\"Hello\" + ' ' + firstname + ' ' + lastname + '!' + ' ' + 'You just delved into Python')"
   ]
  },
  {
   "cell_type": "code",
   "execution_count": 33,
   "id": "6c1152ed",
   "metadata": {},
   "outputs": [
    {
     "name": "stdout",
     "output_type": "stream",
     "text": [
      "Chelsea FC\n",
      "Футбольная команда Chelsea FC имеет длину 10 символов\n"
     ]
    }
   ],
   "source": [
    "club = input()\n",
    "print('Футбольная команда', club, 'имеет длину', len(club), 'символов')"
   ]
  },
  {
   "cell_type": "code",
   "execution_count": 35,
   "id": "dcce8857",
   "metadata": {},
   "outputs": [
    {
     "name": "stdout",
     "output_type": "stream",
     "text": [
      "Moscow\n",
      "Hong Kong\n",
      "Ufa\n",
      "Ufa\n",
      "Hong Kong\n"
     ]
    }
   ],
   "source": [
    "a, b, c = input(), input(), input()\n",
    "final_asnwer = 0\n",
    "final_asnwer2 = 0\n",
    "\n",
    "if len(a) == min(len(a), len(b), len(c)):\n",
    "    final_answer = a\n",
    "elif len(b) == min(len(a), len(b), len(c)):\n",
    "    final_answer = b\n",
    "elif len(c) == min(len(a), len(b), len(c)):\n",
    "    final_answer = c\n",
    "\n",
    "if len(a) == max(len(a), len(b), len(c)):\n",
    "    final_answer2 = a\n",
    "elif len(b) == max(len(a), len(b), len(c)):\n",
    "    final_answer2 = b\n",
    "elif len(c) == max(len(a), len(b), len(c)):\n",
    "    final_answer2 = c\n",
    "    \n",
    "print(final_answer, final_answer2, sep='\\n')"
   ]
  },
  {
   "cell_type": "code",
   "execution_count": 36,
   "id": "66f8470b",
   "metadata": {},
   "outputs": [
    {
     "name": "stdout",
     "output_type": "stream",
     "text": [
      "aa1\n",
      "aaa2\n",
      "aaaa3\n",
      "YES\n"
     ]
    }
   ],
   "source": [
    "a, b, c = input(), input(), input()\n",
    "max_len = max(len(a), len(b), len(c))\n",
    "min_len = min(len(a), len(b), len(c))\n",
    "average_len = len(a)+len(b)+len(c) - max_len - min_len\n",
    "if max_len - average_len == average_len - min_len:\n",
    "    print('YES')\n",
    "else:\n",
    "    print('NO')"
   ]
  },
  {
   "cell_type": "code",
   "execution_count": 37,
   "id": "6bd0fd32",
   "metadata": {},
   "outputs": [
    {
     "name": "stdout",
     "output_type": "stream",
     "text": [
      "Введенная строка не содержит символ а\n"
     ]
    }
   ],
   "source": [
    "s = 'https://pygen.ru/'\n",
    "if 'a' in s:\n",
    "    print('Введенная строка содержит символ а')\n",
    "else:\n",
    "    print('Введенная строка не содержит символ а')"
   ]
  },
  {
   "cell_type": "code",
   "execution_count": 49,
   "id": "30da79a9",
   "metadata": {},
   "outputs": [
    {
     "name": "stdout",
     "output_type": "stream",
     "text": [
      "python-ru\n",
      "Введенная строка не содержит символа точки\n"
     ]
    }
   ],
   "source": [
    "s = input()\n",
    "if '.' not in s:\n",
    "    print('Введенная строка не содержит символа точки')"
   ]
  },
  {
   "cell_type": "code",
   "execution_count": 50,
   "id": "6fb11cdb",
   "metadata": {},
   "outputs": [
    {
     "name": "stdout",
     "output_type": "stream",
     "text": [
      "e\n",
      "YES\n"
     ]
    }
   ],
   "source": [
    "s = input()\n",
    "if len(s) == 1 and s in 'aeiou':\n",
    "    print('YES')"
   ]
  },
  {
   "cell_type": "code",
   "execution_count": 40,
   "id": "53b5073d",
   "metadata": {},
   "outputs": [
    {
     "name": "stdout",
     "output_type": "stream",
     "text": [
      "True\n",
      "False\n"
     ]
    }
   ],
   "source": [
    "s = 'Sigma'\n",
    "print('a' in s)\n",
    "print('z' in s)"
   ]
  },
  {
   "cell_type": "code",
   "execution_count": 51,
   "id": "e4fb02aa",
   "metadata": {},
   "outputs": [
    {
     "name": "stdout",
     "output_type": "stream",
     "text": [
      "True\n",
      "False\n"
     ]
    }
   ],
   "source": [
    "print('ab' in 'abc')\n",
    "print('ac' in 'abc')"
   ]
  },
  {
   "cell_type": "code",
   "execution_count": 52,
   "id": "50883ac9",
   "metadata": {},
   "outputs": [
    {
     "name": "stdout",
     "output_type": "stream",
     "text": [
      "True\n",
      "False\n"
     ]
    }
   ],
   "source": [
    "s = 'Alpha'\n",
    "print('p' in s)\n",
    "print('P' in s)"
   ]
  },
  {
   "cell_type": "code",
   "execution_count": 53,
   "id": "0eed33c5",
   "metadata": {},
   "outputs": [
    {
     "name": "stdout",
     "output_type": "stream",
     "text": [
      "Как называется этот красивый синий камень в Вашем кольце?\n",
      "YES\n"
     ]
    }
   ],
   "source": [
    "s = input()\n",
    "if 'синий' in s:\n",
    "    print('YES')\n",
    "else:\n",
    "    print('NO')"
   ]
  },
  {
   "cell_type": "code",
   "execution_count": 54,
   "id": "bb2db945",
   "metadata": {},
   "outputs": [
    {
     "name": "stdout",
     "output_type": "stream",
     "text": [
      "День в воскресенье выдался теплым и солнечным.\n",
      "YES\n"
     ]
    }
   ],
   "source": [
    "s = input()\n",
    "if 'суббота' in s or 'воскресенье' in s:\n",
    "    print('YES')\n",
    "else:\n",
    "    print('NO')"
   ]
  },
  {
   "cell_type": "code",
   "execution_count": 55,
   "id": "fba7d0de",
   "metadata": {},
   "outputs": [
    {
     "name": "stdout",
     "output_type": "stream",
     "text": [
      "alibekovkarim1@gmail.com\n",
      "YES\n"
     ]
    }
   ],
   "source": [
    "s = input()\n",
    "if '@' in s and '.' in s:\n",
    "    print('YES')\n",
    "else:\n",
    "    print('NO')"
   ]
  },
  {
   "cell_type": "markdown",
   "id": "3b5af6a4",
   "metadata": {},
   "source": [
    "# Модуль math"
   ]
  },
  {
   "cell_type": "code",
   "execution_count": 59,
   "id": "1b9f2ea2",
   "metadata": {},
   "outputs": [],
   "source": [
    "import math as m"
   ]
  },
  {
   "cell_type": "code",
   "execution_count": 60,
   "id": "4a158f16",
   "metadata": {},
   "outputs": [
    {
     "name": "stdout",
     "output_type": "stream",
     "text": [
      "1.4142135623730951\n",
      "4\n",
      "3\n"
     ]
    }
   ],
   "source": [
    "num1 = m.sqrt(2)     # вычисление квадратного корня из двух\n",
    "num2 = m.ceil(3.8)   # округление числа вверх\n",
    "num3 = m.floor(3.8)  # округление числа вниз\n",
    "\n",
    "print(num1)\n",
    "print(num2)\n",
    "print(num3)"
   ]
  },
  {
   "cell_type": "code",
   "execution_count": 61,
   "id": "bca9e5aa",
   "metadata": {},
   "outputs": [
    {
     "name": "stdout",
     "output_type": "stream",
     "text": [
      "1\n",
      "2\n",
      "3\n",
      "4\n",
      "2.8284271247461903\n"
     ]
    }
   ],
   "source": [
    "x1, y1, x2, y2 = float(input()), float(input()), float(input()), float(input())\n",
    "print(m.sqrt(((x1-x2)**2)+((y1-y2)**2)))"
   ]
  },
  {
   "cell_type": "code",
   "execution_count": 62,
   "id": "b5bb2870",
   "metadata": {},
   "outputs": [
    {
     "name": "stdout",
     "output_type": "stream",
     "text": [
      "3.5\n",
      "38.48451000647496\n",
      "21.991148575128552\n"
     ]
    }
   ],
   "source": [
    "R = float(input())\n",
    "print(m.pi*R**2)\n",
    "print(2*m.pi*R)"
   ]
  },
  {
   "cell_type": "code",
   "execution_count": 63,
   "id": "e6171a56",
   "metadata": {},
   "outputs": [
    {
     "name": "stdout",
     "output_type": "stream",
     "text": [
      "3.4\n",
      "5.6\n",
      "4.5\n",
      "4.363484845854286\n",
      "4.231111111111111\n",
      "4.632493928760187\n"
     ]
    }
   ],
   "source": [
    "a, b = float(input()), float(input())\n",
    "\n",
    "print((a+b)/2)\n",
    "print(m.sqrt(a*b))\n",
    "print((2*a*b)/(a+b))\n",
    "print(m.sqrt((a**2+b**2)/2))"
   ]
  },
  {
   "cell_type": "code",
   "execution_count": 65,
   "id": "467630f9",
   "metadata": {},
   "outputs": [
    {
     "name": "stdout",
     "output_type": "stream",
     "text": [
      "45\n",
      "2.414213562373095\n"
     ]
    }
   ],
   "source": [
    "x = float(input())\n",
    "radians = (x*pi)/180\n",
    "print(m.sin(radians)+m.cos(radians)+(m.tan(radians))**2)"
   ]
  },
  {
   "cell_type": "code",
   "execution_count": 67,
   "id": "d52ec6ec",
   "metadata": {},
   "outputs": [
    {
     "name": "stdout",
     "output_type": "stream",
     "text": [
      "5.5\n",
      "11\n"
     ]
    }
   ],
   "source": [
    "x = float(input())\n",
    "print(m.ceil(x)+floor(x))"
   ]
  },
  {
   "cell_type": "code",
   "execution_count": 68,
   "id": "60c9c8cb",
   "metadata": {},
   "outputs": [
    {
     "name": "stdout",
     "output_type": "stream",
     "text": [
      "2\n",
      "5\n",
      "-7\n",
      "-3.5\n",
      "1.0\n"
     ]
    }
   ],
   "source": [
    "a, b, c = float(input()), float(input()), float(input())\n",
    "\n",
    "root1 = 0\n",
    "root2 = 0\n",
    "\n",
    "discriminant = (b**2)-(4*a*c)\n",
    "d = discriminant\n",
    "\n",
    "if d > 0:\n",
    "    root1 = (-b + m.sqrt(d))/(2*a)\n",
    "    root2 = (-b - m.sqrt(d))/(2*a)\n",
    "    print(min(root1, root2))\n",
    "    print(max(root1, root2))\n",
    "elif d == 0:\n",
    "    root1 = -(b/(2*a))\n",
    "    print(root1)\n",
    "else:\n",
    "    print('Нет корней')"
   ]
  },
  {
   "cell_type": "code",
   "execution_count": 70,
   "id": "1cc10a7f",
   "metadata": {},
   "outputs": [
    {
     "name": "stdout",
     "output_type": "stream",
     "text": [
      "4\n",
      "10.5\n",
      "110.25000000000001\n"
     ]
    }
   ],
   "source": [
    "n, a = float(input()), float(input())\n",
    "\n",
    "S = (n*a**2)/(4*m.tan(m.pi/n))\n",
    "print(S)"
   ]
  }
 ],
 "metadata": {
  "kernelspec": {
   "display_name": "Python 3 (ipykernel)",
   "language": "python",
   "name": "python3"
  },
  "language_info": {
   "codemirror_mode": {
    "name": "ipython",
    "version": 3
   },
   "file_extension": ".py",
   "mimetype": "text/x-python",
   "name": "python",
   "nbconvert_exporter": "python",
   "pygments_lexer": "ipython3",
   "version": "3.11.4"
  }
 },
 "nbformat": 4,
 "nbformat_minor": 5
}
