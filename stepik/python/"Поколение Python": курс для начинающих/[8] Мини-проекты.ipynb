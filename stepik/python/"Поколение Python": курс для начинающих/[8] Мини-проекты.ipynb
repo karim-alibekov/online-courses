{
 "cells": [
  {
   "cell_type": "markdown",
   "id": "33123aa6",
   "metadata": {},
   "source": [
    "# Модуль random"
   ]
  },
  {
   "cell_type": "code",
   "execution_count": 2,
   "id": "024346b6",
   "metadata": {},
   "outputs": [
    {
     "name": "stdout",
     "output_type": "stream",
     "text": [
      "1\n",
      "-2\n"
     ]
    }
   ],
   "source": [
    "import random\n",
    "\n",
    "num1 = random.randint(0, 17)\n",
    "num2 = random.randint(-5, 5)\n",
    "\n",
    "print(num1)\n",
    "print(num2)"
   ]
  },
  {
   "cell_type": "code",
   "execution_count": 3,
   "id": "98de44ff",
   "metadata": {},
   "outputs": [
    {
     "name": "stdout",
     "output_type": "stream",
     "text": [
      "85\n",
      "34\n",
      "93\n",
      "10\n",
      "10\n",
      "80\n",
      "4\n",
      "1\n",
      "94\n",
      "51\n"
     ]
    }
   ],
   "source": [
    "for _ in range(10):\n",
    "    print(random.randint(1, 100))"
   ]
  },
  {
   "cell_type": "code",
   "execution_count": 4,
   "id": "9afc0186",
   "metadata": {},
   "outputs": [
    {
     "name": "stdout",
     "output_type": "stream",
     "text": [
      "70\n"
     ]
    }
   ],
   "source": [
    "num = random.randrange(0, 101, 10)\n",
    "print(num)"
   ]
  },
  {
   "cell_type": "code",
   "execution_count": 6,
   "id": "41348987",
   "metadata": {},
   "outputs": [
    {
     "name": "stdout",
     "output_type": "stream",
     "text": [
      "0.07932647213313793\n"
     ]
    }
   ],
   "source": [
    "num = random.random()\n",
    "print(num)"
   ]
  },
  {
   "cell_type": "code",
   "execution_count": 7,
   "id": "97cada6e",
   "metadata": {},
   "outputs": [
    {
     "name": "stdout",
     "output_type": "stream",
     "text": [
      "4.23960445805646\n"
     ]
    }
   ],
   "source": [
    "num = random.uniform(1.5, 17.3)\n",
    "print(num)"
   ]
  },
  {
   "cell_type": "code",
   "execution_count": 13,
   "id": "0f07e55f",
   "metadata": {},
   "outputs": [
    {
     "name": "stdout",
     "output_type": "stream",
     "text": [
      "82\n",
      "15\n",
      "4\n",
      "95\n",
      "36\n",
      "32\n",
      "29\n",
      "18\n",
      "95\n",
      "14\n"
     ]
    }
   ],
   "source": [
    "random.seed(42)   # явно устанавливаем начальное значение для генератора случайных чисел\n",
    "\n",
    "for _ in range(10):\n",
    "    print(random.randint(1, 100))"
   ]
  },
  {
   "cell_type": "code",
   "execution_count": 15,
   "id": "78e51caa",
   "metadata": {},
   "outputs": [
    {
     "name": "stdout",
     "output_type": "stream",
     "text": [
      "Бросаем кубики... \n",
      "Значения граней:\n",
      "5\n",
      "1\n"
     ]
    }
   ],
   "source": [
    "print('Бросаем кубики... ')\n",
    "print('Значения граней:')\n",
    "print(random.randint(1, 6))\n",
    "print(random.randint(1, 6))"
   ]
  },
  {
   "cell_type": "code",
   "execution_count": 16,
   "id": "630e6e27",
   "metadata": {},
   "outputs": [
    {
     "name": "stdout",
     "output_type": "stream",
     "text": [
      "Бросаем кубики... \n",
      "Значения граней:\n",
      "5\n",
      "4\n",
      "Бросить кубики еще раз? (д = да, н = нет): д\n",
      "Бросаем кубики... \n",
      "Значения граней:\n",
      "1\n",
      "1\n",
      "Бросить кубики еще раз? (д = да, н = нет): н\n"
     ]
    }
   ],
   "source": [
    "again = 'д'\n",
    "while again.lower() == 'д':\n",
    "    print('Бросаем кубики... ')\n",
    "    print('Значения граней:')\n",
    "    print(random.randint(1, 6))\n",
    "    print(random.randint(1, 6))\n",
    "    again = input('Бросить кубики еще раз? (д = да, н = нет): ')"
   ]
  },
  {
   "cell_type": "code",
   "execution_count": 17,
   "id": "ae3b05ae",
   "metadata": {},
   "outputs": [
    {
     "name": "stdout",
     "output_type": "stream",
     "text": [
      "Орел\n",
      "Орел\n",
      "Орел\n",
      "Орел\n",
      "Орел\n",
      "Решка\n",
      "Орел\n",
      "Решка\n",
      "Решка\n",
      "Орел\n"
     ]
    }
   ],
   "source": [
    "for _ in range(10):\n",
    "    num = random.randint(0, 1)\n",
    "    if num == 0:\n",
    "        print('Орел')\n",
    "    else:\n",
    "        print('Решка')"
   ]
  },
  {
   "cell_type": "code",
   "execution_count": 18,
   "id": "fad2eed8",
   "metadata": {},
   "outputs": [
    {
     "name": "stdout",
     "output_type": "stream",
     "text": [
      "[2, 7, 1, 5, 8, 4, 6, 3]\n"
     ]
    }
   ],
   "source": [
    "numbers = [1, 2, 3, 4, 5, 6, 7, 8]\n",
    "random.shuffle(numbers)\n",
    "print(numbers)"
   ]
  },
  {
   "cell_type": "code",
   "execution_count": 19,
   "id": "ea01e9de",
   "metadata": {},
   "outputs": [
    {
     "name": "stdout",
     "output_type": "stream",
     "text": [
      "K\n",
      "3\n",
      "a\n"
     ]
    }
   ],
   "source": [
    "print(random.choice('BEEGEEK'))\n",
    "print(random.choice([1, 2, 3, 4]))\n",
    "print(random.choice(['a', 'b', 'c', 'd']))"
   ]
  },
  {
   "cell_type": "code",
   "execution_count": 20,
   "id": "0498613b",
   "metadata": {},
   "outputs": [
    {
     "name": "stdout",
     "output_type": "stream",
     "text": [
      "[2]\n",
      "[9, 2]\n",
      "[8, 12, 9]\n",
      "[8, 2, 12, 5, 9]\n"
     ]
    }
   ],
   "source": [
    "numbers = [2, 5, 8, 9, 12]\n",
    "\n",
    "print(random.sample(numbers, 1))\n",
    "print(random.sample(numbers, 2))\n",
    "print(random.sample(numbers, 3))\n",
    "print(random.sample(numbers, 5))"
   ]
  },
  {
   "cell_type": "markdown",
   "id": "3a8a9a97",
   "metadata": {},
   "source": [
    "# Числовая угадайка"
   ]
  },
  {
   "cell_type": "code",
   "execution_count": 36,
   "id": "5893fed9",
   "metadata": {},
   "outputs": [
    {
     "name": "stdout",
     "output_type": "stream",
     "text": [
      "222\n",
      "8\n"
     ]
    }
   ],
   "source": [
    "import math\n",
    "\n",
    "# Ввод числа n\n",
    "n = int(input())\n",
    "\n",
    "# Вычисляем минимальное количество попыток\n",
    "attempts = math.ceil(math.log2(n + 1))\n",
    "\n",
    "# Вывод результата\n",
    "print(attempts)"
   ]
  },
  {
   "cell_type": "code",
   "execution_count": 37,
   "id": "ff466922",
   "metadata": {},
   "outputs": [
    {
     "name": "stdout",
     "output_type": "stream",
     "text": [
      "Добро пожаловать в числовую угадайку!\n",
      "Введите верхнюю границу для случайного выбора числа (число больше 1): 120\n",
      "Введите число от 1 до 120: 67\n",
      "Ваше число больше загаданного, попробуйте еще разок.\n",
      "Введите число от 1 до 120: 33\n",
      "Ваше число меньше загаданного, попробуйте еще разок.\n",
      "Введите число от 1 до 120: 50\n",
      "Ваше число больше загаданного, попробуйте еще разок.\n",
      "Введите число от 1 до 120: 45\n",
      "Ваше число больше загаданного, попробуйте еще разок.\n",
      "Введите число от 1 до 120: 40\n",
      "Ваше число больше загаданного, попробуйте еще разок.\n",
      "Введите число от 1 до 120: 35\n",
      "Ваше число меньше загаданного, попробуйте еще разок.\n",
      "Введите число от 1 до 120: 37\n",
      "Ваше число меньше загаданного, попробуйте еще разок.\n",
      "Введите число от 1 до 120: 38\n",
      "Вы угадали, поздравляем! Количество попыток: 8\n",
      "Спасибо, что играли в числовую угадайку. Еще увидимся...\n",
      "Хотите сыграть еще раз? (да/нет): да\n",
      "Добро пожаловать в числовую угадайку!\n",
      "Введите верхнюю границу для случайного выбора числа (число больше 1): 3\n",
      "Введите число от 1 до 3: 3\n",
      "Вы угадали, поздравляем! Количество попыток: 1\n",
      "Спасибо, что играли в числовую угадайку. Еще увидимся...\n",
      "Хотите сыграть еще раз? (да/нет): нет\n",
      "До новых встреч!\n"
     ]
    }
   ],
   "source": [
    "import random\n",
    "\n",
    "def is_valid(user_input, upper_limit):\n",
    "    \"\"\"Проверяет, является ли введенное значение целым числом в диапазоне от 1 до upper_limit.\"\"\"\n",
    "    if user_input.isdigit():\n",
    "        number = int(user_input)\n",
    "        return 1 <= number <= upper_limit\n",
    "    return False\n",
    "\n",
    "def number_guess_game():\n",
    "    \"\"\"Основная логика игры.\"\"\"\n",
    "    print('Добро пожаловать в числовую угадайку!')\n",
    "    \n",
    "    while True:\n",
    "        upper_limit = input('Введите верхнюю границу для случайного выбора числа (число больше 1): ')\n",
    "        if upper_limit.isdigit() and int(upper_limit) > 1:\n",
    "            upper_limit = int(upper_limit)\n",
    "            break\n",
    "        else:\n",
    "            print('Пожалуйста, введите целое число больше 1.')\n",
    "\n",
    "    random_number = random.randint(1, upper_limit)\n",
    "    attempts = 0\n",
    "\n",
    "    while True:\n",
    "        user_input = input(f'Введите число от 1 до {upper_limit}: ')\n",
    "        \n",
    "        if not is_valid(user_input, upper_limit):\n",
    "            print(f'А может быть все-таки введем целое число от 1 до {upper_limit}?')\n",
    "            continue\n",
    "\n",
    "        user_guess = int(user_input)\n",
    "        attempts += 1\n",
    "\n",
    "        if user_guess < random_number:\n",
    "            print('Ваше число меньше загаданного, попробуйте еще разок.')\n",
    "        elif user_guess > random_number:\n",
    "            print('Ваше число больше загаданного, попробуйте еще разок.')\n",
    "        else:\n",
    "            print(f'Вы угадали, поздравляем! Количество попыток: {attempts}')\n",
    "            break\n",
    "\n",
    "    print('Спасибо, что играли в числовую угадайку. Еще увидимся...')\n",
    "\n",
    "    # Возможность начать новую игру\n",
    "    replay = input('Хотите сыграть еще раз? (да/нет): ').strip().lower()\n",
    "    if replay == 'да':\n",
    "        number_guess_game()\n",
    "    else:\n",
    "        print('До новых встреч!')\n",
    "\n",
    "if __name__ == '__main__':\n",
    "    number_guess_game()"
   ]
  },
  {
   "cell_type": "markdown",
   "id": "8ab22d46",
   "metadata": {},
   "source": [
    "# Магический шар 8"
   ]
  },
  {
   "cell_type": "code",
   "execution_count": 44,
   "id": "ddc5f160",
   "metadata": {},
   "outputs": [
    {
     "name": "stdout",
     "output_type": "stream",
     "text": [
      "Привет Мир, я магический шар, и я знаю ответ на любой твой вопрос!\n",
      "Как тебя зовут? Майкл\n",
      "Привет, Майкл!\n",
      "Задай свой вопрос: Илон Маск – следующий президент США?\n",
      "Спроси позже\n",
      "Хочешь задать еще один вопрос? (да/нет): нет\n",
      "Возвращайся если возникнут вопросы!\n"
     ]
    }
   ],
   "source": [
    "import random\n",
    "\n",
    "# Список ответов магического шара\n",
    "answers = [\n",
    "    \"Бесспорно\",\n",
    "    \"Предрешено\",\n",
    "    \"Никаких сомнений\",\n",
    "    \"Определённо да\",\n",
    "    \"Можешь быть уверен в этом\",\n",
    "    \"Мне кажется - да\",\n",
    "    \"Вероятнее всего\",\n",
    "    \"Хорошие перспективы\",\n",
    "    \"Знаки говорят - да\",\n",
    "    \"Да\",\n",
    "    \"Пока неясно, попробуй снова\",\n",
    "    \"Спроси позже\",\n",
    "    \"Лучше не рассказывать\",\n",
    "    \"Сейчас нельзя предсказать\",\n",
    "    \"Сконцентрируйся и спроси опять\",\n",
    "    \"Даже не думай\",\n",
    "    \"Мой ответ - нет\",\n",
    "    \"По моим данным - нет\",\n",
    "    \"Перспективы не очень хорошие\",\n",
    "    \"Весьма сомнительно\"\n",
    "]\n",
    "\n",
    "# Приветствие\n",
    "print(\"Привет Мир, я магический шар, и я знаю ответ на любой твой вопрос!\")\n",
    "name = input(\"Как тебя зовут? \")\n",
    "print(f\"Привет, {name}!\")\n",
    "\n",
    "# Основной цикл программы\n",
    "while True:\n",
    "    question = input(\"Задай свой вопрос: \")\n",
    "    print(random.choice(answers))\n",
    "\n",
    "    again = input(\"Хочешь задать еще один вопрос? (да/нет): \").strip().lower()\n",
    "    if again != \"да\":\n",
    "        print(\"Возвращайся если возникнут вопросы!\")\n",
    "        break"
   ]
  },
  {
   "cell_type": "markdown",
   "id": "886bedf3",
   "metadata": {},
   "source": [
    "# Генератор безопасных паролей"
   ]
  },
  {
   "cell_type": "code",
   "execution_count": 46,
   "id": "3d716d05",
   "metadata": {},
   "outputs": [
    {
     "name": "stdout",
     "output_type": "stream",
     "text": [
      "Добро пожаловать в генератор безопасных паролей!\n",
      "Сколько паролей вы хотите сгенерировать? 1\n",
      "Какова длина одного пароля? 12\n",
      "Включать ли цифры 0123456789? (да/нет): да\n",
      "Включать ли прописные буквы ABCDEFGHIJKLMNOPQRSTUVWXYZ? (да/нет): да\n",
      "Включать ли строчные буквы abcdefghijklmnopqrstuvwxyz? (да/нет): нет\n",
      "Включать ли символы !#$%&*+-=?@^_? (да/нет): да\n",
      "Исключать ли неоднозначные символы il1Lo0O? (да/нет): нет\n",
      "\n",
      "Сгенерированные пароли:\n",
      "*T9G8F^ZYG^#\n"
     ]
    }
   ],
   "source": [
    "import random\n",
    "\n",
    "# Строковые константы\n",
    "digits = \"0123456789\"\n",
    "lowercase_letters = \"abcdefghijklmnopqrstuvwxyz\"\n",
    "uppercase_letters = \"ABCDEFGHIJKLMNOPQRSTUVWXYZ\"\n",
    "punctuation = \"!#$%&*+-=?@^_.\"\n",
    "ambiguous_characters = \"il1Lo0O\"\n",
    "\n",
    "# Функция для генерации пароля\n",
    "def generate_password(length, chars):\n",
    "    return \"\".join(random.choice(chars) for _ in range(length))\n",
    "\n",
    "# Настройка программы\n",
    "print(\"Добро пожаловать в генератор безопасных паролей!\")\n",
    "\n",
    "# Сбор пользовательских данных\n",
    "num_passwords = int(input(\"Сколько паролей вы хотите сгенерировать? \"))\n",
    "password_length = int(input(\"Какова длина одного пароля? \"))\n",
    "\n",
    "include_digits = input(\"Включать ли цифры 0123456789? (да/нет): \").strip().lower() == \"да\"\n",
    "include_uppercase = input(\"Включать ли прописные буквы ABCDEFGHIJKLMNOPQRSTUVWXYZ? (да/нет): \").strip().lower() == \"да\"\n",
    "include_lowercase = input(\"Включать ли строчные буквы abcdefghijklmnopqrstuvwxyz? (да/нет): \").strip().lower() == \"да\"\n",
    "include_punctuation = input(\"Включать ли символы !#$%&*+-=?@^_? (да/нет): \").strip().lower() == \"да\"\n",
    "exclude_ambiguous = input(\"Исключать ли неоднозначные символы il1Lo0O? (да/нет): \").strip().lower() == \"да\"\n",
    "\n",
    "# Формирование алфавита для паролей\n",
    "chars = \"\"\n",
    "if include_digits:\n",
    "    chars += digits\n",
    "if include_uppercase:\n",
    "    chars += uppercase_letters\n",
    "if include_lowercase:\n",
    "    chars += lowercase_letters\n",
    "if include_punctuation:\n",
    "    chars += punctuation\n",
    "if exclude_ambiguous:\n",
    "    chars = ''.join(c for c in chars if c not in ambiguous_characters)\n",
    "\n",
    "if not chars:\n",
    "    print(\"Вы не выбрали ни одного типа символов для пароля. Завершение программы.\")\n",
    "else:\n",
    "    print(\"\\nСгенерированные пароли:\")\n",
    "    for _ in range(num_passwords):\n",
    "        print(generate_password(password_length, chars))"
   ]
  },
  {
   "cell_type": "markdown",
   "id": "ab7f7233",
   "metadata": {},
   "source": [
    "# Шифр Цезаря"
   ]
  },
  {
   "cell_type": "code",
   "execution_count": 48,
   "id": "9b084402",
   "metadata": {},
   "outputs": [
    {
     "name": "stdout",
     "output_type": "stream",
     "text": [
      "Выберите операцию (encode - шифровать, decode - дешифровать): decode\n",
      "Выберите язык (ru - русский, en - английский): ru\n",
      "Введите шаг сдвига (целое число): 5\n",
      "Введите текст: Фхнзкч, зкрнпед цчхете!\n",
      "Результат (decode): Привет, великая страна!\n"
     ]
    }
   ],
   "source": [
    "def caesar_cipher(text: str, shift: int, language: str, direction: str) -> str:\n",
    "    \"\"\"\n",
    "    Функция для шифрования / дешифрования текста по шифру Цезаря.\n",
    "    \n",
    "    :param text: исходный текст для шифрования или дешифрования\n",
    "    :param shift: шаг сдвига (только вправо, но если direction='decode', тогда берём -shift)\n",
    "    :param language: 'ru' (русский) или 'en' (английский)\n",
    "    :param direction: 'encode' (шифрование) или 'decode' (дешифрование)\n",
    "    :return: преобразованный (зашифрованный или расшифрованный) текст\n",
    "    \"\"\"\n",
    "    \n",
    "    # Алфавиты (строчные и прописные)\n",
    "    if language == 'ru':\n",
    "        alphabet_lower = 'абвгдеёжзийклмнопрстуфхцчшщъыьэюя'  # Если нужно, можно включить 'ё'\n",
    "        # Но по условию задачи буква «ё» отсутствует, тогда используем:\n",
    "        alphabet_lower = 'абвгдеёжзийклмнопрстуфхцчшщъыьэюя'.replace('ё', '')  # удаляем 'ё'\n",
    "        # В итоге получим 32 буквы без «ё»\n",
    "        alphabet_lower = 'абвгдежзийклмнопрстуфхцчшщъыьэюя' \n",
    "    else:  # 'en'\n",
    "        alphabet_lower = 'abcdefghijklmnopqrstuvwxyz'\n",
    "        \n",
    "    alphabet_upper = alphabet_lower.upper()\n",
    "    \n",
    "    # Если дешифрование, сдвиг делаем отрицательным\n",
    "    if direction == 'decode':\n",
    "        shift = -shift\n",
    "\n",
    "    # Чтобы сдвиг не был слишком большим, возьмём его по модулю длины алфавита\n",
    "    # (это позволит избежать лишних кругов)\n",
    "    n = len(alphabet_lower)  \n",
    "    shift = shift % n\n",
    "\n",
    "    result = []\n",
    "    \n",
    "    for char in text:\n",
    "        # Проверяем, принадлежит ли символ строчному русскому/английскому алфавиту\n",
    "        if char in alphabet_lower:\n",
    "            # Текущее положение символа\n",
    "            old_index = alphabet_lower.index(char)\n",
    "            # Новый индекс\n",
    "            new_index = (old_index + shift) % n\n",
    "            # Добавляем новый символ\n",
    "            result.append(alphabet_lower[new_index])\n",
    "            \n",
    "        # Проверяем, принадлежит ли символ прописному русскому/английскому алфавиту\n",
    "        elif char in alphabet_upper:\n",
    "            old_index = alphabet_upper.index(char)\n",
    "            new_index = (old_index + shift) % n\n",
    "            result.append(alphabet_upper[new_index])\n",
    "            \n",
    "        else:\n",
    "            # Если символ не в алфавите, оставляем без изменений\n",
    "            result.append(char)\n",
    "    \n",
    "    return ''.join(result)\n",
    "\n",
    "def main():\n",
    "    # 1. Запрашиваем направление: шифрование или дешифрование\n",
    "    direction = input(\"Выберите операцию (encode - шифровать, decode - дешифровать): \").strip().lower()\n",
    "    \n",
    "    # 2. Запрашиваем язык алфавита: русский или английский\n",
    "    lang = input(\"Выберите язык (ru - русский, en - английский): \").strip().lower()\n",
    "    \n",
    "    # 3. Запрашиваем шаг сдвига\n",
    "    shift_str = input(\"Введите шаг сдвига (целое число): \").strip()\n",
    "    \n",
    "    # Проверка, что шаг сдвига является целым числом\n",
    "    if not shift_str.isdigit():\n",
    "        print(\"Ошибка: шаг сдвига должен быть целым числом.\")\n",
    "        return\n",
    "    \n",
    "    shift = int(shift_str)\n",
    "    \n",
    "    # Запрашиваем исходный текст\n",
    "    text = input(\"Введите текст: \")\n",
    "    \n",
    "    # Вызываем функцию шифрования / дешифрования\n",
    "    result_text = caesar_cipher(text, shift, lang, direction)\n",
    "    \n",
    "    # Выводим результат\n",
    "    print(f\"Результат ({direction}): {result_text}\")\n",
    "\n",
    "# Запускаем\n",
    "if __name__ == '__main__':\n",
    "    main()"
   ]
  },
  {
   "cell_type": "code",
   "execution_count": 49,
   "id": "358d4bfb",
   "metadata": {},
   "outputs": [
    {
     "name": "stdout",
     "output_type": "stream",
     "text": [
      "Day, mice. \"Year\" is a mistake!\n",
      "Gdb, qmgi. \"Ciev\" ku b tpzahrl!\n"
     ]
    }
   ],
   "source": [
    "# Считываем строку с клавиатуры\n",
    "text = input()\n",
    "\n",
    "# Разбиваем строку по пробелам\n",
    "words = text.split()\n",
    "\n",
    "# Сюда будем складывать зашифрованные слова\n",
    "result_words = []\n",
    "\n",
    "# Перебираем каждое \"слово\"\n",
    "for word in words:\n",
    "    # Считаем, сколько в слове английских букв (используем это как величину сдвига)\n",
    "    shift = sum(ch.isalpha() and ('a' <= ch.lower() <= 'z') for ch in word)\n",
    "    \n",
    "    # Зашифрованные символы текущего \"слова\"\n",
    "    encrypted_word_chars = []\n",
    "    \n",
    "    for ch in word:\n",
    "        if 'a' <= ch <= 'z':            # строчная латинская буква\n",
    "            # Сдвигаем в диапазоне a-z\n",
    "            new_ord = (ord(ch) - ord('a') + shift) % 26 + ord('a')\n",
    "            encrypted_word_chars.append(chr(new_ord))\n",
    "        elif 'A' <= ch <= 'Z':          # заглавная латинская буква\n",
    "            # Сдвигаем в диапазоне A-Z\n",
    "            new_ord = (ord(ch) - ord('A') + shift) % 26 + ord('A')\n",
    "            encrypted_word_chars.append(chr(new_ord))\n",
    "        else:\n",
    "            # Все остальные символы не меняем\n",
    "            encrypted_word_chars.append(ch)\n",
    "    \n",
    "    # Формируем зашифрованное \"слово\" и добавляем к результату\n",
    "    result_words.append(\"\".join(encrypted_word_chars))\n",
    "\n",
    "# Выводим итоговую строку, склеивая зашифрованные слова пробелами\n",
    "print(\" \".join(result_words))\n"
   ]
  },
  {
   "cell_type": "markdown",
   "id": "fba08e61",
   "metadata": {},
   "source": [
    "# Калькулятор систем счисления"
   ]
  },
  {
   "cell_type": "code",
   "execution_count": 52,
   "id": "34b6f431",
   "metadata": {},
   "outputs": [
    {
     "name": "stdout",
     "output_type": "stream",
     "text": [
      "0b1010\n",
      "0b10000000\n",
      "0b10010110\n",
      "0b100100101001101\n"
     ]
    }
   ],
   "source": [
    "print(bin(10))\n",
    "print(bin(128))\n",
    "print(bin(150))\n",
    "print(bin(18765))"
   ]
  },
  {
   "cell_type": "code",
   "execution_count": 53,
   "id": "2a9ebc15",
   "metadata": {},
   "outputs": [
    {
     "name": "stdout",
     "output_type": "stream",
     "text": [
      "0o12\n",
      "0o200\n",
      "0o226\n",
      "0o44515\n"
     ]
    }
   ],
   "source": [
    "print(oct(10))\n",
    "print(oct(128))\n",
    "print(oct(150))\n",
    "print(oct(18765))"
   ]
  },
  {
   "cell_type": "code",
   "execution_count": 54,
   "id": "33771b2b",
   "metadata": {},
   "outputs": [
    {
     "name": "stdout",
     "output_type": "stream",
     "text": [
      "0xa\n",
      "0x80\n",
      "0x96\n",
      "0x494d\n"
     ]
    }
   ],
   "source": [
    "print(hex(10))\n",
    "print(hex(128))\n",
    "print(hex(150))\n",
    "print(hex(18765))"
   ]
  },
  {
   "cell_type": "code",
   "execution_count": 55,
   "id": "b77299bd",
   "metadata": {},
   "outputs": [
    {
     "name": "stdout",
     "output_type": "stream",
     "text": [
      "1111111\n",
      "177\n",
      "7f\n"
     ]
    }
   ],
   "source": [
    "num = 127\n",
    "\n",
    "bin_num = bin(num)  # 0b1111111\n",
    "oct_num = oct(num)  # 0o177\n",
    "hex_num = hex(num)  # 0x7f\n",
    "\n",
    "print(bin_num[2:])  # 1111111\n",
    "print(oct_num[2:])  # 177\n",
    "print(hex_num[2:])  # 7f"
   ]
  },
  {
   "cell_type": "code",
   "execution_count": 56,
   "id": "ec4b52b7",
   "metadata": {},
   "outputs": [
    {
     "name": "stdout",
     "output_type": "stream",
     "text": [
      "1F1C8\n"
     ]
    }
   ],
   "source": [
    "num = 127432\n",
    "\n",
    "hex_num = hex(num)          # 0x1f1c8\n",
    "print(hex_num[2:].upper())  # 1F1C8"
   ]
  },
  {
   "cell_type": "code",
   "execution_count": 58,
   "id": "b02bac37",
   "metadata": {},
   "outputs": [
    {
     "name": "stdout",
     "output_type": "stream",
     "text": [
      "12\n",
      "1100\n",
      "14\n",
      "C\n"
     ]
    }
   ],
   "source": [
    "# Считываем входное число\n",
    "n = int(input().strip())\n",
    "\n",
    "# Переводим в двоичную систему (отбрасываем '0b')\n",
    "binary_representation = bin(n)[2:]\n",
    "\n",
    "# Переводим в восьмеричную систему (отбрасываем '0o')\n",
    "octal_representation = oct(n)[2:]\n",
    "\n",
    "# Переводим в шестнадцатеричную систему (отбрасываем '0x', переводим в верхний регистр)\n",
    "hex_representation = hex(n)[2:].upper()\n",
    "\n",
    "# Выводим результаты\n",
    "print(binary_representation)\n",
    "print(octal_representation)\n",
    "print(hex_representation)"
   ]
  },
  {
   "cell_type": "markdown",
   "id": "82352006",
   "metadata": {},
   "source": [
    "# Угадайка слов"
   ]
  },
  {
   "cell_type": "code",
   "execution_count": 59,
   "id": "0c508395",
   "metadata": {},
   "outputs": [
    {
     "name": "stdout",
     "output_type": "stream",
     "text": [
      "Выберите уровень сложности:\n",
      "1 - Лёгкий (8 попыток, 2 подсказки)\n",
      "2 - Средний (6 попыток, 1 подсказка)\n",
      "3 - Сложный (4 попытки, без подсказок)\n",
      "Ваш выбор (1/2/3): 1\n",
      "Давайте играть в угадайку слов!\n",
      "\n",
      "\n",
      "           \n",
      "           \n",
      "           \n",
      "           \n",
      "           \n",
      "           \n",
      "        \n",
      "Слово: G____E\n",
      "Подсказок доступно: 2\n",
      "\n",
      "Введите букву, слово целиком или 'HINT' для подсказки: o\n",
      "Отлично! Буква 'O' есть в слове.\n",
      "\n",
      "           \n",
      "           \n",
      "           \n",
      "           \n",
      "           \n",
      "           \n",
      "        \n",
      "GOO__E\n",
      "Подсказок доступно: 2\n",
      "\n",
      "Введите букву, слово целиком или 'HINT' для подсказки: HINT\n",
      "Подсказка использована! Осталось подсказок: 1\n",
      "\n",
      "           \n",
      "           \n",
      "           \n",
      "           \n",
      "           \n",
      "           \n",
      "        \n",
      "GOO_LE\n",
      "\n",
      "Введите букву, слово целиком или 'HINT' для подсказки: R\n",
      "К сожалению, буквы 'R' нет в слове. Осталось попыток: 7\n",
      "\n",
      "           --------\n",
      "           |      \n",
      "           |      \n",
      "           |    \n",
      "           |      \n",
      "           |     \n",
      "           -\n",
      "        \n",
      "GOO_LE\n",
      "Подсказок доступно: 1\n",
      "\n",
      "Введите букву, слово целиком или 'HINT' для подсказки: Z\n",
      "К сожалению, буквы 'Z' нет в слове. Осталось попыток: 6\n",
      "\n",
      "           --------\n",
      "           |      |\n",
      "           |      \n",
      "           |    \n",
      "           |      \n",
      "           |     \n",
      "           -\n",
      "        \n",
      "GOO_LE\n",
      "Подсказок доступно: 1\n",
      "\n",
      "Введите букву, слово целиком или 'HINT' для подсказки: D\n",
      "К сожалению, буквы 'D' нет в слове. Осталось попыток: 5\n",
      "\n",
      "           --------\n",
      "           |      |\n",
      "           |      O\n",
      "           |    \n",
      "           |      \n",
      "           |     \n",
      "           -\n",
      "        \n",
      "GOO_LE\n",
      "Подсказок доступно: 1\n",
      "\n",
      "Введите букву, слово целиком или 'HINT' для подсказки: Q\n",
      "К сожалению, буквы 'Q' нет в слове. Осталось попыток: 4\n",
      "\n",
      "           --------\n",
      "           |      |\n",
      "           |      O\n",
      "           |      |\n",
      "           |      |\n",
      "           |     \n",
      "           -\n",
      "        \n",
      "GOO_LE\n",
      "Подсказок доступно: 1\n",
      "\n",
      "Введите букву, слово целиком или 'HINT' для подсказки: S\n",
      "К сожалению, буквы 'S' нет в слове. Осталось попыток: 3\n",
      "\n",
      "           --------\n",
      "           |      |\n",
      "           |      O\n",
      "           |     \\|\n",
      "           |      |\n",
      "           |     \n",
      "           -\n",
      "        \n",
      "GOO_LE\n",
      "Подсказок доступно: 1\n",
      "\n",
      "Введите букву, слово целиком или 'HINT' для подсказки: S\n",
      "Вы уже называли букву 'S'. Попробуйте другую.\n",
      "\n",
      "           --------\n",
      "           |      |\n",
      "           |      O\n",
      "           |     \\|\n",
      "           |      |\n",
      "           |     \n",
      "           -\n",
      "        \n",
      "GOO_LE\n",
      "Подсказок доступно: 1\n",
      "\n",
      "Введите букву, слово целиком или 'HINT' для подсказки: F\n",
      "К сожалению, буквы 'F' нет в слове. Осталось попыток: 2\n",
      "\n",
      "           --------\n",
      "           |      |\n",
      "           |      O\n",
      "           |     \\|/\n",
      "           |      |\n",
      "           |      \n",
      "           -\n",
      "        \n",
      "GOO_LE\n",
      "Подсказок доступно: 1\n",
      "\n",
      "Введите букву, слово целиком или 'HINT' для подсказки: X\n",
      "К сожалению, буквы 'X' нет в слове. Осталось попыток: 1\n",
      "\n",
      "           --------\n",
      "           |      |\n",
      "           |      O\n",
      "           |     \\|/\n",
      "           |      |\n",
      "           |     / \n",
      "           -\n",
      "        \n",
      "GOO_LE\n",
      "Подсказок доступно: 1\n",
      "\n",
      "Введите букву, слово целиком или 'HINT' для подсказки: G\n",
      "Отлично! Буква 'G' есть в слове.\n",
      "\n",
      "           --------\n",
      "           |      |\n",
      "           |      O\n",
      "           |     \\|/\n",
      "           |      |\n",
      "           |     / \n",
      "           -\n",
      "        \n",
      "GOOGLE\n",
      "Подсказок доступно: 1\n",
      "\n",
      "Поздравляем, вы угадали слово! Вы победили!\n",
      "Статистика текущей сессии:\n",
      "  Игры сыграно: 1\n",
      "  Победы: 1\n",
      "  Поражения: 0\n",
      "\n",
      "Хотите сыграть ещё раз? (д/н): н\n",
      "Спасибо за игру! До новых встреч!\n"
     ]
    }
   ],
   "source": [
    "import random\n",
    "\n",
    "# -- Глобальный список слов --\n",
    "word_list = [\n",
    "    'python', 'java', 'kotlin', 'javascript',\n",
    "    'developer', 'visualstudio', 'google', 'hangman',\n",
    "    'github', 'telegram', 'function', 'variable',\n",
    "    'pycharm', 'flask', 'django'\n",
    "]\n",
    "\n",
    "def get_word():\n",
    "    \"\"\"\n",
    "    Возвращает случайное слово из списка word_list в верхнем регистре.\n",
    "    \"\"\"\n",
    "    return random.choice(word_list).upper()\n",
    "\n",
    "def display_hangman(tries):\n",
    "    \"\"\"\n",
    "    Принимает число попыток (tries) и возвращает текущее ASCII-состояние «виселицы».\n",
    "    0 - проигрыш (полностью нарисованный человечек),\n",
    "    6, 7 или 8 - могут соответствовать более «лёгким» режимам (больше попыток).\n",
    "    \"\"\"\n",
    "    stages = [\n",
    "        # 0 промахов осталось – проигрыш (полный человечек)\n",
    "        '''\n",
    "           --------\n",
    "           |      |\n",
    "           |      O\n",
    "           |     \\\\|/\n",
    "           |      |\n",
    "           |     / \\\\\n",
    "           -\n",
    "        ''',\n",
    "        # 1 промах\n",
    "        '''\n",
    "           --------\n",
    "           |      |\n",
    "           |      O\n",
    "           |     \\\\|/\n",
    "           |      |\n",
    "           |     / \n",
    "           -\n",
    "        ''',\n",
    "        # 2 промаха\n",
    "        '''\n",
    "           --------\n",
    "           |      |\n",
    "           |      O\n",
    "           |     \\\\|/\n",
    "           |      |\n",
    "           |      \n",
    "           -\n",
    "        ''',\n",
    "        # 3 промаха\n",
    "        '''\n",
    "           --------\n",
    "           |      |\n",
    "           |      O\n",
    "           |     \\\\|\n",
    "           |      |\n",
    "           |     \n",
    "           -\n",
    "        ''',\n",
    "        # 4 промаха\n",
    "        '''\n",
    "           --------\n",
    "           |      |\n",
    "           |      O\n",
    "           |      |\n",
    "           |      |\n",
    "           |     \n",
    "           -\n",
    "        ''',\n",
    "        # 5 промахов\n",
    "        '''\n",
    "           --------\n",
    "           |      |\n",
    "           |      O\n",
    "           |    \n",
    "           |      \n",
    "           |     \n",
    "           -\n",
    "        ''',\n",
    "        # 6 промахов – начальное состояние (классика)\n",
    "        '''\n",
    "           --------\n",
    "           |      |\n",
    "           |      \n",
    "           |    \n",
    "           |      \n",
    "           |     \n",
    "           -\n",
    "        ''',\n",
    "        # 7 промахов (если хотим дать ещё больше попыток)\n",
    "        '''\n",
    "           --------\n",
    "           |      \n",
    "           |      \n",
    "           |    \n",
    "           |      \n",
    "           |     \n",
    "           -\n",
    "        ''',\n",
    "        # 8 промахов (ещё более «лёгкий» режим — сначала части виселицы и т. д.)\n",
    "        '''\n",
    "           \n",
    "           \n",
    "           \n",
    "           \n",
    "           \n",
    "           \n",
    "        '''\n",
    "    ]\n",
    "    # Если вдруг tries > len(stages)-1, используем самую \"пустую\" стадию (8).\n",
    "    index = tries if tries <= len(stages)-1 else len(stages)-1\n",
    "    return stages[index]\n",
    "\n",
    "def choose_difficulty():\n",
    "    \"\"\"\n",
    "    Предлагаем пользователю выбрать уровень сложности.\n",
    "    Возвращаем (tries, hints),\n",
    "    где tries - количество ошибок, после которых игра заканчивается,\n",
    "    hints - сколько раз можно запросить подсказку.\n",
    "    \"\"\"\n",
    "    while True:\n",
    "        print(\"Выберите уровень сложности:\\n\"\n",
    "              \"1 - Лёгкий (8 попыток, 2 подсказки)\\n\"\n",
    "              \"2 - Средний (6 попыток, 1 подсказка)\\n\"\n",
    "              \"3 - Сложный (4 попытки, без подсказок)\")\n",
    "        choice = input(\"Ваш выбор (1/2/3): \")\n",
    "        if choice == '1':\n",
    "            return 8, 2\n",
    "        elif choice == '2':\n",
    "            return 6, 1\n",
    "        elif choice == '3':\n",
    "            return 4, 0\n",
    "        else:\n",
    "            print(\"Неверный ввод. Повторите попытку.\\n\")\n",
    "\n",
    "def reveal_random_letter(word, current_completion):\n",
    "    \"\"\"\n",
    "    Открывает одну случайную букву в слове, если она ещё не открыта.\n",
    "    Возвращает новую строку current_completion с учётом открытой буквы.\n",
    "    Если все буквы уже открыты (кроме '_'), функция вернёт то же самое, что и current_completion.\n",
    "    \"\"\"\n",
    "    indices_not_open = [i for i, ch in enumerate(current_completion) if ch == '_']\n",
    "    if not indices_not_open:\n",
    "        # Все буквы уже открыты\n",
    "        return current_completion\n",
    "    \n",
    "    # Выбираем случайный индекс из тех, что ещё не открыты\n",
    "    idx = random.choice(indices_not_open)\n",
    "    letter_to_reveal = word[idx]\n",
    "    \n",
    "    # Заменяем '_' на letter_to_reveal\n",
    "    completion_list = list(current_completion)\n",
    "    completion_list[idx] = letter_to_reveal\n",
    "    return \"\".join(completion_list)\n",
    "\n",
    "def play(word, tries, hints):\n",
    "    \"\"\"\n",
    "    Основная логика игры «Виселица».\n",
    "    Дополнения:\n",
    "      - Отображение первой и последней буквы слова;\n",
    "      - Возможность попросить подсказку (ввести 'HINT');\n",
    "      - Количество попыток (tries) и подсказок (hints) зависит от уровня сложности.\n",
    "    Возвращаем True, если игрок выиграл, иначе False.\n",
    "    \"\"\"\n",
    "    print(\"Давайте играть в угадайку слов!\\n\")\n",
    "    \n",
    "    # -- Отображение первой и последней буквы сразу --\n",
    "    # Если длина слова 1, то оно и так будет отображено.\n",
    "    if len(word) == 1:\n",
    "        word_completion = word  # Слово из одной буквы\n",
    "    else:\n",
    "        # Преобразуем в список, чтобы удобнее было «пробить» первую и последнюю букву\n",
    "        word_as_list = ['_'] * len(word)\n",
    "        # Открываем первую букву\n",
    "        word_as_list[0] = word[0]\n",
    "        # Открываем последнюю букву (если она отличается от первой позиции)\n",
    "        if len(word) > 1:\n",
    "            word_as_list[-1] = word[-1]\n",
    "        word_completion = \"\".join(word_as_list)\n",
    "    \n",
    "    guessed = False             # Сигнал, что слово угадано\n",
    "    guessed_letters = []        # Уже названные буквы\n",
    "    guessed_words = []          # Уже названные слова\n",
    "    \n",
    "    print(display_hangman(tries))\n",
    "    print(f\"Слово: {word_completion}\")\n",
    "    print(f\"Подсказок доступно: {hints}\\n\")\n",
    "    \n",
    "    while not guessed and tries > 0:\n",
    "        guess = input(\"Введите букву, слово целиком или 'HINT' для подсказки: \").upper().strip()\n",
    "        \n",
    "        if guess == 'HINT':\n",
    "            # Пользователь запрашивает подсказку\n",
    "            if hints > 0:\n",
    "                hints -= 1\n",
    "                word_completion = reveal_random_letter(word, word_completion)\n",
    "                print(f\"Подсказка использована! Осталось подсказок: {hints}\")\n",
    "            else:\n",
    "                print(\"У вас не осталось подсказок.\")\n",
    "            print(display_hangman(tries))\n",
    "            print(word_completion)\n",
    "            print()\n",
    "            continue\n",
    "        \n",
    "        # Проверка на пустой ввод или не-буквенный\n",
    "        if not guess.isalpha():\n",
    "            print(\"Нужно ввести букву (A-Z), слово целиком или 'HINT'. Попробуйте снова.\")\n",
    "            print()\n",
    "            continue\n",
    "        \n",
    "        # -- Обработка одной буквы --\n",
    "        if len(guess) == 1:\n",
    "            if guess in guessed_letters:\n",
    "                print(f\"Вы уже называли букву '{guess}'. Попробуйте другую.\")\n",
    "            else:\n",
    "                guessed_letters.append(guess)\n",
    "                if guess in word:\n",
    "                    print(f\"Отлично! Буква '{guess}' есть в слове.\")\n",
    "                    # Открыть все вхождения буквы guess в слово\n",
    "                    word_as_list = list(word_completion)\n",
    "                    for i, letter in enumerate(word):\n",
    "                        if letter == guess:\n",
    "                            word_as_list[i] = guess\n",
    "                    word_completion = \"\".join(word_as_list)\n",
    "                    # Проверяем, не осталось ли символов '_'\n",
    "                    if '_' not in word_completion:\n",
    "                        guessed = True\n",
    "                else:\n",
    "                    tries -= 1\n",
    "                    print(f\"К сожалению, буквы '{guess}' нет в слове. Осталось попыток: {tries}\")\n",
    "        \n",
    "        # -- Обработка целого слова --\n",
    "        else:\n",
    "            if guess in guessed_words:\n",
    "                print(f\"Вы уже пытались угадать слово '{guess}'.\")\n",
    "            else:\n",
    "                guessed_words.append(guess)\n",
    "                if guess == word:\n",
    "                    guessed = True\n",
    "                    word_completion = word\n",
    "                else:\n",
    "                    tries -= 1\n",
    "                    print(f\"Слово '{guess}' – неверно. Осталось попыток: {tries}\")\n",
    "        \n",
    "        print(display_hangman(tries))\n",
    "        print(word_completion)\n",
    "        print(f\"Подсказок доступно: {hints}\\n\")\n",
    "    \n",
    "    # -- Итоги --\n",
    "    if guessed:\n",
    "        print(\"Поздравляем, вы угадали слово! Вы победили!\")\n",
    "        return True\n",
    "    else:\n",
    "        print(f\"У вас не осталось попыток. Вы проиграли. Загаданное слово было: {word}\")\n",
    "        return False\n",
    "\n",
    "def main():\n",
    "    \"\"\"\n",
    "    Точка входа в игру.\n",
    "    Здесь реализованы:\n",
    "      - Выбор сложности;\n",
    "      - Подсчёт побед и поражений (scoreboard) за одну сессию;\n",
    "      - Возможность повторных игр.\n",
    "    \"\"\"\n",
    "    wins = 0\n",
    "    losses = 0\n",
    "    \n",
    "    while True:\n",
    "        # Выбираем сложность\n",
    "        tries, hints = choose_difficulty()\n",
    "        \n",
    "        # Получаем случайное слово\n",
    "        secret_word = get_word()\n",
    "        \n",
    "        # Запускаем игру\n",
    "        result = play(secret_word, tries, hints)\n",
    "        \n",
    "        if result:\n",
    "            wins += 1\n",
    "        else:\n",
    "            losses += 1\n",
    "        \n",
    "        # Печатаем статистику за текущую сессию\n",
    "        print(f\"Статистика текущей сессии:\")\n",
    "        print(f\"  Игры сыграно: {wins + losses}\")\n",
    "        print(f\"  Победы: {wins}\")\n",
    "        print(f\"  Поражения: {losses}\\n\")\n",
    "        \n",
    "        # Предлагаем сыграть ещё раз\n",
    "        again = input(\"Хотите сыграть ещё раз? (д/н): \").lower()\n",
    "        if again != 'д':\n",
    "            print(\"Спасибо за игру! До новых встреч!\")\n",
    "            break\n",
    "\n",
    "# Запуск программы\n",
    "if __name__ == \"__main__\":\n",
    "    main()\n"
   ]
  }
 ],
 "metadata": {
  "kernelspec": {
   "display_name": "Python 3 (ipykernel)",
   "language": "python",
   "name": "python3"
  },
  "language_info": {
   "codemirror_mode": {
    "name": "ipython",
    "version": 3
   },
   "file_extension": ".py",
   "mimetype": "text/x-python",
   "name": "python",
   "nbconvert_exporter": "python",
   "pygments_lexer": "ipython3",
   "version": "3.11.4"
  }
 },
 "nbformat": 4,
 "nbformat_minor": 5
}
